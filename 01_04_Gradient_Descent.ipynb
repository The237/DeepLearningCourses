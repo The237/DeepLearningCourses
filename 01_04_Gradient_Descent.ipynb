{
  "nbformat": 4,
  "nbformat_minor": 0,
  "metadata": {
    "colab": {
      "provenance": [],
      "authorship_tag": "ABX9TyNBas+gd+bwNOeIS6w5JYQ/",
      "include_colab_link": true
    },
    "kernelspec": {
      "name": "python3",
      "display_name": "Python 3"
    },
    "language_info": {
      "name": "python"
    }
  },
  "cells": [
    {
      "cell_type": "markdown",
      "metadata": {
        "id": "view-in-github",
        "colab_type": "text"
      },
      "source": [
        "<a href=\"https://colab.research.google.com/github/The237/DeepLearningCourses/blob/main/01_04_Gradient_Descent.ipynb\" target=\"_parent\"><img src=\"https://colab.research.google.com/assets/colab-badge.svg\" alt=\"Open In Colab\"/></a>"
      ]
    },
    {
      "cell_type": "code",
      "execution_count": 1,
      "metadata": {
        "id": "Qu0bo4x4Gevr"
      },
      "outputs": [],
      "source": [
        "import numpy as np"
      ]
    },
    {
      "cell_type": "code",
      "source": [
        "# define a loss function based on mean squared\n",
        "def erreur(X, Y, W, B):\n",
        "  M = np.dot(X,W)\n",
        "\n",
        "  P = M+B\n",
        "\n",
        "  L = np.mean((Y-P)**2)\n",
        "\n",
        "  return L"
      ],
      "metadata": {
        "id": "5_0Gpz66GryS"
      },
      "execution_count": 3,
      "outputs": []
    },
    {
      "cell_type": "code",
      "source": [
        "X = np.array([\n",
        "    [2,3,-2],\n",
        "     [4,5,-1],\n",
        "      [5,2,3],\n",
        "       [0,5,4]\n",
        "    ])"
      ],
      "metadata": {
        "id": "wplSf-bLHBjj"
      },
      "execution_count": 4,
      "outputs": []
    },
    {
      "cell_type": "code",
      "source": [
        "X.shape"
      ],
      "metadata": {
        "colab": {
          "base_uri": "https://localhost:8080/"
        },
        "id": "liJAhoKbHR3m",
        "outputId": "68f853a2-e367-4a83-9f01-bd356eed8331"
      },
      "execution_count": 5,
      "outputs": [
        {
          "output_type": "execute_result",
          "data": {
            "text/plain": [
              "(4, 3)"
            ]
          },
          "metadata": {},
          "execution_count": 5
        }
      ]
    },
    {
      "cell_type": "code",
      "source": [
        "Y = np.array([\n",
        "    [2],\n",
        "    [5],\n",
        "    [6],\n",
        "    [3]\n",
        "])"
      ],
      "metadata": {
        "id": "Tuq6hIVhHSqu"
      },
      "execution_count": 6,
      "outputs": []
    },
    {
      "cell_type": "code",
      "source": [
        "Y.shape"
      ],
      "metadata": {
        "colab": {
          "base_uri": "https://localhost:8080/"
        },
        "id": "LVDfhagSHfRC",
        "outputId": "04eb048f-c432-4309-bc92-d03773b90198"
      },
      "execution_count": 7,
      "outputs": [
        {
          "output_type": "execute_result",
          "data": {
            "text/plain": [
              "(4, 1)"
            ]
          },
          "metadata": {},
          "execution_count": 7
        }
      ]
    },
    {
      "cell_type": "code",
      "source": [
        "W = np.array([\n",
        "    [.02],\n",
        "    [18],\n",
        "    [15]\n",
        "  ])"
      ],
      "metadata": {
        "id": "0EmKKwPlHfUD"
      },
      "execution_count": 8,
      "outputs": []
    }
  ]
}