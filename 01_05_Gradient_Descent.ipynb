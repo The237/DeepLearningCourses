{
  "nbformat": 4,
  "nbformat_minor": 0,
  "metadata": {
    "colab": {
      "provenance": [],
      "authorship_tag": "ABX9TyP6+zMGsvQIIr++yiVF5DXK",
      "include_colab_link": true
    },
    "kernelspec": {
      "name": "python3",
      "display_name": "Python 3"
    },
    "language_info": {
      "name": "python"
    }
  },
  "cells": [
    {
      "cell_type": "markdown",
      "metadata": {
        "id": "view-in-github",
        "colab_type": "text"
      },
      "source": [
        "<a href=\"https://colab.research.google.com/github/The237/DeepLearningCourses/blob/main/01_05_Gradient_Descent.ipynb\" target=\"_parent\"><img src=\"https://colab.research.google.com/assets/colab-badge.svg\" alt=\"Open In Colab\"/></a>"
      ]
    },
    {
      "cell_type": "code",
      "execution_count": 1,
      "metadata": {
        "id": "Qu0bo4x4Gevr"
      },
      "outputs": [],
      "source": [
        "import numpy as np"
      ]
    },
    {
      "cell_type": "code",
      "source": [
        "# define a loss function based on mean squared\n",
        "def erreur(X, Y, W, B):\n",
        "  M = np.dot(X,W)\n",
        "\n",
        "  P = M+B\n",
        "\n",
        "  L = np.mean((Y-P)**2)\n",
        "\n",
        "  return L"
      ],
      "metadata": {
        "id": "5_0Gpz66GryS"
      },
      "execution_count": 3,
      "outputs": []
    },
    {
      "cell_type": "code",
      "source": [
        "X = np.array([\n",
        "    [2,3,-2],\n",
        "     [4,5,-1],\n",
        "      [5,2,3],\n",
        "       [0,5,4]\n",
        "    ])"
      ],
      "metadata": {
        "id": "wplSf-bLHBjj"
      },
      "execution_count": 4,
      "outputs": []
    },
    {
      "cell_type": "code",
      "source": [
        "X.shape"
      ],
      "metadata": {
        "colab": {
          "base_uri": "https://localhost:8080/"
        },
        "id": "liJAhoKbHR3m",
        "outputId": "68f853a2-e367-4a83-9f01-bd356eed8331"
      },
      "execution_count": 5,
      "outputs": [
        {
          "output_type": "execute_result",
          "data": {
            "text/plain": [
              "(4, 3)"
            ]
          },
          "metadata": {},
          "execution_count": 5
        }
      ]
    },
    {
      "cell_type": "code",
      "source": [
        "Y = np.array([\n",
        "    [2],\n",
        "    [5],\n",
        "    [6],\n",
        "    [3]\n",
        "])"
      ],
      "metadata": {
        "id": "Tuq6hIVhHSqu"
      },
      "execution_count": 6,
      "outputs": []
    },
    {
      "cell_type": "code",
      "source": [
        "Y.shape"
      ],
      "metadata": {
        "colab": {
          "base_uri": "https://localhost:8080/"
        },
        "id": "LVDfhagSHfRC",
        "outputId": "04eb048f-c432-4309-bc92-d03773b90198"
      },
      "execution_count": 7,
      "outputs": [
        {
          "output_type": "execute_result",
          "data": {
            "text/plain": [
              "(4, 1)"
            ]
          },
          "metadata": {},
          "execution_count": 7
        }
      ]
    },
    {
      "cell_type": "code",
      "source": [
        "W = np.array([\n",
        "    [.02],\n",
        "    [18],\n",
        "    [15]\n",
        "  ])\n",
        "\n",
        "B = .5"
      ],
      "metadata": {
        "id": "0EmKKwPlHfUD"
      },
      "execution_count": 10,
      "outputs": []
    },
    {
      "cell_type": "code",
      "source": [
        "erreur(X, Y, W, B)"
      ],
      "metadata": {
        "colab": {
          "base_uri": "https://localhost:8080/"
        },
        "id": "8SKJ7vSdH1aG",
        "outputId": "0b6f7533-594b-480d-a0d6-cdc1debc06ae"
      },
      "execution_count": 11,
      "outputs": [
        {
          "output_type": "execute_result",
          "data": {
            "text/plain": [
              "8240.2995"
            ]
          },
          "metadata": {},
          "execution_count": 11
        }
      ]
    },
    {
      "cell_type": "code",
      "source": [
        "params = {\"W\":W,\"B\":B}"
      ],
      "metadata": {
        "id": "2h079HXYJyGr"
      },
      "execution_count": 12,
      "outputs": []
    },
    {
      "cell_type": "code",
      "source": [
        "# define a loss function based on mean squared\n",
        "def erreur(X, Y, params):\n",
        "  info = {}\n",
        "  M = np.dot(X,params[\"W\"])\n",
        "\n",
        "  P = M+params[\"B\"]\n",
        "\n",
        "  L = np.mean((Y-P)**2)\n",
        "\n",
        "  info[\"M\"] = M\n",
        "  info[\"P\"] = P\n",
        "  info[\"X\"] = X\n",
        "  info[\"Y\"] = Y\n",
        "\n",
        "  return L, info"
      ],
      "metadata": {
        "id": "EpjS2rN8JwgE"
      },
      "execution_count": 16,
      "outputs": []
    },
    {
      "cell_type": "code",
      "source": [
        "loss, info = erreur(X,Y, params)"
      ],
      "metadata": {
        "id": "ePQ9Tx1_Kjoz"
      },
      "execution_count": 17,
      "outputs": []
    },
    {
      "cell_type": "code",
      "source": [
        "loss"
      ],
      "metadata": {
        "colab": {
          "base_uri": "https://localhost:8080/"
        },
        "id": "eAc9v_8zKog7",
        "outputId": "b429af53-cde0-46ce-cc97-83f23e40639c"
      },
      "execution_count": 18,
      "outputs": [
        {
          "output_type": "execute_result",
          "data": {
            "text/plain": [
              "8240.2995"
            ]
          },
          "metadata": {},
          "execution_count": 18
        }
      ]
    },
    {
      "cell_type": "code",
      "source": [
        "info"
      ],
      "metadata": {
        "colab": {
          "base_uri": "https://localhost:8080/"
        },
        "id": "tIvMeyvJKq1j",
        "outputId": "06d7da20-8674-4fb8-8cab-09ef4e5863d6"
      },
      "execution_count": 19,
      "outputs": [
        {
          "output_type": "execute_result",
          "data": {
            "text/plain": [
              "{'M': array([[ 24.04],\n",
              "        [ 75.08],\n",
              "        [ 81.1 ],\n",
              "        [150.  ]]),\n",
              " 'P': array([[ 24.54],\n",
              "        [ 75.58],\n",
              "        [ 81.6 ],\n",
              "        [150.5 ]]),\n",
              " 'X': array([[ 2,  3, -2],\n",
              "        [ 4,  5, -1],\n",
              "        [ 5,  2,  3],\n",
              "        [ 0,  5,  4]]),\n",
              " 'Y': array([[2],\n",
              "        [5],\n",
              "        [6],\n",
              "        [3]])}"
            ]
          },
          "metadata": {},
          "execution_count": 19
        }
      ]
    },
    {
      "cell_type": "code",
      "source": [
        "def gradient(info, params):\n",
        "  grads = {}\n",
        "\n",
        "  dL_dP = -2*(info[\"Y\"] - info[\"P\"]) # shape (4,1)\n",
        "\n",
        "  dP_dM = 1\n",
        "\n",
        "  dM_dW = info[\"X\"].T # shape (3,4)\n",
        "\n",
        "  dL_dW = np.dot(dM_dW,dL_dP) * dP_dM\n",
        "\n",
        "  grads[\"W\"] = dL_dW\n",
        "  # grads[\"B\"] = dl_dB\n",
        "\n",
        "  return grads"
      ],
      "metadata": {
        "id": "4Euh_SrXKuLa"
      },
      "execution_count": 24,
      "outputs": []
    },
    {
      "cell_type": "code",
      "source": [
        "gradient(info, params)"
      ],
      "metadata": {
        "colab": {
          "base_uri": "https://localhost:8080/"
        },
        "id": "CXiu5mqgKuPK",
        "outputId": "b39ab7ec-539b-4fcc-c4d4-d95de82a2572"
      },
      "execution_count": 25,
      "outputs": [
        {
          "output_type": "execute_result",
          "data": {
            "text/plain": [
              "{'W': array([[1410.8 ],\n",
              "        [2618.44],\n",
              "        [1402.28]])}"
            ]
          },
          "metadata": {},
          "execution_count": 25
        }
      ]
    },
    {
      "cell_type": "code",
      "source": [],
      "metadata": {
        "id": "GvUwICghJw0C"
      },
      "execution_count": null,
      "outputs": []
    }
  ]
}