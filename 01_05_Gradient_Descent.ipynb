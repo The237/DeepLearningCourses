{
  "nbformat": 4,
  "nbformat_minor": 0,
  "metadata": {
    "colab": {
      "provenance": [],
      "authorship_tag": "ABX9TyO8wqKpmU7wVEd8DivqBv55",
      "include_colab_link": true
    },
    "kernelspec": {
      "name": "python3",
      "display_name": "Python 3"
    },
    "language_info": {
      "name": "python"
    }
  },
  "cells": [
    {
      "cell_type": "markdown",
      "metadata": {
        "id": "view-in-github",
        "colab_type": "text"
      },
      "source": [
        "<a href=\"https://colab.research.google.com/github/The237/DeepLearningCourses/blob/main/01_05_Gradient_Descent.ipynb\" target=\"_parent\"><img src=\"https://colab.research.google.com/assets/colab-badge.svg\" alt=\"Open In Colab\"/></a>"
      ]
    },
    {
      "cell_type": "code",
      "execution_count": 1,
      "metadata": {
        "id": "Qu0bo4x4Gevr"
      },
      "outputs": [],
      "source": [
        "import numpy as np"
      ]
    },
    {
      "cell_type": "code",
      "source": [
        "# define a loss function based on mean squared\n",
        "def erreur(X, Y, W, B):\n",
        "  M = np.dot(X,W)\n",
        "\n",
        "  P = M+B\n",
        "\n",
        "  L = np.mean((Y-P)**2)\n",
        "\n",
        "  return L"
      ],
      "metadata": {
        "id": "5_0Gpz66GryS"
      },
      "execution_count": 103,
      "outputs": []
    },
    {
      "cell_type": "code",
      "source": [
        "# define a loss function based on mean squared\n",
        "def erreur(X, Y, params):\n",
        "  info = {}\n",
        "  M = np.dot(X,params[\"W\"])\n",
        "\n",
        "  P = M+params[\"B\"]\n",
        "\n",
        "  L = np.mean((Y-P)**2)\n",
        "\n",
        "  info[\"M\"] = M\n",
        "  info[\"P\"] = P\n",
        "  info[\"X\"] = X\n",
        "  info[\"Y\"] = Y\n",
        "\n",
        "  return L, info"
      ],
      "metadata": {
        "id": "EpjS2rN8JwgE"
      },
      "execution_count": 104,
      "outputs": []
    },
    {
      "cell_type": "code",
      "source": [
        "def gradient(info, params):\n",
        "  grads = {}\n",
        "\n",
        "  dL_dP = -2*(info[\"Y\"] - info[\"P\"]) # shape (4,1)\n",
        "\n",
        "  dP_dM = 1\n",
        "\n",
        "  dM_dW = info[\"X\"].T # shape (3,4)\n",
        "\n",
        "  dL_dW = np.dot(dM_dW,dL_dP) * dP_dM\n",
        "\n",
        "  grads[\"W\"] = dL_dW\n",
        "\n",
        "  dP_dB = 1\n",
        "  dL_dB = dL_dP * dP_dB # shape (4,1) *1\n",
        "\n",
        "  grads[\"B\"] = np.sum(dL_dB)\n",
        "\n",
        "  return grads"
      ],
      "metadata": {
        "id": "4Euh_SrXKuLa"
      },
      "execution_count": 105,
      "outputs": []
    },
    {
      "cell_type": "code",
      "source": [
        "X = np.array([\n",
        "    [2,3,-2],\n",
        "    [4,5,-1],\n",
        "    [-5,2,3],\n",
        "    [0,5,4]\n",
        "])"
      ],
      "metadata": {
        "id": "wplSf-bLHBjj"
      },
      "execution_count": 44,
      "outputs": []
    },
    {
      "cell_type": "code",
      "source": [
        "X.shape"
      ],
      "metadata": {
        "colab": {
          "base_uri": "https://localhost:8080/"
        },
        "id": "liJAhoKbHR3m",
        "outputId": "68f853a2-e367-4a83-9f01-bd356eed8331"
      },
      "execution_count": 5,
      "outputs": [
        {
          "output_type": "execute_result",
          "data": {
            "text/plain": [
              "(4, 3)"
            ]
          },
          "metadata": {},
          "execution_count": 5
        }
      ]
    },
    {
      "cell_type": "code",
      "source": [
        "Y = np.array([\n",
        "    [2],\n",
        "    [5],\n",
        "    [6],\n",
        "    [3]\n",
        "])"
      ],
      "metadata": {
        "id": "Tuq6hIVhHSqu"
      },
      "execution_count": 35,
      "outputs": []
    },
    {
      "cell_type": "code",
      "source": [
        "Y.shape"
      ],
      "metadata": {
        "colab": {
          "base_uri": "https://localhost:8080/"
        },
        "id": "LVDfhagSHfRC",
        "outputId": "04eb048f-c432-4309-bc92-d03773b90198"
      },
      "execution_count": 7,
      "outputs": [
        {
          "output_type": "execute_result",
          "data": {
            "text/plain": [
              "(4, 1)"
            ]
          },
          "metadata": {},
          "execution_count": 7
        }
      ]
    },
    {
      "cell_type": "code",
      "source": [
        "W = np.array([\n",
        "    [0.02],\n",
        "    [18],\n",
        "    [15]\n",
        "])\n",
        "\n",
        "B = .5"
      ],
      "metadata": {
        "id": "0EmKKwPlHfUD"
      },
      "execution_count": 85,
      "outputs": []
    },
    {
      "cell_type": "code",
      "source": [
        "params = {\"W\":W,\"B\":B}"
      ],
      "metadata": {
        "id": "2h079HXYJyGr"
      },
      "execution_count": 86,
      "outputs": []
    },
    {
      "cell_type": "code",
      "source": [
        "loss, info = erreur(X,Y, params)"
      ],
      "metadata": {
        "id": "ePQ9Tx1_Kjoz"
      },
      "execution_count": 49,
      "outputs": []
    },
    {
      "cell_type": "code",
      "source": [
        "loss"
      ],
      "metadata": {
        "colab": {
          "base_uri": "https://localhost:8080/"
        },
        "id": "eAc9v_8zKog7",
        "outputId": "7784642d-c109-449d-916b-a0e5555458d8"
      },
      "execution_count": 50,
      "outputs": [
        {
          "output_type": "execute_result",
          "data": {
            "text/plain": [
              "8232.7495"
            ]
          },
          "metadata": {},
          "execution_count": 50
        }
      ]
    },
    {
      "cell_type": "code",
      "source": [
        "info"
      ],
      "metadata": {
        "colab": {
          "base_uri": "https://localhost:8080/"
        },
        "id": "tIvMeyvJKq1j",
        "outputId": "3d34d06f-f8c3-4fcc-9006-7b842d1ee63d"
      },
      "execution_count": 51,
      "outputs": [
        {
          "output_type": "execute_result",
          "data": {
            "text/plain": [
              "{'M': array([[ 24.04],\n",
              "        [ 75.08],\n",
              "        [ 80.9 ],\n",
              "        [150.  ]]),\n",
              " 'P': array([[ 24.54],\n",
              "        [ 75.58],\n",
              "        [ 81.4 ],\n",
              "        [150.5 ]]),\n",
              " 'X': array([[ 2,  3, -2],\n",
              "        [ 4,  5, -1],\n",
              "        [-5,  2,  3],\n",
              "        [ 0,  5,  4]]),\n",
              " 'Y': array([[2],\n",
              "        [5],\n",
              "        [6],\n",
              "        [3]])}"
            ]
          },
          "metadata": {},
          "execution_count": 51
        }
      ]
    },
    {
      "cell_type": "code",
      "source": [
        "grads = gradient(info, params)"
      ],
      "metadata": {
        "id": "CXiu5mqgKuPK"
      },
      "execution_count": 53,
      "outputs": []
    },
    {
      "cell_type": "code",
      "source": [
        "grads"
      ],
      "metadata": {
        "colab": {
          "base_uri": "https://localhost:8080/"
        },
        "id": "gt4Q9zh3Piq4",
        "outputId": "7d47869b-7b7a-4454-c2ed-15dae4cd628d"
      },
      "execution_count": 54,
      "outputs": [
        {
          "output_type": "execute_result",
          "data": {
            "text/plain": [
              "{'W': array([[ -99.2 ],\n",
              "        [2617.64],\n",
              "        [1401.08]]),\n",
              " 'B': 632.04}"
            ]
          },
          "metadata": {},
          "execution_count": 54
        }
      ]
    },
    {
      "cell_type": "code",
      "source": [
        "params"
      ],
      "metadata": {
        "colab": {
          "base_uri": "https://localhost:8080/"
        },
        "id": "Xjc3OigDOGdS",
        "outputId": "9d79037d-a9ff-4b28-f253-61f77b0f4280"
      },
      "execution_count": 40,
      "outputs": [
        {
          "output_type": "execute_result",
          "data": {
            "text/plain": [
              "{'W': array([[ 0.02],\n",
              "        [18.  ],\n",
              "        [15.  ]]),\n",
              " 'B': 0.5}"
            ]
          },
          "metadata": {},
          "execution_count": 40
        }
      ]
    },
    {
      "cell_type": "code",
      "source": [
        "lr = .01\n",
        "params[\"W\"] = params[\"W\"] - lr*grads[\"W\"]\n",
        "params[\"B\"] = params[\"B\"] - lr*grads[\"B\"]"
      ],
      "metadata": {
        "id": "dBb6llM8OGiM"
      },
      "execution_count": 55,
      "outputs": []
    },
    {
      "cell_type": "code",
      "source": [
        "params"
      ],
      "metadata": {
        "colab": {
          "base_uri": "https://localhost:8080/"
        },
        "id": "ef8SAMcpPKhz",
        "outputId": "e8db7ed6-037c-49b4-9206-5d80eeef9217"
      },
      "execution_count": 56,
      "outputs": [
        {
          "output_type": "execute_result",
          "data": {
            "text/plain": [
              "{'W': array([[ 1.012 ],\n",
              "        [-8.1764],\n",
              "        [ 0.9892]]),\n",
              " 'B': -5.820399999999999}"
            ]
          },
          "metadata": {},
          "execution_count": 56
        }
      ]
    },
    {
      "cell_type": "code",
      "source": [
        "new_loss, info = erreur(X,Y, params)"
      ],
      "metadata": {
        "id": "GvUwICghJw0C"
      },
      "execution_count": 57,
      "outputs": []
    },
    {
      "cell_type": "code",
      "source": [
        "new_loss"
      ],
      "metadata": {
        "colab": {
          "base_uri": "https://localhost:8080/"
        },
        "id": "vkSj_3-KeMTh",
        "outputId": "bf351710-b64f-484d-83df-dc997cdf95d9"
      },
      "execution_count": 58,
      "outputs": [
        {
          "output_type": "execute_result",
          "data": {
            "text/plain": [
              "1604.6036749200002"
            ]
          },
          "metadata": {},
          "execution_count": 58
        }
      ]
    },
    {
      "cell_type": "code",
      "source": [
        "for p in params:\n",
        "  params[p] -= lr*grads[p]"
      ],
      "metadata": {
        "id": "dz-UjrsaeR67"
      },
      "execution_count": 61,
      "outputs": []
    },
    {
      "cell_type": "code",
      "source": [
        "params"
      ],
      "metadata": {
        "colab": {
          "base_uri": "https://localhost:8080/"
        },
        "id": "oQYcU4vye80N",
        "outputId": "7d549786-65da-4cab-946c-f8337ff0ae71"
      },
      "execution_count": 62,
      "outputs": [
        {
          "output_type": "execute_result",
          "data": {
            "text/plain": [
              "{'W': array([[  2.004 ],\n",
              "        [-34.3528],\n",
              "        [-13.0216]]),\n",
              " 'B': -12.140799999999999}"
            ]
          },
          "metadata": {},
          "execution_count": 62
        }
      ]
    },
    {
      "cell_type": "code",
      "source": [
        "new_loss1, info = erreur(X,Y, params)"
      ],
      "metadata": {
        "id": "_8nNp9Mye_f7"
      },
      "execution_count": 63,
      "outputs": []
    },
    {
      "cell_type": "code",
      "source": [
        "new_loss1"
      ],
      "metadata": {
        "colab": {
          "base_uri": "https://localhost:8080/"
        },
        "id": "krkuxVqQfBxt",
        "outputId": "db403b23-2e37-460e-c302-f3b17090b201"
      },
      "execution_count": 64,
      "outputs": [
        {
          "output_type": "execute_result",
          "data": {
            "text/plain": [
              "27842.063887680008"
            ]
          },
          "metadata": {},
          "execution_count": 64
        }
      ]
    },
    {
      "cell_type": "code",
      "source": [
        "def train(X, Y, params, epoch, lr):\n",
        "  errors = []\n",
        "  for i in range(epoch):\n",
        "\n",
        "    # forward\n",
        "    loss , info = erreur(X,Y, params)\n",
        "    errors.append(loss)\n",
        "    print(f'Epoch {i+1} ............. loss : {loss}')\n",
        "\n",
        "    # backward\n",
        "    grads = gradient(info, params)\n",
        "\n",
        "    # update\n",
        "    for p in params:\n",
        "      params[p] -= lr*grads[p]\n",
        "\n",
        "  return params, errors"
      ],
      "metadata": {
        "id": "oM9SorpufJ5W"
      },
      "execution_count": 76,
      "outputs": []
    },
    {
      "cell_type": "code",
      "source": [
        "X"
      ],
      "metadata": {
        "colab": {
          "base_uri": "https://localhost:8080/"
        },
        "id": "023pGnQwfvoR",
        "outputId": "a6c5c8b9-1759-48ba-dfed-54e74dd2c4a7"
      },
      "execution_count": 77,
      "outputs": [
        {
          "output_type": "execute_result",
          "data": {
            "text/plain": [
              "array([[ 2,  3, -2],\n",
              "       [ 4,  5, -1],\n",
              "       [-5,  2,  3],\n",
              "       [ 0,  5,  4]])"
            ]
          },
          "metadata": {},
          "execution_count": 77
        }
      ]
    },
    {
      "cell_type": "code",
      "source": [
        "Y"
      ],
      "metadata": {
        "colab": {
          "base_uri": "https://localhost:8080/"
        },
        "id": "-rDTmaVtgEEY",
        "outputId": "ec93a88a-a7a4-47c9-bea7-6415df47902a"
      },
      "execution_count": 78,
      "outputs": [
        {
          "output_type": "execute_result",
          "data": {
            "text/plain": [
              "array([[2],\n",
              "       [5],\n",
              "       [6],\n",
              "       [3]])"
            ]
          },
          "metadata": {},
          "execution_count": 78
        }
      ]
    },
    {
      "cell_type": "code",
      "source": [
        "params"
      ],
      "metadata": {
        "colab": {
          "base_uri": "https://localhost:8080/"
        },
        "id": "d71Gm_DsgEHp",
        "outputId": "f2c688fb-582a-488e-9ab4-1845fe2d0a16"
      },
      "execution_count": 87,
      "outputs": [
        {
          "output_type": "execute_result",
          "data": {
            "text/plain": [
              "{'W': array([[ 0.02],\n",
              "        [18.  ],\n",
              "        [15.  ]]),\n",
              " 'B': 0.5}"
            ]
          },
          "metadata": {},
          "execution_count": 87
        }
      ]
    },
    {
      "cell_type": "code",
      "source": [
        "params, errors = train(X, Y, params, epoch = 100, lr = .01)"
      ],
      "metadata": {
        "colab": {
          "base_uri": "https://localhost:8080/"
        },
        "id": "erVx469pgGWs",
        "outputId": "8fd2181a-7385-4a35-eb40-1361839cc26f"
      },
      "execution_count": 88,
      "outputs": [
        {
          "output_type": "stream",
          "name": "stdout",
          "text": [
            "Epoch 1 ............. loss : 8232.7495\n",
            "Epoch 2 ............. loss : 1604.6036749200002\n",
            "Epoch 3 ............. loss : 418.642019512208\n",
            "Epoch 4 ............. loss : 132.7375541654032\n",
            "Epoch 5 ............. loss : 55.10595322352058\n",
            "Epoch 6 ............. loss : 30.87104990900073\n",
            "Epoch 7 ............. loss : 21.208720843180906\n",
            "Epoch 8 ............. loss : 16.026355056999368\n",
            "Epoch 9 ............. loss : 12.579903243269353\n",
            "Epoch 10 ............. loss : 10.039007517112244\n",
            "Epoch 11 ............. loss : 8.090796284512894\n",
            "Epoch 12 ............. loss : 6.576656396391344\n",
            "Epoch 13 ............. loss : 5.394541473181758\n",
            "Epoch 14 ............. loss : 4.470254671236603\n",
            "Epoch 15 ............. loss : 3.7471898061751676\n",
            "Epoch 16 ............. loss : 3.181428987755241\n",
            "Epoch 17 ............. loss : 2.738706468765698\n",
            "Epoch 18 ............. loss : 2.392237767367112\n",
            "Epoch 19 ............. loss : 2.121073561215284\n",
            "Epoch 20 ............. loss : 1.9088252064721272\n",
            "Epoch 21 ............. loss : 1.7426710421565281\n",
            "Epoch 22 ............. loss : 1.6125798242119507\n",
            "Epoch 23 ............. loss : 1.5107033840334192\n",
            "Epoch 24 ............. loss : 1.4309015170527946\n",
            "Epoch 25 ............. loss : 1.368370282107896\n",
            "Epoch 26 ............. loss : 1.3193511958994475\n",
            "Epoch 27 ............. loss : 1.2809037149501183\n",
            "Epoch 28 ............. loss : 1.2507272314108622\n",
            "Epoch 29 ............. loss : 1.2270218070831327\n",
            "Epoch 30 ............. loss : 1.2083792152080242\n",
            "Epoch 31 ............. loss : 1.193697694284206\n",
            "Epoch 32 ............. loss : 1.1821152535826414\n",
            "Epoch 33 ............. loss : 1.1729574930452769\n",
            "Epoch 34 ............. loss : 1.1656967788754993\n",
            "Epoch 35 ............. loss : 1.1599203035385175\n",
            "Epoch 36 ............. loss : 1.1553050967024079\n",
            "Epoch 37 ............. loss : 1.1515984744217533\n",
            "Epoch 38 ............. loss : 1.1486027430666308\n",
            "Epoch 39 ............. loss : 1.1461632320582045\n",
            "Epoch 40 ............. loss : 1.1441589309795992\n",
            "Epoch 41 ............. loss : 1.142495164284989\n",
            "Epoch 42 ............. loss : 1.1410978601747401\n",
            "Epoch 43 ............. loss : 1.1399090667062666\n",
            "Epoch 44 ............. loss : 1.1388834437110344\n",
            "Epoch 45 ............. loss : 1.1379855181579264\n",
            "Epoch 46 ............. loss : 1.1371875368180036\n",
            "Epoch 47 ............. loss : 1.1364677862429864\n",
            "Epoch 48 ............. loss : 1.1358092783583231\n",
            "Epoch 49 ............. loss : 1.1351987221039979\n",
            "Epoch 50 ............. loss : 1.1346257188719477\n",
            "Epoch 51 ............. loss : 1.1340821330363702\n",
            "Epoch 52 ............. loss : 1.133561599472339\n",
            "Epoch 53 ............. loss : 1.1330591382506523\n",
            "Epoch 54 ............. loss : 1.132570853184696\n",
            "Epoch 55 ............. loss : 1.1320936959810242\n",
            "Epoch 56 ............. loss : 1.131625281716663\n",
            "Epoch 57 ............. loss : 1.1311637444731573\n",
            "Epoch 58 ............. loss : 1.1307076243882352\n",
            "Epoch 59 ............. loss : 1.1302557792878694\n",
            "Epoch 60 ............. loss : 1.129807315549392\n",
            "Epoch 61 ............. loss : 1.1293615340105225\n",
            "Epoch 62 ............. loss : 1.1289178876499426\n",
            "Epoch 63 ............. loss : 1.1284759484776385\n",
            "Epoch 64 ............. loss : 1.128035381630715\n",
            "Epoch 65 ............. loss : 1.1275959251066252\n",
            "Epoch 66 ............. loss : 1.127157373906945\n",
            "Epoch 67 ............. loss : 1.1267195676318584\n",
            "Epoch 68 ............. loss : 1.1262823807743918\n",
            "Epoch 69 ............. loss : 1.1258457151268675\n",
            "Epoch 70 ............. loss : 1.125409493839906\n",
            "Epoch 71 ............. loss : 1.1249736567743254\n",
            "Epoch 72 ............. loss : 1.124538156864598\n",
            "Epoch 73 ............. loss : 1.1241029572736951\n",
            "Epoch 74 ............. loss : 1.123668029167124\n",
            "Epoch 75 ............. loss : 1.1232333499713754\n",
            "Epoch 76 ............. loss : 1.1227989020113869\n",
            "Epoch 77 ............. loss : 1.1223646714445212\n",
            "Epoch 78 ............. loss : 1.1219306474265436\n",
            "Epoch 79 ............. loss : 1.1214968214590963\n",
            "Epoch 80 ............. loss : 1.1210631868791854\n",
            "Epoch 81 ............. loss : 1.120629738459765\n",
            "Epoch 82 ............. loss : 1.1201964720972453\n",
            "Epoch 83 ............. loss : 1.1197633845670014\n",
            "Epoch 84 ............. loss : 1.119330473332099\n",
            "Epoch 85 ............. loss : 1.1188977363936414\n",
            "Epoch 86 ............. loss : 1.1184651721736787\n",
            "Epoch 87 ............. loss : 1.1180327794236133\n",
            "Epoch 88 ............. loss : 1.1176005571525232\n",
            "Epoch 89 ............. loss : 1.1171685045710915\n",
            "Epoch 90 ............. loss : 1.1167366210477434\n",
            "Epoch 91 ............. loss : 1.1163049060743162\n",
            "Epoch 92 ............. loss : 1.1158733592392094\n",
            "Epoch 93 ............. loss : 1.1154419802063744\n",
            "Epoch 94 ............. loss : 1.115010768698885\n",
            "Epoch 95 ............. loss : 1.114579724486066\n",
            "Epoch 96 ............. loss : 1.1141488473734404\n",
            "Epoch 97 ............. loss : 1.1137181371948548\n",
            "Epoch 98 ............. loss : 1.11328759380632\n",
            "Epoch 99 ............. loss : 1.1128572170811954\n",
            "Epoch 100 ............. loss : 1.1124270069064168\n"
          ]
        }
      ]
    },
    {
      "cell_type": "code",
      "source": [
        "import matplotlib.pyplot as plt"
      ],
      "metadata": {
        "id": "T4VQ7hK8hrjh"
      },
      "execution_count": 80,
      "outputs": []
    },
    {
      "cell_type": "code",
      "source": [
        "plt.plot(list(range(len(errors))), errors)\n",
        "plt.xlabel(\"Epochs\")\n",
        "plt.ylabel(\"Loss\")\n",
        "plt.title(\"Learning Curve\")\n",
        "plt.show()"
      ],
      "metadata": {
        "colab": {
          "base_uri": "https://localhost:8080/",
          "height": 472
        },
        "id": "riSC0FR8hrq6",
        "outputId": "353eebd1-ff63-4844-a75e-61f9f1b1e8cb"
      },
      "execution_count": 91,
      "outputs": [
        {
          "output_type": "display_data",
          "data": {
            "text/plain": [
              "<Figure size 640x480 with 1 Axes>"
            ],
            "image/png": "[encoded data removed]"
          },
          "metadata": {}
        }
      ]
    },
    {
      "cell_type": "code",
      "source": [
        "def predict(X, params):\n",
        "  M = np.dot(X, params[\"W\"])\n",
        "\n",
        "  P = M + params[\"B\"]\n",
        "\n",
        "  return P"
      ],
      "metadata": {
        "id": "02C6Zn8hieGb"
      },
      "execution_count": 99,
      "outputs": []
    },
    {
      "cell_type": "code",
      "source": [
        "prediction = predict(X, params)"
      ],
      "metadata": {
        "id": "Sd_QP_5RkMuW"
      },
      "execution_count": 100,
      "outputs": []
    },
    {
      "cell_type": "code",
      "source": [
        "prediction"
      ],
      "metadata": {
        "colab": {
          "base_uri": "https://localhost:8080/"
        },
        "id": "h-W015VAkUdl",
        "outputId": "e154c31e-eb23-4a9d-84c6-7dce82cf0e76"
      },
      "execution_count": 101,
      "outputs": [
        {
          "output_type": "execute_result",
          "data": {
            "text/plain": [
              "array([[3.33425725],\n",
              "       [3.65639134],\n",
              "       [5.45212   ],\n",
              "       [3.74985913]])"
            ]
          },
          "metadata": {},
          "execution_count": 101
        }
      ]
    },
    {
      "cell_type": "code",
      "source": [
        "Y"
      ],
      "metadata": {
        "colab": {
          "base_uri": "https://localhost:8080/"
        },
        "id": "pbJ_m6JqkVFZ",
        "outputId": "bdba13e5-c6d7-4666-a57b-03068d4a510f"
      },
      "execution_count": 102,
      "outputs": [
        {
          "output_type": "execute_result",
          "data": {
            "text/plain": [
              "array([[2],\n",
              "       [5],\n",
              "       [6],\n",
              "       [3]])"
            ]
          },
          "metadata": {},
          "execution_count": 102
        }
      ]
    },
    {
      "cell_type": "code",
      "source": [],
      "metadata": {
        "id": "OXaBuzP1klys"
      },
      "execution_count": null,
      "outputs": []
    }
  ]
}