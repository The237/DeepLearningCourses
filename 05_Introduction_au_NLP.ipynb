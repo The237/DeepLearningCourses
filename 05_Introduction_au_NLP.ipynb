{
  "nbformat": 4,
  "nbformat_minor": 0,
  "metadata": {
    "colab": {
      "provenance": [],
      "authorship_tag": "ABX9TyPuChev/KzxWyPZ5zXwJXqY",
      "include_colab_link": true
    },
    "kernelspec": {
      "name": "python3",
      "display_name": "Python 3"
    },
    "language_info": {
      "name": "python"
    },
    "widgets": {
      "application/vnd.jupyter.widget-state+json": {
        "f32e85b923804b64a435ac335a57d5d8": {
          "model_module": "@jupyter-widgets/controls",
          "model_name": "HBoxModel",
          "model_module_version": "1.5.0",
          "state": {
            "_dom_classes": [],
            "_model_module": "@jupyter-widgets/controls",
            "_model_module_version": "1.5.0",
            "_model_name": "HBoxModel",
            "_view_count": null,
            "_view_module": "@jupyter-widgets/controls",
            "_view_module_version": "1.5.0",
            "_view_name": "HBoxView",
            "box_style": "",
            "children": [
              "IPY_MODEL_1cc9bcd3f79b435e8fde6311cf16413d",
              "IPY_MODEL_8c1c468f780f4e41af48f05a6029f078",
              "IPY_MODEL_57f4c69294b34b04af73a29b896a03f8"
            ],
            "layout": "IPY_MODEL_7539ce998f564957bcddb766b113a548"
          }
        },
        "1cc9bcd3f79b435e8fde6311cf16413d": {
          "model_module": "@jupyter-widgets/controls",
          "model_name": "HTMLModel",
          "model_module_version": "1.5.0",
          "state": {
            "_dom_classes": [],
            "_model_module": "@jupyter-widgets/controls",
            "_model_module_version": "1.5.0",
            "_model_name": "HTMLModel",
            "_view_count": null,
            "_view_module": "@jupyter-widgets/controls",
            "_view_module_version": "1.5.0",
            "_view_name": "HTMLView",
            "description": "",
            "description_tooltip": null,
            "layout": "IPY_MODEL_02a72ff439de45ce85e4fe778861fc3a",
            "placeholder": "​",
            "style": "IPY_MODEL_662a8599c3cb4b73aafddc03bb2cefff",
            "value": "Dl Completed...: 100%"
          }
        },
        "8c1c468f780f4e41af48f05a6029f078": {
          "model_module": "@jupyter-widgets/controls",
          "model_name": "FloatProgressModel",
          "model_module_version": "1.5.0",
          "state": {
            "_dom_classes": [],
            "_model_module": "@jupyter-widgets/controls",
            "_model_module_version": "1.5.0",
            "_model_name": "FloatProgressModel",
            "_view_count": null,
            "_view_module": "@jupyter-widgets/controls",
            "_view_module_version": "1.5.0",
            "_view_name": "ProgressView",
            "bar_style": "success",
            "description": "",
            "description_tooltip": null,
            "layout": "IPY_MODEL_6f7405e082294a4899a1b440bfad6cb3",
            "max": 1,
            "min": 0,
            "orientation": "horizontal",
            "style": "IPY_MODEL_994973c7a55b4180a91d129c7cb84f86",
            "value": 1
          }
        },
        "57f4c69294b34b04af73a29b896a03f8": {
          "model_module": "@jupyter-widgets/controls",
          "model_name": "HTMLModel",
          "model_module_version": "1.5.0",
          "state": {
            "_dom_classes": [],
            "_model_module": "@jupyter-widgets/controls",
            "_model_module_version": "1.5.0",
            "_model_name": "HTMLModel",
            "_view_count": null,
            "_view_module": "@jupyter-widgets/controls",
            "_view_module_version": "1.5.0",
            "_view_name": "HTMLView",
            "description": "",
            "description_tooltip": null,
            "layout": "IPY_MODEL_cae456716b01427b8896f191caecc9be",
            "placeholder": "​",
            "style": "IPY_MODEL_e5e20c3c3e84418b9ef2a1fbbb022320",
            "value": " 1/1 [00:10&lt;00:00, 10.18s/ url]"
          }
        },
        "7539ce998f564957bcddb766b113a548": {
          "model_module": "@jupyter-widgets/base",
          "model_name": "LayoutModel",
          "model_module_version": "1.2.0",
          "state": {
            "_model_module": "@jupyter-widgets/base",
            "_model_module_version": "1.2.0",
            "_model_name": "LayoutModel",
            "_view_count": null,
            "_view_module": "@jupyter-widgets/base",
            "_view_module_version": "1.2.0",
            "_view_name": "LayoutView",
            "align_content": null,
            "align_items": null,
            "align_self": null,
            "border": null,
            "bottom": null,
            "display": null,
            "flex": null,
            "flex_flow": null,
            "grid_area": null,
            "grid_auto_columns": null,
            "grid_auto_flow": null,
            "grid_auto_rows": null,
            "grid_column": null,
            "grid_gap": null,
            "grid_row": null,
            "grid_template_areas": null,
            "grid_template_columns": null,
            "grid_template_rows": null,
            "height": null,
            "justify_content": null,
            "justify_items": null,
            "left": null,
            "margin": null,
            "max_height": null,
            "max_width": null,
            "min_height": null,
            "min_width": null,
            "object_fit": null,
            "object_position": null,
            "order": null,
            "overflow": null,
            "overflow_x": null,
            "overflow_y": null,
            "padding": null,
            "right": null,
            "top": null,
            "visibility": null,
            "width": null
          }
        },
        "02a72ff439de45ce85e4fe778861fc3a": {
          "model_module": "@jupyter-widgets/base",
          "model_name": "LayoutModel",
          "model_module_version": "1.2.0",
          "state": {
            "_model_module": "@jupyter-widgets/base",
            "_model_module_version": "1.2.0",
            "_model_name": "LayoutModel",
            "_view_count": null,
            "_view_module": "@jupyter-widgets/base",
            "_view_module_version": "1.2.0",
            "_view_name": "LayoutView",
            "align_content": null,
            "align_items": null,
            "align_self": null,
            "border": null,
            "bottom": null,
            "display": null,
            "flex": null,
            "flex_flow": null,
            "grid_area": null,
            "grid_auto_columns": null,
            "grid_auto_flow": null,
            "grid_auto_rows": null,
            "grid_column": null,
            "grid_gap": null,
            "grid_row": null,
            "grid_template_areas": null,
            "grid_template_columns": null,
            "grid_template_rows": null,
            "height": null,
            "justify_content": null,
            "justify_items": null,
            "left": null,
            "margin": null,
            "max_height": null,
            "max_width": null,
            "min_height": null,
            "min_width": null,
            "object_fit": null,
            "object_position": null,
            "order": null,
            "overflow": null,
            "overflow_x": null,
            "overflow_y": null,
            "padding": null,
            "right": null,
            "top": null,
            "visibility": null,
            "width": null
          }
        },
        "662a8599c3cb4b73aafddc03bb2cefff": {
          "model_module": "@jupyter-widgets/controls",
          "model_name": "DescriptionStyleModel",
          "model_module_version": "1.5.0",
          "state": {
            "_model_module": "@jupyter-widgets/controls",
            "_model_module_version": "1.5.0",
            "_model_name": "DescriptionStyleModel",
            "_view_count": null,
            "_view_module": "@jupyter-widgets/base",
            "_view_module_version": "1.2.0",
            "_view_name": "StyleView",
            "description_width": ""
          }
        },
        "6f7405e082294a4899a1b440bfad6cb3": {
          "model_module": "@jupyter-widgets/base",
          "model_name": "LayoutModel",
          "model_module_version": "1.2.0",
          "state": {
            "_model_module": "@jupyter-widgets/base",
            "_model_module_version": "1.2.0",
            "_model_name": "LayoutModel",
            "_view_count": null,
            "_view_module": "@jupyter-widgets/base",
            "_view_module_version": "1.2.0",
            "_view_name": "LayoutView",
            "align_content": null,
            "align_items": null,
            "align_self": null,
            "border": null,
            "bottom": null,
            "display": null,
            "flex": null,
            "flex_flow": null,
            "grid_area": null,
            "grid_auto_columns": null,
            "grid_auto_flow": null,
            "grid_auto_rows": null,
            "grid_column": null,
            "grid_gap": null,
            "grid_row": null,
            "grid_template_areas": null,
            "grid_template_columns": null,
            "grid_template_rows": null,
            "height": null,
            "justify_content": null,
            "justify_items": null,
            "left": null,
            "margin": null,
            "max_height": null,
            "max_width": null,
            "min_height": null,
            "min_width": null,
            "object_fit": null,
            "object_position": null,
            "order": null,
            "overflow": null,
            "overflow_x": null,
            "overflow_y": null,
            "padding": null,
            "right": null,
            "top": null,
            "visibility": null,
            "width": "20px"
          }
        },
        "994973c7a55b4180a91d129c7cb84f86": {
          "model_module": "@jupyter-widgets/controls",
          "model_name": "ProgressStyleModel",
          "model_module_version": "1.5.0",
          "state": {
            "_model_module": "@jupyter-widgets/controls",
            "_model_module_version": "1.5.0",
            "_model_name": "ProgressStyleModel",
            "_view_count": null,
            "_view_module": "@jupyter-widgets/base",
            "_view_module_version": "1.2.0",
            "_view_name": "StyleView",
            "bar_color": null,
            "description_width": ""
          }
        },
        "cae456716b01427b8896f191caecc9be": {
          "model_module": "@jupyter-widgets/base",
          "model_name": "LayoutModel",
          "model_module_version": "1.2.0",
          "state": {
            "_model_module": "@jupyter-widgets/base",
            "_model_module_version": "1.2.0",
            "_model_name": "LayoutModel",
            "_view_count": null,
            "_view_module": "@jupyter-widgets/base",
            "_view_module_version": "1.2.0",
            "_view_name": "LayoutView",
            "align_content": null,
            "align_items": null,
            "align_self": null,
            "border": null,
            "bottom": null,
            "display": null,
            "flex": null,
            "flex_flow": null,
            "grid_area": null,
            "grid_auto_columns": null,
            "grid_auto_flow": null,
            "grid_auto_rows": null,
            "grid_column": null,
            "grid_gap": null,
            "grid_row": null,
            "grid_template_areas": null,
            "grid_template_columns": null,
            "grid_template_rows": null,
            "height": null,
            "justify_content": null,
            "justify_items": null,
            "left": null,
            "margin": null,
            "max_height": null,
            "max_width": null,
            "min_height": null,
            "min_width": null,
            "object_fit": null,
            "object_position": null,
            "order": null,
            "overflow": null,
            "overflow_x": null,
            "overflow_y": null,
            "padding": null,
            "right": null,
            "top": null,
            "visibility": null,
            "width": null
          }
        },
        "e5e20c3c3e84418b9ef2a1fbbb022320": {
          "model_module": "@jupyter-widgets/controls",
          "model_name": "DescriptionStyleModel",
          "model_module_version": "1.5.0",
          "state": {
            "_model_module": "@jupyter-widgets/controls",
            "_model_module_version": "1.5.0",
            "_model_name": "DescriptionStyleModel",
            "_view_count": null,
            "_view_module": "@jupyter-widgets/base",
            "_view_module_version": "1.2.0",
            "_view_name": "StyleView",
            "description_width": ""
          }
        },
        "bfab8c1ca36e4258b719aba52403ace7": {
          "model_module": "@jupyter-widgets/controls",
          "model_name": "HBoxModel",
          "model_module_version": "1.5.0",
          "state": {
            "_dom_classes": [],
            "_model_module": "@jupyter-widgets/controls",
            "_model_module_version": "1.5.0",
            "_model_name": "HBoxModel",
            "_view_count": null,
            "_view_module": "@jupyter-widgets/controls",
            "_view_module_version": "1.5.0",
            "_view_name": "HBoxView",
            "box_style": "",
            "children": [
              "IPY_MODEL_59e61a7840fe45b28c1f2a6d2462fffe",
              "IPY_MODEL_1c0a344ffa9844a9bfbb8206a3462ec5",
              "IPY_MODEL_116d682e008a4a4f844377a093d6202f"
            ],
            "layout": "IPY_MODEL_1ba025466d9441fab39830c4aeaeaea4"
          }
        },
        "59e61a7840fe45b28c1f2a6d2462fffe": {
          "model_module": "@jupyter-widgets/controls",
          "model_name": "HTMLModel",
          "model_module_version": "1.5.0",
          "state": {
            "_dom_classes": [],
            "_model_module": "@jupyter-widgets/controls",
            "_model_module_version": "1.5.0",
            "_model_name": "HTMLModel",
            "_view_count": null,
            "_view_module": "@jupyter-widgets/controls",
            "_view_module_version": "1.5.0",
            "_view_name": "HTMLView",
            "description": "",
            "description_tooltip": null,
            "layout": "IPY_MODEL_7338e686befc4c658b3b1f6df449bec0",
            "placeholder": "​",
            "style": "IPY_MODEL_1d4c3a1ceba642c4ac896046cc9061bc",
            "value": "Dl Size...: 100%"
          }
        },
        "1c0a344ffa9844a9bfbb8206a3462ec5": {
          "model_module": "@jupyter-widgets/controls",
          "model_name": "FloatProgressModel",
          "model_module_version": "1.5.0",
          "state": {
            "_dom_classes": [],
            "_model_module": "@jupyter-widgets/controls",
            "_model_module_version": "1.5.0",
            "_model_name": "FloatProgressModel",
            "_view_count": null,
            "_view_module": "@jupyter-widgets/controls",
            "_view_module_version": "1.5.0",
            "_view_name": "ProgressView",
            "bar_style": "success",
            "description": "",
            "description_tooltip": null,
            "layout": "IPY_MODEL_817e5a3c085d4e288eb92165d4d2ddec",
            "max": 1,
            "min": 0,
            "orientation": "horizontal",
            "style": "IPY_MODEL_d2496d4bec60487faf1990222b817c1f",
            "value": 1
          }
        },
        "116d682e008a4a4f844377a093d6202f": {
          "model_module": "@jupyter-widgets/controls",
          "model_name": "HTMLModel",
          "model_module_version": "1.5.0",
          "state": {
            "_dom_classes": [],
            "_model_module": "@jupyter-widgets/controls",
            "_model_module_version": "1.5.0",
            "_model_name": "HTMLModel",
            "_view_count": null,
            "_view_module": "@jupyter-widgets/controls",
            "_view_module_version": "1.5.0",
            "_view_name": "HTMLView",
            "description": "",
            "description_tooltip": null,
            "layout": "IPY_MODEL_9528641b66f44c9a88348524c6f43cfd",
            "placeholder": "​",
            "style": "IPY_MODEL_59c9780968a64e909dd732c5ad5cf777",
            "value": " 80/80 [00:10&lt;00:00, 11.56 MiB/s]"
          }
        },
        "1ba025466d9441fab39830c4aeaeaea4": {
          "model_module": "@jupyter-widgets/base",
          "model_name": "LayoutModel",
          "model_module_version": "1.2.0",
          "state": {
            "_model_module": "@jupyter-widgets/base",
            "_model_module_version": "1.2.0",
            "_model_name": "LayoutModel",
            "_view_count": null,
            "_view_module": "@jupyter-widgets/base",
            "_view_module_version": "1.2.0",
            "_view_name": "LayoutView",
            "align_content": null,
            "align_items": null,
            "align_self": null,
            "border": null,
            "bottom": null,
            "display": null,
            "flex": null,
            "flex_flow": null,
            "grid_area": null,
            "grid_auto_columns": null,
            "grid_auto_flow": null,
            "grid_auto_rows": null,
            "grid_column": null,
            "grid_gap": null,
            "grid_row": null,
            "grid_template_areas": null,
            "grid_template_columns": null,
            "grid_template_rows": null,
            "height": null,
            "justify_content": null,
            "justify_items": null,
            "left": null,
            "margin": null,
            "max_height": null,
            "max_width": null,
            "min_height": null,
            "min_width": null,
            "object_fit": null,
            "object_position": null,
            "order": null,
            "overflow": null,
            "overflow_x": null,
            "overflow_y": null,
            "padding": null,
            "right": null,
            "top": null,
            "visibility": null,
            "width": null
          }
        },
        "7338e686befc4c658b3b1f6df449bec0": {
          "model_module": "@jupyter-widgets/base",
          "model_name": "LayoutModel",
          "model_module_version": "1.2.0",
          "state": {
            "_model_module": "@jupyter-widgets/base",
            "_model_module_version": "1.2.0",
            "_model_name": "LayoutModel",
            "_view_count": null,
            "_view_module": "@jupyter-widgets/base",
            "_view_module_version": "1.2.0",
            "_view_name": "LayoutView",
            "align_content": null,
            "align_items": null,
            "align_self": null,
            "border": null,
            "bottom": null,
            "display": null,
            "flex": null,
            "flex_flow": null,
            "grid_area": null,
            "grid_auto_columns": null,
            "grid_auto_flow": null,
            "grid_auto_rows": null,
            "grid_column": null,
            "grid_gap": null,
            "grid_row": null,
            "grid_template_areas": null,
            "grid_template_columns": null,
            "grid_template_rows": null,
            "height": null,
            "justify_content": null,
            "justify_items": null,
            "left": null,
            "margin": null,
            "max_height": null,
            "max_width": null,
            "min_height": null,
            "min_width": null,
            "object_fit": null,
            "object_position": null,
            "order": null,
            "overflow": null,
            "overflow_x": null,
            "overflow_y": null,
            "padding": null,
            "right": null,
            "top": null,
            "visibility": null,
            "width": null
          }
        },
        "1d4c3a1ceba642c4ac896046cc9061bc": {
          "model_module": "@jupyter-widgets/controls",
          "model_name": "DescriptionStyleModel",
          "model_module_version": "1.5.0",
          "state": {
            "_model_module": "@jupyter-widgets/controls",
            "_model_module_version": "1.5.0",
            "_model_name": "DescriptionStyleModel",
            "_view_count": null,
            "_view_module": "@jupyter-widgets/base",
            "_view_module_version": "1.2.0",
            "_view_name": "StyleView",
            "description_width": ""
          }
        },
        "817e5a3c085d4e288eb92165d4d2ddec": {
          "model_module": "@jupyter-widgets/base",
          "model_name": "LayoutModel",
          "model_module_version": "1.2.0",
          "state": {
            "_model_module": "@jupyter-widgets/base",
            "_model_module_version": "1.2.0",
            "_model_name": "LayoutModel",
            "_view_count": null,
            "_view_module": "@jupyter-widgets/base",
            "_view_module_version": "1.2.0",
            "_view_name": "LayoutView",
            "align_content": null,
            "align_items": null,
            "align_self": null,
            "border": null,
            "bottom": null,
            "display": null,
            "flex": null,
            "flex_flow": null,
            "grid_area": null,
            "grid_auto_columns": null,
            "grid_auto_flow": null,
            "grid_auto_rows": null,
            "grid_column": null,
            "grid_gap": null,
            "grid_row": null,
            "grid_template_areas": null,
            "grid_template_columns": null,
            "grid_template_rows": null,
            "height": null,
            "justify_content": null,
            "justify_items": null,
            "left": null,
            "margin": null,
            "max_height": null,
            "max_width": null,
            "min_height": null,
            "min_width": null,
            "object_fit": null,
            "object_position": null,
            "order": null,
            "overflow": null,
            "overflow_x": null,
            "overflow_y": null,
            "padding": null,
            "right": null,
            "top": null,
            "visibility": null,
            "width": "20px"
          }
        },
        "d2496d4bec60487faf1990222b817c1f": {
          "model_module": "@jupyter-widgets/controls",
          "model_name": "ProgressStyleModel",
          "model_module_version": "1.5.0",
          "state": {
            "_model_module": "@jupyter-widgets/controls",
            "_model_module_version": "1.5.0",
            "_model_name": "ProgressStyleModel",
            "_view_count": null,
            "_view_module": "@jupyter-widgets/base",
            "_view_module_version": "1.2.0",
            "_view_name": "StyleView",
            "bar_color": null,
            "description_width": ""
          }
        },
        "9528641b66f44c9a88348524c6f43cfd": {
          "model_module": "@jupyter-widgets/base",
          "model_name": "LayoutModel",
          "model_module_version": "1.2.0",
          "state": {
            "_model_module": "@jupyter-widgets/base",
            "_model_module_version": "1.2.0",
            "_model_name": "LayoutModel",
            "_view_count": null,
            "_view_module": "@jupyter-widgets/base",
            "_view_module_version": "1.2.0",
            "_view_name": "LayoutView",
            "align_content": null,
            "align_items": null,
            "align_self": null,
            "border": null,
            "bottom": null,
            "display": null,
            "flex": null,
            "flex_flow": null,
            "grid_area": null,
            "grid_auto_columns": null,
            "grid_auto_flow": null,
            "grid_auto_rows": null,
            "grid_column": null,
            "grid_gap": null,
            "grid_row": null,
            "grid_template_areas": null,
            "grid_template_columns": null,
            "grid_template_rows": null,
            "height": null,
            "justify_content": null,
            "justify_items": null,
            "left": null,
            "margin": null,
            "max_height": null,
            "max_width": null,
            "min_height": null,
            "min_width": null,
            "object_fit": null,
            "object_position": null,
            "order": null,
            "overflow": null,
            "overflow_x": null,
            "overflow_y": null,
            "padding": null,
            "right": null,
            "top": null,
            "visibility": null,
            "width": null
          }
        },
        "59c9780968a64e909dd732c5ad5cf777": {
          "model_module": "@jupyter-widgets/controls",
          "model_name": "DescriptionStyleModel",
          "model_module_version": "1.5.0",
          "state": {
            "_model_module": "@jupyter-widgets/controls",
            "_model_module_version": "1.5.0",
            "_model_name": "DescriptionStyleModel",
            "_view_count": null,
            "_view_module": "@jupyter-widgets/base",
            "_view_module_version": "1.2.0",
            "_view_name": "StyleView",
            "description_width": ""
          }
        },
        "4f4af778df054b45a019f16c00dbcd1e": {
          "model_module": "@jupyter-widgets/controls",
          "model_name": "HBoxModel",
          "model_module_version": "1.5.0",
          "state": {
            "_dom_classes": [],
            "_model_module": "@jupyter-widgets/controls",
            "_model_module_version": "1.5.0",
            "_model_name": "HBoxModel",
            "_view_count": null,
            "_view_module": "@jupyter-widgets/controls",
            "_view_module_version": "1.5.0",
            "_view_name": "HBoxView",
            "box_style": "",
            "children": [
              "IPY_MODEL_d94891eb5d1343c58d2303b144206d46",
              "IPY_MODEL_3614d53456864f0c91d509e9af4c9941",
              "IPY_MODEL_017a5460a4174cce92670ed171bf0ba9"
            ],
            "layout": "IPY_MODEL_d95af943154b47188559df110ca2ee78"
          }
        },
        "d94891eb5d1343c58d2303b144206d46": {
          "model_module": "@jupyter-widgets/controls",
          "model_name": "HTMLModel",
          "model_module_version": "1.5.0",
          "state": {
            "_dom_classes": [],
            "_model_module": "@jupyter-widgets/controls",
            "_model_module_version": "1.5.0",
            "_model_name": "HTMLModel",
            "_view_count": null,
            "_view_module": "@jupyter-widgets/controls",
            "_view_module_version": "1.5.0",
            "_view_name": "HTMLView",
            "description": "",
            "description_tooltip": null,
            "layout": "IPY_MODEL_c9a4dc0afed34feea45bd8adbf54e2ef",
            "placeholder": "​",
            "style": "IPY_MODEL_f61fe49b50d441a5b7975c1d2d599539",
            "value": "Generating splits...: 100%"
          }
        },
        "3614d53456864f0c91d509e9af4c9941": {
          "model_module": "@jupyter-widgets/controls",
          "model_name": "FloatProgressModel",
          "model_module_version": "1.5.0",
          "state": {
            "_dom_classes": [],
            "_model_module": "@jupyter-widgets/controls",
            "_model_module_version": "1.5.0",
            "_model_name": "FloatProgressModel",
            "_view_count": null,
            "_view_module": "@jupyter-widgets/controls",
            "_view_module_version": "1.5.0",
            "_view_name": "ProgressView",
            "bar_style": "",
            "description": "",
            "description_tooltip": null,
            "layout": "IPY_MODEL_77c04d0809ab4e59a4bd3351fe00e8e9",
            "max": 3,
            "min": 0,
            "orientation": "horizontal",
            "style": "IPY_MODEL_dbf459e96b3f4e4fb7acba469df4e119",
            "value": 3
          }
        },
        "017a5460a4174cce92670ed171bf0ba9": {
          "model_module": "@jupyter-widgets/controls",
          "model_name": "HTMLModel",
          "model_module_version": "1.5.0",
          "state": {
            "_dom_classes": [],
            "_model_module": "@jupyter-widgets/controls",
            "_model_module_version": "1.5.0",
            "_model_name": "HTMLModel",
            "_view_count": null,
            "_view_module": "@jupyter-widgets/controls",
            "_view_module_version": "1.5.0",
            "_view_name": "HTMLView",
            "description": "",
            "description_tooltip": null,
            "layout": "IPY_MODEL_67818b0473414a8ca01c92ff4fc91d33",
            "placeholder": "​",
            "style": "IPY_MODEL_010f875aeb704ee3acbbcc3973c62118",
            "value": " 3/3 [00:45&lt;00:00, 15.65s/ splits]"
          }
        },
        "d95af943154b47188559df110ca2ee78": {
          "model_module": "@jupyter-widgets/base",
          "model_name": "LayoutModel",
          "model_module_version": "1.2.0",
          "state": {
            "_model_module": "@jupyter-widgets/base",
            "_model_module_version": "1.2.0",
            "_model_name": "LayoutModel",
            "_view_count": null,
            "_view_module": "@jupyter-widgets/base",
            "_view_module_version": "1.2.0",
            "_view_name": "LayoutView",
            "align_content": null,
            "align_items": null,
            "align_self": null,
            "border": null,
            "bottom": null,
            "display": null,
            "flex": null,
            "flex_flow": null,
            "grid_area": null,
            "grid_auto_columns": null,
            "grid_auto_flow": null,
            "grid_auto_rows": null,
            "grid_column": null,
            "grid_gap": null,
            "grid_row": null,
            "grid_template_areas": null,
            "grid_template_columns": null,
            "grid_template_rows": null,
            "height": null,
            "justify_content": null,
            "justify_items": null,
            "left": null,
            "margin": null,
            "max_height": null,
            "max_width": null,
            "min_height": null,
            "min_width": null,
            "object_fit": null,
            "object_position": null,
            "order": null,
            "overflow": null,
            "overflow_x": null,
            "overflow_y": null,
            "padding": null,
            "right": null,
            "top": null,
            "visibility": "hidden",
            "width": null
          }
        },
        "c9a4dc0afed34feea45bd8adbf54e2ef": {
          "model_module": "@jupyter-widgets/base",
          "model_name": "LayoutModel",
          "model_module_version": "1.2.0",
          "state": {
            "_model_module": "@jupyter-widgets/base",
            "_model_module_version": "1.2.0",
            "_model_name": "LayoutModel",
            "_view_count": null,
            "_view_module": "@jupyter-widgets/base",
            "_view_module_version": "1.2.0",
            "_view_name": "LayoutView",
            "align_content": null,
            "align_items": null,
            "align_self": null,
            "border": null,
            "bottom": null,
            "display": null,
            "flex": null,
            "flex_flow": null,
            "grid_area": null,
            "grid_auto_columns": null,
            "grid_auto_flow": null,
            "grid_auto_rows": null,
            "grid_column": null,
            "grid_gap": null,
            "grid_row": null,
            "grid_template_areas": null,
            "grid_template_columns": null,
            "grid_template_rows": null,
            "height": null,
            "justify_content": null,
            "justify_items": null,
            "left": null,
            "margin": null,
            "max_height": null,
            "max_width": null,
            "min_height": null,
            "min_width": null,
            "object_fit": null,
            "object_position": null,
            "order": null,
            "overflow": null,
            "overflow_x": null,
            "overflow_y": null,
            "padding": null,
            "right": null,
            "top": null,
            "visibility": null,
            "width": null
          }
        },
        "f61fe49b50d441a5b7975c1d2d599539": {
          "model_module": "@jupyter-widgets/controls",
          "model_name": "DescriptionStyleModel",
          "model_module_version": "1.5.0",
          "state": {
            "_model_module": "@jupyter-widgets/controls",
            "_model_module_version": "1.5.0",
            "_model_name": "DescriptionStyleModel",
            "_view_count": null,
            "_view_module": "@jupyter-widgets/base",
            "_view_module_version": "1.2.0",
            "_view_name": "StyleView",
            "description_width": ""
          }
        },
        "77c04d0809ab4e59a4bd3351fe00e8e9": {
          "model_module": "@jupyter-widgets/base",
          "model_name": "LayoutModel",
          "model_module_version": "1.2.0",
          "state": {
            "_model_module": "@jupyter-widgets/base",
            "_model_module_version": "1.2.0",
            "_model_name": "LayoutModel",
            "_view_count": null,
            "_view_module": "@jupyter-widgets/base",
            "_view_module_version": "1.2.0",
            "_view_name": "LayoutView",
            "align_content": null,
            "align_items": null,
            "align_self": null,
            "border": null,
            "bottom": null,
            "display": null,
            "flex": null,
            "flex_flow": null,
            "grid_area": null,
            "grid_auto_columns": null,
            "grid_auto_flow": null,
            "grid_auto_rows": null,
            "grid_column": null,
            "grid_gap": null,
            "grid_row": null,
            "grid_template_areas": null,
            "grid_template_columns": null,
            "grid_template_rows": null,
            "height": null,
            "justify_content": null,
            "justify_items": null,
            "left": null,
            "margin": null,
            "max_height": null,
            "max_width": null,
            "min_height": null,
            "min_width": null,
            "object_fit": null,
            "object_position": null,
            "order": null,
            "overflow": null,
            "overflow_x": null,
            "overflow_y": null,
            "padding": null,
            "right": null,
            "top": null,
            "visibility": null,
            "width": null
          }
        },
        "dbf459e96b3f4e4fb7acba469df4e119": {
          "model_module": "@jupyter-widgets/controls",
          "model_name": "ProgressStyleModel",
          "model_module_version": "1.5.0",
          "state": {
            "_model_module": "@jupyter-widgets/controls",
            "_model_module_version": "1.5.0",
            "_model_name": "ProgressStyleModel",
            "_view_count": null,
            "_view_module": "@jupyter-widgets/base",
            "_view_module_version": "1.2.0",
            "_view_name": "StyleView",
            "bar_color": null,
            "description_width": ""
          }
        },
        "67818b0473414a8ca01c92ff4fc91d33": {
          "model_module": "@jupyter-widgets/base",
          "model_name": "LayoutModel",
          "model_module_version": "1.2.0",
          "state": {
            "_model_module": "@jupyter-widgets/base",
            "_model_module_version": "1.2.0",
            "_model_name": "LayoutModel",
            "_view_count": null,
            "_view_module": "@jupyter-widgets/base",
            "_view_module_version": "1.2.0",
            "_view_name": "LayoutView",
            "align_content": null,
            "align_items": null,
            "align_self": null,
            "border": null,
            "bottom": null,
            "display": null,
            "flex": null,
            "flex_flow": null,
            "grid_area": null,
            "grid_auto_columns": null,
            "grid_auto_flow": null,
            "grid_auto_rows": null,
            "grid_column": null,
            "grid_gap": null,
            "grid_row": null,
            "grid_template_areas": null,
            "grid_template_columns": null,
            "grid_template_rows": null,
            "height": null,
            "justify_content": null,
            "justify_items": null,
            "left": null,
            "margin": null,
            "max_height": null,
            "max_width": null,
            "min_height": null,
            "min_width": null,
            "object_fit": null,
            "object_position": null,
            "order": null,
            "overflow": null,
            "overflow_x": null,
            "overflow_y": null,
            "padding": null,
            "right": null,
            "top": null,
            "visibility": null,
            "width": null
          }
        },
        "010f875aeb704ee3acbbcc3973c62118": {
          "model_module": "@jupyter-widgets/controls",
          "model_name": "DescriptionStyleModel",
          "model_module_version": "1.5.0",
          "state": {
            "_model_module": "@jupyter-widgets/controls",
            "_model_module_version": "1.5.0",
            "_model_name": "DescriptionStyleModel",
            "_view_count": null,
            "_view_module": "@jupyter-widgets/base",
            "_view_module_version": "1.2.0",
            "_view_name": "StyleView",
            "description_width": ""
          }
        },
        "6924376a8f214e69a8c9e646ed61c441": {
          "model_module": "@jupyter-widgets/controls",
          "model_name": "HBoxModel",
          "model_module_version": "1.5.0",
          "state": {
            "_dom_classes": [],
            "_model_module": "@jupyter-widgets/controls",
            "_model_module_version": "1.5.0",
            "_model_name": "HBoxModel",
            "_view_count": null,
            "_view_module": "@jupyter-widgets/controls",
            "_view_module_version": "1.5.0",
            "_view_name": "HBoxView",
            "box_style": "",
            "children": [
              "IPY_MODEL_98a0170a27734ecd9860b617ec403828",
              "IPY_MODEL_e1b2e5c9bc6b4260bd5aa67fade7f223",
              "IPY_MODEL_6df379a0092d47428157f727caf2e209"
            ],
            "layout": "IPY_MODEL_dcdbf234770748d0918cef4e391a4828"
          }
        },
        "98a0170a27734ecd9860b617ec403828": {
          "model_module": "@jupyter-widgets/controls",
          "model_name": "HTMLModel",
          "model_module_version": "1.5.0",
          "state": {
            "_dom_classes": [],
            "_model_module": "@jupyter-widgets/controls",
            "_model_module_version": "1.5.0",
            "_model_name": "HTMLModel",
            "_view_count": null,
            "_view_module": "@jupyter-widgets/controls",
            "_view_module_version": "1.5.0",
            "_view_name": "HTMLView",
            "description": "",
            "description_tooltip": null,
            "layout": "IPY_MODEL_745edbb615ce4226a8dc6180aa64ef33",
            "placeholder": "​",
            "style": "IPY_MODEL_153dbe911df841f28a6a2d3a20b46845",
            "value": "Generating train examples...:  98%"
          }
        },
        "e1b2e5c9bc6b4260bd5aa67fade7f223": {
          "model_module": "@jupyter-widgets/controls",
          "model_name": "FloatProgressModel",
          "model_module_version": "1.5.0",
          "state": {
            "_dom_classes": [],
            "_model_module": "@jupyter-widgets/controls",
            "_model_module_version": "1.5.0",
            "_model_name": "FloatProgressModel",
            "_view_count": null,
            "_view_module": "@jupyter-widgets/controls",
            "_view_module_version": "1.5.0",
            "_view_name": "ProgressView",
            "bar_style": "",
            "description": "",
            "description_tooltip": null,
            "layout": "IPY_MODEL_39222e1949bd45da923b27f66e512e61",
            "max": 25000,
            "min": 0,
            "orientation": "horizontal",
            "style": "IPY_MODEL_aa4054e1a19442898a9cb57788841563",
            "value": 25000
          }
        },
        "6df379a0092d47428157f727caf2e209": {
          "model_module": "@jupyter-widgets/controls",
          "model_name": "HTMLModel",
          "model_module_version": "1.5.0",
          "state": {
            "_dom_classes": [],
            "_model_module": "@jupyter-widgets/controls",
            "_model_module_version": "1.5.0",
            "_model_name": "HTMLModel",
            "_view_count": null,
            "_view_module": "@jupyter-widgets/controls",
            "_view_module_version": "1.5.0",
            "_view_name": "HTMLView",
            "description": "",
            "description_tooltip": null,
            "layout": "IPY_MODEL_80a3f8c77be7429c95a230936a5e7ade",
            "placeholder": "​",
            "style": "IPY_MODEL_9daea50d3093462fa5a5d33527bb9638",
            "value": " 24577/25000 [00:08&lt;00:00, 4470.38 examples/s]"
          }
        },
        "dcdbf234770748d0918cef4e391a4828": {
          "model_module": "@jupyter-widgets/base",
          "model_name": "LayoutModel",
          "model_module_version": "1.2.0",
          "state": {
            "_model_module": "@jupyter-widgets/base",
            "_model_module_version": "1.2.0",
            "_model_name": "LayoutModel",
            "_view_count": null,
            "_view_module": "@jupyter-widgets/base",
            "_view_module_version": "1.2.0",
            "_view_name": "LayoutView",
            "align_content": null,
            "align_items": null,
            "align_self": null,
            "border": null,
            "bottom": null,
            "display": null,
            "flex": null,
            "flex_flow": null,
            "grid_area": null,
            "grid_auto_columns": null,
            "grid_auto_flow": null,
            "grid_auto_rows": null,
            "grid_column": null,
            "grid_gap": null,
            "grid_row": null,
            "grid_template_areas": null,
            "grid_template_columns": null,
            "grid_template_rows": null,
            "height": null,
            "justify_content": null,
            "justify_items": null,
            "left": null,
            "margin": null,
            "max_height": null,
            "max_width": null,
            "min_height": null,
            "min_width": null,
            "object_fit": null,
            "object_position": null,
            "order": null,
            "overflow": null,
            "overflow_x": null,
            "overflow_y": null,
            "padding": null,
            "right": null,
            "top": null,
            "visibility": "hidden",
            "width": null
          }
        },
        "745edbb615ce4226a8dc6180aa64ef33": {
          "model_module": "@jupyter-widgets/base",
          "model_name": "LayoutModel",
          "model_module_version": "1.2.0",
          "state": {
            "_model_module": "@jupyter-widgets/base",
            "_model_module_version": "1.2.0",
            "_model_name": "LayoutModel",
            "_view_count": null,
            "_view_module": "@jupyter-widgets/base",
            "_view_module_version": "1.2.0",
            "_view_name": "LayoutView",
            "align_content": null,
            "align_items": null,
            "align_self": null,
            "border": null,
            "bottom": null,
            "display": null,
            "flex": null,
            "flex_flow": null,
            "grid_area": null,
            "grid_auto_columns": null,
            "grid_auto_flow": null,
            "grid_auto_rows": null,
            "grid_column": null,
            "grid_gap": null,
            "grid_row": null,
            "grid_template_areas": null,
            "grid_template_columns": null,
            "grid_template_rows": null,
            "height": null,
            "justify_content": null,
            "justify_items": null,
            "left": null,
            "margin": null,
            "max_height": null,
            "max_width": null,
            "min_height": null,
            "min_width": null,
            "object_fit": null,
            "object_position": null,
            "order": null,
            "overflow": null,
            "overflow_x": null,
            "overflow_y": null,
            "padding": null,
            "right": null,
            "top": null,
            "visibility": null,
            "width": null
          }
        },
        "153dbe911df841f28a6a2d3a20b46845": {
          "model_module": "@jupyter-widgets/controls",
          "model_name": "DescriptionStyleModel",
          "model_module_version": "1.5.0",
          "state": {
            "_model_module": "@jupyter-widgets/controls",
            "_model_module_version": "1.5.0",
            "_model_name": "DescriptionStyleModel",
            "_view_count": null,
            "_view_module": "@jupyter-widgets/base",
            "_view_module_version": "1.2.0",
            "_view_name": "StyleView",
            "description_width": ""
          }
        },
        "39222e1949bd45da923b27f66e512e61": {
          "model_module": "@jupyter-widgets/base",
          "model_name": "LayoutModel",
          "model_module_version": "1.2.0",
          "state": {
            "_model_module": "@jupyter-widgets/base",
            "_model_module_version": "1.2.0",
            "_model_name": "LayoutModel",
            "_view_count": null,
            "_view_module": "@jupyter-widgets/base",
            "_view_module_version": "1.2.0",
            "_view_name": "LayoutView",
            "align_content": null,
            "align_items": null,
            "align_self": null,
            "border": null,
            "bottom": null,
            "display": null,
            "flex": null,
            "flex_flow": null,
            "grid_area": null,
            "grid_auto_columns": null,
            "grid_auto_flow": null,
            "grid_auto_rows": null,
            "grid_column": null,
            "grid_gap": null,
            "grid_row": null,
            "grid_template_areas": null,
            "grid_template_columns": null,
            "grid_template_rows": null,
            "height": null,
            "justify_content": null,
            "justify_items": null,
            "left": null,
            "margin": null,
            "max_height": null,
            "max_width": null,
            "min_height": null,
            "min_width": null,
            "object_fit": null,
            "object_position": null,
            "order": null,
            "overflow": null,
            "overflow_x": null,
            "overflow_y": null,
            "padding": null,
            "right": null,
            "top": null,
            "visibility": null,
            "width": null
          }
        },
        "aa4054e1a19442898a9cb57788841563": {
          "model_module": "@jupyter-widgets/controls",
          "model_name": "ProgressStyleModel",
          "model_module_version": "1.5.0",
          "state": {
            "_model_module": "@jupyter-widgets/controls",
            "_model_module_version": "1.5.0",
            "_model_name": "ProgressStyleModel",
            "_view_count": null,
            "_view_module": "@jupyter-widgets/base",
            "_view_module_version": "1.2.0",
            "_view_name": "StyleView",
            "bar_color": null,
            "description_width": ""
          }
        },
        "80a3f8c77be7429c95a230936a5e7ade": {
          "model_module": "@jupyter-widgets/base",
          "model_name": "LayoutModel",
          "model_module_version": "1.2.0",
          "state": {
            "_model_module": "@jupyter-widgets/base",
            "_model_module_version": "1.2.0",
            "_model_name": "LayoutModel",
            "_view_count": null,
            "_view_module": "@jupyter-widgets/base",
            "_view_module_version": "1.2.0",
            "_view_name": "LayoutView",
            "align_content": null,
            "align_items": null,
            "align_self": null,
            "border": null,
            "bottom": null,
            "display": null,
            "flex": null,
            "flex_flow": null,
            "grid_area": null,
            "grid_auto_columns": null,
            "grid_auto_flow": null,
            "grid_auto_rows": null,
            "grid_column": null,
            "grid_gap": null,
            "grid_row": null,
            "grid_template_areas": null,
            "grid_template_columns": null,
            "grid_template_rows": null,
            "height": null,
            "justify_content": null,
            "justify_items": null,
            "left": null,
            "margin": null,
            "max_height": null,
            "max_width": null,
            "min_height": null,
            "min_width": null,
            "object_fit": null,
            "object_position": null,
            "order": null,
            "overflow": null,
            "overflow_x": null,
            "overflow_y": null,
            "padding": null,
            "right": null,
            "top": null,
            "visibility": null,
            "width": null
          }
        },
        "9daea50d3093462fa5a5d33527bb9638": {
          "model_module": "@jupyter-widgets/controls",
          "model_name": "DescriptionStyleModel",
          "model_module_version": "1.5.0",
          "state": {
            "_model_module": "@jupyter-widgets/controls",
            "_model_module_version": "1.5.0",
            "_model_name": "DescriptionStyleModel",
            "_view_count": null,
            "_view_module": "@jupyter-widgets/base",
            "_view_module_version": "1.2.0",
            "_view_name": "StyleView",
            "description_width": ""
          }
        },
        "9cfa4917a4594fd49ca3612f26ce9693": {
          "model_module": "@jupyter-widgets/controls",
          "model_name": "HBoxModel",
          "model_module_version": "1.5.0",
          "state": {
            "_dom_classes": [],
            "_model_module": "@jupyter-widgets/controls",
            "_model_module_version": "1.5.0",
            "_model_name": "HBoxModel",
            "_view_count": null,
            "_view_module": "@jupyter-widgets/controls",
            "_view_module_version": "1.5.0",
            "_view_name": "HBoxView",
            "box_style": "",
            "children": [
              "IPY_MODEL_eee205794c7548ddba967221d04cb907",
              "IPY_MODEL_b4482839f51a4cd29671fd678827718a",
              "IPY_MODEL_fc8c82fd908a40c9a719c9ba8da2696e"
            ],
            "layout": "IPY_MODEL_26ecd015a249462896383649055317ce"
          }
        },
        "eee205794c7548ddba967221d04cb907": {
          "model_module": "@jupyter-widgets/controls",
          "model_name": "HTMLModel",
          "model_module_version": "1.5.0",
          "state": {
            "_dom_classes": [],
            "_model_module": "@jupyter-widgets/controls",
            "_model_module_version": "1.5.0",
            "_model_name": "HTMLModel",
            "_view_count": null,
            "_view_module": "@jupyter-widgets/controls",
            "_view_module_version": "1.5.0",
            "_view_name": "HTMLView",
            "description": "",
            "description_tooltip": null,
            "layout": "IPY_MODEL_bc0172233652476c9bfc8f99a3ff8469",
            "placeholder": "​",
            "style": "IPY_MODEL_decf6c659cf149dbb6cb514ab0389066",
            "value": "Shuffling /root/tensorflow_datasets/imdb_reviews/plain_text/1.0.0.incomplete9UOAEI/imdb_reviews-train.tfrecord*...:  37%"
          }
        },
        "b4482839f51a4cd29671fd678827718a": {
          "model_module": "@jupyter-widgets/controls",
          "model_name": "FloatProgressModel",
          "model_module_version": "1.5.0",
          "state": {
            "_dom_classes": [],
            "_model_module": "@jupyter-widgets/controls",
            "_model_module_version": "1.5.0",
            "_model_name": "FloatProgressModel",
            "_view_count": null,
            "_view_module": "@jupyter-widgets/controls",
            "_view_module_version": "1.5.0",
            "_view_name": "ProgressView",
            "bar_style": "",
            "description": "",
            "description_tooltip": null,
            "layout": "IPY_MODEL_a3f8a8792bf44a6a80b8dd05419719ba",
            "max": 25000,
            "min": 0,
            "orientation": "horizontal",
            "style": "IPY_MODEL_63e698e99932476a9682c0d13e1bfe97",
            "value": 25000
          }
        },
        "fc8c82fd908a40c9a719c9ba8da2696e": {
          "model_module": "@jupyter-widgets/controls",
          "model_name": "HTMLModel",
          "model_module_version": "1.5.0",
          "state": {
            "_dom_classes": [],
            "_model_module": "@jupyter-widgets/controls",
            "_model_module_version": "1.5.0",
            "_model_name": "HTMLModel",
            "_view_count": null,
            "_view_module": "@jupyter-widgets/controls",
            "_view_module_version": "1.5.0",
            "_view_name": "HTMLView",
            "description": "",
            "description_tooltip": null,
            "layout": "IPY_MODEL_5139fa06a59445f2aeb91b46025931e9",
            "placeholder": "​",
            "style": "IPY_MODEL_7f4714e2b1464b4f9a30e1bb689fb1dd",
            "value": " 9338/25000 [00:00&lt;00:00, 93361.61 examples/s]"
          }
        },
        "26ecd015a249462896383649055317ce": {
          "model_module": "@jupyter-widgets/base",
          "model_name": "LayoutModel",
          "model_module_version": "1.2.0",
          "state": {
            "_model_module": "@jupyter-widgets/base",
            "_model_module_version": "1.2.0",
            "_model_name": "LayoutModel",
            "_view_count": null,
            "_view_module": "@jupyter-widgets/base",
            "_view_module_version": "1.2.0",
            "_view_name": "LayoutView",
            "align_content": null,
            "align_items": null,
            "align_self": null,
            "border": null,
            "bottom": null,
            "display": null,
            "flex": null,
            "flex_flow": null,
            "grid_area": null,
            "grid_auto_columns": null,
            "grid_auto_flow": null,
            "grid_auto_rows": null,
            "grid_column": null,
            "grid_gap": null,
            "grid_row": null,
            "grid_template_areas": null,
            "grid_template_columns": null,
            "grid_template_rows": null,
            "height": null,
            "justify_content": null,
            "justify_items": null,
            "left": null,
            "margin": null,
            "max_height": null,
            "max_width": null,
            "min_height": null,
            "min_width": null,
            "object_fit": null,
            "object_position": null,
            "order": null,
            "overflow": null,
            "overflow_x": null,
            "overflow_y": null,
            "padding": null,
            "right": null,
            "top": null,
            "visibility": "hidden",
            "width": null
          }
        },
        "bc0172233652476c9bfc8f99a3ff8469": {
          "model_module": "@jupyter-widgets/base",
          "model_name": "LayoutModel",
          "model_module_version": "1.2.0",
          "state": {
            "_model_module": "@jupyter-widgets/base",
            "_model_module_version": "1.2.0",
            "_model_name": "LayoutModel",
            "_view_count": null,
            "_view_module": "@jupyter-widgets/base",
            "_view_module_version": "1.2.0",
            "_view_name": "LayoutView",
            "align_content": null,
            "align_items": null,
            "align_self": null,
            "border": null,
            "bottom": null,
            "display": null,
            "flex": null,
            "flex_flow": null,
            "grid_area": null,
            "grid_auto_columns": null,
            "grid_auto_flow": null,
            "grid_auto_rows": null,
            "grid_column": null,
            "grid_gap": null,
            "grid_row": null,
            "grid_template_areas": null,
            "grid_template_columns": null,
            "grid_template_rows": null,
            "height": null,
            "justify_content": null,
            "justify_items": null,
            "left": null,
            "margin": null,
            "max_height": null,
            "max_width": null,
            "min_height": null,
            "min_width": null,
            "object_fit": null,
            "object_position": null,
            "order": null,
            "overflow": null,
            "overflow_x": null,
            "overflow_y": null,
            "padding": null,
            "right": null,
            "top": null,
            "visibility": null,
            "width": null
          }
        },
        "decf6c659cf149dbb6cb514ab0389066": {
          "model_module": "@jupyter-widgets/controls",
          "model_name": "DescriptionStyleModel",
          "model_module_version": "1.5.0",
          "state": {
            "_model_module": "@jupyter-widgets/controls",
            "_model_module_version": "1.5.0",
            "_model_name": "DescriptionStyleModel",
            "_view_count": null,
            "_view_module": "@jupyter-widgets/base",
            "_view_module_version": "1.2.0",
            "_view_name": "StyleView",
            "description_width": ""
          }
        },
        "a3f8a8792bf44a6a80b8dd05419719ba": {
          "model_module": "@jupyter-widgets/base",
          "model_name": "LayoutModel",
          "model_module_version": "1.2.0",
          "state": {
            "_model_module": "@jupyter-widgets/base",
            "_model_module_version": "1.2.0",
            "_model_name": "LayoutModel",
            "_view_count": null,
            "_view_module": "@jupyter-widgets/base",
            "_view_module_version": "1.2.0",
            "_view_name": "LayoutView",
            "align_content": null,
            "align_items": null,
            "align_self": null,
            "border": null,
            "bottom": null,
            "display": null,
            "flex": null,
            "flex_flow": null,
            "grid_area": null,
            "grid_auto_columns": null,
            "grid_auto_flow": null,
            "grid_auto_rows": null,
            "grid_column": null,
            "grid_gap": null,
            "grid_row": null,
            "grid_template_areas": null,
            "grid_template_columns": null,
            "grid_template_rows": null,
            "height": null,
            "justify_content": null,
            "justify_items": null,
            "left": null,
            "margin": null,
            "max_height": null,
            "max_width": null,
            "min_height": null,
            "min_width": null,
            "object_fit": null,
            "object_position": null,
            "order": null,
            "overflow": null,
            "overflow_x": null,
            "overflow_y": null,
            "padding": null,
            "right": null,
            "top": null,
            "visibility": null,
            "width": null
          }
        },
        "63e698e99932476a9682c0d13e1bfe97": {
          "model_module": "@jupyter-widgets/controls",
          "model_name": "ProgressStyleModel",
          "model_module_version": "1.5.0",
          "state": {
            "_model_module": "@jupyter-widgets/controls",
            "_model_module_version": "1.5.0",
            "_model_name": "ProgressStyleModel",
            "_view_count": null,
            "_view_module": "@jupyter-widgets/base",
            "_view_module_version": "1.2.0",
            "_view_name": "StyleView",
            "bar_color": null,
            "description_width": ""
          }
        },
        "5139fa06a59445f2aeb91b46025931e9": {
          "model_module": "@jupyter-widgets/base",
          "model_name": "LayoutModel",
          "model_module_version": "1.2.0",
          "state": {
            "_model_module": "@jupyter-widgets/base",
            "_model_module_version": "1.2.0",
            "_model_name": "LayoutModel",
            "_view_count": null,
            "_view_module": "@jupyter-widgets/base",
            "_view_module_version": "1.2.0",
            "_view_name": "LayoutView",
            "align_content": null,
            "align_items": null,
            "align_self": null,
            "border": null,
            "bottom": null,
            "display": null,
            "flex": null,
            "flex_flow": null,
            "grid_area": null,
            "grid_auto_columns": null,
            "grid_auto_flow": null,
            "grid_auto_rows": null,
            "grid_column": null,
            "grid_gap": null,
            "grid_row": null,
            "grid_template_areas": null,
            "grid_template_columns": null,
            "grid_template_rows": null,
            "height": null,
            "justify_content": null,
            "justify_items": null,
            "left": null,
            "margin": null,
            "max_height": null,
            "max_width": null,
            "min_height": null,
            "min_width": null,
            "object_fit": null,
            "object_position": null,
            "order": null,
            "overflow": null,
            "overflow_x": null,
            "overflow_y": null,
            "padding": null,
            "right": null,
            "top": null,
            "visibility": null,
            "width": null
          }
        },
        "7f4714e2b1464b4f9a30e1bb689fb1dd": {
          "model_module": "@jupyter-widgets/controls",
          "model_name": "DescriptionStyleModel",
          "model_module_version": "1.5.0",
          "state": {
            "_model_module": "@jupyter-widgets/controls",
            "_model_module_version": "1.5.0",
            "_model_name": "DescriptionStyleModel",
            "_view_count": null,
            "_view_module": "@jupyter-widgets/base",
            "_view_module_version": "1.2.0",
            "_view_name": "StyleView",
            "description_width": ""
          }
        },
        "9571865cc2264292adab9b3643e85f31": {
          "model_module": "@jupyter-widgets/controls",
          "model_name": "HBoxModel",
          "model_module_version": "1.5.0",
          "state": {
            "_dom_classes": [],
            "_model_module": "@jupyter-widgets/controls",
            "_model_module_version": "1.5.0",
            "_model_name": "HBoxModel",
            "_view_count": null,
            "_view_module": "@jupyter-widgets/controls",
            "_view_module_version": "1.5.0",
            "_view_name": "HBoxView",
            "box_style": "",
            "children": [
              "IPY_MODEL_ef33ae3ab8c54d9f9e5048b4be863d9c",
              "IPY_MODEL_697fcdfc60384920b216fa515bd981b9",
              "IPY_MODEL_f8c53d296ca0468988d848bed8d6282f"
            ],
            "layout": "IPY_MODEL_b6cc3af681954c238d9c186a6b48daf7"
          }
        },
        "ef33ae3ab8c54d9f9e5048b4be863d9c": {
          "model_module": "@jupyter-widgets/controls",
          "model_name": "HTMLModel",
          "model_module_version": "1.5.0",
          "state": {
            "_dom_classes": [],
            "_model_module": "@jupyter-widgets/controls",
            "_model_module_version": "1.5.0",
            "_model_name": "HTMLModel",
            "_view_count": null,
            "_view_module": "@jupyter-widgets/controls",
            "_view_module_version": "1.5.0",
            "_view_name": "HTMLView",
            "description": "",
            "description_tooltip": null,
            "layout": "IPY_MODEL_fca487e017164f2c95651302e89feb01",
            "placeholder": "​",
            "style": "IPY_MODEL_a1819fd23ad34cf4861e30ad2de2f6b6",
            "value": "Generating test examples...:  98%"
          }
        },
        "697fcdfc60384920b216fa515bd981b9": {
          "model_module": "@jupyter-widgets/controls",
          "model_name": "FloatProgressModel",
          "model_module_version": "1.5.0",
          "state": {
            "_dom_classes": [],
            "_model_module": "@jupyter-widgets/controls",
            "_model_module_version": "1.5.0",
            "_model_name": "FloatProgressModel",
            "_view_count": null,
            "_view_module": "@jupyter-widgets/controls",
            "_view_module_version": "1.5.0",
            "_view_name": "ProgressView",
            "bar_style": "",
            "description": "",
            "description_tooltip": null,
            "layout": "IPY_MODEL_dcb6aee7add444e19d446316219150db",
            "max": 25000,
            "min": 0,
            "orientation": "horizontal",
            "style": "IPY_MODEL_d99183ebec2d4fed8723e8606d5d4422",
            "value": 25000
          }
        },
        "f8c53d296ca0468988d848bed8d6282f": {
          "model_module": "@jupyter-widgets/controls",
          "model_name": "HTMLModel",
          "model_module_version": "1.5.0",
          "state": {
            "_dom_classes": [],
            "_model_module": "@jupyter-widgets/controls",
            "_model_module_version": "1.5.0",
            "_model_name": "HTMLModel",
            "_view_count": null,
            "_view_module": "@jupyter-widgets/controls",
            "_view_module_version": "1.5.0",
            "_view_name": "HTMLView",
            "description": "",
            "description_tooltip": null,
            "layout": "IPY_MODEL_d8a725fa5ed94d13baf263ec48b42a98",
            "placeholder": "​",
            "style": "IPY_MODEL_23c7272a72dd4d07801aef9eac4b8d77",
            "value": " 24622/25000 [00:06&lt;00:00, 4611.05 examples/s]"
          }
        },
        "b6cc3af681954c238d9c186a6b48daf7": {
          "model_module": "@jupyter-widgets/base",
          "model_name": "LayoutModel",
          "model_module_version": "1.2.0",
          "state": {
            "_model_module": "@jupyter-widgets/base",
            "_model_module_version": "1.2.0",
            "_model_name": "LayoutModel",
            "_view_count": null,
            "_view_module": "@jupyter-widgets/base",
            "_view_module_version": "1.2.0",
            "_view_name": "LayoutView",
            "align_content": null,
            "align_items": null,
            "align_self": null,
            "border": null,
            "bottom": null,
            "display": null,
            "flex": null,
            "flex_flow": null,
            "grid_area": null,
            "grid_auto_columns": null,
            "grid_auto_flow": null,
            "grid_auto_rows": null,
            "grid_column": null,
            "grid_gap": null,
            "grid_row": null,
            "grid_template_areas": null,
            "grid_template_columns": null,
            "grid_template_rows": null,
            "height": null,
            "justify_content": null,
            "justify_items": null,
            "left": null,
            "margin": null,
            "max_height": null,
            "max_width": null,
            "min_height": null,
            "min_width": null,
            "object_fit": null,
            "object_position": null,
            "order": null,
            "overflow": null,
            "overflow_x": null,
            "overflow_y": null,
            "padding": null,
            "right": null,
            "top": null,
            "visibility": "hidden",
            "width": null
          }
        },
        "fca487e017164f2c95651302e89feb01": {
          "model_module": "@jupyter-widgets/base",
          "model_name": "LayoutModel",
          "model_module_version": "1.2.0",
          "state": {
            "_model_module": "@jupyter-widgets/base",
            "_model_module_version": "1.2.0",
            "_model_name": "LayoutModel",
            "_view_count": null,
            "_view_module": "@jupyter-widgets/base",
            "_view_module_version": "1.2.0",
            "_view_name": "LayoutView",
            "align_content": null,
            "align_items": null,
            "align_self": null,
            "border": null,
            "bottom": null,
            "display": null,
            "flex": null,
            "flex_flow": null,
            "grid_area": null,
            "grid_auto_columns": null,
            "grid_auto_flow": null,
            "grid_auto_rows": null,
            "grid_column": null,
            "grid_gap": null,
            "grid_row": null,
            "grid_template_areas": null,
            "grid_template_columns": null,
            "grid_template_rows": null,
            "height": null,
            "justify_content": null,
            "justify_items": null,
            "left": null,
            "margin": null,
            "max_height": null,
            "max_width": null,
            "min_height": null,
            "min_width": null,
            "object_fit": null,
            "object_position": null,
            "order": null,
            "overflow": null,
            "overflow_x": null,
            "overflow_y": null,
            "padding": null,
            "right": null,
            "top": null,
            "visibility": null,
            "width": null
          }
        },
        "a1819fd23ad34cf4861e30ad2de2f6b6": {
          "model_module": "@jupyter-widgets/controls",
          "model_name": "DescriptionStyleModel",
          "model_module_version": "1.5.0",
          "state": {
            "_model_module": "@jupyter-widgets/controls",
            "_model_module_version": "1.5.0",
            "_model_name": "DescriptionStyleModel",
            "_view_count": null,
            "_view_module": "@jupyter-widgets/base",
            "_view_module_version": "1.2.0",
            "_view_name": "StyleView",
            "description_width": ""
          }
        },
        "dcb6aee7add444e19d446316219150db": {
          "model_module": "@jupyter-widgets/base",
          "model_name": "LayoutModel",
          "model_module_version": "1.2.0",
          "state": {
            "_model_module": "@jupyter-widgets/base",
            "_model_module_version": "1.2.0",
            "_model_name": "LayoutModel",
            "_view_count": null,
            "_view_module": "@jupyter-widgets/base",
            "_view_module_version": "1.2.0",
            "_view_name": "LayoutView",
            "align_content": null,
            "align_items": null,
            "align_self": null,
            "border": null,
            "bottom": null,
            "display": null,
            "flex": null,
            "flex_flow": null,
            "grid_area": null,
            "grid_auto_columns": null,
            "grid_auto_flow": null,
            "grid_auto_rows": null,
            "grid_column": null,
            "grid_gap": null,
            "grid_row": null,
            "grid_template_areas": null,
            "grid_template_columns": null,
            "grid_template_rows": null,
            "height": null,
            "justify_content": null,
            "justify_items": null,
            "left": null,
            "margin": null,
            "max_height": null,
            "max_width": null,
            "min_height": null,
            "min_width": null,
            "object_fit": null,
            "object_position": null,
            "order": null,
            "overflow": null,
            "overflow_x": null,
            "overflow_y": null,
            "padding": null,
            "right": null,
            "top": null,
            "visibility": null,
            "width": null
          }
        },
        "d99183ebec2d4fed8723e8606d5d4422": {
          "model_module": "@jupyter-widgets/controls",
          "model_name": "ProgressStyleModel",
          "model_module_version": "1.5.0",
          "state": {
            "_model_module": "@jupyter-widgets/controls",
            "_model_module_version": "1.5.0",
            "_model_name": "ProgressStyleModel",
            "_view_count": null,
            "_view_module": "@jupyter-widgets/base",
            "_view_module_version": "1.2.0",
            "_view_name": "StyleView",
            "bar_color": null,
            "description_width": ""
          }
        },
        "d8a725fa5ed94d13baf263ec48b42a98": {
          "model_module": "@jupyter-widgets/base",
          "model_name": "LayoutModel",
          "model_module_version": "1.2.0",
          "state": {
            "_model_module": "@jupyter-widgets/base",
            "_model_module_version": "1.2.0",
            "_model_name": "LayoutModel",
            "_view_count": null,
            "_view_module": "@jupyter-widgets/base",
            "_view_module_version": "1.2.0",
            "_view_name": "LayoutView",
            "align_content": null,
            "align_items": null,
            "align_self": null,
            "border": null,
            "bottom": null,
            "display": null,
            "flex": null,
            "flex_flow": null,
            "grid_area": null,
            "grid_auto_columns": null,
            "grid_auto_flow": null,
            "grid_auto_rows": null,
            "grid_column": null,
            "grid_gap": null,
            "grid_row": null,
            "grid_template_areas": null,
            "grid_template_columns": null,
            "grid_template_rows": null,
            "height": null,
            "justify_content": null,
            "justify_items": null,
            "left": null,
            "margin": null,
            "max_height": null,
            "max_width": null,
            "min_height": null,
            "min_width": null,
            "object_fit": null,
            "object_position": null,
            "order": null,
            "overflow": null,
            "overflow_x": null,
            "overflow_y": null,
            "padding": null,
            "right": null,
            "top": null,
            "visibility": null,
            "width": null
          }
        },
        "23c7272a72dd4d07801aef9eac4b8d77": {
          "model_module": "@jupyter-widgets/controls",
          "model_name": "DescriptionStyleModel",
          "model_module_version": "1.5.0",
          "state": {
            "_model_module": "@jupyter-widgets/controls",
            "_model_module_version": "1.5.0",
            "_model_name": "DescriptionStyleModel",
            "_view_count": null,
            "_view_module": "@jupyter-widgets/base",
            "_view_module_version": "1.2.0",
            "_view_name": "StyleView",
            "description_width": ""
          }
        },
        "107367047f1a4b8fb73a846bf66445b3": {
          "model_module": "@jupyter-widgets/controls",
          "model_name": "HBoxModel",
          "model_module_version": "1.5.0",
          "state": {
            "_dom_classes": [],
            "_model_module": "@jupyter-widgets/controls",
            "_model_module_version": "1.5.0",
            "_model_name": "HBoxModel",
            "_view_count": null,
            "_view_module": "@jupyter-widgets/controls",
            "_view_module_version": "1.5.0",
            "_view_name": "HBoxView",
            "box_style": "",
            "children": [
              "IPY_MODEL_4f13c3f445f5404aaead5f4468794f7f",
              "IPY_MODEL_eea9022c90e64ba7b0f43c1bdacc32cf",
              "IPY_MODEL_45acb1d851384efcab4cf514cb0455f1"
            ],
            "layout": "IPY_MODEL_b692d4f9526f484d80b02187cd9bf0b5"
          }
        },
        "4f13c3f445f5404aaead5f4468794f7f": {
          "model_module": "@jupyter-widgets/controls",
          "model_name": "HTMLModel",
          "model_module_version": "1.5.0",
          "state": {
            "_dom_classes": [],
            "_model_module": "@jupyter-widgets/controls",
            "_model_module_version": "1.5.0",
            "_model_name": "HTMLModel",
            "_view_count": null,
            "_view_module": "@jupyter-widgets/controls",
            "_view_module_version": "1.5.0",
            "_view_name": "HTMLView",
            "description": "",
            "description_tooltip": null,
            "layout": "IPY_MODEL_37d576cab6a14a0eb7e4fb737a3d7a20",
            "placeholder": "​",
            "style": "IPY_MODEL_dcd0fec8983e40a8b3909e7458efb5ab",
            "value": "Shuffling /root/tensorflow_datasets/imdb_reviews/plain_text/1.0.0.incomplete9UOAEI/imdb_reviews-test.tfrecord*...:  83%"
          }
        },
        "eea9022c90e64ba7b0f43c1bdacc32cf": {
          "model_module": "@jupyter-widgets/controls",
          "model_name": "FloatProgressModel",
          "model_module_version": "1.5.0",
          "state": {
            "_dom_classes": [],
            "_model_module": "@jupyter-widgets/controls",
            "_model_module_version": "1.5.0",
            "_model_name": "FloatProgressModel",
            "_view_count": null,
            "_view_module": "@jupyter-widgets/controls",
            "_view_module_version": "1.5.0",
            "_view_name": "ProgressView",
            "bar_style": "",
            "description": "",
            "description_tooltip": null,
            "layout": "IPY_MODEL_47982ad9e72f4c0a9378d6de7e8a74de",
            "max": 25000,
            "min": 0,
            "orientation": "horizontal",
            "style": "IPY_MODEL_45068779063f4f10b42b7217513d0d44",
            "value": 25000
          }
        },
        "45acb1d851384efcab4cf514cb0455f1": {
          "model_module": "@jupyter-widgets/controls",
          "model_name": "HTMLModel",
          "model_module_version": "1.5.0",
          "state": {
            "_dom_classes": [],
            "_model_module": "@jupyter-widgets/controls",
            "_model_module_version": "1.5.0",
            "_model_name": "HTMLModel",
            "_view_count": null,
            "_view_module": "@jupyter-widgets/controls",
            "_view_module_version": "1.5.0",
            "_view_name": "HTMLView",
            "description": "",
            "description_tooltip": null,
            "layout": "IPY_MODEL_3460adabc1514cd9a3ebc80d3bdec54f",
            "placeholder": "​",
            "style": "IPY_MODEL_d54c5a6263ac4175a9941e24faee9d4f",
            "value": " 20846/25000 [00:00&lt;00:00, 115540.67 examples/s]"
          }
        },
        "b692d4f9526f484d80b02187cd9bf0b5": {
          "model_module": "@jupyter-widgets/base",
          "model_name": "LayoutModel",
          "model_module_version": "1.2.0",
          "state": {
            "_model_module": "@jupyter-widgets/base",
            "_model_module_version": "1.2.0",
            "_model_name": "LayoutModel",
            "_view_count": null,
            "_view_module": "@jupyter-widgets/base",
            "_view_module_version": "1.2.0",
            "_view_name": "LayoutView",
            "align_content": null,
            "align_items": null,
            "align_self": null,
            "border": null,
            "bottom": null,
            "display": null,
            "flex": null,
            "flex_flow": null,
            "grid_area": null,
            "grid_auto_columns": null,
            "grid_auto_flow": null,
            "grid_auto_rows": null,
            "grid_column": null,
            "grid_gap": null,
            "grid_row": null,
            "grid_template_areas": null,
            "grid_template_columns": null,
            "grid_template_rows": null,
            "height": null,
            "justify_content": null,
            "justify_items": null,
            "left": null,
            "margin": null,
            "max_height": null,
            "max_width": null,
            "min_height": null,
            "min_width": null,
            "object_fit": null,
            "object_position": null,
            "order": null,
            "overflow": null,
            "overflow_x": null,
            "overflow_y": null,
            "padding": null,
            "right": null,
            "top": null,
            "visibility": "hidden",
            "width": null
          }
        },
        "37d576cab6a14a0eb7e4fb737a3d7a20": {
          "model_module": "@jupyter-widgets/base",
          "model_name": "LayoutModel",
          "model_module_version": "1.2.0",
          "state": {
            "_model_module": "@jupyter-widgets/base",
            "_model_module_version": "1.2.0",
            "_model_name": "LayoutModel",
            "_view_count": null,
            "_view_module": "@jupyter-widgets/base",
            "_view_module_version": "1.2.0",
            "_view_name": "LayoutView",
            "align_content": null,
            "align_items": null,
            "align_self": null,
            "border": null,
            "bottom": null,
            "display": null,
            "flex": null,
            "flex_flow": null,
            "grid_area": null,
            "grid_auto_columns": null,
            "grid_auto_flow": null,
            "grid_auto_rows": null,
            "grid_column": null,
            "grid_gap": null,
            "grid_row": null,
            "grid_template_areas": null,
            "grid_template_columns": null,
            "grid_template_rows": null,
            "height": null,
            "justify_content": null,
            "justify_items": null,
            "left": null,
            "margin": null,
            "max_height": null,
            "max_width": null,
            "min_height": null,
            "min_width": null,
            "object_fit": null,
            "object_position": null,
            "order": null,
            "overflow": null,
            "overflow_x": null,
            "overflow_y": null,
            "padding": null,
            "right": null,
            "top": null,
            "visibility": null,
            "width": null
          }
        },
        "dcd0fec8983e40a8b3909e7458efb5ab": {
          "model_module": "@jupyter-widgets/controls",
          "model_name": "DescriptionStyleModel",
          "model_module_version": "1.5.0",
          "state": {
            "_model_module": "@jupyter-widgets/controls",
            "_model_module_version": "1.5.0",
            "_model_name": "DescriptionStyleModel",
            "_view_count": null,
            "_view_module": "@jupyter-widgets/base",
            "_view_module_version": "1.2.0",
            "_view_name": "StyleView",
            "description_width": ""
          }
        },
        "47982ad9e72f4c0a9378d6de7e8a74de": {
          "model_module": "@jupyter-widgets/base",
          "model_name": "LayoutModel",
          "model_module_version": "1.2.0",
          "state": {
            "_model_module": "@jupyter-widgets/base",
            "_model_module_version": "1.2.0",
            "_model_name": "LayoutModel",
            "_view_count": null,
            "_view_module": "@jupyter-widgets/base",
            "_view_module_version": "1.2.0",
            "_view_name": "LayoutView",
            "align_content": null,
            "align_items": null,
            "align_self": null,
            "border": null,
            "bottom": null,
            "display": null,
            "flex": null,
            "flex_flow": null,
            "grid_area": null,
            "grid_auto_columns": null,
            "grid_auto_flow": null,
            "grid_auto_rows": null,
            "grid_column": null,
            "grid_gap": null,
            "grid_row": null,
            "grid_template_areas": null,
            "grid_template_columns": null,
            "grid_template_rows": null,
            "height": null,
            "justify_content": null,
            "justify_items": null,
            "left": null,
            "margin": null,
            "max_height": null,
            "max_width": null,
            "min_height": null,
            "min_width": null,
            "object_fit": null,
            "object_position": null,
            "order": null,
            "overflow": null,
            "overflow_x": null,
            "overflow_y": null,
            "padding": null,
            "right": null,
            "top": null,
            "visibility": null,
            "width": null
          }
        },
        "45068779063f4f10b42b7217513d0d44": {
          "model_module": "@jupyter-widgets/controls",
          "model_name": "ProgressStyleModel",
          "model_module_version": "1.5.0",
          "state": {
            "_model_module": "@jupyter-widgets/controls",
            "_model_module_version": "1.5.0",
            "_model_name": "ProgressStyleModel",
            "_view_count": null,
            "_view_module": "@jupyter-widgets/base",
            "_view_module_version": "1.2.0",
            "_view_name": "StyleView",
            "bar_color": null,
            "description_width": ""
          }
        },
        "3460adabc1514cd9a3ebc80d3bdec54f": {
          "model_module": "@jupyter-widgets/base",
          "model_name": "LayoutModel",
          "model_module_version": "1.2.0",
          "state": {
            "_model_module": "@jupyter-widgets/base",
            "_model_module_version": "1.2.0",
            "_model_name": "LayoutModel",
            "_view_count": null,
            "_view_module": "@jupyter-widgets/base",
            "_view_module_version": "1.2.0",
            "_view_name": "LayoutView",
            "align_content": null,
            "align_items": null,
            "align_self": null,
            "border": null,
            "bottom": null,
            "display": null,
            "flex": null,
            "flex_flow": null,
            "grid_area": null,
            "grid_auto_columns": null,
            "grid_auto_flow": null,
            "grid_auto_rows": null,
            "grid_column": null,
            "grid_gap": null,
            "grid_row": null,
            "grid_template_areas": null,
            "grid_template_columns": null,
            "grid_template_rows": null,
            "height": null,
            "justify_content": null,
            "justify_items": null,
            "left": null,
            "margin": null,
            "max_height": null,
            "max_width": null,
            "min_height": null,
            "min_width": null,
            "object_fit": null,
            "object_position": null,
            "order": null,
            "overflow": null,
            "overflow_x": null,
            "overflow_y": null,
            "padding": null,
            "right": null,
            "top": null,
            "visibility": null,
            "width": null
          }
        },
        "d54c5a6263ac4175a9941e24faee9d4f": {
          "model_module": "@jupyter-widgets/controls",
          "model_name": "DescriptionStyleModel",
          "model_module_version": "1.5.0",
          "state": {
            "_model_module": "@jupyter-widgets/controls",
            "_model_module_version": "1.5.0",
            "_model_name": "DescriptionStyleModel",
            "_view_count": null,
            "_view_module": "@jupyter-widgets/base",
            "_view_module_version": "1.2.0",
            "_view_name": "StyleView",
            "description_width": ""
          }
        },
        "ab36a1ba6bae407ca99ab338c4e100be": {
          "model_module": "@jupyter-widgets/controls",
          "model_name": "HBoxModel",
          "model_module_version": "1.5.0",
          "state": {
            "_dom_classes": [],
            "_model_module": "@jupyter-widgets/controls",
            "_model_module_version": "1.5.0",
            "_model_name": "HBoxModel",
            "_view_count": null,
            "_view_module": "@jupyter-widgets/controls",
            "_view_module_version": "1.5.0",
            "_view_name": "HBoxView",
            "box_style": "",
            "children": [
              "IPY_MODEL_14fb9d1e9e4b4fa0955abe20cd79b01e",
              "IPY_MODEL_caa8bfe7725d4258ad26d604ad093bb9",
              "IPY_MODEL_9c1d213669954fc6a5ed96b5558eec66"
            ],
            "layout": "IPY_MODEL_f22ee8fdcb194213bc5f19b728cc45e5"
          }
        },
        "14fb9d1e9e4b4fa0955abe20cd79b01e": {
          "model_module": "@jupyter-widgets/controls",
          "model_name": "HTMLModel",
          "model_module_version": "1.5.0",
          "state": {
            "_dom_classes": [],
            "_model_module": "@jupyter-widgets/controls",
            "_model_module_version": "1.5.0",
            "_model_name": "HTMLModel",
            "_view_count": null,
            "_view_module": "@jupyter-widgets/controls",
            "_view_module_version": "1.5.0",
            "_view_name": "HTMLView",
            "description": "",
            "description_tooltip": null,
            "layout": "IPY_MODEL_987f0dbc49d643f9a9a4755fbe14e179",
            "placeholder": "​",
            "style": "IPY_MODEL_c9a5befafa8c49f6bcbeaa1949d35eec",
            "value": "Generating unsupervised examples...:  99%"
          }
        },
        "caa8bfe7725d4258ad26d604ad093bb9": {
          "model_module": "@jupyter-widgets/controls",
          "model_name": "FloatProgressModel",
          "model_module_version": "1.5.0",
          "state": {
            "_dom_classes": [],
            "_model_module": "@jupyter-widgets/controls",
            "_model_module_version": "1.5.0",
            "_model_name": "FloatProgressModel",
            "_view_count": null,
            "_view_module": "@jupyter-widgets/controls",
            "_view_module_version": "1.5.0",
            "_view_name": "ProgressView",
            "bar_style": "",
            "description": "",
            "description_tooltip": null,
            "layout": "IPY_MODEL_c457656571174411a697bd7f6fb458e3",
            "max": 50000,
            "min": 0,
            "orientation": "horizontal",
            "style": "IPY_MODEL_3f92f8f14ed343fb9dfd829ca6c485bd",
            "value": 50000
          }
        },
        "9c1d213669954fc6a5ed96b5558eec66": {
          "model_module": "@jupyter-widgets/controls",
          "model_name": "HTMLModel",
          "model_module_version": "1.5.0",
          "state": {
            "_dom_classes": [],
            "_model_module": "@jupyter-widgets/controls",
            "_model_module_version": "1.5.0",
            "_model_name": "HTMLModel",
            "_view_count": null,
            "_view_module": "@jupyter-widgets/controls",
            "_view_module_version": "1.5.0",
            "_view_name": "HTMLView",
            "description": "",
            "description_tooltip": null,
            "layout": "IPY_MODEL_1bc909bb34dc492f98ff2b6bb1960af2",
            "placeholder": "​",
            "style": "IPY_MODEL_763743d122dc411499cc304bd90bbf50",
            "value": " 49609/50000 [00:17&lt;00:00, 4239.38 examples/s]"
          }
        },
        "f22ee8fdcb194213bc5f19b728cc45e5": {
          "model_module": "@jupyter-widgets/base",
          "model_name": "LayoutModel",
          "model_module_version": "1.2.0",
          "state": {
            "_model_module": "@jupyter-widgets/base",
            "_model_module_version": "1.2.0",
            "_model_name": "LayoutModel",
            "_view_count": null,
            "_view_module": "@jupyter-widgets/base",
            "_view_module_version": "1.2.0",
            "_view_name": "LayoutView",
            "align_content": null,
            "align_items": null,
            "align_self": null,
            "border": null,
            "bottom": null,
            "display": null,
            "flex": null,
            "flex_flow": null,
            "grid_area": null,
            "grid_auto_columns": null,
            "grid_auto_flow": null,
            "grid_auto_rows": null,
            "grid_column": null,
            "grid_gap": null,
            "grid_row": null,
            "grid_template_areas": null,
            "grid_template_columns": null,
            "grid_template_rows": null,
            "height": null,
            "justify_content": null,
            "justify_items": null,
            "left": null,
            "margin": null,
            "max_height": null,
            "max_width": null,
            "min_height": null,
            "min_width": null,
            "object_fit": null,
            "object_position": null,
            "order": null,
            "overflow": null,
            "overflow_x": null,
            "overflow_y": null,
            "padding": null,
            "right": null,
            "top": null,
            "visibility": "hidden",
            "width": null
          }
        },
        "987f0dbc49d643f9a9a4755fbe14e179": {
          "model_module": "@jupyter-widgets/base",
          "model_name": "LayoutModel",
          "model_module_version": "1.2.0",
          "state": {
            "_model_module": "@jupyter-widgets/base",
            "_model_module_version": "1.2.0",
            "_model_name": "LayoutModel",
            "_view_count": null,
            "_view_module": "@jupyter-widgets/base",
            "_view_module_version": "1.2.0",
            "_view_name": "LayoutView",
            "align_content": null,
            "align_items": null,
            "align_self": null,
            "border": null,
            "bottom": null,
            "display": null,
            "flex": null,
            "flex_flow": null,
            "grid_area": null,
            "grid_auto_columns": null,
            "grid_auto_flow": null,
            "grid_auto_rows": null,
            "grid_column": null,
            "grid_gap": null,
            "grid_row": null,
            "grid_template_areas": null,
            "grid_template_columns": null,
            "grid_template_rows": null,
            "height": null,
            "justify_content": null,
            "justify_items": null,
            "left": null,
            "margin": null,
            "max_height": null,
            "max_width": null,
            "min_height": null,
            "min_width": null,
            "object_fit": null,
            "object_position": null,
            "order": null,
            "overflow": null,
            "overflow_x": null,
            "overflow_y": null,
            "padding": null,
            "right": null,
            "top": null,
            "visibility": null,
            "width": null
          }
        },
        "c9a5befafa8c49f6bcbeaa1949d35eec": {
          "model_module": "@jupyter-widgets/controls",
          "model_name": "DescriptionStyleModel",
          "model_module_version": "1.5.0",
          "state": {
            "_model_module": "@jupyter-widgets/controls",
            "_model_module_version": "1.5.0",
            "_model_name": "DescriptionStyleModel",
            "_view_count": null,
            "_view_module": "@jupyter-widgets/base",
            "_view_module_version": "1.2.0",
            "_view_name": "StyleView",
            "description_width": ""
          }
        },
        "c457656571174411a697bd7f6fb458e3": {
          "model_module": "@jupyter-widgets/base",
          "model_name": "LayoutModel",
          "model_module_version": "1.2.0",
          "state": {
            "_model_module": "@jupyter-widgets/base",
            "_model_module_version": "1.2.0",
            "_model_name": "LayoutModel",
            "_view_count": null,
            "_view_module": "@jupyter-widgets/base",
            "_view_module_version": "1.2.0",
            "_view_name": "LayoutView",
            "align_content": null,
            "align_items": null,
            "align_self": null,
            "border": null,
            "bottom": null,
            "display": null,
            "flex": null,
            "flex_flow": null,
            "grid_area": null,
            "grid_auto_columns": null,
            "grid_auto_flow": null,
            "grid_auto_rows": null,
            "grid_column": null,
            "grid_gap": null,
            "grid_row": null,
            "grid_template_areas": null,
            "grid_template_columns": null,
            "grid_template_rows": null,
            "height": null,
            "justify_content": null,
            "justify_items": null,
            "left": null,
            "margin": null,
            "max_height": null,
            "max_width": null,
            "min_height": null,
            "min_width": null,
            "object_fit": null,
            "object_position": null,
            "order": null,
            "overflow": null,
            "overflow_x": null,
            "overflow_y": null,
            "padding": null,
            "right": null,
            "top": null,
            "visibility": null,
            "width": null
          }
        },
        "3f92f8f14ed343fb9dfd829ca6c485bd": {
          "model_module": "@jupyter-widgets/controls",
          "model_name": "ProgressStyleModel",
          "model_module_version": "1.5.0",
          "state": {
            "_model_module": "@jupyter-widgets/controls",
            "_model_module_version": "1.5.0",
            "_model_name": "ProgressStyleModel",
            "_view_count": null,
            "_view_module": "@jupyter-widgets/base",
            "_view_module_version": "1.2.0",
            "_view_name": "StyleView",
            "bar_color": null,
            "description_width": ""
          }
        },
        "1bc909bb34dc492f98ff2b6bb1960af2": {
          "model_module": "@jupyter-widgets/base",
          "model_name": "LayoutModel",
          "model_module_version": "1.2.0",
          "state": {
            "_model_module": "@jupyter-widgets/base",
            "_model_module_version": "1.2.0",
            "_model_name": "LayoutModel",
            "_view_count": null,
            "_view_module": "@jupyter-widgets/base",
            "_view_module_version": "1.2.0",
            "_view_name": "LayoutView",
            "align_content": null,
            "align_items": null,
            "align_self": null,
            "border": null,
            "bottom": null,
            "display": null,
            "flex": null,
            "flex_flow": null,
            "grid_area": null,
            "grid_auto_columns": null,
            "grid_auto_flow": null,
            "grid_auto_rows": null,
            "grid_column": null,
            "grid_gap": null,
            "grid_row": null,
            "grid_template_areas": null,
            "grid_template_columns": null,
            "grid_template_rows": null,
            "height": null,
            "justify_content": null,
            "justify_items": null,
            "left": null,
            "margin": null,
            "max_height": null,
            "max_width": null,
            "min_height": null,
            "min_width": null,
            "object_fit": null,
            "object_position": null,
            "order": null,
            "overflow": null,
            "overflow_x": null,
            "overflow_y": null,
            "padding": null,
            "right": null,
            "top": null,
            "visibility": null,
            "width": null
          }
        },
        "763743d122dc411499cc304bd90bbf50": {
          "model_module": "@jupyter-widgets/controls",
          "model_name": "DescriptionStyleModel",
          "model_module_version": "1.5.0",
          "state": {
            "_model_module": "@jupyter-widgets/controls",
            "_model_module_version": "1.5.0",
            "_model_name": "DescriptionStyleModel",
            "_view_count": null,
            "_view_module": "@jupyter-widgets/base",
            "_view_module_version": "1.2.0",
            "_view_name": "StyleView",
            "description_width": ""
          }
        },
        "6ba943f777434733b732b13a36a157b6": {
          "model_module": "@jupyter-widgets/controls",
          "model_name": "HBoxModel",
          "model_module_version": "1.5.0",
          "state": {
            "_dom_classes": [],
            "_model_module": "@jupyter-widgets/controls",
            "_model_module_version": "1.5.0",
            "_model_name": "HBoxModel",
            "_view_count": null,
            "_view_module": "@jupyter-widgets/controls",
            "_view_module_version": "1.5.0",
            "_view_name": "HBoxView",
            "box_style": "",
            "children": [
              "IPY_MODEL_b62f80dc739b4ff8afa38aa8c3ecf8f7",
              "IPY_MODEL_e57363d3c5f140d4910df5a99c1238f4",
              "IPY_MODEL_18ce547d9e7849d5905e0ece2b82612f"
            ],
            "layout": "IPY_MODEL_a14e16ba91764448b35c2312d79b9bac"
          }
        },
        "b62f80dc739b4ff8afa38aa8c3ecf8f7": {
          "model_module": "@jupyter-widgets/controls",
          "model_name": "HTMLModel",
          "model_module_version": "1.5.0",
          "state": {
            "_dom_classes": [],
            "_model_module": "@jupyter-widgets/controls",
            "_model_module_version": "1.5.0",
            "_model_name": "HTMLModel",
            "_view_count": null,
            "_view_module": "@jupyter-widgets/controls",
            "_view_module_version": "1.5.0",
            "_view_name": "HTMLView",
            "description": "",
            "description_tooltip": null,
            "layout": "IPY_MODEL_95c1de6a94d345f4960464034eec0b59",
            "placeholder": "​",
            "style": "IPY_MODEL_97015943f84b43fa9f0693f6327dc3ff",
            "value": "Shuffling /root/tensorflow_datasets/imdb_reviews/plain_text/1.0.0.incomplete9UOAEI/imdb_reviews-unsupervised.tfrecord*...:  90%"
          }
        },
        "e57363d3c5f140d4910df5a99c1238f4": {
          "model_module": "@jupyter-widgets/controls",
          "model_name": "FloatProgressModel",
          "model_module_version": "1.5.0",
          "state": {
            "_dom_classes": [],
            "_model_module": "@jupyter-widgets/controls",
            "_model_module_version": "1.5.0",
            "_model_name": "FloatProgressModel",
            "_view_count": null,
            "_view_module": "@jupyter-widgets/controls",
            "_view_module_version": "1.5.0",
            "_view_name": "ProgressView",
            "bar_style": "",
            "description": "",
            "description_tooltip": null,
            "layout": "IPY_MODEL_e4cd8f8f87c447b1a35ee48ca20bad49",
            "max": 50000,
            "min": 0,
            "orientation": "horizontal",
            "style": "IPY_MODEL_a1c36d2564e94a4699f542049a6bd0c9",
            "value": 50000
          }
        },
        "18ce547d9e7849d5905e0ece2b82612f": {
          "model_module": "@jupyter-widgets/controls",
          "model_name": "HTMLModel",
          "model_module_version": "1.5.0",
          "state": {
            "_dom_classes": [],
            "_model_module": "@jupyter-widgets/controls",
            "_model_module_version": "1.5.0",
            "_model_name": "HTMLModel",
            "_view_count": null,
            "_view_module": "@jupyter-widgets/controls",
            "_view_module_version": "1.5.0",
            "_view_name": "HTMLView",
            "description": "",
            "description_tooltip": null,
            "layout": "IPY_MODEL_683443cb664a4740aca13e7b05e900af",
            "placeholder": "​",
            "style": "IPY_MODEL_538acbd4affb43ec8924b34c030ca840",
            "value": " 45189/50000 [00:00&lt;00:00, 172642.70 examples/s]"
          }
        },
        "a14e16ba91764448b35c2312d79b9bac": {
          "model_module": "@jupyter-widgets/base",
          "model_name": "LayoutModel",
          "model_module_version": "1.2.0",
          "state": {
            "_model_module": "@jupyter-widgets/base",
            "_model_module_version": "1.2.0",
            "_model_name": "LayoutModel",
            "_view_count": null,
            "_view_module": "@jupyter-widgets/base",
            "_view_module_version": "1.2.0",
            "_view_name": "LayoutView",
            "align_content": null,
            "align_items": null,
            "align_self": null,
            "border": null,
            "bottom": null,
            "display": null,
            "flex": null,
            "flex_flow": null,
            "grid_area": null,
            "grid_auto_columns": null,
            "grid_auto_flow": null,
            "grid_auto_rows": null,
            "grid_column": null,
            "grid_gap": null,
            "grid_row": null,
            "grid_template_areas": null,
            "grid_template_columns": null,
            "grid_template_rows": null,
            "height": null,
            "justify_content": null,
            "justify_items": null,
            "left": null,
            "margin": null,
            "max_height": null,
            "max_width": null,
            "min_height": null,
            "min_width": null,
            "object_fit": null,
            "object_position": null,
            "order": null,
            "overflow": null,
            "overflow_x": null,
            "overflow_y": null,
            "padding": null,
            "right": null,
            "top": null,
            "visibility": "hidden",
            "width": null
          }
        },
        "95c1de6a94d345f4960464034eec0b59": {
          "model_module": "@jupyter-widgets/base",
          "model_name": "LayoutModel",
          "model_module_version": "1.2.0",
          "state": {
            "_model_module": "@jupyter-widgets/base",
            "_model_module_version": "1.2.0",
            "_model_name": "LayoutModel",
            "_view_count": null,
            "_view_module": "@jupyter-widgets/base",
            "_view_module_version": "1.2.0",
            "_view_name": "LayoutView",
            "align_content": null,
            "align_items": null,
            "align_self": null,
            "border": null,
            "bottom": null,
            "display": null,
            "flex": null,
            "flex_flow": null,
            "grid_area": null,
            "grid_auto_columns": null,
            "grid_auto_flow": null,
            "grid_auto_rows": null,
            "grid_column": null,
            "grid_gap": null,
            "grid_row": null,
            "grid_template_areas": null,
            "grid_template_columns": null,
            "grid_template_rows": null,
            "height": null,
            "justify_content": null,
            "justify_items": null,
            "left": null,
            "margin": null,
            "max_height": null,
            "max_width": null,
            "min_height": null,
            "min_width": null,
            "object_fit": null,
            "object_position": null,
            "order": null,
            "overflow": null,
            "overflow_x": null,
            "overflow_y": null,
            "padding": null,
            "right": null,
            "top": null,
            "visibility": null,
            "width": null
          }
        },
        "97015943f84b43fa9f0693f6327dc3ff": {
          "model_module": "@jupyter-widgets/controls",
          "model_name": "DescriptionStyleModel",
          "model_module_version": "1.5.0",
          "state": {
            "_model_module": "@jupyter-widgets/controls",
            "_model_module_version": "1.5.0",
            "_model_name": "DescriptionStyleModel",
            "_view_count": null,
            "_view_module": "@jupyter-widgets/base",
            "_view_module_version": "1.2.0",
            "_view_name": "StyleView",
            "description_width": ""
          }
        },
        "e4cd8f8f87c447b1a35ee48ca20bad49": {
          "model_module": "@jupyter-widgets/base",
          "model_name": "LayoutModel",
          "model_module_version": "1.2.0",
          "state": {
            "_model_module": "@jupyter-widgets/base",
            "_model_module_version": "1.2.0",
            "_model_name": "LayoutModel",
            "_view_count": null,
            "_view_module": "@jupyter-widgets/base",
            "_view_module_version": "1.2.0",
            "_view_name": "LayoutView",
            "align_content": null,
            "align_items": null,
            "align_self": null,
            "border": null,
            "bottom": null,
            "display": null,
            "flex": null,
            "flex_flow": null,
            "grid_area": null,
            "grid_auto_columns": null,
            "grid_auto_flow": null,
            "grid_auto_rows": null,
            "grid_column": null,
            "grid_gap": null,
            "grid_row": null,
            "grid_template_areas": null,
            "grid_template_columns": null,
            "grid_template_rows": null,
            "height": null,
            "justify_content": null,
            "justify_items": null,
            "left": null,
            "margin": null,
            "max_height": null,
            "max_width": null,
            "min_height": null,
            "min_width": null,
            "object_fit": null,
            "object_position": null,
            "order": null,
            "overflow": null,
            "overflow_x": null,
            "overflow_y": null,
            "padding": null,
            "right": null,
            "top": null,
            "visibility": null,
            "width": null
          }
        },
        "a1c36d2564e94a4699f542049a6bd0c9": {
          "model_module": "@jupyter-widgets/controls",
          "model_name": "ProgressStyleModel",
          "model_module_version": "1.5.0",
          "state": {
            "_model_module": "@jupyter-widgets/controls",
            "_model_module_version": "1.5.0",
            "_model_name": "ProgressStyleModel",
            "_view_count": null,
            "_view_module": "@jupyter-widgets/base",
            "_view_module_version": "1.2.0",
            "_view_name": "StyleView",
            "bar_color": null,
            "description_width": ""
          }
        },
        "683443cb664a4740aca13e7b05e900af": {
          "model_module": "@jupyter-widgets/base",
          "model_name": "LayoutModel",
          "model_module_version": "1.2.0",
          "state": {
            "_model_module": "@jupyter-widgets/base",
            "_model_module_version": "1.2.0",
            "_model_name": "LayoutModel",
            "_view_count": null,
            "_view_module": "@jupyter-widgets/base",
            "_view_module_version": "1.2.0",
            "_view_name": "LayoutView",
            "align_content": null,
            "align_items": null,
            "align_self": null,
            "border": null,
            "bottom": null,
            "display": null,
            "flex": null,
            "flex_flow": null,
            "grid_area": null,
            "grid_auto_columns": null,
            "grid_auto_flow": null,
            "grid_auto_rows": null,
            "grid_column": null,
            "grid_gap": null,
            "grid_row": null,
            "grid_template_areas": null,
            "grid_template_columns": null,
            "grid_template_rows": null,
            "height": null,
            "justify_content": null,
            "justify_items": null,
            "left": null,
            "margin": null,
            "max_height": null,
            "max_width": null,
            "min_height": null,
            "min_width": null,
            "object_fit": null,
            "object_position": null,
            "order": null,
            "overflow": null,
            "overflow_x": null,
            "overflow_y": null,
            "padding": null,
            "right": null,
            "top": null,
            "visibility": null,
            "width": null
          }
        },
        "538acbd4affb43ec8924b34c030ca840": {
          "model_module": "@jupyter-widgets/controls",
          "model_name": "DescriptionStyleModel",
          "model_module_version": "1.5.0",
          "state": {
            "_model_module": "@jupyter-widgets/controls",
            "_model_module_version": "1.5.0",
            "_model_name": "DescriptionStyleModel",
            "_view_count": null,
            "_view_module": "@jupyter-widgets/base",
            "_view_module_version": "1.2.0",
            "_view_name": "StyleView",
            "description_width": ""
          }
        }
      }
    }
  },
  "cells": [
    {
      "cell_type": "markdown",
      "metadata": {
        "id": "view-in-github",
        "colab_type": "text"
      },
      "source": [
        "<a href=\"https://colab.research.google.com/github/The237/DeepLearningCourses/blob/main/05_Introduction_au_NLP.ipynb\" target=\"_parent\"><img src=\"https://colab.research.google.com/assets/colab-badge.svg\" alt=\"Open In Colab\"/></a>"
      ]
    },
    {
      "cell_type": "code",
      "execution_count": 1,
      "metadata": {
        "id": "HDr13AyJnBJp"
      },
      "outputs": [],
      "source": [
        "import tensorflow as tf"
      ]
    },
    {
      "cell_type": "code",
      "source": [
        "import tensorflow_datasets as tfds"
      ],
      "metadata": {
        "id": "pSNU7nZqoelB"
      },
      "execution_count": 2,
      "outputs": []
    },
    {
      "cell_type": "code",
      "source": [
        "imdb_sentences = []\n",
        "imdb_labels = []"
      ],
      "metadata": {
        "id": "2NQ-x5IZol-m"
      },
      "execution_count": 5,
      "outputs": []
    },
    {
      "cell_type": "code",
      "source": [
        "import random"
      ],
      "metadata": {
        "id": "trj4iePUqZnm"
      },
      "execution_count": 33,
      "outputs": []
    },
    {
      "cell_type": "code",
      "source": [
        "train_data = tfds.as_numpy(tfds.load('imdb_reviews', split=\"train\"))"
      ],
      "metadata": {
        "colab": {
          "base_uri": "https://localhost:8080/",
          "height": 137,
          "referenced_widgets": [
            "f32e85b923804b64a435ac335a57d5d8",
            "1cc9bcd3f79b435e8fde6311cf16413d",
            "8c1c468f780f4e41af48f05a6029f078",
            "57f4c69294b34b04af73a29b896a03f8",
            "7539ce998f564957bcddb766b113a548",
            "02a72ff439de45ce85e4fe778861fc3a",
            "662a8599c3cb4b73aafddc03bb2cefff",
            "6f7405e082294a4899a1b440bfad6cb3",
            "994973c7a55b4180a91d129c7cb84f86",
            "cae456716b01427b8896f191caecc9be",
            "e5e20c3c3e84418b9ef2a1fbbb022320",
            "bfab8c1ca36e4258b719aba52403ace7",
            "59e61a7840fe45b28c1f2a6d2462fffe",
            "1c0a344ffa9844a9bfbb8206a3462ec5",
            "116d682e008a4a4f844377a093d6202f",
            "1ba025466d9441fab39830c4aeaeaea4",
            "7338e686befc4c658b3b1f6df449bec0",
            "1d4c3a1ceba642c4ac896046cc9061bc",
            "817e5a3c085d4e288eb92165d4d2ddec",
            "d2496d4bec60487faf1990222b817c1f",
            "9528641b66f44c9a88348524c6f43cfd",
            "59c9780968a64e909dd732c5ad5cf777",
            "4f4af778df054b45a019f16c00dbcd1e",
            "d94891eb5d1343c58d2303b144206d46",
            "3614d53456864f0c91d509e9af4c9941",
            "017a5460a4174cce92670ed171bf0ba9",
            "d95af943154b47188559df110ca2ee78",
            "c9a4dc0afed34feea45bd8adbf54e2ef",
            "f61fe49b50d441a5b7975c1d2d599539",
            "77c04d0809ab4e59a4bd3351fe00e8e9",
            "dbf459e96b3f4e4fb7acba469df4e119",
            "67818b0473414a8ca01c92ff4fc91d33",
            "010f875aeb704ee3acbbcc3973c62118",
            "6924376a8f214e69a8c9e646ed61c441",
            "98a0170a27734ecd9860b617ec403828",
            "e1b2e5c9bc6b4260bd5aa67fade7f223",
            "6df379a0092d47428157f727caf2e209",
            "dcdbf234770748d0918cef4e391a4828",
            "745edbb615ce4226a8dc6180aa64ef33",
            "153dbe911df841f28a6a2d3a20b46845",
            "39222e1949bd45da923b27f66e512e61",
            "aa4054e1a19442898a9cb57788841563",
            "80a3f8c77be7429c95a230936a5e7ade",
            "9daea50d3093462fa5a5d33527bb9638",
            "9cfa4917a4594fd49ca3612f26ce9693",
            "eee205794c7548ddba967221d04cb907",
            "b4482839f51a4cd29671fd678827718a",
            "fc8c82fd908a40c9a719c9ba8da2696e",
            "26ecd015a249462896383649055317ce",
            "bc0172233652476c9bfc8f99a3ff8469",
            "decf6c659cf149dbb6cb514ab0389066",
            "a3f8a8792bf44a6a80b8dd05419719ba",
            "63e698e99932476a9682c0d13e1bfe97",
            "5139fa06a59445f2aeb91b46025931e9",
            "7f4714e2b1464b4f9a30e1bb689fb1dd",
            "9571865cc2264292adab9b3643e85f31",
            "ef33ae3ab8c54d9f9e5048b4be863d9c",
            "697fcdfc60384920b216fa515bd981b9",
            "f8c53d296ca0468988d848bed8d6282f",
            "b6cc3af681954c238d9c186a6b48daf7",
            "fca487e017164f2c95651302e89feb01",
            "a1819fd23ad34cf4861e30ad2de2f6b6",
            "dcb6aee7add444e19d446316219150db",
            "d99183ebec2d4fed8723e8606d5d4422",
            "d8a725fa5ed94d13baf263ec48b42a98",
            "23c7272a72dd4d07801aef9eac4b8d77",
            "107367047f1a4b8fb73a846bf66445b3",
            "4f13c3f445f5404aaead5f4468794f7f",
            "eea9022c90e64ba7b0f43c1bdacc32cf",
            "45acb1d851384efcab4cf514cb0455f1",
            "b692d4f9526f484d80b02187cd9bf0b5",
            "37d576cab6a14a0eb7e4fb737a3d7a20",
            "dcd0fec8983e40a8b3909e7458efb5ab",
            "47982ad9e72f4c0a9378d6de7e8a74de",
            "45068779063f4f10b42b7217513d0d44",
            "3460adabc1514cd9a3ebc80d3bdec54f",
            "d54c5a6263ac4175a9941e24faee9d4f",
            "ab36a1ba6bae407ca99ab338c4e100be",
            "14fb9d1e9e4b4fa0955abe20cd79b01e",
            "caa8bfe7725d4258ad26d604ad093bb9",
            "9c1d213669954fc6a5ed96b5558eec66",
            "f22ee8fdcb194213bc5f19b728cc45e5",
            "987f0dbc49d643f9a9a4755fbe14e179",
            "c9a5befafa8c49f6bcbeaa1949d35eec",
            "c457656571174411a697bd7f6fb458e3",
            "3f92f8f14ed343fb9dfd829ca6c485bd",
            "1bc909bb34dc492f98ff2b6bb1960af2",
            "763743d122dc411499cc304bd90bbf50",
            "6ba943f777434733b732b13a36a157b6",
            "b62f80dc739b4ff8afa38aa8c3ecf8f7",
            "e57363d3c5f140d4910df5a99c1238f4",
            "18ce547d9e7849d5905e0ece2b82612f",
            "a14e16ba91764448b35c2312d79b9bac",
            "95c1de6a94d345f4960464034eec0b59",
            "97015943f84b43fa9f0693f6327dc3ff",
            "e4cd8f8f87c447b1a35ee48ca20bad49",
            "a1c36d2564e94a4699f542049a6bd0c9",
            "683443cb664a4740aca13e7b05e900af",
            "538acbd4affb43ec8924b34c030ca840"
          ]
        },
        "id": "l4pGjeplooM1",
        "outputId": "6b9bec28-3645-47ea-d364-8e635edadbfc"
      },
      "execution_count": 6,
      "outputs": [
        {
          "output_type": "stream",
          "name": "stdout",
          "text": [
            "Downloading and preparing dataset 80.23 MiB (download: 80.23 MiB, generated: Unknown size, total: 80.23 MiB) to /root/tensorflow_datasets/imdb_reviews/plain_text/1.0.0...\n"
          ]
        },
        {
          "output_type": "display_data",
          "data": {
            "text/plain": [
              "Dl Completed...: 0 url [00:00, ? url/s]"
            ],
            "application/vnd.jupyter.widget-view+json": {
              "version_major": 2,
              "version_minor": 0,
              "model_id": "f32e85b923804b64a435ac335a57d5d8"
            }
          },
          "metadata": {}
        },
        {
          "output_type": "display_data",
          "data": {
            "text/plain": [
              "Dl Size...: 0 MiB [00:00, ? MiB/s]"
            ],
            "application/vnd.jupyter.widget-view+json": {
              "version_major": 2,
              "version_minor": 0,
              "model_id": "bfab8c1ca36e4258b719aba52403ace7"
            }
          },
          "metadata": {}
        },
        {
          "output_type": "display_data",
          "data": {
            "text/plain": [
              "Generating splits...:   0%|          | 0/3 [00:00<?, ? splits/s]"
            ],
            "application/vnd.jupyter.widget-view+json": {
              "version_major": 2,
              "version_minor": 0,
              "model_id": "4f4af778df054b45a019f16c00dbcd1e"
            }
          },
          "metadata": {}
        },
        {
          "output_type": "display_data",
          "data": {
            "text/plain": [
              "Generating train examples...:   0%|          | 0/25000 [00:00<?, ? examples/s]"
            ],
            "application/vnd.jupyter.widget-view+json": {
              "version_major": 2,
              "version_minor": 0,
              "model_id": "6924376a8f214e69a8c9e646ed61c441"
            }
          },
          "metadata": {}
        },
        {
          "output_type": "display_data",
          "data": {
            "text/plain": [
              "Shuffling /root/tensorflow_datasets/imdb_reviews/plain_text/1.0.0.incomplete9UOAEI/imdb_reviews-train.tfrecord…"
            ],
            "application/vnd.jupyter.widget-view+json": {
              "version_major": 2,
              "version_minor": 0,
              "model_id": "9cfa4917a4594fd49ca3612f26ce9693"
            }
          },
          "metadata": {}
        },
        {
          "output_type": "display_data",
          "data": {
            "text/plain": [
              "Generating test examples...:   0%|          | 0/25000 [00:00<?, ? examples/s]"
            ],
            "application/vnd.jupyter.widget-view+json": {
              "version_major": 2,
              "version_minor": 0,
              "model_id": "9571865cc2264292adab9b3643e85f31"
            }
          },
          "metadata": {}
        },
        {
          "output_type": "display_data",
          "data": {
            "text/plain": [
              "Shuffling /root/tensorflow_datasets/imdb_reviews/plain_text/1.0.0.incomplete9UOAEI/imdb_reviews-test.tfrecord*…"
            ],
            "application/vnd.jupyter.widget-view+json": {
              "version_major": 2,
              "version_minor": 0,
              "model_id": "107367047f1a4b8fb73a846bf66445b3"
            }
          },
          "metadata": {}
        },
        {
          "output_type": "display_data",
          "data": {
            "text/plain": [
              "Generating unsupervised examples...:   0%|          | 0/50000 [00:00<?, ? examples/s]"
            ],
            "application/vnd.jupyter.widget-view+json": {
              "version_major": 2,
              "version_minor": 0,
              "model_id": "ab36a1ba6bae407ca99ab338c4e100be"
            }
          },
          "metadata": {}
        },
        {
          "output_type": "display_data",
          "data": {
            "text/plain": [
              "Shuffling /root/tensorflow_datasets/imdb_reviews/plain_text/1.0.0.incomplete9UOAEI/imdb_reviews-unsupervised.t…"
            ],
            "application/vnd.jupyter.widget-view+json": {
              "version_major": 2,
              "version_minor": 0,
              "model_id": "6ba943f777434733b732b13a36a157b6"
            }
          },
          "metadata": {}
        },
        {
          "output_type": "stream",
          "name": "stdout",
          "text": [
            "Dataset imdb_reviews downloaded and prepared to /root/tensorflow_datasets/imdb_reviews/plain_text/1.0.0. Subsequent calls will reuse this data.\n"
          ]
        }
      ]
    },
    {
      "cell_type": "markdown",
      "source": [
        "# Data Exploration"
      ],
      "metadata": {
        "id": "CnqkLE2BAgBl"
      }
    },
    {
      "cell_type": "code",
      "source": [
        "imdb_sentences = []\n",
        "imdb_labels = []\n",
        "\n",
        "# 0 : Négatif, 1 : Positif\n",
        "for item in train_data:\n",
        "  # convert to sentences because item[\"text\"] are bytes\n",
        "  imdb_sentences.append(str(item['text']))\n",
        "  imdb_labels.append(item['label'])"
      ],
      "metadata": {
        "id": "_n_vewvIpF9L"
      },
      "execution_count": 83,
      "outputs": []
    },
    {
      "cell_type": "code",
      "source": [
        "n_training = 20_000"
      ],
      "metadata": {
        "id": "V5WHOurSpqnk"
      },
      "execution_count": 34,
      "outputs": []
    },
    {
      "cell_type": "code",
      "source": [
        "training_sentences = imdb_sentences[:n_training]\n",
        "test_sentences = imdb_sentences[n_training:]\n",
        "\n",
        "training_labels = imdb_labels[:n_training]\n",
        "test_labels = imdb_labels[n_training:]\n",
        "len(training_sentences),len(test_sentences)\n"
      ],
      "metadata": {
        "colab": {
          "base_uri": "https://localhost:8080/"
        },
        "id": "D9GPImOTpPaD",
        "outputId": "b34c741f-e0fc-4598-90ab-81c15de458ac"
      },
      "execution_count": 86,
      "outputs": [
        {
          "output_type": "execute_result",
          "data": {
            "text/plain": [
              "(20000, 5000)"
            ]
          },
          "metadata": {},
          "execution_count": 86
        }
      ]
    },
    {
      "cell_type": "markdown",
      "source": [
        "# Data Processing"
      ],
      "metadata": {
        "id": "-cSJdKCVAi8e"
      }
    },
    {
      "cell_type": "markdown",
      "source": [
        "## Tokenisation (phrases to list of words)"
      ],
      "metadata": {
        "id": "hF_VCsXZA-xE"
      }
    },
    {
      "cell_type": "code",
      "source": [
        "phrases = [\"Je suis au marché\",\"Je travaille au marché\",\"Je l'ai vu au marché\"]"
      ],
      "metadata": {
        "id": "VEMzuOQOqlz_"
      },
      "execution_count": 48,
      "outputs": []
    },
    {
      "cell_type": "code",
      "source": [],
      "metadata": {
        "id": "OYq_Ja-1ClRV"
      },
      "execution_count": null,
      "outputs": []
    },
    {
      "cell_type": "code",
      "source": [
        "phrase.split(\" \")"
      ],
      "metadata": {
        "colab": {
          "base_uri": "https://localhost:8080/"
        },
        "id": "nYHvDULAqvnH",
        "outputId": "3b0ec09c-735f-4f7b-a6be-7731325de6fc"
      },
      "execution_count": 40,
      "outputs": [
        {
          "output_type": "execute_result",
          "data": {
            "text/plain": [
              "['Je', 'suis', 'au', 'marché']"
            ]
          },
          "metadata": {},
          "execution_count": 40
        }
      ]
    },
    {
      "cell_type": "code",
      "source": [
        "from tensorflow.keras.preprocessing.text import Tokenizer"
      ],
      "metadata": {
        "id": "-2Zv_nimBMrg"
      },
      "execution_count": 41,
      "outputs": []
    },
    {
      "cell_type": "code",
      "source": [
        "tokenizer = Tokenizer()"
      ],
      "metadata": {
        "id": "JnUmNWb3B5BM"
      },
      "execution_count": 44,
      "outputs": []
    },
    {
      "cell_type": "code",
      "source": [
        "tokenizer.fit_on_texts(phrases)"
      ],
      "metadata": {
        "id": "zX6TNUfBBvns"
      },
      "execution_count": 49,
      "outputs": []
    },
    {
      "cell_type": "code",
      "source": [
        "tokenizer.word_index"
      ],
      "metadata": {
        "colab": {
          "base_uri": "https://localhost:8080/"
        },
        "id": "mcO-Wj6CB8gj",
        "outputId": "af637814-85e5-49ad-caec-1a7423e420c2"
      },
      "execution_count": 50,
      "outputs": [
        {
          "output_type": "execute_result",
          "data": {
            "text/plain": [
              "{'je': 1, 'au': 2, 'marché': 3, 'suis': 4, 'travaille': 5, \"l'ai\": 6, 'vu': 7}"
            ]
          },
          "metadata": {},
          "execution_count": 50
        }
      ]
    },
    {
      "cell_type": "code",
      "source": [
        "tokenizer.texts_to_sequences(phrases)"
      ],
      "metadata": {
        "colab": {
          "base_uri": "https://localhost:8080/"
        },
        "id": "JiOtAPEWB-Vq",
        "outputId": "874766c6-95b3-4202-dade-5f3c17f50f5b"
      },
      "execution_count": 51,
      "outputs": [
        {
          "output_type": "execute_result",
          "data": {
            "text/plain": [
              "[[1, 4, 2, 3], [1, 5, 2, 3], [1, 6, 7, 2, 3]]"
            ]
          },
          "metadata": {},
          "execution_count": 51
        }
      ]
    },
    {
      "cell_type": "code",
      "source": [
        "test = [\"je vends au Marché\"]"
      ],
      "metadata": {
        "id": "wgjwSlc4C-HV"
      },
      "execution_count": 52,
      "outputs": []
    },
    {
      "cell_type": "code",
      "source": [
        "tokenizer.texts_to_sequences(test) # je au marché"
      ],
      "metadata": {
        "colab": {
          "base_uri": "https://localhost:8080/"
        },
        "id": "rMhmBUIuCRjb",
        "outputId": "f3bef26a-aa63-4c8a-eafb-397505798d63"
      },
      "execution_count": 53,
      "outputs": [
        {
          "output_type": "execute_result",
          "data": {
            "text/plain": [
              "[[1, 2, 3]]"
            ]
          },
          "metadata": {},
          "execution_count": 53
        }
      ]
    },
    {
      "cell_type": "code",
      "source": [
        "test = [\"Hello, je viens\"]\n",
        "tokenizer.texts_to_sequences(test)"
      ],
      "metadata": {
        "colab": {
          "base_uri": "https://localhost:8080/"
        },
        "id": "MRhRxRGjDEUi",
        "outputId": "80740ec2-ad71-4cde-d9eb-4ad35731e17e"
      },
      "execution_count": 55,
      "outputs": [
        {
          "output_type": "execute_result",
          "data": {
            "text/plain": [
              "[[1]]"
            ]
          },
          "metadata": {},
          "execution_count": 55
        }
      ]
    },
    {
      "cell_type": "code",
      "source": [
        "tokenizer = Tokenizer(num_words = 100, oov_token = \"<OOV>\")"
      ],
      "metadata": {
        "id": "BewhNeahGEVQ"
      },
      "execution_count": 56,
      "outputs": []
    },
    {
      "cell_type": "code",
      "source": [
        "tokenizer.fit_on_texts(phrases)\n",
        "tokenizer.word_index"
      ],
      "metadata": {
        "colab": {
          "base_uri": "https://localhost:8080/"
        },
        "id": "SZm-aJPlGWRh",
        "outputId": "1ca21bde-b693-464b-fdb6-65a80869db5e"
      },
      "execution_count": 62,
      "outputs": [
        {
          "output_type": "execute_result",
          "data": {
            "text/plain": [
              "{'<OOV>': 1,\n",
              " 'je': 2,\n",
              " 'au': 3,\n",
              " 'marché': 4,\n",
              " 'suis': 5,\n",
              " 'travaille': 6,\n",
              " \"l'ai\": 7,\n",
              " 'vu': 8,\n",
              " 'hello': 9,\n",
              " 'viens': 10}"
            ]
          },
          "metadata": {},
          "execution_count": 62
        }
      ]
    },
    {
      "cell_type": "code",
      "source": [
        "test = [\"Hello, je m'en sors au marché avec part\"]\n",
        "tokenizer.texts_to_sequences(test)"
      ],
      "metadata": {
        "colab": {
          "base_uri": "https://localhost:8080/"
        },
        "id": "173kzxHeGsea",
        "outputId": "5c3bed3a-5bb4-4a37-a239-28e33c9ef7a3"
      },
      "execution_count": 64,
      "outputs": [
        {
          "output_type": "execute_result",
          "data": {
            "text/plain": [
              "[[9, 2, 1, 1, 3, 4, 1, 1]]"
            ]
          },
          "metadata": {},
          "execution_count": 64
        }
      ]
    },
    {
      "cell_type": "markdown",
      "source": [
        "# Padding (Ajouter des 0 aux phrases afin qu'elles aient le même taille que la plus longue phrase du dataset)"
      ],
      "metadata": {
        "id": "DQmcHbauHgjK"
      }
    },
    {
      "cell_type": "code",
      "source": [
        "phrases = [\"Je suis au marché\",\n",
        "           \"Je travaille au marché\",\n",
        "           \"es-tu rentré du marché\",\n",
        "           \"Je nettoie le marché tous les jours avant de commencer à vender le matin\"\n",
        "           ]\n",
        "\n",
        "tokenizer = Tokenizer(num_words = 100, oov_token = \"<OOV>\")\n",
        "tokenizer.fit_on_texts(phrases)\n",
        "word_index = tokenizer.word_index\n",
        "sequences = tokenizer.texts_to_sequences(phrases)"
      ],
      "metadata": {
        "id": "PlcR4OzXHi0M"
      },
      "execution_count": 65,
      "outputs": []
    },
    {
      "cell_type": "code",
      "source": [
        "word_index"
      ],
      "metadata": {
        "colab": {
          "base_uri": "https://localhost:8080/"
        },
        "id": "MGySBIRYIMeG",
        "outputId": "92a5379f-17ae-4306-a57e-9ac3ec992d5a"
      },
      "execution_count": 67,
      "outputs": [
        {
          "output_type": "execute_result",
          "data": {
            "text/plain": [
              "{'<OOV>': 1,\n",
              " 'marché': 2,\n",
              " 'je': 3,\n",
              " 'au': 4,\n",
              " 'le': 5,\n",
              " 'suis': 6,\n",
              " 'travaille': 7,\n",
              " 'es': 8,\n",
              " 'tu': 9,\n",
              " 'rentré': 10,\n",
              " 'du': 11,\n",
              " 'nettoie': 12,\n",
              " 'tous': 13,\n",
              " 'les': 14,\n",
              " 'jours': 15,\n",
              " 'avant': 16,\n",
              " 'de': 17,\n",
              " 'commencer': 18,\n",
              " 'à': 19,\n",
              " 'vender': 20,\n",
              " 'matin': 21}"
            ]
          },
          "metadata": {},
          "execution_count": 67
        }
      ]
    },
    {
      "cell_type": "code",
      "source": [
        "sequences"
      ],
      "metadata": {
        "colab": {
          "base_uri": "https://localhost:8080/"
        },
        "id": "ayQ9boXxIH3C",
        "outputId": "9708beec-9897-46cb-c81c-8648361ae0eb"
      },
      "execution_count": 66,
      "outputs": [
        {
          "output_type": "execute_result",
          "data": {
            "text/plain": [
              "[[3, 6, 4, 2],\n",
              " [3, 7, 4, 2],\n",
              " [8, 9, 10, 11, 2],\n",
              " [3, 12, 5, 2, 13, 14, 15, 16, 17, 18, 19, 20, 5, 21]]"
            ]
          },
          "metadata": {},
          "execution_count": 66
        }
      ]
    },
    {
      "cell_type": "code",
      "source": [
        "from tensorflow.keras.preprocessing.sequence import pad_sequences"
      ],
      "metadata": {
        "id": "FWiJeNiBIlv5"
      },
      "execution_count": 68,
      "outputs": []
    },
    {
      "cell_type": "code",
      "source": [
        "pad_sequences(sequences)"
      ],
      "metadata": {
        "colab": {
          "base_uri": "https://localhost:8080/"
        },
        "id": "F6keNsa1It8V",
        "outputId": "4a366498-7489-4863-da01-bba6d1c0c073"
      },
      "execution_count": 69,
      "outputs": [
        {
          "output_type": "execute_result",
          "data": {
            "text/plain": [
              "array([[ 0,  0,  0,  0,  0,  0,  0,  0,  0,  0,  3,  6,  4,  2],\n",
              "       [ 0,  0,  0,  0,  0,  0,  0,  0,  0,  0,  3,  7,  4,  2],\n",
              "       [ 0,  0,  0,  0,  0,  0,  0,  0,  0,  8,  9, 10, 11,  2],\n",
              "       [ 3, 12,  5,  2, 13, 14, 15, 16, 17, 18, 19, 20,  5, 21]],\n",
              "      dtype=int32)"
            ]
          },
          "metadata": {},
          "execution_count": 69
        }
      ]
    },
    {
      "cell_type": "code",
      "source": [
        "pad_sequences(sequences, padding=\"post\", maxlen=7, truncating=\"post\")"
      ],
      "metadata": {
        "colab": {
          "base_uri": "https://localhost:8080/"
        },
        "id": "4nQpUdgJKEWX",
        "outputId": "f35d439a-5176-4928-ee17-fe80aab0730f"
      },
      "execution_count": 72,
      "outputs": [
        {
          "output_type": "execute_result",
          "data": {
            "text/plain": [
              "array([[ 3,  6,  4,  2,  0,  0,  0],\n",
              "       [ 3,  7,  4,  2,  0,  0,  0],\n",
              "       [ 8,  9, 10, 11,  2,  0,  0],\n",
              "       [ 3, 12,  5,  2, 13, 14, 15]], dtype=int32)"
            ]
          },
          "metadata": {},
          "execution_count": 72
        }
      ]
    },
    {
      "cell_type": "markdown",
      "source": [
        "# Stop Words"
      ],
      "metadata": {
        "id": "ZFwUBydgLaEB"
      }
    },
    {
      "cell_type": "code",
      "source": [
        "phrase = \"Je vais au marché le jeudi\""
      ],
      "metadata": {
        "id": "rwgOvZdGK1uR"
      },
      "execution_count": 73,
      "outputs": []
    },
    {
      "cell_type": "code",
      "source": [
        "stopwords = [\"au\",\"le\"]"
      ],
      "metadata": {
        "id": "8JMl-DUOMDcI"
      },
      "execution_count": 74,
      "outputs": []
    },
    {
      "cell_type": "code",
      "source": [
        "words = phrase.split(\" \")\n",
        "phrase_clean = []\n",
        "\n",
        "for word in words:\n",
        "  if word not in stopwords:\n",
        "    phrase_clean.append(word)"
      ],
      "metadata": {
        "id": "jBdgncxLMdPe"
      },
      "execution_count": 76,
      "outputs": []
    },
    {
      "cell_type": "code",
      "source": [
        "phrase_clean"
      ],
      "metadata": {
        "colab": {
          "base_uri": "https://localhost:8080/"
        },
        "id": "fiMmOiZAM2pR",
        "outputId": "0e1d5d81-e4e9-4781-991b-1eeb930e9dc6"
      },
      "execution_count": 77,
      "outputs": [
        {
          "output_type": "execute_result",
          "data": {
            "text/plain": [
              "['Je', 'vais', 'marché', 'jeudi']"
            ]
          },
          "metadata": {},
          "execution_count": 77
        }
      ]
    },
    {
      "cell_type": "markdown",
      "source": [
        "# Approche intuitive du calcul du Sentiment"
      ],
      "metadata": {
        "id": "qf_qaJj3RkeW"
      }
    },
    {
      "cell_type": "code",
      "source": [
        "phrase = \"Votre connexion est agréablement lente\""
      ],
      "metadata": {
        "id": "gnXDmk0PM9KR"
      },
      "execution_count": 80,
      "outputs": []
    },
    {
      "cell_type": "code",
      "source": [
        "{\n",
        "    \"Votre\":[],\n",
        "    \"connexion\":[],\n",
        "    \"est\":[],\n",
        "    \"agréablement\":[],\n",
        "    \"lente\":[],\n",
        "}"
      ],
      "metadata": {
        "id": "V1mi6U2XNFXD"
      },
      "execution_count": null,
      "outputs": []
    },
    {
      "cell_type": "code",
      "source": [
        "training_sentences[45]"
      ],
      "metadata": {
        "colab": {
          "base_uri": "https://localhost:8080/"
        },
        "id": "ijda5kOuVo77",
        "outputId": "da140c37-5401-41b5-b102-98950b94ed4a"
      },
      "execution_count": 84,
      "outputs": [
        {
          "output_type": "execute_result",
          "data": {
            "text/plain": [
              "b\"The director Sidney J. Furie has created in Hollow Point a post-modern absurdist masterpiece that challenges and constantly surprises the audience. <br /><br />Sidney J. Furie dares to ask the question of what happens to the tired conventional traditionalist paradigms of 'plot' and 'characterisation' when you remove the crutches of 'motivation' and 'reason'. <br /><br />The result leads me to say that my opinion of him could not possibly get any higher.<br /><br />One and a half stars.<br /><br />P.S. Nothing in this movie makes any sense, the law enforcement agents are flat out unlikeable and the organised criminals are full on insane.\""
            ]
          },
          "metadata": {},
          "execution_count": 84
        }
      ]
    },
    {
      "cell_type": "markdown",
      "source": [
        "# Embedding (plongement)"
      ],
      "metadata": {
        "id": "EGQmAOL_TTme"
      }
    },
    {
      "cell_type": "code",
      "source": [
        "tokenizer = Tokenizer(num_words=20_000, oov_token=\"<OOV>\")\n",
        "tokenizer.fit_on_texts(training_sentences)\n",
        "word_index = tokenizer.word_index\n",
        "\n",
        "training_sequences = tokenizer.texts_to_sequences(training_sentences)\n",
        "training_padded = pad_sequences(training_sequences, padding=\"post\",maxlen=15, truncating=\"post\")\n",
        "\n",
        "test_sequences = tokenizer.texts_to_sequences(test_sentences)\n",
        "test_padded = pad_sequences(test_sequences, padding=\"post\",maxlen=15, truncating=\"post\")"
      ],
      "metadata": {
        "id": "lIjLvU_VTy9-"
      },
      "execution_count": 94,
      "outputs": []
    },
    {
      "cell_type": "code",
      "source": [
        "len(training_padded[42])"
      ],
      "metadata": {
        "colab": {
          "base_uri": "https://localhost:8080/"
        },
        "id": "T2I9pfmQV2j5",
        "outputId": "81c9c824-10bd-4c73-cdcc-ed28190be434"
      },
      "execution_count": 96,
      "outputs": [
        {
          "output_type": "execute_result",
          "data": {
            "text/plain": [
              "15"
            ]
          },
          "metadata": {},
          "execution_count": 96
        }
      ]
    },
    {
      "cell_type": "code",
      "source": [
        "training_labels = np.array(training_labels)\n",
        "test_labels = np.array(test_labels)"
      ],
      "metadata": {
        "id": "fqFVNbI_Uzls"
      },
      "execution_count": 97,
      "outputs": []
    },
    {
      "cell_type": "markdown",
      "source": [
        "### La couche Embedding"
      ],
      "metadata": {
        "id": "RKzxd29vXlM-"
      }
    },
    {
      "cell_type": "code",
      "source": [
        "from tensorflow.keras.layers import Embedding\n",
        "import tensorflow as tf\n",
        "from tensorflow.keras.callbacks import ModelCheckpoint\n",
        "from tensorflow.keras.callbacks import EarlyStopping"
      ],
      "metadata": {
        "id": "jxWJPFDcWKDY"
      },
      "execution_count": 104,
      "outputs": []
    },
    {
      "cell_type": "code",
      "source": [
        "model = tf.keras.models.Sequential(\n",
        "    [\n",
        "        # 20_000 pour la taille du vocabulaire\n",
        "        Embedding(20_000, 20),\n",
        "        tf.keras.layers.GlobalAveragePooling1D(),\n",
        "        tf.keras.layers.Dense(8, activation =\"relu\"),\n",
        "        tf.keras.layers.Dense(1, activation =\"sigmoid\")\n",
        "    ]\n",
        ")\n",
        "\n",
        "model.compile(loss=\"binary_crossentropy\", optimizer=\"adam\", metrics=[\"accuracy\"])"
      ],
      "metadata": {
        "id": "94ZHcq3cYMpg"
      },
      "execution_count": 103,
      "outputs": []
    },
    {
      "cell_type": "code",
      "source": [
        "best_model = \"best_model_text.h5\"\n",
        "# permet de sauvegarder le meileur modèle au cours de l'entrainement\n",
        "model_ckp = ModelCheckpoint(filepath = best_model,\n",
        "                            monitor = \"val_accuracy\",\n",
        "                            mode =\"max\",\n",
        "                            save_best_only = True)\n",
        "# On arrête l'entrainement si après deux époques la performance du modèle n'augmente plus (sur la base de l'accuracy)\n",
        "# si c'était sur la base du loss (on observerait plutôt la dimunition)\n",
        "stop = EarlyStopping(monitor = \"val_accuracy\", patience = 6)"
      ],
      "metadata": {
        "id": "ks5L7DxwaMQA"
      },
      "execution_count": 105,
      "outputs": []
    },
    {
      "cell_type": "code",
      "source": [
        "model.summary()"
      ],
      "metadata": {
        "colab": {
          "base_uri": "https://localhost:8080/"
        },
        "id": "LL7QPp2MXz2_",
        "outputId": "59baa752-cdd9-495f-87a2-293cc21a3920"
      },
      "execution_count": 102,
      "outputs": [
        {
          "output_type": "stream",
          "name": "stdout",
          "text": [
            "Model: \"sequential\"\n",
            "_________________________________________________________________\n",
            " Layer (type)                Output Shape              Param #   \n",
            "=================================================================\n",
            " embedding (Embedding)       (None, None, 20)          400000    \n",
            "                                                                 \n",
            " global_average_pooling1d (  (None, 20)                0         \n",
            " GlobalAveragePooling1D)                                         \n",
            "                                                                 \n",
            " dense (Dense)               (None, 8)                 168       \n",
            "                                                                 \n",
            " dense_1 (Dense)             (None, 1)                 9         \n",
            "                                                                 \n",
            "=================================================================\n",
            "Total params: 400177 (1.53 MB)\n",
            "Trainable params: 400177 (1.53 MB)\n",
            "Non-trainable params: 0 (0.00 Byte)\n",
            "_________________________________________________________________\n"
          ]
        }
      ]
    },
    {
      "cell_type": "code",
      "source": [
        "h = model.fit(training_padded, training_labels, epochs = 50,\n",
        "              validation_data=(test_padded,test_labels),\n",
        "              callbacks= [model_ckp])"
      ],
      "metadata": {
        "colab": {
          "base_uri": "https://localhost:8080/"
        },
        "id": "1uaA7bdxZbIZ",
        "outputId": "939adb27-f831-4265-b492-2139cda3a566"
      },
      "execution_count": 107,
      "outputs": [
        {
          "output_type": "stream",
          "name": "stdout",
          "text": [
            "Epoch 1/50\n",
            "625/625 [==============================] - 8s 13ms/step - loss: 0.2558 - accuracy: 0.8964 - val_loss: 0.8954 - val_accuracy: 0.6728\n",
            "Epoch 2/50\n",
            "625/625 [==============================] - 6s 10ms/step - loss: 0.2446 - accuracy: 0.9032 - val_loss: 0.9519 - val_accuracy: 0.6700\n",
            "Epoch 3/50\n",
            "625/625 [==============================] - 5s 8ms/step - loss: 0.2345 - accuracy: 0.9069 - val_loss: 1.0117 - val_accuracy: 0.6638\n",
            "Epoch 4/50\n",
            "625/625 [==============================] - 4s 6ms/step - loss: 0.2260 - accuracy: 0.9102 - val_loss: 1.0489 - val_accuracy: 0.6602\n",
            "Epoch 5/50\n",
            "625/625 [==============================] - 4s 6ms/step - loss: 0.2186 - accuracy: 0.9126 - val_loss: 1.0681 - val_accuracy: 0.6582\n",
            "Epoch 6/50\n",
            "625/625 [==============================] - 5s 8ms/step - loss: 0.2106 - accuracy: 0.9176 - val_loss: 1.1349 - val_accuracy: 0.6554\n",
            "Epoch 7/50\n",
            "625/625 [==============================] - 4s 7ms/step - loss: 0.2046 - accuracy: 0.9198 - val_loss: 1.1731 - val_accuracy: 0.6568\n",
            "Epoch 8/50\n",
            "625/625 [==============================] - 4s 7ms/step - loss: 0.1982 - accuracy: 0.9201 - val_loss: 1.2138 - val_accuracy: 0.6540\n",
            "Epoch 9/50\n",
            "625/625 [==============================] - 5s 8ms/step - loss: 0.1932 - accuracy: 0.9237 - val_loss: 1.2456 - val_accuracy: 0.6602\n",
            "Epoch 10/50\n",
            "625/625 [==============================] - 4s 7ms/step - loss: 0.1856 - accuracy: 0.9262 - val_loss: 1.3231 - val_accuracy: 0.6546\n",
            "Epoch 11/50\n",
            "625/625 [==============================] - 6s 9ms/step - loss: 0.1810 - accuracy: 0.9289 - val_loss: 1.3571 - val_accuracy: 0.6546\n",
            "Epoch 12/50\n",
            "625/625 [==============================] - 7s 12ms/step - loss: 0.1736 - accuracy: 0.9298 - val_loss: 1.4158 - val_accuracy: 0.6552\n",
            "Epoch 13/50\n",
            "625/625 [==============================] - 8s 13ms/step - loss: 0.1665 - accuracy: 0.9329 - val_loss: 1.5056 - val_accuracy: 0.6502\n",
            "Epoch 14/50\n",
            "625/625 [==============================] - 7s 12ms/step - loss: 0.1612 - accuracy: 0.9334 - val_loss: 1.5868 - val_accuracy: 0.6502\n",
            "Epoch 15/50\n",
            "625/625 [==============================] - 8s 13ms/step - loss: 0.1525 - accuracy: 0.9370 - val_loss: 1.6232 - val_accuracy: 0.6488\n",
            "Epoch 16/50\n",
            "625/625 [==============================] - 7s 12ms/step - loss: 0.1460 - accuracy: 0.9370 - val_loss: 1.7210 - val_accuracy: 0.6474\n",
            "Epoch 17/50\n",
            "625/625 [==============================] - 7s 11ms/step - loss: 0.1399 - accuracy: 0.9388 - val_loss: 1.8592 - val_accuracy: 0.6428\n",
            "Epoch 18/50\n",
            "625/625 [==============================] - 8s 13ms/step - loss: 0.1322 - accuracy: 0.9413 - val_loss: 1.9990 - val_accuracy: 0.6480\n",
            "Epoch 19/50\n",
            "625/625 [==============================] - 7s 10ms/step - loss: 0.1262 - accuracy: 0.9420 - val_loss: 2.0948 - val_accuracy: 0.6436\n",
            "Epoch 20/50\n",
            "625/625 [==============================] - 8s 13ms/step - loss: 0.1203 - accuracy: 0.9430 - val_loss: 2.1404 - val_accuracy: 0.6468\n",
            "Epoch 21/50\n",
            "625/625 [==============================] - 7s 11ms/step - loss: 0.1130 - accuracy: 0.9452 - val_loss: 2.3124 - val_accuracy: 0.6444\n",
            "Epoch 22/50\n",
            "625/625 [==============================] - 7s 11ms/step - loss: 0.1087 - accuracy: 0.9467 - val_loss: 2.4579 - val_accuracy: 0.6460\n",
            "Epoch 23/50\n",
            "625/625 [==============================] - 4s 7ms/step - loss: 0.1048 - accuracy: 0.9462 - val_loss: 2.5434 - val_accuracy: 0.6422\n",
            "Epoch 24/50\n",
            "625/625 [==============================] - 5s 8ms/step - loss: 0.0980 - accuracy: 0.9497 - val_loss: 2.6989 - val_accuracy: 0.6426\n",
            "Epoch 25/50\n",
            "625/625 [==============================] - 4s 7ms/step - loss: 0.0937 - accuracy: 0.9498 - val_loss: 2.8253 - val_accuracy: 0.6416\n",
            "Epoch 26/50\n",
            "625/625 [==============================] - 4s 7ms/step - loss: 0.0910 - accuracy: 0.9502 - val_loss: 2.9395 - val_accuracy: 0.6442\n",
            "Epoch 27/50\n",
            "625/625 [==============================] - 5s 8ms/step - loss: 0.0862 - accuracy: 0.9528 - val_loss: 3.0976 - val_accuracy: 0.6478\n",
            "Epoch 28/50\n",
            "625/625 [==============================] - 4s 7ms/step - loss: 0.0821 - accuracy: 0.9585 - val_loss: 3.2236 - val_accuracy: 0.6454\n",
            "Epoch 29/50\n",
            "625/625 [==============================] - 5s 8ms/step - loss: 0.0798 - accuracy: 0.9596 - val_loss: 3.3543 - val_accuracy: 0.6418\n",
            "Epoch 30/50\n",
            "625/625 [==============================] - 5s 8ms/step - loss: 0.0767 - accuracy: 0.9618 - val_loss: 3.4755 - val_accuracy: 0.6406\n",
            "Epoch 31/50\n",
            "625/625 [==============================] - 4s 7ms/step - loss: 0.0751 - accuracy: 0.9632 - val_loss: 3.6122 - val_accuracy: 0.6434\n",
            "Epoch 32/50\n",
            "625/625 [==============================] - 5s 8ms/step - loss: 0.0727 - accuracy: 0.9621 - val_loss: 3.7399 - val_accuracy: 0.6446\n",
            "Epoch 33/50\n",
            "625/625 [==============================] - 5s 7ms/step - loss: 0.0694 - accuracy: 0.9651 - val_loss: 3.7931 - val_accuracy: 0.6422\n",
            "Epoch 34/50\n",
            "625/625 [==============================] - 4s 7ms/step - loss: 0.0654 - accuracy: 0.9668 - val_loss: 4.0374 - val_accuracy: 0.6468\n",
            "Epoch 35/50\n",
            "625/625 [==============================] - 5s 8ms/step - loss: 0.0643 - accuracy: 0.9678 - val_loss: 4.1839 - val_accuracy: 0.6450\n",
            "Epoch 36/50\n",
            "625/625 [==============================] - 4s 7ms/step - loss: 0.0645 - accuracy: 0.9675 - val_loss: 4.2482 - val_accuracy: 0.6432\n",
            "Epoch 37/50\n",
            "625/625 [==============================] - 4s 7ms/step - loss: 0.0619 - accuracy: 0.9681 - val_loss: 4.3985 - val_accuracy: 0.6434\n",
            "Epoch 38/50\n",
            "625/625 [==============================] - 5s 8ms/step - loss: 0.0607 - accuracy: 0.9694 - val_loss: 4.4723 - val_accuracy: 0.6476\n",
            "Epoch 39/50\n",
            "625/625 [==============================] - 4s 7ms/step - loss: 0.0602 - accuracy: 0.9698 - val_loss: 4.6676 - val_accuracy: 0.6418\n",
            "Epoch 40/50\n",
            "625/625 [==============================] - 4s 7ms/step - loss: 0.0570 - accuracy: 0.9713 - val_loss: 4.7080 - val_accuracy: 0.6460\n",
            "Epoch 41/50\n",
            "625/625 [==============================] - 5s 8ms/step - loss: 0.0545 - accuracy: 0.9722 - val_loss: 4.7227 - val_accuracy: 0.6432\n",
            "Epoch 42/50\n",
            "625/625 [==============================] - 4s 6ms/step - loss: 0.0555 - accuracy: 0.9714 - val_loss: 5.0802 - val_accuracy: 0.6394\n",
            "Epoch 43/50\n",
            "625/625 [==============================] - 4s 7ms/step - loss: 0.0556 - accuracy: 0.9719 - val_loss: 5.0809 - val_accuracy: 0.6458\n",
            "Epoch 44/50\n",
            "625/625 [==============================] - 5s 8ms/step - loss: 0.0540 - accuracy: 0.9720 - val_loss: 5.0811 - val_accuracy: 0.6416\n",
            "Epoch 45/50\n",
            "625/625 [==============================] - 4s 7ms/step - loss: 0.0516 - accuracy: 0.9741 - val_loss: 5.3589 - val_accuracy: 0.6404\n",
            "Epoch 46/50\n",
            "625/625 [==============================] - 5s 8ms/step - loss: 0.0527 - accuracy: 0.9725 - val_loss: 5.3514 - val_accuracy: 0.6410\n",
            "Epoch 47/50\n",
            "625/625 [==============================] - 4s 7ms/step - loss: 0.0507 - accuracy: 0.9739 - val_loss: 5.4577 - val_accuracy: 0.6450\n",
            "Epoch 48/50\n",
            "625/625 [==============================] - 4s 6ms/step - loss: 0.0531 - accuracy: 0.9726 - val_loss: 5.6165 - val_accuracy: 0.6430\n",
            "Epoch 49/50\n",
            "625/625 [==============================] - 5s 8ms/step - loss: 0.0511 - accuracy: 0.9731 - val_loss: 5.5843 - val_accuracy: 0.6422\n",
            "Epoch 50/50\n",
            "625/625 [==============================] - 4s 7ms/step - loss: 0.0485 - accuracy: 0.9750 - val_loss: 5.6530 - val_accuracy: 0.6434\n"
          ]
        }
      ]
    },
    {
      "cell_type": "code",
      "source": [
        "import matplotlib.pyplot as plt\n",
        "\n",
        "def plot_graphs(history, string):\n",
        "  plt.plot(history.history[string])\n",
        "  plt.plot(history.history[\"val_\"+string])\n",
        "  plt.xlabel(\"Epochs\")\n",
        "  plt.ylabel(string)\n",
        "  plt.legend([string, \"val_\"+string])\n",
        "  plt.show()"
      ],
      "metadata": {
        "id": "CUpyk4NLa0QV"
      },
      "execution_count": 112,
      "outputs": []
    },
    {
      "cell_type": "code",
      "source": [
        "plot_graphs(h, \"accuracy\")\n",
        "plot_graphs(h, \"loss\")"
      ],
      "metadata": {
        "colab": {
          "base_uri": "https://localhost:8080/",
          "height": 881
        },
        "id": "U4F379_Vd0Cm",
        "outputId": "459ef9bc-6f33-429d-a54e-6cd8fab7ee8e"
      },
      "execution_count": 113,
      "outputs": [
        {
          "output_type": "display_data",
          "data": {
            "text/plain": [
              "<Figure size 640x480 with 1 Axes>"
            ],
            "image/png": "[encoded data removed]"
          },
          "metadata": {}
        },
        {
          "output_type": "display_data",
          "data": {
            "text/plain": [
              "<Figure size 640x480 with 1 Axes>"
            ],
            "image/png": "[encoded data removed]"
          },
          "metadata": {}
        }
      ]
    },
    {
      "cell_type": "markdown",
      "source": [
        "Ces graphiques mettent en exergue une large over fitting très grave i.e le modèle performe bien sur les données d'entrainement, mais performe mal sur les données de test."
      ],
      "metadata": {
        "id": "iLkNPwVeerBw"
      }
    },
    {
      "cell_type": "markdown",
      "source": [
        "# Vocab Size"
      ],
      "metadata": {
        "id": "n_8K-tI-fBQN"
      }
    },
    {
      "cell_type": "code",
      "source": [
        "word_count = tokenizer.word_counts"
      ],
      "metadata": {
        "id": "FRsYcYwKe10U"
      },
      "execution_count": 115,
      "outputs": []
    },
    {
      "cell_type": "code",
      "source": [
        "word_count = sorted(word_count.items(), key=lambda t:t[1], reverse = True)"
      ],
      "metadata": {
        "id": "a2O6LNIogntT"
      },
      "execution_count": 119,
      "outputs": []
    },
    {
      "cell_type": "code",
      "source": [
        "import pandas as pd"
      ],
      "metadata": {
        "id": "eu35c1kYhSs2"
      },
      "execution_count": 122,
      "outputs": []
    },
    {
      "cell_type": "code",
      "source": [
        "df = pd.DataFrame(word_count, columns=[\"words\",\"frequency\"])"
      ],
      "metadata": {
        "id": "VwE1sTOegost"
      },
      "execution_count": 124,
      "outputs": []
    },
    {
      "cell_type": "code",
      "source": [
        "df[df[\"frequency\"]>5]"
      ],
      "metadata": {
        "colab": {
          "base_uri": "https://localhost:8080/",
          "height": 423
        },
        "id": "GtKN-IhEhr0H",
        "outputId": "3dc0b3b8-b8a5-442d-9e95-1f755b5ab1df"
      },
      "execution_count": 137,
      "outputs": [
        {
          "output_type": "execute_result",
          "data": {
            "text/plain": [
              "          words  frequency\n",
              "0           the     268774\n",
              "1           and     131448\n",
              "2             a     130000\n",
              "3            of     116684\n",
              "4            to     108554\n",
              "...         ...        ...\n",
              "24429  dornhelm          6\n",
              "24430  donnison          6\n",
              "24431      cray          6\n",
              "24432    morand          6\n",
              "24433   mcnicol          6\n",
              "\n",
              "[24434 rows x 2 columns]"
            ],
            "text/html": [
              "\n",
              "  <div id=\"df-87d9e6d9-457d-44e1-aa73-1201fc9ad4a1\" class=\"colab-df-container\">\n",
              "    <div>\n",
              "<style scoped>\n",
              "    .dataframe tbody tr th:only-of-type {\n",
              "        vertical-align: middle;\n",
              "    }\n",
              "\n",
              "    .dataframe tbody tr th {\n",
              "        vertical-align: top;\n",
              "    }\n",
              "\n",
              "    .dataframe thead th {\n",
              "        text-align: right;\n",
              "    }\n",
              "</style>\n",
              "<table border=\"1\" class=\"dataframe\">\n",
              "  <thead>\n",
              "    <tr style=\"text-align: right;\">\n",
              "      <th></th>\n",
              "      <th>words</th>\n",
              "      <th>frequency</th>\n",
              "    </tr>\n",
              "  </thead>\n",
              "  <tbody>\n",
              "    <tr>\n",
              "      <th>0</th>\n",
              "      <td>the</td>\n",
              "      <td>268774</td>\n",
              "    </tr>\n",
              "    <tr>\n",
              "      <th>1</th>\n",
              "      <td>and</td>\n",
              "      <td>131448</td>\n",
              "    </tr>\n",
              "    <tr>\n",
              "      <th>2</th>\n",
              "      <td>a</td>\n",
              "      <td>130000</td>\n",
              "    </tr>\n",
              "    <tr>\n",
              "      <th>3</th>\n",
              "      <td>of</td>\n",
              "      <td>116684</td>\n",
              "    </tr>\n",
              "    <tr>\n",
              "      <th>4</th>\n",
              "      <td>to</td>\n",
              "      <td>108554</td>\n",
              "    </tr>\n",
              "    <tr>\n",
              "      <th>...</th>\n",
              "      <td>...</td>\n",
              "      <td>...</td>\n",
              "    </tr>\n",
              "    <tr>\n",
              "      <th>24429</th>\n",
              "      <td>dornhelm</td>\n",
              "      <td>6</td>\n",
              "    </tr>\n",
              "    <tr>\n",
              "      <th>24430</th>\n",
              "      <td>donnison</td>\n",
              "      <td>6</td>\n",
              "    </tr>\n",
              "    <tr>\n",
              "      <th>24431</th>\n",
              "      <td>cray</td>\n",
              "      <td>6</td>\n",
              "    </tr>\n",
              "    <tr>\n",
              "      <th>24432</th>\n",
              "      <td>morand</td>\n",
              "      <td>6</td>\n",
              "    </tr>\n",
              "    <tr>\n",
              "      <th>24433</th>\n",
              "      <td>mcnicol</td>\n",
              "      <td>6</td>\n",
              "    </tr>\n",
              "  </tbody>\n",
              "</table>\n",
              "<p>24434 rows × 2 columns</p>\n",
              "</div>\n",
              "    <div class=\"colab-df-buttons\">\n",
              "\n",
              "  <div class=\"colab-df-container\">\n",
              "    <button class=\"colab-df-convert\" onclick=\"convertToInteractive('df-87d9e6d9-457d-44e1-aa73-1201fc9ad4a1')\"\n",
              "            title=\"Convert this dataframe to an interactive table.\"\n",
              "            style=\"display:none;\">\n",
              "\n",
              "  <svg xmlns=\"http://www.w3.org/2000/svg\" height=\"24px\" viewBox=\"0 -960 960 960\">\n",
              "    <path d=\"M120-120v-720h720v720H120Zm60-500h600v-160H180v160Zm220 220h160v-160H400v160Zm0 220h160v-160H400v160ZM180-400h160v-160H180v160Zm440 0h160v-160H620v160ZM180-180h160v-160H180v160Zm440 0h160v-160H620v160Z\"/>\n",
              "  </svg>\n",
              "    </button>\n",
              "\n",
              "  <style>\n",
              "    .colab-df-container {\n",
              "      display:flex;\n",
              "      gap: 12px;\n",
              "    }\n",
              "\n",
              "    .colab-df-convert {\n",
              "      background-color: #E8F0FE;\n",
              "      border: none;\n",
              "      border-radius: 50%;\n",
              "      cursor: pointer;\n",
              "      display: none;\n",
              "      fill: #1967D2;\n",
              "      height: 32px;\n",
              "      padding: 0 0 0 0;\n",
              "      width: 32px;\n",
              "    }\n",
              "\n",
              "    .colab-df-convert:hover {\n",
              "      background-color: #E2EBFA;\n",
              "      box-shadow: 0px 1px 2px rgba(60, 64, 67, 0.3), 0px 1px 3px 1px rgba(60, 64, 67, 0.15);\n",
              "      fill: #174EA6;\n",
              "    }\n",
              "\n",
              "    .colab-df-buttons div {\n",
              "      margin-bottom: 4px;\n",
              "    }\n",
              "\n",
              "    [theme=dark] .colab-df-convert {\n",
              "      background-color: #3B4455;\n",
              "      fill: #D2E3FC;\n",
              "    }\n",
              "\n",
              "    [theme=dark] .colab-df-convert:hover {\n",
              "      background-color: #434B5C;\n",
              "      box-shadow: 0px 1px 3px 1px rgba(0, 0, 0, 0.15);\n",
              "      filter: drop-shadow(0px 1px 2px rgba(0, 0, 0, 0.3));\n",
              "      fill: #FFFFFF;\n",
              "    }\n",
              "  </style>\n",
              "\n",
              "    <script>\n",
              "      const buttonEl =\n",
              "        document.querySelector('#df-87d9e6d9-457d-44e1-aa73-1201fc9ad4a1 button.colab-df-convert');\n",
              "      buttonEl.style.display =\n",
              "        google.colab.kernel.accessAllowed ? 'block' : 'none';\n",
              "\n",
              "      async function convertToInteractive(key) {\n",
              "        const element = document.querySelector('#df-87d9e6d9-457d-44e1-aa73-1201fc9ad4a1');\n",
              "        const dataTable =\n",
              "          await google.colab.kernel.invokeFunction('convertToInteractive',\n",
              "                                                    [key], {});\n",
              "        if (!dataTable) return;\n",
              "\n",
              "        const docLinkHtml = 'Like what you see? Visit the ' +\n",
              "          '<a target=\"_blank\" href=https://colab.research.google.com/notebooks/data_table.ipynb>data table notebook</a>'\n",
              "          + ' to learn more about interactive tables.';\n",
              "        element.innerHTML = '';\n",
              "        dataTable['output_type'] = 'display_data';\n",
              "        await google.colab.output.renderOutput(dataTable, element);\n",
              "        const docLink = document.createElement('div');\n",
              "        docLink.innerHTML = docLinkHtml;\n",
              "        element.appendChild(docLink);\n",
              "      }\n",
              "    </script>\n",
              "  </div>\n",
              "\n",
              "\n",
              "<div id=\"df-b30fffd4-1780-40b2-9a90-e800827c9b6c\">\n",
              "  <button class=\"colab-df-quickchart\" onclick=\"quickchart('df-b30fffd4-1780-40b2-9a90-e800827c9b6c')\"\n",
              "            title=\"Suggest charts.\"\n",
              "            style=\"display:none;\">\n",
              "\n",
              "<svg xmlns=\"http://www.w3.org/2000/svg\" height=\"24px\"viewBox=\"0 0 24 24\"\n",
              "     width=\"24px\">\n",
              "    <g>\n",
              "        <path d=\"M19 3H5c-1.1 0-2 .9-2 2v14c0 1.1.9 2 2 2h14c1.1 0 2-.9 2-2V5c0-1.1-.9-2-2-2zM9 17H7v-7h2v7zm4 0h-2V7h2v10zm4 0h-2v-4h2v4z\"/>\n",
              "    </g>\n",
              "</svg>\n",
              "  </button>\n",
              "\n",
              "<style>\n",
              "  .colab-df-quickchart {\n",
              "      --bg-color: #E8F0FE;\n",
              "      --fill-color: #1967D2;\n",
              "      --hover-bg-color: #E2EBFA;\n",
              "      --hover-fill-color: #174EA6;\n",
              "      --disabled-fill-color: #AAA;\n",
              "      --disabled-bg-color: #DDD;\n",
              "  }\n",
              "\n",
              "  [theme=dark] .colab-df-quickchart {\n",
              "      --bg-color: #3B4455;\n",
              "      --fill-color: #D2E3FC;\n",
              "      --hover-bg-color: #434B5C;\n",
              "      --hover-fill-color: #FFFFFF;\n",
              "      --disabled-bg-color: #3B4455;\n",
              "      --disabled-fill-color: #666;\n",
              "  }\n",
              "\n",
              "  .colab-df-quickchart {\n",
              "    background-color: var(--bg-color);\n",
              "    border: none;\n",
              "    border-radius: 50%;\n",
              "    cursor: pointer;\n",
              "    display: none;\n",
              "    fill: var(--fill-color);\n",
              "    height: 32px;\n",
              "    padding: 0;\n",
              "    width: 32px;\n",
              "  }\n",
              "\n",
              "  .colab-df-quickchart:hover {\n",
              "    background-color: var(--hover-bg-color);\n",
              "    box-shadow: 0 1px 2px rgba(60, 64, 67, 0.3), 0 1px 3px 1px rgba(60, 64, 67, 0.15);\n",
              "    fill: var(--button-hover-fill-color);\n",
              "  }\n",
              "\n",
              "  .colab-df-quickchart-complete:disabled,\n",
              "  .colab-df-quickchart-complete:disabled:hover {\n",
              "    background-color: var(--disabled-bg-color);\n",
              "    fill: var(--disabled-fill-color);\n",
              "    box-shadow: none;\n",
              "  }\n",
              "\n",
              "  .colab-df-spinner {\n",
              "    border: 2px solid var(--fill-color);\n",
              "    border-color: transparent;\n",
              "    border-bottom-color: var(--fill-color);\n",
              "    animation:\n",
              "      spin 1s steps(1) infinite;\n",
              "  }\n",
              "\n",
              "  @keyframes spin {\n",
              "    0% {\n",
              "      border-color: transparent;\n",
              "      border-bottom-color: var(--fill-color);\n",
              "      border-left-color: var(--fill-color);\n",
              "    }\n",
              "    20% {\n",
              "      border-color: transparent;\n",
              "      border-left-color: var(--fill-color);\n",
              "      border-top-color: var(--fill-color);\n",
              "    }\n",
              "    30% {\n",
              "      border-color: transparent;\n",
              "      border-left-color: var(--fill-color);\n",
              "      border-top-color: var(--fill-color);\n",
              "      border-right-color: var(--fill-color);\n",
              "    }\n",
              "    40% {\n",
              "      border-color: transparent;\n",
              "      border-right-color: var(--fill-color);\n",
              "      border-top-color: var(--fill-color);\n",
              "    }\n",
              "    60% {\n",
              "      border-color: transparent;\n",
              "      border-right-color: var(--fill-color);\n",
              "    }\n",
              "    80% {\n",
              "      border-color: transparent;\n",
              "      border-right-color: var(--fill-color);\n",
              "      border-bottom-color: var(--fill-color);\n",
              "    }\n",
              "    90% {\n",
              "      border-color: transparent;\n",
              "      border-bottom-color: var(--fill-color);\n",
              "    }\n",
              "  }\n",
              "</style>\n",
              "\n",
              "  <script>\n",
              "    async function quickchart(key) {\n",
              "      const quickchartButtonEl =\n",
              "        document.querySelector('#' + key + ' button');\n",
              "      quickchartButtonEl.disabled = true;  // To prevent multiple clicks.\n",
              "      quickchartButtonEl.classList.add('colab-df-spinner');\n",
              "      try {\n",
              "        const charts = await google.colab.kernel.invokeFunction(\n",
              "            'suggestCharts', [key], {});\n",
              "      } catch (error) {\n",
              "        console.error('Error during call to suggestCharts:', error);\n",
              "      }\n",
              "      quickchartButtonEl.classList.remove('colab-df-spinner');\n",
              "      quickchartButtonEl.classList.add('colab-df-quickchart-complete');\n",
              "    }\n",
              "    (() => {\n",
              "      let quickchartButtonEl =\n",
              "        document.querySelector('#df-b30fffd4-1780-40b2-9a90-e800827c9b6c button');\n",
              "      quickchartButtonEl.style.display =\n",
              "        google.colab.kernel.accessAllowed ? 'block' : 'none';\n",
              "    })();\n",
              "  </script>\n",
              "</div>\n",
              "    </div>\n",
              "  </div>\n"
            ]
          },
          "metadata": {},
          "execution_count": 137
        }
      ]
    },
    {
      "cell_type": "code",
      "source": [
        "test_tokenizer = Tokenizer()\n",
        "test_tokenizer.fit_on_texts(test_sentences)"
      ],
      "metadata": {
        "id": "S5mXIrOih2nu"
      },
      "execution_count": 129,
      "outputs": []
    },
    {
      "cell_type": "code",
      "source": [
        "test_words = test_tokenizer.word_index.keys()\n"
      ],
      "metadata": {
        "id": "a8Fw_KorihXQ"
      },
      "execution_count": 132,
      "outputs": []
    },
    {
      "cell_type": "code",
      "source": [
        "train_words = df[\"words\"].to_list()"
      ],
      "metadata": {
        "id": "EVbbR7E0i4FB"
      },
      "execution_count": 133,
      "outputs": []
    },
    {
      "cell_type": "code",
      "source": [
        "len(train_words), len(test_words)"
      ],
      "metadata": {
        "colab": {
          "base_uri": "https://localhost:8080/"
        },
        "id": "JRI2dNOHjQbg",
        "outputId": "20431631-4537-4605-f590-1e0e8a5726fc"
      },
      "execution_count": 134,
      "outputs": [
        {
          "output_type": "execute_result",
          "data": {
            "text/plain": [
              "(78370, 42047)"
            ]
          },
          "metadata": {},
          "execution_count": 134
        }
      ]
    },
    {
      "cell_type": "code",
      "source": [
        "intersection = set(train_words).intersection(test_words)"
      ],
      "metadata": {
        "id": "lSTlDHwNjLSj"
      },
      "execution_count": 135,
      "outputs": []
    },
    {
      "cell_type": "code",
      "source": [
        "len(intersection)"
      ],
      "metadata": {
        "colab": {
          "base_uri": "https://localhost:8080/"
        },
        "id": "sp23fpMijawy",
        "outputId": "e01a32bb-ac2d-4776-e9bf-d232acee555b"
      },
      "execution_count": 136,
      "outputs": [
        {
          "output_type": "execute_result",
          "data": {
            "text/plain": [
              "33879"
            ]
          },
          "metadata": {},
          "execution_count": 136
        }
      ]
    },
    {
      "cell_type": "markdown",
      "source": [
        "Nous avons d'une part, 24434 mots qui ont une fréquence d'apparition supérieure à 5 et d'autre part 33879 mots qui sont à l'intersection entre les mots du test set et ceux du train set. On va choisir un nombre de mots entre ces deux valeurs pour notre vocab_size, soit 29 000."
      ],
      "metadata": {
        "id": "BLIr83qUjzLu"
      }
    },
    {
      "cell_type": "code",
      "source": [
        "vocab_size = 29_000\n",
        "\n",
        "tokenizer = Tokenizer(num_words=vocab_size, oov_token=\"<OOV>\")\n",
        "tokenizer.fit_on_texts(training_sentences)\n",
        "word_index = tokenizer.word_index\n",
        "\n",
        "training_sequences = tokenizer.texts_to_sequences(training_sentences)\n",
        "training_padded = pad_sequences(training_sequences, padding=\"post\",maxlen=15, truncating=\"post\")\n",
        "\n",
        "test_sequences = tokenizer.texts_to_sequences(test_sentences)\n",
        "test_padded = pad_sequences(test_sequences, padding=\"post\",maxlen=15, truncating=\"post\")\n",
        "\n",
        "\n",
        "model = tf.keras.models.Sequential(\n",
        "    [\n",
        "        # vocab_size pour la taille du vocabulaire\n",
        "        Embedding(vocab_size, 20),\n",
        "        tf.keras.layers.GlobalAveragePooling1D(),\n",
        "        tf.keras.layers.Dense(8, activation =\"relu\"),\n",
        "        tf.keras.layers.Dense(1, activation =\"sigmoid\")\n",
        "    ]\n",
        ")\n",
        "\n",
        "best_model = \"best_model_text.h5\"\n",
        "# permet de sauvegarder le meileur modèle au cours de l'entrainement\n",
        "model_ckp = ModelCheckpoint(filepath = best_model,\n",
        "                            monitor = \"val_accuracy\",\n",
        "                            mode =\"max\",\n",
        "                            save_best_only = True)\n",
        "# On arrête l'entrainement si après deux époques la performance du modèle n'augmente plus (sur la base de l'accuracy)\n",
        "# si c'était sur la base du loss (on observerait plutôt la dimunition)\n",
        "stop = EarlyStopping(monitor = \"val_accuracy\", patience = 4)\n",
        "\n",
        "model.compile(loss=\"binary_crossentropy\", optimizer=\"adam\", metrics=[\"accuracy\"])"
      ],
      "metadata": {
        "id": "xuMjB411jb-a"
      },
      "execution_count": 139,
      "outputs": []
    },
    {
      "cell_type": "code",
      "source": [
        "h = model.fit(training_padded, training_labels, epochs = 50,\n",
        "              validation_data=(test_padded,test_labels),\n",
        "              callbacks= [model_ckp,stop])"
      ],
      "metadata": {
        "colab": {
          "base_uri": "https://localhost:8080/"
        },
        "id": "hhehnsKglBqp",
        "outputId": "3f724abd-2e88-498c-9a3a-37074d7ae528"
      },
      "execution_count": 140,
      "outputs": [
        {
          "output_type": "stream",
          "name": "stdout",
          "text": [
            "Epoch 1/50\n",
            "625/625 [==============================] - 6s 8ms/step - loss: 0.6407 - accuracy: 0.6398 - val_loss: 0.5857 - val_accuracy: 0.6906\n",
            "Epoch 2/50\n",
            " 11/625 [..............................] - ETA: 6s - loss: 0.5012 - accuracy: 0.7727"
          ]
        },
        {
          "output_type": "stream",
          "name": "stderr",
          "text": [
            "/usr/local/lib/python3.10/dist-packages/keras/src/engine/training.py:3000: UserWarning: You are saving your model as an HDF5 file via `model.save()`. This file format is considered legacy. We recommend using instead the native Keras format, e.g. `model.save('my_model.keras')`.\n",
            "  saving_api.save_model(\n"
          ]
        },
        {
          "output_type": "stream",
          "name": "stdout",
          "text": [
            "625/625 [==============================] - 5s 9ms/step - loss: 0.4955 - accuracy: 0.7641 - val_loss: 0.5800 - val_accuracy: 0.7008\n",
            "Epoch 3/50\n",
            "625/625 [==============================] - 5s 8ms/step - loss: 0.4086 - accuracy: 0.8183 - val_loss: 0.6148 - val_accuracy: 0.6964\n",
            "Epoch 4/50\n",
            "625/625 [==============================] - 6s 9ms/step - loss: 0.3514 - accuracy: 0.8486 - val_loss: 0.6645 - val_accuracy: 0.6898\n",
            "Epoch 5/50\n",
            "625/625 [==============================] - 5s 7ms/step - loss: 0.3117 - accuracy: 0.8699 - val_loss: 0.7137 - val_accuracy: 0.6852\n",
            "Epoch 6/50\n",
            "625/625 [==============================] - 5s 8ms/step - loss: 0.2812 - accuracy: 0.8841 - val_loss: 0.7735 - val_accuracy: 0.6826\n"
          ]
        }
      ]
    },
    {
      "cell_type": "code",
      "source": [
        "plot_graphs(h, \"accuracy\")\n",
        "plot_graphs(h, \"loss\")"
      ],
      "metadata": {
        "colab": {
          "base_uri": "https://localhost:8080/",
          "height": 881
        },
        "id": "ceRjjG8GlZXA",
        "outputId": "8931b2a2-0162-43de-fc08-7396aaa5de62"
      },
      "execution_count": 141,
      "outputs": [
        {
          "output_type": "display_data",
          "data": {
            "text/plain": [
              "<Figure size 640x480 with 1 Axes>"
            ],
            "image/png": "[encoded data removed]"
          },
          "metadata": {}
        },
        {
          "output_type": "display_data",
          "data": {
            "text/plain": [
              "<Figure size 640x480 with 1 Axes>"
            ],
            "image/png": "[encoded data removed]"
          },
          "metadata": {}
        }
      ]
    },
    {
      "cell_type": "markdown",
      "source": [
        "# Embedding dim"
      ],
      "metadata": {
        "id": "sgcd9tYMmOrU"
      }
    },
    {
      "cell_type": "code",
      "source": [
        "np.power(vocab_size, .25).astype(\"int\")"
      ],
      "metadata": {
        "colab": {
          "base_uri": "https://localhost:8080/"
        },
        "id": "qB41QqzdmqkO",
        "outputId": "3c9637a6-950c-4467-8fa0-ff2ff25552f3"
      },
      "execution_count": 146,
      "outputs": [
        {
          "output_type": "execute_result",
          "data": {
            "text/plain": [
              "13"
            ]
          },
          "metadata": {},
          "execution_count": 146
        }
      ]
    },
    {
      "cell_type": "code",
      "source": [
        "vocab_size = 29_000\n",
        "\n",
        "tokenizer = Tokenizer(num_words=vocab_size, oov_token=\"<OOV>\")\n",
        "tokenizer.fit_on_texts(training_sentences)\n",
        "word_index = tokenizer.word_index\n",
        "\n",
        "training_sequences = tokenizer.texts_to_sequences(training_sentences)\n",
        "training_padded = pad_sequences(training_sequences, padding=\"post\",maxlen=15, truncating=\"post\")\n",
        "\n",
        "test_sequences = tokenizer.texts_to_sequences(test_sentences)\n",
        "test_padded = pad_sequences(test_sequences, padding=\"post\",maxlen=15, truncating=\"post\")\n",
        "\n",
        "\n",
        "model = tf.keras.models.Sequential(\n",
        "    [\n",
        "        # vocab_size pour la taille du vocabulaire\n",
        "        # ici 13 est mis pour le nombre de caractéristiques qu'on apprend sur chaque mot\n",
        "        # on recommande de prendre la racine quatrième du vocab_size\n",
        "        Embedding(vocab_size, np.power(vocab_size, .25).astype(\"int\")),\n",
        "        tf.keras.layers.GlobalAveragePooling1D(),\n",
        "        tf.keras.layers.Dense(8, activation =\"relu\"),\n",
        "        tf.keras.layers.Dense(1, activation =\"sigmoid\")\n",
        "    ]\n",
        ")\n",
        "\n",
        "best_model = \"best_model_text.h5\"\n",
        "# permet de sauvegarder le meileur modèle au cours de l'entrainement\n",
        "model_ckp = ModelCheckpoint(filepath = best_model,\n",
        "                            monitor = \"val_accuracy\",\n",
        "                            mode =\"max\",\n",
        "                            save_best_only = True)\n",
        "# On arrête l'entrainement si après deux époques la performance du modèle n'augmente plus (sur la base de l'accuracy)\n",
        "# si c'était sur la base du loss (on observerait plutôt la dimunition)\n",
        "stop = EarlyStopping(monitor = \"val_accuracy\", patience = 4)\n",
        "\n",
        "model.compile(loss=\"binary_crossentropy\", optimizer=\"adam\", metrics=[\"accuracy\"])"
      ],
      "metadata": {
        "id": "4WeJ0lSjmOMr"
      },
      "execution_count": 147,
      "outputs": []
    },
    {
      "cell_type": "code",
      "source": [
        "h = model.fit(training_padded, training_labels, epochs = 50,\n",
        "              validation_data=(test_padded,test_labels),\n",
        "              callbacks= [model_ckp])"
      ],
      "metadata": {
        "colab": {
          "base_uri": "https://localhost:8080/"
        },
        "id": "2E4Kp95dmT55",
        "outputId": "b74b7764-2214-46fc-b199-2c57578674a5"
      },
      "execution_count": 148,
      "outputs": [
        {
          "output_type": "stream",
          "name": "stdout",
          "text": [
            "Epoch 1/50\n",
            "625/625 [==============================] - 5s 6ms/step - loss: 0.6514 - accuracy: 0.6285 - val_loss: 0.6012 - val_accuracy: 0.6790\n",
            "Epoch 2/50\n",
            " 19/625 [..............................] - ETA: 3s - loss: 0.5522 - accuracy: 0.7385"
          ]
        },
        {
          "output_type": "stream",
          "name": "stderr",
          "text": [
            "/usr/local/lib/python3.10/dist-packages/keras/src/engine/training.py:3000: UserWarning: You are saving your model as an HDF5 file via `model.save()`. This file format is considered legacy. We recommend using instead the native Keras format, e.g. `model.save('my_model.keras')`.\n",
            "  saving_api.save_model(\n"
          ]
        },
        {
          "output_type": "stream",
          "name": "stdout",
          "text": [
            "625/625 [==============================] - 4s 6ms/step - loss: 0.5084 - accuracy: 0.7594 - val_loss: 0.5784 - val_accuracy: 0.6958\n",
            "Epoch 3/50\n",
            "625/625 [==============================] - 5s 8ms/step - loss: 0.4170 - accuracy: 0.8127 - val_loss: 0.6127 - val_accuracy: 0.6972\n",
            "Epoch 4/50\n",
            "625/625 [==============================] - 4s 6ms/step - loss: 0.3600 - accuracy: 0.8451 - val_loss: 0.6501 - val_accuracy: 0.6908\n",
            "Epoch 5/50\n",
            "625/625 [==============================] - 4s 6ms/step - loss: 0.3191 - accuracy: 0.8674 - val_loss: 0.6991 - val_accuracy: 0.6866\n",
            "Epoch 6/50\n",
            "625/625 [==============================] - 5s 8ms/step - loss: 0.2867 - accuracy: 0.8823 - val_loss: 0.7557 - val_accuracy: 0.6830\n",
            "Epoch 7/50\n",
            "625/625 [==============================] - 4s 6ms/step - loss: 0.2656 - accuracy: 0.8926 - val_loss: 0.8052 - val_accuracy: 0.6774\n",
            "Epoch 8/50\n",
            "625/625 [==============================] - 4s 6ms/step - loss: 0.2461 - accuracy: 0.9018 - val_loss: 0.8535 - val_accuracy: 0.6760\n",
            "Epoch 9/50\n",
            "625/625 [==============================] - 6s 10ms/step - loss: 0.2316 - accuracy: 0.9053 - val_loss: 0.9036 - val_accuracy: 0.6722\n",
            "Epoch 10/50\n",
            "625/625 [==============================] - 5s 7ms/step - loss: 0.2205 - accuracy: 0.9107 - val_loss: 0.9569 - val_accuracy: 0.6668\n",
            "Epoch 11/50\n",
            "625/625 [==============================] - 4s 6ms/step - loss: 0.2098 - accuracy: 0.9154 - val_loss: 1.0075 - val_accuracy: 0.6618\n",
            "Epoch 12/50\n",
            "625/625 [==============================] - 5s 8ms/step - loss: 0.2014 - accuracy: 0.9194 - val_loss: 1.0606 - val_accuracy: 0.6664\n",
            "Epoch 13/50\n",
            "625/625 [==============================] - 5s 9ms/step - loss: 0.1940 - accuracy: 0.9233 - val_loss: 1.0982 - val_accuracy: 0.6658\n",
            "Epoch 14/50\n",
            "625/625 [==============================] - 5s 7ms/step - loss: 0.1879 - accuracy: 0.9233 - val_loss: 1.1433 - val_accuracy: 0.6582\n",
            "Epoch 15/50\n",
            "625/625 [==============================] - 4s 7ms/step - loss: 0.1814 - accuracy: 0.9251 - val_loss: 1.1776 - val_accuracy: 0.6574\n",
            "Epoch 16/50\n",
            "625/625 [==============================] - 4s 6ms/step - loss: 0.1772 - accuracy: 0.9280 - val_loss: 1.2134 - val_accuracy: 0.6566\n",
            "Epoch 17/50\n",
            "625/625 [==============================] - 4s 7ms/step - loss: 0.1718 - accuracy: 0.9312 - val_loss: 1.2561 - val_accuracy: 0.6598\n",
            "Epoch 18/50\n",
            "625/625 [==============================] - 6s 10ms/step - loss: 0.1687 - accuracy: 0.9312 - val_loss: 1.3089 - val_accuracy: 0.6522\n",
            "Epoch 19/50\n",
            "625/625 [==============================] - 4s 6ms/step - loss: 0.1644 - accuracy: 0.9344 - val_loss: 1.3436 - val_accuracy: 0.6524\n",
            "Epoch 20/50\n",
            "625/625 [==============================] - 5s 8ms/step - loss: 0.1622 - accuracy: 0.9355 - val_loss: 1.3949 - val_accuracy: 0.6494\n",
            "Epoch 21/50\n",
            "625/625 [==============================] - 4s 7ms/step - loss: 0.1582 - accuracy: 0.9371 - val_loss: 1.4212 - val_accuracy: 0.6496\n",
            "Epoch 22/50\n",
            "625/625 [==============================] - 4s 6ms/step - loss: 0.1544 - accuracy: 0.9385 - val_loss: 1.4515 - val_accuracy: 0.6540\n",
            "Epoch 23/50\n",
            "625/625 [==============================] - 5s 8ms/step - loss: 0.1528 - accuracy: 0.9377 - val_loss: 1.4963 - val_accuracy: 0.6506\n",
            "Epoch 24/50\n",
            "625/625 [==============================] - 4s 7ms/step - loss: 0.1496 - accuracy: 0.9374 - val_loss: 1.5270 - val_accuracy: 0.6494\n",
            "Epoch 25/50\n",
            "625/625 [==============================] - 4s 7ms/step - loss: 0.1472 - accuracy: 0.9393 - val_loss: 1.5556 - val_accuracy: 0.6492\n",
            "Epoch 26/50\n",
            "625/625 [==============================] - 5s 8ms/step - loss: 0.1444 - accuracy: 0.9429 - val_loss: 1.5673 - val_accuracy: 0.6488\n",
            "Epoch 27/50\n",
            "625/625 [==============================] - 4s 6ms/step - loss: 0.1427 - accuracy: 0.9416 - val_loss: 1.6016 - val_accuracy: 0.6448\n",
            "Epoch 28/50\n",
            "625/625 [==============================] - 4s 6ms/step - loss: 0.1398 - accuracy: 0.9430 - val_loss: 1.6323 - val_accuracy: 0.6492\n",
            "Epoch 29/50\n",
            "625/625 [==============================] - 6s 10ms/step - loss: 0.1375 - accuracy: 0.9438 - val_loss: 1.6813 - val_accuracy: 0.6482\n",
            "Epoch 30/50\n",
            "625/625 [==============================] - 6s 10ms/step - loss: 0.1341 - accuracy: 0.9447 - val_loss: 1.7241 - val_accuracy: 0.6492\n",
            "Epoch 31/50\n",
            "625/625 [==============================] - 5s 9ms/step - loss: 0.1328 - accuracy: 0.9460 - val_loss: 1.7829 - val_accuracy: 0.6404\n",
            "Epoch 32/50\n",
            "625/625 [==============================] - 4s 7ms/step - loss: 0.1298 - accuracy: 0.9465 - val_loss: 1.7959 - val_accuracy: 0.6450\n",
            "Epoch 33/50\n",
            "625/625 [==============================] - 4s 7ms/step - loss: 0.1273 - accuracy: 0.9470 - val_loss: 1.8534 - val_accuracy: 0.6452\n",
            "Epoch 34/50\n",
            "625/625 [==============================] - 5s 8ms/step - loss: 0.1244 - accuracy: 0.9476 - val_loss: 1.9272 - val_accuracy: 0.6436\n",
            "Epoch 35/50\n",
            "625/625 [==============================] - 4s 6ms/step - loss: 0.1217 - accuracy: 0.9496 - val_loss: 1.9871 - val_accuracy: 0.6470\n",
            "Epoch 36/50\n",
            "625/625 [==============================] - 5s 7ms/step - loss: 0.1185 - accuracy: 0.9496 - val_loss: 2.0174 - val_accuracy: 0.6460\n",
            "Epoch 37/50\n",
            "625/625 [==============================] - 5s 8ms/step - loss: 0.1160 - accuracy: 0.9499 - val_loss: 2.1050 - val_accuracy: 0.6420\n",
            "Epoch 38/50\n",
            "625/625 [==============================] - 4s 7ms/step - loss: 0.1132 - accuracy: 0.9521 - val_loss: 2.1616 - val_accuracy: 0.6450\n",
            "Epoch 39/50\n",
            "625/625 [==============================] - 5s 8ms/step - loss: 0.1101 - accuracy: 0.9523 - val_loss: 2.2549 - val_accuracy: 0.6458\n",
            "Epoch 40/50\n",
            "625/625 [==============================] - 4s 7ms/step - loss: 0.1061 - accuracy: 0.9532 - val_loss: 2.3128 - val_accuracy: 0.6454\n",
            "Epoch 41/50\n",
            "625/625 [==============================] - 4s 7ms/step - loss: 0.1041 - accuracy: 0.9527 - val_loss: 2.4224 - val_accuracy: 0.6458\n",
            "Epoch 42/50\n",
            "625/625 [==============================] - 5s 8ms/step - loss: 0.1005 - accuracy: 0.9546 - val_loss: 2.4434 - val_accuracy: 0.6430\n",
            "Epoch 43/50\n",
            "625/625 [==============================] - 7s 11ms/step - loss: 0.0975 - accuracy: 0.9553 - val_loss: 2.5310 - val_accuracy: 0.6402\n",
            "Epoch 44/50\n",
            "625/625 [==============================] - 5s 8ms/step - loss: 0.0939 - accuracy: 0.9568 - val_loss: 2.6248 - val_accuracy: 0.6390\n",
            "Epoch 45/50\n",
            "625/625 [==============================] - 5s 7ms/step - loss: 0.0913 - accuracy: 0.9574 - val_loss: 2.6829 - val_accuracy: 0.6414\n",
            "Epoch 46/50\n",
            "625/625 [==============================] - 6s 10ms/step - loss: 0.0880 - accuracy: 0.9578 - val_loss: 2.7335 - val_accuracy: 0.6418\n",
            "Epoch 47/50\n",
            "625/625 [==============================] - 5s 8ms/step - loss: 0.0854 - accuracy: 0.9631 - val_loss: 2.8582 - val_accuracy: 0.6434\n",
            "Epoch 48/50\n",
            "625/625 [==============================] - 5s 8ms/step - loss: 0.0845 - accuracy: 0.9649 - val_loss: 2.9472 - val_accuracy: 0.6428\n",
            "Epoch 49/50\n",
            "625/625 [==============================] - 7s 12ms/step - loss: 0.0805 - accuracy: 0.9676 - val_loss: 3.0408 - val_accuracy: 0.6428\n",
            "Epoch 50/50\n",
            "625/625 [==============================] - 4s 7ms/step - loss: 0.0792 - accuracy: 0.9678 - val_loss: 3.1487 - val_accuracy: 0.6412\n"
          ]
        }
      ]
    },
    {
      "cell_type": "code",
      "source": [],
      "metadata": {
        "id": "RwcOyK2GnX19"
      },
      "execution_count": null,
      "outputs": []
    },
    {
      "cell_type": "code",
      "source": [
        "plot_graphs(h, \"accuracy\")\n",
        "plot_graphs(h, \"loss\")"
      ],
      "metadata": {
        "colab": {
          "base_uri": "https://localhost:8080/",
          "height": 881
        },
        "outputId": "4076d0af-ebb6-4d23-d0d4-25646b52589f",
        "id": "qfBubEN_nYVx"
      },
      "execution_count": 149,
      "outputs": [
        {
          "output_type": "display_data",
          "data": {
            "text/plain": [
              "<Figure size 640x480 with 1 Axes>"
            ],
            "image/png": "[encoded data removed]"
          },
          "metadata": {}
        },
        {
          "output_type": "display_data",
          "data": {
            "text/plain": [
              "<Figure size 640x480 with 1 Axes>"
            ],
            "image/png": "[encoded data removed]"
          },
          "metadata": {}
        }
      ]
    },
    {
      "cell_type": "markdown",
      "source": [
        "# Architecture du modèle"
      ],
      "metadata": {
        "id": "PfTh7uqpntu0"
      }
    },
    {
      "cell_type": "code",
      "source": [
        "vocab_size = 29_000\n",
        "\n",
        "tokenizer = Tokenizer(num_words=vocab_size, oov_token=\"<OOV>\")\n",
        "tokenizer.fit_on_texts(training_sentences)\n",
        "word_index = tokenizer.word_index\n",
        "\n",
        "training_sequences = tokenizer.texts_to_sequences(training_sentences)\n",
        "training_padded = pad_sequences(training_sequences, padding=\"post\",maxlen=15, truncating=\"post\")\n",
        "\n",
        "test_sequences = tokenizer.texts_to_sequences(test_sentences)\n",
        "test_padded = pad_sequences(test_sequences, padding=\"post\",maxlen=15, truncating=\"post\")\n",
        "\n",
        "\n",
        "model = tf.keras.models.Sequential(\n",
        "    [\n",
        "        # vocab_size pour la taille du vocabulaire\n",
        "        # ici 13 est mis pour le nombre de caractéristiques qu'on apprend sur chaque mot\n",
        "        # on recommande de prendre la racine quatrième du vocab_size\n",
        "        Embedding(vocab_size, np.power(vocab_size, .25).astype(\"int\")),\n",
        "        tf.keras.layers.GlobalAveragePooling1D(),\n",
        "        tf.keras.layers.Dense(5, activation =\"relu\"),\n",
        "        tf.keras.layers.Dense(3, activation =\"relu\"),\n",
        "        tf.keras.layers.Dense(1, activation =\"sigmoid\")\n",
        "    ]\n",
        ")\n",
        "\n",
        "best_model = \"best_model_text.h5\"\n",
        "# permet de sauvegarder le meileur modèle au cours de l'entrainement\n",
        "model_ckp = ModelCheckpoint(filepath = best_model,\n",
        "                            monitor = \"val_accuracy\",\n",
        "                            mode =\"max\",\n",
        "                            save_best_only = True)\n",
        "# On arrête l'entrainement si après deux époques la performance du modèle n'augmente plus (sur la base de l'accuracy)\n",
        "# si c'était sur la base du loss (on observerait plutôt la dimunition)\n",
        "stop = EarlyStopping(monitor = \"val_accuracy\", patience = 4)\n",
        "\n",
        "model.compile(loss=\"binary_crossentropy\", optimizer=\"adam\", metrics=[\"accuracy\"])"
      ],
      "metadata": {
        "id": "MHfHK_Zjnv-v"
      },
      "execution_count": 150,
      "outputs": []
    },
    {
      "cell_type": "code",
      "source": [
        "h = model.fit(training_padded, training_labels, epochs = 50,\n",
        "              validation_data=(test_padded,test_labels),\n",
        "              callbacks= [model_ckp])"
      ],
      "metadata": {
        "colab": {
          "base_uri": "https://localhost:8080/"
        },
        "id": "tRvrNtPIoCjq",
        "outputId": "21c68f96-00bc-47b0-dd93-daa4e3d438ad"
      },
      "execution_count": 151,
      "outputs": [
        {
          "output_type": "stream",
          "name": "stdout",
          "text": [
            "Epoch 1/50\n",
            "625/625 [==============================] - 5s 7ms/step - loss: 0.6436 - accuracy: 0.6402 - val_loss: 0.5858 - val_accuracy: 0.6914\n",
            "Epoch 2/50\n",
            "625/625 [==============================] - 5s 8ms/step - loss: 0.4901 - accuracy: 0.7688 - val_loss: 0.5832 - val_accuracy: 0.7028\n",
            "Epoch 3/50\n",
            "625/625 [==============================] - 4s 7ms/step - loss: 0.4004 - accuracy: 0.8242 - val_loss: 0.6234 - val_accuracy: 0.6986\n",
            "Epoch 4/50\n",
            "625/625 [==============================] - 5s 8ms/step - loss: 0.3440 - accuracy: 0.8533 - val_loss: 0.6761 - val_accuracy: 0.6886\n",
            "Epoch 5/50\n",
            "625/625 [==============================] - 4s 7ms/step - loss: 0.3040 - accuracy: 0.8734 - val_loss: 0.7413 - val_accuracy: 0.6840\n",
            "Epoch 6/50\n",
            "625/625 [==============================] - 4s 7ms/step - loss: 0.2763 - accuracy: 0.8873 - val_loss: 0.7887 - val_accuracy: 0.6790\n",
            "Epoch 7/50\n",
            "625/625 [==============================] - 5s 8ms/step - loss: 0.2541 - accuracy: 0.8994 - val_loss: 0.8386 - val_accuracy: 0.6734\n",
            "Epoch 8/50\n",
            "625/625 [==============================] - 4s 7ms/step - loss: 0.2363 - accuracy: 0.9051 - val_loss: 0.8911 - val_accuracy: 0.6646\n",
            "Epoch 9/50\n",
            "625/625 [==============================] - 4s 7ms/step - loss: 0.2238 - accuracy: 0.9103 - val_loss: 0.9167 - val_accuracy: 0.6678\n",
            "Epoch 10/50\n",
            "625/625 [==============================] - 5s 8ms/step - loss: 0.2129 - accuracy: 0.9133 - val_loss: 0.9386 - val_accuracy: 0.6632\n",
            "Epoch 11/50\n",
            "625/625 [==============================] - 4s 7ms/step - loss: 0.2022 - accuracy: 0.9190 - val_loss: 0.9913 - val_accuracy: 0.6602\n",
            "Epoch 12/50\n",
            "625/625 [==============================] - 4s 7ms/step - loss: 0.1941 - accuracy: 0.9240 - val_loss: 1.0244 - val_accuracy: 0.6570\n",
            "Epoch 13/50\n",
            "625/625 [==============================] - 5s 8ms/step - loss: 0.1854 - accuracy: 0.9272 - val_loss: 1.0672 - val_accuracy: 0.6626\n",
            "Epoch 14/50\n",
            "625/625 [==============================] - 4s 7ms/step - loss: 0.1784 - accuracy: 0.9307 - val_loss: 1.0931 - val_accuracy: 0.6564\n",
            "Epoch 15/50\n",
            "625/625 [==============================] - 5s 7ms/step - loss: 0.1719 - accuracy: 0.9317 - val_loss: 1.1238 - val_accuracy: 0.6548\n",
            "Epoch 16/50\n",
            "625/625 [==============================] - 5s 8ms/step - loss: 0.1665 - accuracy: 0.9334 - val_loss: 1.1593 - val_accuracy: 0.6558\n",
            "Epoch 17/50\n",
            "625/625 [==============================] - 4s 7ms/step - loss: 0.1597 - accuracy: 0.9352 - val_loss: 1.2167 - val_accuracy: 0.6548\n",
            "Epoch 18/50\n",
            "625/625 [==============================] - 5s 9ms/step - loss: 0.1531 - accuracy: 0.9380 - val_loss: 1.2885 - val_accuracy: 0.6554\n",
            "Epoch 19/50\n",
            "625/625 [==============================] - 4s 7ms/step - loss: 0.1463 - accuracy: 0.9412 - val_loss: 1.3146 - val_accuracy: 0.6564\n",
            "Epoch 20/50\n",
            "625/625 [==============================] - 4s 7ms/step - loss: 0.1403 - accuracy: 0.9435 - val_loss: 1.3536 - val_accuracy: 0.6518\n",
            "Epoch 21/50\n",
            "625/625 [==============================] - 5s 9ms/step - loss: 0.1323 - accuracy: 0.9460 - val_loss: 1.4651 - val_accuracy: 0.6608\n",
            "Epoch 22/50\n",
            "625/625 [==============================] - 5s 7ms/step - loss: 0.1271 - accuracy: 0.9449 - val_loss: 1.5365 - val_accuracy: 0.6530\n",
            "Epoch 23/50\n",
            "625/625 [==============================] - 5s 8ms/step - loss: 0.1187 - accuracy: 0.9492 - val_loss: 1.6366 - val_accuracy: 0.6552\n",
            "Epoch 24/50\n",
            "625/625 [==============================] - 5s 7ms/step - loss: 0.1121 - accuracy: 0.9510 - val_loss: 1.7288 - val_accuracy: 0.6574\n",
            "Epoch 25/50\n",
            "625/625 [==============================] - 4s 7ms/step - loss: 0.1044 - accuracy: 0.9541 - val_loss: 1.8723 - val_accuracy: 0.6576\n",
            "Epoch 26/50\n",
            "625/625 [==============================] - 5s 9ms/step - loss: 0.0996 - accuracy: 0.9561 - val_loss: 1.9285 - val_accuracy: 0.6526\n",
            "Epoch 27/50\n",
            "625/625 [==============================] - 4s 7ms/step - loss: 0.0934 - accuracy: 0.9576 - val_loss: 2.0955 - val_accuracy: 0.6554\n",
            "Epoch 28/50\n",
            "625/625 [==============================] - 5s 8ms/step - loss: 0.0874 - accuracy: 0.9603 - val_loss: 2.1856 - val_accuracy: 0.6548\n",
            "Epoch 29/50\n",
            "625/625 [==============================] - 8s 13ms/step - loss: 0.0812 - accuracy: 0.9629 - val_loss: 2.3285 - val_accuracy: 0.6556\n",
            "Epoch 30/50\n",
            "625/625 [==============================] - 5s 8ms/step - loss: 0.0766 - accuracy: 0.9650 - val_loss: 2.4344 - val_accuracy: 0.6534\n",
            "Epoch 31/50\n",
            "625/625 [==============================] - 5s 9ms/step - loss: 0.0711 - accuracy: 0.9667 - val_loss: 2.5971 - val_accuracy: 0.6538\n",
            "Epoch 32/50\n",
            "625/625 [==============================] - 4s 7ms/step - loss: 0.0688 - accuracy: 0.9682 - val_loss: 2.7964 - val_accuracy: 0.6530\n",
            "Epoch 33/50\n",
            "625/625 [==============================] - 5s 8ms/step - loss: 0.0641 - accuracy: 0.9694 - val_loss: 2.9261 - val_accuracy: 0.6498\n",
            "Epoch 34/50\n",
            "625/625 [==============================] - 7s 12ms/step - loss: 0.0586 - accuracy: 0.9719 - val_loss: 3.0162 - val_accuracy: 0.6498\n",
            "Epoch 35/50\n",
            "625/625 [==============================] - 7s 10ms/step - loss: 0.0589 - accuracy: 0.9712 - val_loss: 3.1373 - val_accuracy: 0.6484\n",
            "Epoch 36/50\n",
            "625/625 [==============================] - 8s 12ms/step - loss: 0.0532 - accuracy: 0.9739 - val_loss: 3.3848 - val_accuracy: 0.6522\n",
            "Epoch 37/50\n",
            "625/625 [==============================] - 7s 11ms/step - loss: 0.0501 - accuracy: 0.9746 - val_loss: 3.5437 - val_accuracy: 0.6488\n",
            "Epoch 38/50\n",
            "625/625 [==============================] - 7s 11ms/step - loss: 0.0497 - accuracy: 0.9750 - val_loss: 3.7093 - val_accuracy: 0.6488\n",
            "Epoch 39/50\n",
            "625/625 [==============================] - 8s 12ms/step - loss: 0.0463 - accuracy: 0.9761 - val_loss: 3.8560 - val_accuracy: 0.6508\n",
            "Epoch 40/50\n",
            "625/625 [==============================] - 6s 9ms/step - loss: 0.0435 - accuracy: 0.9772 - val_loss: 4.0115 - val_accuracy: 0.6528\n",
            "Epoch 41/50\n",
            "625/625 [==============================] - 7s 11ms/step - loss: 0.0423 - accuracy: 0.9767 - val_loss: 4.1145 - val_accuracy: 0.6480\n",
            "Epoch 42/50\n",
            "625/625 [==============================] - 8s 12ms/step - loss: 0.0440 - accuracy: 0.9765 - val_loss: 4.1853 - val_accuracy: 0.6510\n",
            "Epoch 43/50\n",
            "625/625 [==============================] - 7s 11ms/step - loss: 0.0376 - accuracy: 0.9793 - val_loss: 4.3412 - val_accuracy: 0.6500\n",
            "Epoch 44/50\n",
            "625/625 [==============================] - 6s 9ms/step - loss: 0.0369 - accuracy: 0.9788 - val_loss: 4.4945 - val_accuracy: 0.6490\n",
            "Epoch 45/50\n",
            "625/625 [==============================] - 9s 14ms/step - loss: 0.0361 - accuracy: 0.9796 - val_loss: 4.6674 - val_accuracy: 0.6476\n",
            "Epoch 46/50\n",
            "625/625 [==============================] - 9s 15ms/step - loss: 0.0361 - accuracy: 0.9798 - val_loss: 4.7653 - val_accuracy: 0.6458\n",
            "Epoch 47/50\n",
            "625/625 [==============================] - 8s 12ms/step - loss: 0.0331 - accuracy: 0.9802 - val_loss: 4.8979 - val_accuracy: 0.6478\n",
            "Epoch 48/50\n",
            "625/625 [==============================] - 8s 12ms/step - loss: 0.0329 - accuracy: 0.9807 - val_loss: 5.0788 - val_accuracy: 0.6454\n",
            "Epoch 49/50\n",
            "625/625 [==============================] - 4s 7ms/step - loss: 0.0345 - accuracy: 0.9797 - val_loss: 5.1120 - val_accuracy: 0.6492\n",
            "Epoch 50/50\n",
            "625/625 [==============================] - 6s 10ms/step - loss: 0.0335 - accuracy: 0.9806 - val_loss: 5.2059 - val_accuracy: 0.6494\n"
          ]
        }
      ]
    },
    {
      "cell_type": "code",
      "source": [
        "plot_graphs(h, \"accuracy\")\n",
        "plot_graphs(h, \"loss\")"
      ],
      "metadata": {
        "colab": {
          "base_uri": "https://localhost:8080/",
          "height": 881
        },
        "id": "5oTXSkDrpgB3",
        "outputId": "7eb43612-6fd0-47fe-9c7e-7298951b6ae9"
      },
      "execution_count": 164,
      "outputs": [
        {
          "output_type": "display_data",
          "data": {
            "text/plain": [
              "<Figure size 640x480 with 1 Axes>"
            ],
            "image/png": "[encoded data removed]"
          },
          "metadata": {}
        },
        {
          "output_type": "display_data",
          "data": {
            "text/plain": [
              "<Figure size 640x480 with 1 Axes>"
            ],
            "image/png": "[encoded data removed]"
          },
          "metadata": {}
        }
      ]
    },
    {
      "cell_type": "markdown",
      "source": [
        "# Max Len & Dropout"
      ],
      "metadata": {
        "id": "z5V1QKPgpAj8"
      }
    },
    {
      "cell_type": "code",
      "source": [
        "# on parcous l'ensemble des phrases du train pour chercher la taille optimale de maxlen à passer\n",
        "# en paramètre\n",
        "\n",
        "tailles = []\n",
        "for sent in training_sentences:\n",
        "  tailles.append(len(sent.split(\" \")))"
      ],
      "metadata": {
        "id": "nWSzRRNlpLNU"
      },
      "execution_count": 155,
      "outputs": []
    },
    {
      "cell_type": "code",
      "source": [
        "np.array(tailles).min(), np.array(tailles).max(), np.array(tailles).mean(),  np.median(np.array(tailles))"
      ],
      "metadata": {
        "colab": {
          "base_uri": "https://localhost:8080/"
        },
        "id": "aGJI9d8fp8aS",
        "outputId": "16012b99-25f4-47a8-a524-9c9fbf203425"
      },
      "execution_count": 158,
      "outputs": [
        {
          "output_type": "execute_result",
          "data": {
            "text/plain": [
              "(10, 2470, 233.90165, 174.0)"
            ]
          },
          "metadata": {},
          "execution_count": 158
        }
      ]
    },
    {
      "cell_type": "code",
      "source": [
        "vocab_size = 29_000\n",
        "maxlen = 100\n",
        "\n",
        "tokenizer = Tokenizer(num_words=vocab_size, oov_token=\"<OOV>\")\n",
        "tokenizer.fit_on_texts(training_sentences)\n",
        "word_index = tokenizer.word_index\n",
        "\n",
        "training_sequences = tokenizer.texts_to_sequences(training_sentences)\n",
        "training_padded = pad_sequences(training_sequences, padding=\"post\",maxlen=maxlen, truncating=\"post\")\n",
        "\n",
        "test_sequences = tokenizer.texts_to_sequences(test_sentences)\n",
        "test_padded = pad_sequences(test_sequences, padding=\"post\",maxlen=maxlen, truncating=\"post\")\n",
        "\n",
        "\n",
        "model = tf.keras.models.Sequential(\n",
        "    [\n",
        "        # vocab_size pour la taille du vocabulaire\n",
        "        # ici 13 est mis pour le nombre de caractéristiques qu'on apprend sur chaque mot\n",
        "        # on recommande de prendre la racine quatrième du vocab_size\n",
        "        Embedding(vocab_size, np.power(vocab_size, .25).astype(\"int\")),\n",
        "        tf.keras.layers.GlobalAveragePooling1D(),\n",
        "        tf.keras.layers.Dense(5, activation =\"relu\"),\n",
        "        tf.keras.layers.Dropout(.25),\n",
        "        tf.keras.layers.Dense(3, activation =\"relu\"),\n",
        "        tf.keras.layers.Dropout(.25),\n",
        "        tf.keras.layers.Dense(1, activation =\"sigmoid\")\n",
        "    ]\n",
        ")\n",
        "\n",
        "best_model = \"best_model_text.h5\"\n",
        "# permet de sauvegarder le meileur modèle au cours de l'entrainement\n",
        "model_ckp = ModelCheckpoint(filepath = best_model,\n",
        "                            monitor = \"val_accuracy\",\n",
        "                            mode =\"max\",\n",
        "                            save_best_only = True)\n",
        "# On arrête l'entrainement si après deux époques la performance du modèle n'augmente plus (sur la base de l'accuracy)\n",
        "# si c'était sur la base du loss (on observerait plutôt la dimunition)\n",
        "stop = EarlyStopping(monitor = \"val_accuracy\", patience = 4)\n",
        "\n",
        "model.compile(loss=\"binary_crossentropy\", optimizer=\"adam\", metrics=[\"accuracy\"])"
      ],
      "metadata": {
        "id": "DF-ApMfoo_-d"
      },
      "execution_count": 160,
      "outputs": []
    },
    {
      "cell_type": "code",
      "source": [
        "h = model.fit(training_padded, training_labels, epochs = 50,\n",
        "              validation_data=(test_padded,test_labels),\n",
        "              callbacks= [model_ckp])"
      ],
      "metadata": {
        "colab": {
          "base_uri": "https://localhost:8080/"
        },
        "id": "1-wuHPqcpJL9",
        "outputId": "8021909b-d0bd-4d1c-f93f-55b697f45101"
      },
      "execution_count": 161,
      "outputs": [
        {
          "output_type": "stream",
          "name": "stdout",
          "text": [
            "Epoch 1/50\n",
            "625/625 [==============================] - 7s 9ms/step - loss: 0.6397 - accuracy: 0.6163 - val_loss: 0.4933 - val_accuracy: 0.8088\n",
            "Epoch 2/50\n",
            " 10/625 [..............................] - ETA: 7s - loss: 0.5091 - accuracy: 0.7563"
          ]
        },
        {
          "output_type": "stream",
          "name": "stderr",
          "text": [
            "/usr/local/lib/python3.10/dist-packages/keras/src/engine/training.py:3000: UserWarning: You are saving your model as an HDF5 file via `model.save()`. This file format is considered legacy. We recommend using instead the native Keras format, e.g. `model.save('my_model.keras')`.\n",
            "  saving_api.save_model(\n"
          ]
        },
        {
          "output_type": "stream",
          "name": "stdout",
          "text": [
            "625/625 [==============================] - 5s 8ms/step - loss: 0.4721 - accuracy: 0.7768 - val_loss: 0.3999 - val_accuracy: 0.8286\n",
            "Epoch 3/50\n",
            "625/625 [==============================] - 5s 8ms/step - loss: 0.3878 - accuracy: 0.8389 - val_loss: 0.3812 - val_accuracy: 0.8326\n",
            "Epoch 4/50\n",
            "625/625 [==============================] - 6s 9ms/step - loss: 0.3427 - accuracy: 0.8722 - val_loss: 0.3774 - val_accuracy: 0.8382\n",
            "Epoch 5/50\n",
            "625/625 [==============================] - 5s 8ms/step - loss: 0.3063 - accuracy: 0.8873 - val_loss: 0.3880 - val_accuracy: 0.8386\n",
            "Epoch 6/50\n",
            "625/625 [==============================] - 6s 9ms/step - loss: 0.2708 - accuracy: 0.9035 - val_loss: 0.4066 - val_accuracy: 0.8358\n",
            "Epoch 7/50\n",
            "625/625 [==============================] - 5s 8ms/step - loss: 0.2527 - accuracy: 0.9103 - val_loss: 0.4353 - val_accuracy: 0.8324\n",
            "Epoch 8/50\n",
            "625/625 [==============================] - 5s 7ms/step - loss: 0.2349 - accuracy: 0.9177 - val_loss: 0.4675 - val_accuracy: 0.8314\n",
            "Epoch 9/50\n",
            "625/625 [==============================] - 6s 9ms/step - loss: 0.2143 - accuracy: 0.9240 - val_loss: 0.5040 - val_accuracy: 0.8278\n",
            "Epoch 10/50\n",
            "625/625 [==============================] - 5s 7ms/step - loss: 0.2093 - accuracy: 0.9247 - val_loss: 0.5305 - val_accuracy: 0.8290\n",
            "Epoch 11/50\n",
            "625/625 [==============================] - 6s 9ms/step - loss: 0.1962 - accuracy: 0.9297 - val_loss: 0.5678 - val_accuracy: 0.8228\n",
            "Epoch 12/50\n",
            "625/625 [==============================] - 5s 8ms/step - loss: 0.1959 - accuracy: 0.9267 - val_loss: 0.6004 - val_accuracy: 0.8180\n",
            "Epoch 13/50\n",
            "625/625 [==============================] - 5s 8ms/step - loss: 0.1816 - accuracy: 0.9330 - val_loss: 0.6489 - val_accuracy: 0.8212\n",
            "Epoch 14/50\n",
            "625/625 [==============================] - 6s 9ms/step - loss: 0.1705 - accuracy: 0.9385 - val_loss: 0.7079 - val_accuracy: 0.8184\n",
            "Epoch 15/50\n",
            "625/625 [==============================] - 5s 8ms/step - loss: 0.1697 - accuracy: 0.9361 - val_loss: 0.7521 - val_accuracy: 0.8160\n",
            "Epoch 16/50\n",
            "625/625 [==============================] - 6s 9ms/step - loss: 0.1734 - accuracy: 0.9338 - val_loss: 0.7924 - val_accuracy: 0.8106\n",
            "Epoch 17/50\n",
            "625/625 [==============================] - 5s 8ms/step - loss: 0.1648 - accuracy: 0.9392 - val_loss: 0.8863 - val_accuracy: 0.8100\n",
            "Epoch 18/50\n",
            "625/625 [==============================] - 5s 9ms/step - loss: 0.1642 - accuracy: 0.9368 - val_loss: 0.9029 - val_accuracy: 0.8130\n",
            "Epoch 19/50\n",
            "625/625 [==============================] - 5s 9ms/step - loss: 0.1639 - accuracy: 0.9382 - val_loss: 0.9422 - val_accuracy: 0.8152\n",
            "Epoch 20/50\n",
            "625/625 [==============================] - 5s 8ms/step - loss: 0.1629 - accuracy: 0.9381 - val_loss: 1.0165 - val_accuracy: 0.8132\n",
            "Epoch 21/50\n",
            "625/625 [==============================] - 6s 9ms/step - loss: 0.1649 - accuracy: 0.9369 - val_loss: 1.0751 - val_accuracy: 0.8134\n",
            "Epoch 22/50\n",
            "625/625 [==============================] - 5s 8ms/step - loss: 0.1617 - accuracy: 0.9384 - val_loss: 1.1327 - val_accuracy: 0.8114\n",
            "Epoch 23/50\n",
            "625/625 [==============================] - 6s 10ms/step - loss: 0.1588 - accuracy: 0.9391 - val_loss: 1.1342 - val_accuracy: 0.8132\n",
            "Epoch 24/50\n",
            "625/625 [==============================] - 5s 8ms/step - loss: 0.1589 - accuracy: 0.9398 - val_loss: 1.2017 - val_accuracy: 0.8112\n",
            "Epoch 25/50\n",
            "625/625 [==============================] - 5s 8ms/step - loss: 0.1651 - accuracy: 0.9378 - val_loss: 1.1894 - val_accuracy: 0.8122\n",
            "Epoch 26/50\n",
            "625/625 [==============================] - 6s 9ms/step - loss: 0.1562 - accuracy: 0.9408 - val_loss: 1.2409 - val_accuracy: 0.8138\n",
            "Epoch 27/50\n",
            "625/625 [==============================] - 5s 8ms/step - loss: 0.1559 - accuracy: 0.9416 - val_loss: 1.3160 - val_accuracy: 0.8098\n",
            "Epoch 28/50\n",
            "625/625 [==============================] - 6s 9ms/step - loss: 0.1597 - accuracy: 0.9399 - val_loss: 1.3487 - val_accuracy: 0.8104\n",
            "Epoch 29/50\n",
            "625/625 [==============================] - 5s 8ms/step - loss: 0.1546 - accuracy: 0.9421 - val_loss: 1.3034 - val_accuracy: 0.8062\n",
            "Epoch 30/50\n",
            "625/625 [==============================] - 5s 8ms/step - loss: 0.1606 - accuracy: 0.9388 - val_loss: 1.4438 - val_accuracy: 0.8020\n",
            "Epoch 31/50\n",
            "625/625 [==============================] - 5s 9ms/step - loss: 0.1566 - accuracy: 0.9418 - val_loss: 1.4402 - val_accuracy: 0.8070\n",
            "Epoch 32/50\n",
            "625/625 [==============================] - 5s 8ms/step - loss: 0.1633 - accuracy: 0.9371 - val_loss: 1.4375 - val_accuracy: 0.8076\n",
            "Epoch 33/50\n",
            "625/625 [==============================] - 6s 9ms/step - loss: 0.1583 - accuracy: 0.9394 - val_loss: 1.5255 - val_accuracy: 0.8088\n",
            "Epoch 34/50\n",
            "625/625 [==============================] - 5s 8ms/step - loss: 0.1623 - accuracy: 0.9362 - val_loss: 1.5956 - val_accuracy: 0.8068\n",
            "Epoch 35/50\n",
            "625/625 [==============================] - 6s 9ms/step - loss: 0.1598 - accuracy: 0.9383 - val_loss: 1.7022 - val_accuracy: 0.8072\n",
            "Epoch 36/50\n",
            "625/625 [==============================] - 5s 8ms/step - loss: 0.1536 - accuracy: 0.9423 - val_loss: 1.6963 - val_accuracy: 0.8042\n",
            "Epoch 37/50\n",
            "625/625 [==============================] - 5s 8ms/step - loss: 0.1641 - accuracy: 0.9365 - val_loss: 1.6131 - val_accuracy: 0.8064\n",
            "Epoch 38/50\n",
            "625/625 [==============================] - 6s 9ms/step - loss: 0.1576 - accuracy: 0.9414 - val_loss: 1.6926 - val_accuracy: 0.8050\n",
            "Epoch 39/50\n",
            "625/625 [==============================] - 5s 8ms/step - loss: 0.1600 - accuracy: 0.9386 - val_loss: 1.7626 - val_accuracy: 0.7980\n",
            "Epoch 40/50\n",
            "625/625 [==============================] - 6s 9ms/step - loss: 0.1625 - accuracy: 0.9375 - val_loss: 1.7872 - val_accuracy: 0.8006\n",
            "Epoch 41/50\n",
            "625/625 [==============================] - 5s 8ms/step - loss: 0.1595 - accuracy: 0.9381 - val_loss: 1.8008 - val_accuracy: 0.7978\n",
            "Epoch 42/50\n",
            "625/625 [==============================] - 5s 9ms/step - loss: 0.1577 - accuracy: 0.9403 - val_loss: 1.7867 - val_accuracy: 0.7992\n",
            "Epoch 43/50\n",
            "625/625 [==============================] - 5s 8ms/step - loss: 0.1623 - accuracy: 0.9374 - val_loss: 1.8767 - val_accuracy: 0.7998\n",
            "Epoch 44/50\n",
            "625/625 [==============================] - 5s 8ms/step - loss: 0.1559 - accuracy: 0.9408 - val_loss: 1.9426 - val_accuracy: 0.7992\n",
            "Epoch 45/50\n",
            "625/625 [==============================] - 8s 12ms/step - loss: 0.1592 - accuracy: 0.9388 - val_loss: 2.0028 - val_accuracy: 0.7996\n",
            "Epoch 46/50\n",
            "625/625 [==============================] - 7s 11ms/step - loss: 0.1577 - accuracy: 0.9400 - val_loss: 2.0624 - val_accuracy: 0.7982\n",
            "Epoch 47/50\n",
            "625/625 [==============================] - 6s 9ms/step - loss: 0.1604 - accuracy: 0.9396 - val_loss: 2.1258 - val_accuracy: 0.7978\n",
            "Epoch 48/50\n",
            "625/625 [==============================] - 5s 8ms/step - loss: 0.1587 - accuracy: 0.9377 - val_loss: 2.1863 - val_accuracy: 0.7978\n",
            "Epoch 49/50\n",
            "625/625 [==============================] - 6s 9ms/step - loss: 0.1634 - accuracy: 0.9382 - val_loss: 1.9523 - val_accuracy: 0.7978\n",
            "Epoch 50/50\n",
            "625/625 [==============================] - 5s 8ms/step - loss: 0.1627 - accuracy: 0.9362 - val_loss: 1.8506 - val_accuracy: 0.7964\n"
          ]
        }
      ]
    },
    {
      "cell_type": "code",
      "source": [
        "plot_graphs(h, \"accuracy\")\n",
        "plot_graphs(h, \"loss\")"
      ],
      "metadata": {
        "colab": {
          "base_uri": "https://localhost:8080/",
          "height": 881
        },
        "id": "UxRjLKjbr9-i",
        "outputId": "ba645aa3-1123-4f3f-e4fc-be51f3edd6e7"
      },
      "execution_count": 165,
      "outputs": [
        {
          "output_type": "display_data",
          "data": {
            "text/plain": [
              "<Figure size 640x480 with 1 Axes>"
            ],
            "image/png": "[encoded data removed]"
          },
          "metadata": {}
        },
        {
          "output_type": "display_data",
          "data": {
            "text/plain": [
              "<Figure size 640x480 with 1 Axes>"
            ],
            "image/png": "[encoded data removed]"
          },
          "metadata": {}
        }
      ]
    },
    {
      "cell_type": "code",
      "source": [
        "from tensorflow.keras.models import load_model"
      ],
      "metadata": {
        "id": "OrthHdjXsBXL"
      },
      "execution_count": 167,
      "outputs": []
    },
    {
      "cell_type": "code",
      "source": [
        "model_text = load_model(\"best_model_text.h5\")"
      ],
      "metadata": {
        "id": "spmaTlu_snze"
      },
      "execution_count": 168,
      "outputs": []
    },
    {
      "cell_type": "code",
      "source": [
        "model_text.summary()"
      ],
      "metadata": {
        "colab": {
          "base_uri": "https://localhost:8080/"
        },
        "id": "0HqKEJgXsyax",
        "outputId": "70a607d1-2786-4ae1-9530-e9313cddd9fb"
      },
      "execution_count": 169,
      "outputs": [
        {
          "output_type": "stream",
          "name": "stdout",
          "text": [
            "Model: \"sequential_7\"\n",
            "_________________________________________________________________\n",
            " Layer (type)                Output Shape              Param #   \n",
            "=================================================================\n",
            " embedding_7 (Embedding)     (None, None, 13)          377000    \n",
            "                                                                 \n",
            " global_average_pooling1d_7  (None, 13)                0         \n",
            "  (GlobalAveragePooling1D)                                       \n",
            "                                                                 \n",
            " dense_16 (Dense)            (None, 5)                 70        \n",
            "                                                                 \n",
            " dropout (Dropout)           (None, 5)                 0         \n",
            "                                                                 \n",
            " dense_17 (Dense)            (None, 3)                 18        \n",
            "                                                                 \n",
            " dropout_1 (Dropout)         (None, 3)                 0         \n",
            "                                                                 \n",
            " dense_18 (Dense)            (None, 1)                 4         \n",
            "                                                                 \n",
            "=================================================================\n",
            "Total params: 377092 (1.44 MB)\n",
            "Trainable params: 377092 (1.44 MB)\n",
            "Non-trainable params: 0 (0.00 Byte)\n",
            "_________________________________________________________________\n"
          ]
        }
      ]
    },
    {
      "cell_type": "code",
      "source": [
        "test_padded[45]"
      ],
      "metadata": {
        "colab": {
          "base_uri": "https://localhost:8080/"
        },
        "id": "XMaxcIsdtUIl",
        "outputId": "cd5c1000-93f7-49ba-edd6-898a9071a83c"
      },
      "execution_count": 174,
      "outputs": [
        {
          "output_type": "execute_result",
          "data": {
            "text/plain": [
              "array([   60,   450,    29,    64,   117,    14,  4834,     1,     1,\n",
              "           6,  2317,     3,   134,     7,  1094,   572,    25,   558,\n",
              "          14,   575,     3,  6007,    37,   987,     9,   192,    13,\n",
              "        2757,   874,     6,   371,    90,     9,     2,    88,  8204,\n",
              "        9171,   313,   194,    27,    14,     2,  9454,     5,  8204,\n",
              "         260,   341,     2,   273,    33,     1,    36,  1065,     4,\n",
              "        4949,     5,  9171,    27,  2601,    13,     2,  1878,     1,\n",
              "           3,  6730,  2939,   907,     2, 12194,  8204,     6,  9171,\n",
              "          44,     7,    62,   796,    13,  9171,   123,     4,   925,\n",
              "         294,     9,     2,    66,    19,     2,    66,     7,    24,\n",
              "        1106,   280,  1896,    10,    22,   352,    11,   347,     6,\n",
              "           1], dtype=int32)"
            ]
          },
          "metadata": {},
          "execution_count": 174
        }
      ]
    },
    {
      "cell_type": "markdown",
      "source": [
        "# Transfert Learning"
      ],
      "metadata": {
        "id": "qMLGUj3vvsFl"
      }
    },
    {
      "cell_type": "code",
      "source": [
        " !pip install --upgrade tensorflow_hub"
      ],
      "metadata": {
        "colab": {
          "base_uri": "https://localhost:8080/"
        },
        "id": "HYbRezzvs0jd",
        "outputId": "1be624b4-8f19-4a24-f5c2-b698d5459277"
      },
      "execution_count": 179,
      "outputs": [
        {
          "output_type": "stream",
          "name": "stdout",
          "text": [
            "Requirement already satisfied: tensorflow_hub in /usr/local/lib/python3.10/dist-packages (0.14.0)\n",
            "Requirement already satisfied: numpy>=1.12.0 in /usr/local/lib/python3.10/dist-packages (from tensorflow_hub) (1.23.5)\n",
            "Requirement already satisfied: protobuf>=3.19.6 in /usr/local/lib/python3.10/dist-packages (from tensorflow_hub) (3.20.3)\n"
          ]
        }
      ]
    },
    {
      "cell_type": "code",
      "source": [
        "import tensorflow_hub as hub"
      ],
      "metadata": {
        "id": "WUH8FmGJtLFZ"
      },
      "execution_count": 182,
      "outputs": []
    },
    {
      "cell_type": "code",
      "source": [
        "embed = hub.KerasLayer(\"https://tfhub.dev/google/tf2-preview/gnews-swivel-20dim/1\")\n",
        "embeddings = embed(tf.constant([\"cat is on the mat\", \"dog is in the fog\"]))"
      ],
      "metadata": {
        "id": "D3vM-TN6vZwI"
      },
      "execution_count": 184,
      "outputs": []
    },
    {
      "cell_type": "code",
      "source": [
        "hub_layer = hub.KerasLayer(\"https://tfhub.dev/google/tf2-preview/gnews-swivel-20dim/1\",\n",
        "                           output_shape = [20], input_shape=[], dtype=tf.string)"
      ],
      "metadata": {
        "id": "e-aEnsElx8s_"
      },
      "execution_count": 188,
      "outputs": []
    },
    {
      "cell_type": "code",
      "source": [
        "embeddings.shape"
      ],
      "metadata": {
        "colab": {
          "base_uri": "https://localhost:8080/"
        },
        "id": "RWVdMYtmxJyQ",
        "outputId": "3a12fec5-3ffa-4f5a-e9bd-938171f43a6c"
      },
      "execution_count": 186,
      "outputs": [
        {
          "output_type": "execute_result",
          "data": {
            "text/plain": [
              "TensorShape([2, 20])"
            ]
          },
          "metadata": {},
          "execution_count": 186
        }
      ]
    },
    {
      "cell_type": "code",
      "source": [
        "model = tf.keras.models.Sequential(\n",
        "    [\n",
        "        # on remplace le nouvel embedding par celui pris sur google\n",
        "        hub_layer,\n",
        "        tf.keras.layers.Dense(5, activation =\"relu\"),\n",
        "        tf.keras.layers.Dropout(.25),\n",
        "        tf.keras.layers.Dense(3, activation =\"relu\"),\n",
        "        tf.keras.layers.Dropout(.25),\n",
        "        tf.keras.layers.Dense(1, activation =\"sigmoid\")\n",
        "    ]\n",
        ")\n",
        "\n",
        "best_model = \"best_model_text.h5\"\n",
        "# permet de sauvegarder le meileur modèle au cours de l'entrainement\n",
        "model_ckp = ModelCheckpoint(filepath = best_model,\n",
        "                            monitor = \"val_accuracy\",\n",
        "                            mode =\"max\",\n",
        "                            save_best_only = True)\n",
        "# On arrête l'entrainement si après deux époques la performance du modèle n'augmente plus (sur la base de l'accuracy)\n",
        "# si c'était sur la base du loss (on observerait plutôt la dimunition)\n",
        "stop = EarlyStopping(monitor = \"val_accuracy\", patience = 4)\n",
        "\n",
        "model.compile(loss=\"binary_crossentropy\", optimizer=\"adam\", metrics=[\"accuracy\"])\n",
        "\n",
        "h = model.fit(training_sentences, training_labels, epochs = 50,\n",
        "              validation_data=(test_sentences,test_labels),\n",
        "              callbacks= [model_ckp])"
      ],
      "metadata": {
        "colab": {
          "base_uri": "https://localhost:8080/",
          "height": 425
        },
        "id": "Duqkfe93xKWL",
        "outputId": "32c14fff-9b5d-4145-d6b0-359455dce12e"
      },
      "execution_count": 189,
      "outputs": [
        {
          "output_type": "error",
          "ename": "ValueError",
          "evalue": "ignored",
          "traceback": [
            "\u001b[0;31m---------------------------------------------------------------------------\u001b[0m",
            "\u001b[0;31mValueError\u001b[0m                                Traceback (most recent call last)",
            "\u001b[0;32m<ipython-input-189-ca0582dbd535>\u001b[0m in \u001b[0;36m<cell line: 25>\u001b[0;34m()\u001b[0m\n\u001b[1;32m     23\u001b[0m \u001b[0mmodel\u001b[0m\u001b[0;34m.\u001b[0m\u001b[0mcompile\u001b[0m\u001b[0;34m(\u001b[0m\u001b[0mloss\u001b[0m\u001b[0;34m=\u001b[0m\u001b[0;34m\"binary_crossentropy\"\u001b[0m\u001b[0;34m,\u001b[0m \u001b[0moptimizer\u001b[0m\u001b[0;34m=\u001b[0m\u001b[0;34m\"adam\"\u001b[0m\u001b[0;34m,\u001b[0m \u001b[0mmetrics\u001b[0m\u001b[0;34m=\u001b[0m\u001b[0;34m[\u001b[0m\u001b[0;34m\"accuracy\"\u001b[0m\u001b[0;34m]\u001b[0m\u001b[0;34m)\u001b[0m\u001b[0;34m\u001b[0m\u001b[0;34m\u001b[0m\u001b[0m\n\u001b[1;32m     24\u001b[0m \u001b[0;34m\u001b[0m\u001b[0m\n\u001b[0;32m---> 25\u001b[0;31m h = model.fit(training_sentences, training_labels, epochs = 50, \n\u001b[0m\u001b[1;32m     26\u001b[0m               \u001b[0mvalidation_data\u001b[0m\u001b[0;34m=\u001b[0m\u001b[0;34m(\u001b[0m\u001b[0mtest_sentences\u001b[0m\u001b[0;34m,\u001b[0m\u001b[0mtest_labels\u001b[0m\u001b[0;34m)\u001b[0m\u001b[0;34m,\u001b[0m\u001b[0;34m\u001b[0m\u001b[0;34m\u001b[0m\u001b[0m\n\u001b[1;32m     27\u001b[0m               callbacks= [model_ckp])\n",
            "\u001b[0;32m/usr/local/lib/python3.10/dist-packages/keras/src/utils/traceback_utils.py\u001b[0m in \u001b[0;36merror_handler\u001b[0;34m(*args, **kwargs)\u001b[0m\n\u001b[1;32m     68\u001b[0m             \u001b[0;31m# To get the full stack trace, call:\u001b[0m\u001b[0;34m\u001b[0m\u001b[0;34m\u001b[0m\u001b[0m\n\u001b[1;32m     69\u001b[0m             \u001b[0;31m# `tf.debugging.disable_traceback_filtering()`\u001b[0m\u001b[0;34m\u001b[0m\u001b[0;34m\u001b[0m\u001b[0m\n\u001b[0;32m---> 70\u001b[0;31m             \u001b[0;32mraise\u001b[0m \u001b[0me\u001b[0m\u001b[0;34m.\u001b[0m\u001b[0mwith_traceback\u001b[0m\u001b[0;34m(\u001b[0m\u001b[0mfiltered_tb\u001b[0m\u001b[0;34m)\u001b[0m \u001b[0;32mfrom\u001b[0m \u001b[0;32mNone\u001b[0m\u001b[0;34m\u001b[0m\u001b[0;34m\u001b[0m\u001b[0m\n\u001b[0m\u001b[1;32m     71\u001b[0m         \u001b[0;32mfinally\u001b[0m\u001b[0;34m:\u001b[0m\u001b[0;34m\u001b[0m\u001b[0;34m\u001b[0m\u001b[0m\n\u001b[1;32m     72\u001b[0m             \u001b[0;32mdel\u001b[0m \u001b[0mfiltered_tb\u001b[0m\u001b[0;34m\u001b[0m\u001b[0;34m\u001b[0m\u001b[0m\n",
            "\u001b[0;32m/usr/local/lib/python3.10/dist-packages/keras/src/engine/data_adapter.py\u001b[0m in \u001b[0;36mselect_data_adapter\u001b[0;34m(x, y)\u001b[0m\n\u001b[1;32m   1103\u001b[0m     \u001b[0;32mif\u001b[0m \u001b[0;32mnot\u001b[0m \u001b[0madapter_cls\u001b[0m\u001b[0;34m:\u001b[0m\u001b[0;34m\u001b[0m\u001b[0;34m\u001b[0m\u001b[0m\n\u001b[1;32m   1104\u001b[0m         \u001b[0;31m# TODO(scottzhu): This should be a less implementation-specific error.\u001b[0m\u001b[0;34m\u001b[0m\u001b[0;34m\u001b[0m\u001b[0m\n\u001b[0;32m-> 1105\u001b[0;31m         raise ValueError(\n\u001b[0m\u001b[1;32m   1106\u001b[0m             \"Failed to find data adapter that can handle input: {}, {}\".format(\n\u001b[1;32m   1107\u001b[0m                 \u001b[0m_type_name\u001b[0m\u001b[0;34m(\u001b[0m\u001b[0mx\u001b[0m\u001b[0;34m)\u001b[0m\u001b[0;34m,\u001b[0m \u001b[0m_type_name\u001b[0m\u001b[0;34m(\u001b[0m\u001b[0my\u001b[0m\u001b[0;34m)\u001b[0m\u001b[0;34m\u001b[0m\u001b[0;34m\u001b[0m\u001b[0m\n",
            "\u001b[0;31mValueError\u001b[0m: Failed to find data adapter that can handle input: (<class 'list'> containing values of types {\"<class 'str'>\"}), <class 'numpy.ndarray'>"
          ]
        }
      ]
    }
  ]
}