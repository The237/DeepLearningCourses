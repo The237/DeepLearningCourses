{
  "nbformat": 4,
  "nbformat_minor": 0,
  "metadata": {
    "colab": {
      "provenance": [],
      "authorship_tag": "ABX9TyOZHLXDh4nzrSJcZZEMBfj8",
      "include_colab_link": true
    },
    "kernelspec": {
      "name": "python3",
      "display_name": "Python 3"
    },
    "language_info": {
      "name": "python"
    }
  },
  "cells": [
    {
      "cell_type": "markdown",
      "metadata": {
        "id": "view-in-github",
        "colab_type": "text"
      },
      "source": [
        "<a href=\"https://colab.research.google.com/github/The237/DeepLearningCourses/blob/main/08_TimeSeries.ipynb\" target=\"_parent\"><img src=\"https://colab.research.google.com/assets/colab-badge.svg\" alt=\"Open In Colab\"/></a>"
      ]
    },
    {
      "cell_type": "code",
      "execution_count": 1,
      "metadata": {
        "colab": {
          "base_uri": "https://localhost:8080/"
        },
        "id": "JcSqz8-WnVO3",
        "outputId": "127f99c7-0732-4676-a77d-50f4d9a7496f"
      },
      "outputs": [
        {
          "output_type": "stream",
          "name": "stdout",
          "text": [
            "Mounted at /gdrive\n"
          ]
        }
      ],
      "source": [
        "from google.colab import drive\n",
        "drive.mount(\"/gdrive\")\n",
        "\n",
        "folder = \"/gdrive/MyDrive/deep_learning_courses/data/\""
      ]
    },
    {
      "cell_type": "code",
      "source": [
        "file = folder + \"station.csv\""
      ],
      "metadata": {
        "id": "H1p3HeElq1yl"
      },
      "execution_count": 2,
      "outputs": []
    },
    {
      "cell_type": "markdown",
      "source": [
        "# Import data"
      ],
      "metadata": {
        "id": "G37MrD3PqjJW"
      }
    },
    {
      "cell_type": "code",
      "source": [
        "import pandas as pd\n",
        "import numpy as np\n",
        "import matplotlib.pyplot as plt\n"
      ],
      "metadata": {
        "id": "npVK9Cqtqgzy"
      },
      "execution_count": 34,
      "outputs": []
    },
    {
      "cell_type": "code",
      "source": [
        "df = pd.read_csv(file)"
      ],
      "metadata": {
        "id": "oixh8ibsqzIw"
      },
      "execution_count": 5,
      "outputs": []
    },
    {
      "cell_type": "code",
      "source": [
        "df.head()"
      ],
      "metadata": {
        "colab": {
          "base_uri": "https://localhost:8080/",
          "height": 206
        },
        "id": "ucQ8dtsTrDl0",
        "outputId": "1c427768-7780-4e0b-8e13-f5c45af062cb"
      },
      "execution_count": 6,
      "outputs": [
        {
          "output_type": "execute_result",
          "data": {
            "text/plain": [
              "   YEAR   JAN   FEB   MAR   APR    MAY    JUN    JUL    AUG    SEP    OCT  \\\n",
              "0  1973  4.17  4.25  6.02  7.94  12.23  15.04  16.35  18.15  15.23  11.13   \n",
              "1  1974  7.13  6.16  6.80  9.21  11.06  14.39  15.90  16.67  13.41   8.43   \n",
              "2  1975  8.02  5.78  5.75  8.75  10.45  14.48  17.53  19.11  15.21  10.57   \n",
              "3  1976  5.82  4.99  6.07  8.10  13.25  17.47  19.17  18.16  15.25  12.14   \n",
              "4  1977  4.24  7.48  8.33  8.06  11.35  13.33  16.34  15.67  13.52  12.84   \n",
              "\n",
              "    NOV   DEC  D-J-F  M-A-M  J-J-A  S-O-N  metANN  \n",
              "0  7.34  5.70   4.40   8.73  16.51  11.23   10.22  \n",
              "1  8.48  8.70   6.33   9.02  15.65  10.11   10.28  \n",
              "2  7.16  3.59   7.50   8.32  17.04  10.98   10.96  \n",
              "3  7.66  3.58   4.80   9.14  18.27  11.68   10.97  \n",
              "4  8.06  7.56   5.10   9.25  15.11  11.47   10.23  "
            ],
            "text/html": [
              "\n",
              "  <div id=\"df-1726f9b6-0ac0-4685-bf86-1dedc2958be8\" class=\"colab-df-container\">\n",
              "    <div>\n",
              "<style scoped>\n",
              "    .dataframe tbody tr th:only-of-type {\n",
              "        vertical-align: middle;\n",
              "    }\n",
              "\n",
              "    .dataframe tbody tr th {\n",
              "        vertical-align: top;\n",
              "    }\n",
              "\n",
              "    .dataframe thead th {\n",
              "        text-align: right;\n",
              "    }\n",
              "</style>\n",
              "<table border=\"1\" class=\"dataframe\">\n",
              "  <thead>\n",
              "    <tr style=\"text-align: right;\">\n",
              "      <th></th>\n",
              "      <th>YEAR</th>\n",
              "      <th>JAN</th>\n",
              "      <th>FEB</th>\n",
              "      <th>MAR</th>\n",
              "      <th>APR</th>\n",
              "      <th>MAY</th>\n",
              "      <th>JUN</th>\n",
              "      <th>JUL</th>\n",
              "      <th>AUG</th>\n",
              "      <th>SEP</th>\n",
              "      <th>OCT</th>\n",
              "      <th>NOV</th>\n",
              "      <th>DEC</th>\n",
              "      <th>D-J-F</th>\n",
              "      <th>M-A-M</th>\n",
              "      <th>J-J-A</th>\n",
              "      <th>S-O-N</th>\n",
              "      <th>metANN</th>\n",
              "    </tr>\n",
              "  </thead>\n",
              "  <tbody>\n",
              "    <tr>\n",
              "      <th>0</th>\n",
              "      <td>1973</td>\n",
              "      <td>4.17</td>\n",
              "      <td>4.25</td>\n",
              "      <td>6.02</td>\n",
              "      <td>7.94</td>\n",
              "      <td>12.23</td>\n",
              "      <td>15.04</td>\n",
              "      <td>16.35</td>\n",
              "      <td>18.15</td>\n",
              "      <td>15.23</td>\n",
              "      <td>11.13</td>\n",
              "      <td>7.34</td>\n",
              "      <td>5.70</td>\n",
              "      <td>4.40</td>\n",
              "      <td>8.73</td>\n",
              "      <td>16.51</td>\n",
              "      <td>11.23</td>\n",
              "      <td>10.22</td>\n",
              "    </tr>\n",
              "    <tr>\n",
              "      <th>1</th>\n",
              "      <td>1974</td>\n",
              "      <td>7.13</td>\n",
              "      <td>6.16</td>\n",
              "      <td>6.80</td>\n",
              "      <td>9.21</td>\n",
              "      <td>11.06</td>\n",
              "      <td>14.39</td>\n",
              "      <td>15.90</td>\n",
              "      <td>16.67</td>\n",
              "      <td>13.41</td>\n",
              "      <td>8.43</td>\n",
              "      <td>8.48</td>\n",
              "      <td>8.70</td>\n",
              "      <td>6.33</td>\n",
              "      <td>9.02</td>\n",
              "      <td>15.65</td>\n",
              "      <td>10.11</td>\n",
              "      <td>10.28</td>\n",
              "    </tr>\n",
              "    <tr>\n",
              "      <th>2</th>\n",
              "      <td>1975</td>\n",
              "      <td>8.02</td>\n",
              "      <td>5.78</td>\n",
              "      <td>5.75</td>\n",
              "      <td>8.75</td>\n",
              "      <td>10.45</td>\n",
              "      <td>14.48</td>\n",
              "      <td>17.53</td>\n",
              "      <td>19.11</td>\n",
              "      <td>15.21</td>\n",
              "      <td>10.57</td>\n",
              "      <td>7.16</td>\n",
              "      <td>3.59</td>\n",
              "      <td>7.50</td>\n",
              "      <td>8.32</td>\n",
              "      <td>17.04</td>\n",
              "      <td>10.98</td>\n",
              "      <td>10.96</td>\n",
              "    </tr>\n",
              "    <tr>\n",
              "      <th>3</th>\n",
              "      <td>1976</td>\n",
              "      <td>5.82</td>\n",
              "      <td>4.99</td>\n",
              "      <td>6.07</td>\n",
              "      <td>8.10</td>\n",
              "      <td>13.25</td>\n",
              "      <td>17.47</td>\n",
              "      <td>19.17</td>\n",
              "      <td>18.16</td>\n",
              "      <td>15.25</td>\n",
              "      <td>12.14</td>\n",
              "      <td>7.66</td>\n",
              "      <td>3.58</td>\n",
              "      <td>4.80</td>\n",
              "      <td>9.14</td>\n",
              "      <td>18.27</td>\n",
              "      <td>11.68</td>\n",
              "      <td>10.97</td>\n",
              "    </tr>\n",
              "    <tr>\n",
              "      <th>4</th>\n",
              "      <td>1977</td>\n",
              "      <td>4.24</td>\n",
              "      <td>7.48</td>\n",
              "      <td>8.33</td>\n",
              "      <td>8.06</td>\n",
              "      <td>11.35</td>\n",
              "      <td>13.33</td>\n",
              "      <td>16.34</td>\n",
              "      <td>15.67</td>\n",
              "      <td>13.52</td>\n",
              "      <td>12.84</td>\n",
              "      <td>8.06</td>\n",
              "      <td>7.56</td>\n",
              "      <td>5.10</td>\n",
              "      <td>9.25</td>\n",
              "      <td>15.11</td>\n",
              "      <td>11.47</td>\n",
              "      <td>10.23</td>\n",
              "    </tr>\n",
              "  </tbody>\n",
              "</table>\n",
              "</div>\n",
              "    <div class=\"colab-df-buttons\">\n",
              "\n",
              "  <div class=\"colab-df-container\">\n",
              "    <button class=\"colab-df-convert\" onclick=\"convertToInteractive('df-1726f9b6-0ac0-4685-bf86-1dedc2958be8')\"\n",
              "            title=\"Convert this dataframe to an interactive table.\"\n",
              "            style=\"display:none;\">\n",
              "\n",
              "  <svg xmlns=\"http://www.w3.org/2000/svg\" height=\"24px\" viewBox=\"0 -960 960 960\">\n",
              "    <path d=\"M120-120v-720h720v720H120Zm60-500h600v-160H180v160Zm220 220h160v-160H400v160Zm0 220h160v-160H400v160ZM180-400h160v-160H180v160Zm440 0h160v-160H620v160ZM180-180h160v-160H180v160Zm440 0h160v-160H620v160Z\"/>\n",
              "  </svg>\n",
              "    </button>\n",
              "\n",
              "  <style>\n",
              "    .colab-df-container {\n",
              "      display:flex;\n",
              "      gap: 12px;\n",
              "    }\n",
              "\n",
              "    .colab-df-convert {\n",
              "      background-color: #E8F0FE;\n",
              "      border: none;\n",
              "      border-radius: 50%;\n",
              "      cursor: pointer;\n",
              "      display: none;\n",
              "      fill: #1967D2;\n",
              "      height: 32px;\n",
              "      padding: 0 0 0 0;\n",
              "      width: 32px;\n",
              "    }\n",
              "\n",
              "    .colab-df-convert:hover {\n",
              "      background-color: #E2EBFA;\n",
              "      box-shadow: 0px 1px 2px rgba(60, 64, 67, 0.3), 0px 1px 3px 1px rgba(60, 64, 67, 0.15);\n",
              "      fill: #174EA6;\n",
              "    }\n",
              "\n",
              "    .colab-df-buttons div {\n",
              "      margin-bottom: 4px;\n",
              "    }\n",
              "\n",
              "    [theme=dark] .colab-df-convert {\n",
              "      background-color: #3B4455;\n",
              "      fill: #D2E3FC;\n",
              "    }\n",
              "\n",
              "    [theme=dark] .colab-df-convert:hover {\n",
              "      background-color: #434B5C;\n",
              "      box-shadow: 0px 1px 3px 1px rgba(0, 0, 0, 0.15);\n",
              "      filter: drop-shadow(0px 1px 2px rgba(0, 0, 0, 0.3));\n",
              "      fill: #FFFFFF;\n",
              "    }\n",
              "  </style>\n",
              "\n",
              "    <script>\n",
              "      const buttonEl =\n",
              "        document.querySelector('#df-1726f9b6-0ac0-4685-bf86-1dedc2958be8 button.colab-df-convert');\n",
              "      buttonEl.style.display =\n",
              "        google.colab.kernel.accessAllowed ? 'block' : 'none';\n",
              "\n",
              "      async function convertToInteractive(key) {\n",
              "        const element = document.querySelector('#df-1726f9b6-0ac0-4685-bf86-1dedc2958be8');\n",
              "        const dataTable =\n",
              "          await google.colab.kernel.invokeFunction('convertToInteractive',\n",
              "                                                    [key], {});\n",
              "        if (!dataTable) return;\n",
              "\n",
              "        const docLinkHtml = 'Like what you see? Visit the ' +\n",
              "          '<a target=\"_blank\" href=https://colab.research.google.com/notebooks/data_table.ipynb>data table notebook</a>'\n",
              "          + ' to learn more about interactive tables.';\n",
              "        element.innerHTML = '';\n",
              "        dataTable['output_type'] = 'display_data';\n",
              "        await google.colab.output.renderOutput(dataTable, element);\n",
              "        const docLink = document.createElement('div');\n",
              "        docLink.innerHTML = docLinkHtml;\n",
              "        element.appendChild(docLink);\n",
              "      }\n",
              "    </script>\n",
              "  </div>\n",
              "\n",
              "\n",
              "<div id=\"df-b1b81344-76c7-4b5b-a523-cfbe51bee686\">\n",
              "  <button class=\"colab-df-quickchart\" onclick=\"quickchart('df-b1b81344-76c7-4b5b-a523-cfbe51bee686')\"\n",
              "            title=\"Suggest charts.\"\n",
              "            style=\"display:none;\">\n",
              "\n",
              "<svg xmlns=\"http://www.w3.org/2000/svg\" height=\"24px\"viewBox=\"0 0 24 24\"\n",
              "     width=\"24px\">\n",
              "    <g>\n",
              "        <path d=\"M19 3H5c-1.1 0-2 .9-2 2v14c0 1.1.9 2 2 2h14c1.1 0 2-.9 2-2V5c0-1.1-.9-2-2-2zM9 17H7v-7h2v7zm4 0h-2V7h2v10zm4 0h-2v-4h2v4z\"/>\n",
              "    </g>\n",
              "</svg>\n",
              "  </button>\n",
              "\n",
              "<style>\n",
              "  .colab-df-quickchart {\n",
              "      --bg-color: #E8F0FE;\n",
              "      --fill-color: #1967D2;\n",
              "      --hover-bg-color: #E2EBFA;\n",
              "      --hover-fill-color: #174EA6;\n",
              "      --disabled-fill-color: #AAA;\n",
              "      --disabled-bg-color: #DDD;\n",
              "  }\n",
              "\n",
              "  [theme=dark] .colab-df-quickchart {\n",
              "      --bg-color: #3B4455;\n",
              "      --fill-color: #D2E3FC;\n",
              "      --hover-bg-color: #434B5C;\n",
              "      --hover-fill-color: #FFFFFF;\n",
              "      --disabled-bg-color: #3B4455;\n",
              "      --disabled-fill-color: #666;\n",
              "  }\n",
              "\n",
              "  .colab-df-quickchart {\n",
              "    background-color: var(--bg-color);\n",
              "    border: none;\n",
              "    border-radius: 50%;\n",
              "    cursor: pointer;\n",
              "    display: none;\n",
              "    fill: var(--fill-color);\n",
              "    height: 32px;\n",
              "    padding: 0;\n",
              "    width: 32px;\n",
              "  }\n",
              "\n",
              "  .colab-df-quickchart:hover {\n",
              "    background-color: var(--hover-bg-color);\n",
              "    box-shadow: 0 1px 2px rgba(60, 64, 67, 0.3), 0 1px 3px 1px rgba(60, 64, 67, 0.15);\n",
              "    fill: var(--button-hover-fill-color);\n",
              "  }\n",
              "\n",
              "  .colab-df-quickchart-complete:disabled,\n",
              "  .colab-df-quickchart-complete:disabled:hover {\n",
              "    background-color: var(--disabled-bg-color);\n",
              "    fill: var(--disabled-fill-color);\n",
              "    box-shadow: none;\n",
              "  }\n",
              "\n",
              "  .colab-df-spinner {\n",
              "    border: 2px solid var(--fill-color);\n",
              "    border-color: transparent;\n",
              "    border-bottom-color: var(--fill-color);\n",
              "    animation:\n",
              "      spin 1s steps(1) infinite;\n",
              "  }\n",
              "\n",
              "  @keyframes spin {\n",
              "    0% {\n",
              "      border-color: transparent;\n",
              "      border-bottom-color: var(--fill-color);\n",
              "      border-left-color: var(--fill-color);\n",
              "    }\n",
              "    20% {\n",
              "      border-color: transparent;\n",
              "      border-left-color: var(--fill-color);\n",
              "      border-top-color: var(--fill-color);\n",
              "    }\n",
              "    30% {\n",
              "      border-color: transparent;\n",
              "      border-left-color: var(--fill-color);\n",
              "      border-top-color: var(--fill-color);\n",
              "      border-right-color: var(--fill-color);\n",
              "    }\n",
              "    40% {\n",
              "      border-color: transparent;\n",
              "      border-right-color: var(--fill-color);\n",
              "      border-top-color: var(--fill-color);\n",
              "    }\n",
              "    60% {\n",
              "      border-color: transparent;\n",
              "      border-right-color: var(--fill-color);\n",
              "    }\n",
              "    80% {\n",
              "      border-color: transparent;\n",
              "      border-right-color: var(--fill-color);\n",
              "      border-bottom-color: var(--fill-color);\n",
              "    }\n",
              "    90% {\n",
              "      border-color: transparent;\n",
              "      border-bottom-color: var(--fill-color);\n",
              "    }\n",
              "  }\n",
              "</style>\n",
              "\n",
              "  <script>\n",
              "    async function quickchart(key) {\n",
              "      const quickchartButtonEl =\n",
              "        document.querySelector('#' + key + ' button');\n",
              "      quickchartButtonEl.disabled = true;  // To prevent multiple clicks.\n",
              "      quickchartButtonEl.classList.add('colab-df-spinner');\n",
              "      try {\n",
              "        const charts = await google.colab.kernel.invokeFunction(\n",
              "            'suggestCharts', [key], {});\n",
              "      } catch (error) {\n",
              "        console.error('Error during call to suggestCharts:', error);\n",
              "      }\n",
              "      quickchartButtonEl.classList.remove('colab-df-spinner');\n",
              "      quickchartButtonEl.classList.add('colab-df-quickchart-complete');\n",
              "    }\n",
              "    (() => {\n",
              "      let quickchartButtonEl =\n",
              "        document.querySelector('#df-b1b81344-76c7-4b5b-a523-cfbe51bee686 button');\n",
              "      quickchartButtonEl.style.display =\n",
              "        google.colab.kernel.accessAllowed ? 'block' : 'none';\n",
              "    })();\n",
              "  </script>\n",
              "</div>\n",
              "    </div>\n",
              "  </div>\n"
            ]
          },
          "metadata": {},
          "execution_count": 6
        }
      ]
    },
    {
      "cell_type": "code",
      "source": [
        "# Créer la série temporelle\n",
        "temps = df.loc[:,\"JAN\":\"DEC\"]\n",
        "temps.head()"
      ],
      "metadata": {
        "colab": {
          "base_uri": "https://localhost:8080/",
          "height": 206
        },
        "id": "1YK2PUNmrDog",
        "outputId": "d9a3bece-98ff-4b1b-f99f-f6bd071cd915"
      },
      "execution_count": 12,
      "outputs": [
        {
          "output_type": "execute_result",
          "data": {
            "text/plain": [
              "    JAN   FEB   MAR   APR    MAY    JUN    JUL    AUG    SEP    OCT   NOV  \\\n",
              "0  4.17  4.25  6.02  7.94  12.23  15.04  16.35  18.15  15.23  11.13  7.34   \n",
              "1  7.13  6.16  6.80  9.21  11.06  14.39  15.90  16.67  13.41   8.43  8.48   \n",
              "2  8.02  5.78  5.75  8.75  10.45  14.48  17.53  19.11  15.21  10.57  7.16   \n",
              "3  5.82  4.99  6.07  8.10  13.25  17.47  19.17  18.16  15.25  12.14  7.66   \n",
              "4  4.24  7.48  8.33  8.06  11.35  13.33  16.34  15.67  13.52  12.84  8.06   \n",
              "\n",
              "    DEC  \n",
              "0  5.70  \n",
              "1  8.70  \n",
              "2  3.59  \n",
              "3  3.58  \n",
              "4  7.56  "
            ],
            "text/html": [
              "\n",
              "  <div id=\"df-738cc031-2372-495e-b1ca-f3d232456b9a\" class=\"colab-df-container\">\n",
              "    <div>\n",
              "<style scoped>\n",
              "    .dataframe tbody tr th:only-of-type {\n",
              "        vertical-align: middle;\n",
              "    }\n",
              "\n",
              "    .dataframe tbody tr th {\n",
              "        vertical-align: top;\n",
              "    }\n",
              "\n",
              "    .dataframe thead th {\n",
              "        text-align: right;\n",
              "    }\n",
              "</style>\n",
              "<table border=\"1\" class=\"dataframe\">\n",
              "  <thead>\n",
              "    <tr style=\"text-align: right;\">\n",
              "      <th></th>\n",
              "      <th>JAN</th>\n",
              "      <th>FEB</th>\n",
              "      <th>MAR</th>\n",
              "      <th>APR</th>\n",
              "      <th>MAY</th>\n",
              "      <th>JUN</th>\n",
              "      <th>JUL</th>\n",
              "      <th>AUG</th>\n",
              "      <th>SEP</th>\n",
              "      <th>OCT</th>\n",
              "      <th>NOV</th>\n",
              "      <th>DEC</th>\n",
              "    </tr>\n",
              "  </thead>\n",
              "  <tbody>\n",
              "    <tr>\n",
              "      <th>0</th>\n",
              "      <td>4.17</td>\n",
              "      <td>4.25</td>\n",
              "      <td>6.02</td>\n",
              "      <td>7.94</td>\n",
              "      <td>12.23</td>\n",
              "      <td>15.04</td>\n",
              "      <td>16.35</td>\n",
              "      <td>18.15</td>\n",
              "      <td>15.23</td>\n",
              "      <td>11.13</td>\n",
              "      <td>7.34</td>\n",
              "      <td>5.70</td>\n",
              "    </tr>\n",
              "    <tr>\n",
              "      <th>1</th>\n",
              "      <td>7.13</td>\n",
              "      <td>6.16</td>\n",
              "      <td>6.80</td>\n",
              "      <td>9.21</td>\n",
              "      <td>11.06</td>\n",
              "      <td>14.39</td>\n",
              "      <td>15.90</td>\n",
              "      <td>16.67</td>\n",
              "      <td>13.41</td>\n",
              "      <td>8.43</td>\n",
              "      <td>8.48</td>\n",
              "      <td>8.70</td>\n",
              "    </tr>\n",
              "    <tr>\n",
              "      <th>2</th>\n",
              "      <td>8.02</td>\n",
              "      <td>5.78</td>\n",
              "      <td>5.75</td>\n",
              "      <td>8.75</td>\n",
              "      <td>10.45</td>\n",
              "      <td>14.48</td>\n",
              "      <td>17.53</td>\n",
              "      <td>19.11</td>\n",
              "      <td>15.21</td>\n",
              "      <td>10.57</td>\n",
              "      <td>7.16</td>\n",
              "      <td>3.59</td>\n",
              "    </tr>\n",
              "    <tr>\n",
              "      <th>3</th>\n",
              "      <td>5.82</td>\n",
              "      <td>4.99</td>\n",
              "      <td>6.07</td>\n",
              "      <td>8.10</td>\n",
              "      <td>13.25</td>\n",
              "      <td>17.47</td>\n",
              "      <td>19.17</td>\n",
              "      <td>18.16</td>\n",
              "      <td>15.25</td>\n",
              "      <td>12.14</td>\n",
              "      <td>7.66</td>\n",
              "      <td>3.58</td>\n",
              "    </tr>\n",
              "    <tr>\n",
              "      <th>4</th>\n",
              "      <td>4.24</td>\n",
              "      <td>7.48</td>\n",
              "      <td>8.33</td>\n",
              "      <td>8.06</td>\n",
              "      <td>11.35</td>\n",
              "      <td>13.33</td>\n",
              "      <td>16.34</td>\n",
              "      <td>15.67</td>\n",
              "      <td>13.52</td>\n",
              "      <td>12.84</td>\n",
              "      <td>8.06</td>\n",
              "      <td>7.56</td>\n",
              "    </tr>\n",
              "  </tbody>\n",
              "</table>\n",
              "</div>\n",
              "    <div class=\"colab-df-buttons\">\n",
              "\n",
              "  <div class=\"colab-df-container\">\n",
              "    <button class=\"colab-df-convert\" onclick=\"convertToInteractive('df-738cc031-2372-495e-b1ca-f3d232456b9a')\"\n",
              "            title=\"Convert this dataframe to an interactive table.\"\n",
              "            style=\"display:none;\">\n",
              "\n",
              "  <svg xmlns=\"http://www.w3.org/2000/svg\" height=\"24px\" viewBox=\"0 -960 960 960\">\n",
              "    <path d=\"M120-120v-720h720v720H120Zm60-500h600v-160H180v160Zm220 220h160v-160H400v160Zm0 220h160v-160H400v160ZM180-400h160v-160H180v160Zm440 0h160v-160H620v160ZM180-180h160v-160H180v160Zm440 0h160v-160H620v160Z\"/>\n",
              "  </svg>\n",
              "    </button>\n",
              "\n",
              "  <style>\n",
              "    .colab-df-container {\n",
              "      display:flex;\n",
              "      gap: 12px;\n",
              "    }\n",
              "\n",
              "    .colab-df-convert {\n",
              "      background-color: #E8F0FE;\n",
              "      border: none;\n",
              "      border-radius: 50%;\n",
              "      cursor: pointer;\n",
              "      display: none;\n",
              "      fill: #1967D2;\n",
              "      height: 32px;\n",
              "      padding: 0 0 0 0;\n",
              "      width: 32px;\n",
              "    }\n",
              "\n",
              "    .colab-df-convert:hover {\n",
              "      background-color: #E2EBFA;\n",
              "      box-shadow: 0px 1px 2px rgba(60, 64, 67, 0.3), 0px 1px 3px 1px rgba(60, 64, 67, 0.15);\n",
              "      fill: #174EA6;\n",
              "    }\n",
              "\n",
              "    .colab-df-buttons div {\n",
              "      margin-bottom: 4px;\n",
              "    }\n",
              "\n",
              "    [theme=dark] .colab-df-convert {\n",
              "      background-color: #3B4455;\n",
              "      fill: #D2E3FC;\n",
              "    }\n",
              "\n",
              "    [theme=dark] .colab-df-convert:hover {\n",
              "      background-color: #434B5C;\n",
              "      box-shadow: 0px 1px 3px 1px rgba(0, 0, 0, 0.15);\n",
              "      filter: drop-shadow(0px 1px 2px rgba(0, 0, 0, 0.3));\n",
              "      fill: #FFFFFF;\n",
              "    }\n",
              "  </style>\n",
              "\n",
              "    <script>\n",
              "      const buttonEl =\n",
              "        document.querySelector('#df-738cc031-2372-495e-b1ca-f3d232456b9a button.colab-df-convert');\n",
              "      buttonEl.style.display =\n",
              "        google.colab.kernel.accessAllowed ? 'block' : 'none';\n",
              "\n",
              "      async function convertToInteractive(key) {\n",
              "        const element = document.querySelector('#df-738cc031-2372-495e-b1ca-f3d232456b9a');\n",
              "        const dataTable =\n",
              "          await google.colab.kernel.invokeFunction('convertToInteractive',\n",
              "                                                    [key], {});\n",
              "        if (!dataTable) return;\n",
              "\n",
              "        const docLinkHtml = 'Like what you see? Visit the ' +\n",
              "          '<a target=\"_blank\" href=https://colab.research.google.com/notebooks/data_table.ipynb>data table notebook</a>'\n",
              "          + ' to learn more about interactive tables.';\n",
              "        element.innerHTML = '';\n",
              "        dataTable['output_type'] = 'display_data';\n",
              "        await google.colab.output.renderOutput(dataTable, element);\n",
              "        const docLink = document.createElement('div');\n",
              "        docLink.innerHTML = docLinkHtml;\n",
              "        element.appendChild(docLink);\n",
              "      }\n",
              "    </script>\n",
              "  </div>\n",
              "\n",
              "\n",
              "<div id=\"df-7cc889ef-acf7-4993-ae77-cb6506137c80\">\n",
              "  <button class=\"colab-df-quickchart\" onclick=\"quickchart('df-7cc889ef-acf7-4993-ae77-cb6506137c80')\"\n",
              "            title=\"Suggest charts.\"\n",
              "            style=\"display:none;\">\n",
              "\n",
              "<svg xmlns=\"http://www.w3.org/2000/svg\" height=\"24px\"viewBox=\"0 0 24 24\"\n",
              "     width=\"24px\">\n",
              "    <g>\n",
              "        <path d=\"M19 3H5c-1.1 0-2 .9-2 2v14c0 1.1.9 2 2 2h14c1.1 0 2-.9 2-2V5c0-1.1-.9-2-2-2zM9 17H7v-7h2v7zm4 0h-2V7h2v10zm4 0h-2v-4h2v4z\"/>\n",
              "    </g>\n",
              "</svg>\n",
              "  </button>\n",
              "\n",
              "<style>\n",
              "  .colab-df-quickchart {\n",
              "      --bg-color: #E8F0FE;\n",
              "      --fill-color: #1967D2;\n",
              "      --hover-bg-color: #E2EBFA;\n",
              "      --hover-fill-color: #174EA6;\n",
              "      --disabled-fill-color: #AAA;\n",
              "      --disabled-bg-color: #DDD;\n",
              "  }\n",
              "\n",
              "  [theme=dark] .colab-df-quickchart {\n",
              "      --bg-color: #3B4455;\n",
              "      --fill-color: #D2E3FC;\n",
              "      --hover-bg-color: #434B5C;\n",
              "      --hover-fill-color: #FFFFFF;\n",
              "      --disabled-bg-color: #3B4455;\n",
              "      --disabled-fill-color: #666;\n",
              "  }\n",
              "\n",
              "  .colab-df-quickchart {\n",
              "    background-color: var(--bg-color);\n",
              "    border: none;\n",
              "    border-radius: 50%;\n",
              "    cursor: pointer;\n",
              "    display: none;\n",
              "    fill: var(--fill-color);\n",
              "    height: 32px;\n",
              "    padding: 0;\n",
              "    width: 32px;\n",
              "  }\n",
              "\n",
              "  .colab-df-quickchart:hover {\n",
              "    background-color: var(--hover-bg-color);\n",
              "    box-shadow: 0 1px 2px rgba(60, 64, 67, 0.3), 0 1px 3px 1px rgba(60, 64, 67, 0.15);\n",
              "    fill: var(--button-hover-fill-color);\n",
              "  }\n",
              "\n",
              "  .colab-df-quickchart-complete:disabled,\n",
              "  .colab-df-quickchart-complete:disabled:hover {\n",
              "    background-color: var(--disabled-bg-color);\n",
              "    fill: var(--disabled-fill-color);\n",
              "    box-shadow: none;\n",
              "  }\n",
              "\n",
              "  .colab-df-spinner {\n",
              "    border: 2px solid var(--fill-color);\n",
              "    border-color: transparent;\n",
              "    border-bottom-color: var(--fill-color);\n",
              "    animation:\n",
              "      spin 1s steps(1) infinite;\n",
              "  }\n",
              "\n",
              "  @keyframes spin {\n",
              "    0% {\n",
              "      border-color: transparent;\n",
              "      border-bottom-color: var(--fill-color);\n",
              "      border-left-color: var(--fill-color);\n",
              "    }\n",
              "    20% {\n",
              "      border-color: transparent;\n",
              "      border-left-color: var(--fill-color);\n",
              "      border-top-color: var(--fill-color);\n",
              "    }\n",
              "    30% {\n",
              "      border-color: transparent;\n",
              "      border-left-color: var(--fill-color);\n",
              "      border-top-color: var(--fill-color);\n",
              "      border-right-color: var(--fill-color);\n",
              "    }\n",
              "    40% {\n",
              "      border-color: transparent;\n",
              "      border-right-color: var(--fill-color);\n",
              "      border-top-color: var(--fill-color);\n",
              "    }\n",
              "    60% {\n",
              "      border-color: transparent;\n",
              "      border-right-color: var(--fill-color);\n",
              "    }\n",
              "    80% {\n",
              "      border-color: transparent;\n",
              "      border-right-color: var(--fill-color);\n",
              "      border-bottom-color: var(--fill-color);\n",
              "    }\n",
              "    90% {\n",
              "      border-color: transparent;\n",
              "      border-bottom-color: var(--fill-color);\n",
              "    }\n",
              "  }\n",
              "</style>\n",
              "\n",
              "  <script>\n",
              "    async function quickchart(key) {\n",
              "      const quickchartButtonEl =\n",
              "        document.querySelector('#' + key + ' button');\n",
              "      quickchartButtonEl.disabled = true;  // To prevent multiple clicks.\n",
              "      quickchartButtonEl.classList.add('colab-df-spinner');\n",
              "      try {\n",
              "        const charts = await google.colab.kernel.invokeFunction(\n",
              "            'suggestCharts', [key], {});\n",
              "      } catch (error) {\n",
              "        console.error('Error during call to suggestCharts:', error);\n",
              "      }\n",
              "      quickchartButtonEl.classList.remove('colab-df-spinner');\n",
              "      quickchartButtonEl.classList.add('colab-df-quickchart-complete');\n",
              "    }\n",
              "    (() => {\n",
              "      let quickchartButtonEl =\n",
              "        document.querySelector('#df-7cc889ef-acf7-4993-ae77-cb6506137c80 button');\n",
              "      quickchartButtonEl.style.display =\n",
              "        google.colab.kernel.accessAllowed ? 'block' : 'none';\n",
              "    })();\n",
              "  </script>\n",
              "</div>\n",
              "    </div>\n",
              "  </div>\n"
            ]
          },
          "metadata": {},
          "execution_count": 12
        }
      ]
    },
    {
      "cell_type": "code",
      "source": [
        "# création de la série de températures\n",
        "\n",
        "# serie des valeurs\n",
        "series = []\n",
        "\n",
        "for i, row in temps.iterrows():\n",
        "  series+=(list(row))"
      ],
      "metadata": {
        "id": "qkjWGLOErDq_"
      },
      "execution_count": 31,
      "outputs": []
    },
    {
      "cell_type": "code",
      "source": [
        "print(series)"
      ],
      "metadata": {
        "colab": {
          "base_uri": "https://localhost:8080/"
        },
        "id": "ahZW5CyKrDtw",
        "outputId": "118a3463-3fc1-475b-b36f-309866846a1f"
      },
      "execution_count": 26,
      "outputs": [
        {
          "output_type": "stream",
          "name": "stdout",
          "text": [
            "[-0.93, -0.88, 0.59, 0.77, 1.43, 1.86, 1.91, 2.12, 2.57, 2.92, 2.98, 3.11, 3.11, 3.46, 3.47, 3.47, 3.48, 3.5, 3.58, 3.58, 3.59, 3.68, 3.73, 3.84, 3.88, 3.97, 4.03, 4.12, 4.14, 4.17, 4.18, 4.24, 4.25, 4.3, 4.39, 4.41, 4.47, 4.52, 4.57, 4.61, 4.63, 4.63, 4.67, 4.73, 4.74, 4.76, 4.77, 4.8, 4.88, 4.94, 4.95, 4.99, 5.0, 5.0, 5.04, 5.08, 5.08, 5.12, 5.13, 5.14, 5.15, 5.2, 5.2, 5.26, 5.29, 5.31, 5.32, 5.35, 5.37, 5.38, 5.4, 5.4, 5.41, 5.45, 5.46, 5.49, 5.5, 5.5, 5.65, 5.7, 5.7, 5.71, 5.71, 5.72, 5.73, 5.75, 5.77, 5.78, 5.8, 5.82, 5.87, 5.91, 5.99, 5.99, 6.01, 6.02, 6.05, 6.07, 6.09, 6.15, 6.15, 6.16, 6.25, 6.31, 6.32, 6.32, 6.33, 6.33, 6.4, 6.44, 6.48, 6.48, 6.49, 6.54, 6.55, 6.57, 6.64, 6.64, 6.64, 6.64, 6.67, 6.71, 6.72, 6.72, 6.75, 6.76, 6.77, 6.78, 6.8, 6.85, 6.86, 6.87, 6.89, 6.9, 6.93, 6.93, 6.94, 6.97, 6.97, 7.07, 7.09, 7.13, 7.15, 7.16, 7.17, 7.18, 7.2, 7.2, 7.22, 7.27, 7.29, 7.3, 7.32, 7.33, 7.33, 7.34, 7.34, 7.35, 7.39, 7.4, 7.4, 7.4, 7.42, 7.45, 7.48, 7.48, 7.48, 7.51, 7.54, 7.56, 7.56, 7.56, 7.57, 7.58, 7.6, 7.61, 7.65, 7.66, 7.66, 7.68, 7.72, 7.72, 7.75, 7.76, 7.83, 7.86, 7.9, 7.91, 7.92, 7.94, 7.94, 7.95, 7.95, 7.95, 8.02, 8.04, 8.05, 8.06, 8.06, 8.06, 8.09, 8.1, 8.13, 8.17, 8.19, 8.2, 8.23, 8.25, 8.28, 8.28, 8.29, 8.3, 8.31, 8.33, 8.33, 8.34, 8.37, 8.39, 8.41, 8.42, 8.43, 8.43, 8.43, 8.48, 8.48, 8.5, 8.52, 8.59, 8.6, 8.61, 8.64, 8.68, 8.7, 8.72, 8.74, 8.74, 8.75, 8.75, 8.77, 8.78, 8.83, 8.84, 8.84, 8.87, 8.9, 8.91, 8.94, 8.99, 8.99, 9.03, 9.04, 9.08, 9.08, 9.1, 9.1, 9.1, 9.15, 9.2, 9.21, 9.21, 9.21, 9.28, 9.29, 9.29, 9.3, 9.33, 9.35, 9.36, 9.43, 9.44, 9.46, 9.52, 9.53, 9.55, 9.57, 9.59, 9.71, 9.72, 9.74, 9.75, 9.75, 9.76, 9.77, 9.86, 9.89, 9.93, 9.94, 9.96, 10.05, 10.12, 10.17, 10.18, 10.3, 10.34, 10.41, 10.41, 10.45, 10.45, 10.46, 10.48, 10.48, 10.54, 10.57, 10.86, 10.9, 10.9, 10.93, 10.95, 10.99, 11.0, 11.02, 11.04, 11.06, 11.11, 11.13, 11.19, 11.2, 11.21, 11.27, 11.3, 11.31, 11.31, 11.35, 11.35, 11.37, 11.41, 11.41, 11.44, 11.67, 11.67, 11.68, 11.69, 11.7, 11.71, 11.73, 11.8, 11.92, 11.95, 11.97, 12.01, 12.03, 12.04, 12.05, 12.08, 12.11, 12.14, 12.15, 12.15, 12.19, 12.2, 12.23, 12.24, 12.26, 12.47, 12.64, 12.69, 12.71, 12.74, 12.75, 12.78, 12.81, 12.83, 12.83, 12.84, 12.84, 12.86, 12.88, 12.92, 12.97, 12.97, 12.98, 13.0, 13.0, 13.06, 13.08, 13.09, 13.2, 13.2, 13.21, 13.25, 13.29, 13.32, 13.32, 13.33, 13.35, 13.36, 13.36, 13.41, 13.51, 13.52, 13.57, 13.75, 13.86, 13.92, 13.92, 13.93, 13.96, 13.99, 14.0, 14.01, 14.07, 14.09, 14.11, 14.13, 14.14, 14.21, 14.21, 14.26, 14.28, 14.31, 14.32, 14.32, 14.39, 14.4, 14.43, 14.43, 14.43, 14.47, 14.48, 14.51, 14.52, 14.56, 14.57, 14.58, 14.63, 14.64, 14.69, 14.72, 14.73, 14.81, 14.9, 14.95, 14.97, 14.98, 15.03, 15.04, 15.07, 15.08, 15.09, 15.11, 15.13, 15.18, 15.19, 15.21, 15.23, 15.24, 15.25, 15.25, 15.27, 15.34, 15.34, 15.34, 15.35, 15.4, 15.42, 15.46, 15.53, 15.58, 15.6, 15.61, 15.61, 15.62, 15.62, 15.67, 15.7, 15.72, 15.73, 15.77, 15.82, 15.82, 15.82, 15.9, 15.9, 15.9, 15.95, 15.95, 15.96, 15.98, 15.98, 16.05, 16.06, 16.07, 16.09, 16.1, 16.13, 16.15, 16.2, 16.2, 16.24, 16.25, 16.28, 16.28, 16.31, 16.34, 16.35, 16.39, 16.4, 16.42, 16.42, 16.46, 16.47, 16.53, 16.57, 16.58, 16.6, 16.64, 16.65, 16.65, 16.65, 16.67, 16.67, 16.7, 16.71, 16.77, 16.78, 16.81, 16.82, 16.82, 16.85, 16.89, 16.92, 16.94, 16.96, 16.96, 16.97, 16.98, 17.05, 17.08, 17.13, 17.17, 17.17, 17.22, 17.22, 17.23, 17.25, 17.31, 17.33, 17.37, 17.38, 17.39, 17.4, 17.47, 17.5, 17.53, 17.58, 17.59, 17.63, 17.64, 17.68, 17.72, 17.73, 17.73, 17.75, 17.78, 17.79, 17.81, 17.84, 18.0, 18.0, 18.02, 18.04, 18.06, 18.08, 18.08, 18.09, 18.13, 18.14, 18.15, 18.15, 18.16, 18.16, 18.16, 18.17, 18.24, 18.25, 18.36, 18.4, 18.44, 18.52, 18.54, 18.57, 18.58, 18.63, 18.65, 18.65, 18.69, 18.72, 18.77, 18.79, 18.8, 18.92, 19.0, 19.0, 19.02, 19.06, 19.11, 19.17, 19.41, 19.71, 19.74, 19.92, 19.96, 20.04, 20.08, 20.16, 20.22, 20.24, 999.9, 999.9, 999.9, 999.9, 999.9]\n"
          ]
        }
      ]
    },
    {
      "cell_type": "code",
      "source": [
        "series = np.array(series[:-5])"
      ],
      "metadata": {
        "id": "_RRm2ux2tFkC"
      },
      "execution_count": 32,
      "outputs": []
    },
    {
      "cell_type": "code",
      "source": [
        "series.shape"
      ],
      "metadata": {
        "colab": {
          "base_uri": "https://localhost:8080/"
        },
        "id": "_7eYGKfzt8zA",
        "outputId": "6c570398-5bd4-4989-eec8-b6379710a9c5"
      },
      "execution_count": 33,
      "outputs": [
        {
          "output_type": "execute_result",
          "data": {
            "text/plain": [
              "(607,)"
            ]
          },
          "metadata": {},
          "execution_count": 33
        }
      ]
    },
    {
      "cell_type": "code",
      "source": [
        "time = np.arange(len(series))"
      ],
      "metadata": {
        "id": "ubE6w3Ylt-nW"
      },
      "execution_count": 36,
      "outputs": []
    },
    {
      "cell_type": "code",
      "source": [
        "print(time)"
      ],
      "metadata": {
        "colab": {
          "base_uri": "https://localhost:8080/"
        },
        "id": "GclIzm01ugF3",
        "outputId": "aa4216ea-64e3-4dff-ea15-efaa6f266d2a"
      },
      "execution_count": 37,
      "outputs": [
        {
          "output_type": "stream",
          "name": "stdout",
          "text": [
            "[  0   1   2   3   4   5   6   7   8   9  10  11  12  13  14  15  16  17\n",
            "  18  19  20  21  22  23  24  25  26  27  28  29  30  31  32  33  34  35\n",
            "  36  37  38  39  40  41  42  43  44  45  46  47  48  49  50  51  52  53\n",
            "  54  55  56  57  58  59  60  61  62  63  64  65  66  67  68  69  70  71\n",
            "  72  73  74  75  76  77  78  79  80  81  82  83  84  85  86  87  88  89\n",
            "  90  91  92  93  94  95  96  97  98  99 100 101 102 103 104 105 106 107\n",
            " 108 109 110 111 112 113 114 115 116 117 118 119 120 121 122 123 124 125\n",
            " 126 127 128 129 130 131 132 133 134 135 136 137 138 139 140 141 142 143\n",
            " 144 145 146 147 148 149 150 151 152 153 154 155 156 157 158 159 160 161\n",
            " 162 163 164 165 166 167 168 169 170 171 172 173 174 175 176 177 178 179\n",
            " 180 181 182 183 184 185 186 187 188 189 190 191 192 193 194 195 196 197\n",
            " 198 199 200 201 202 203 204 205 206 207 208 209 210 211 212 213 214 215\n",
            " 216 217 218 219 220 221 222 223 224 225 226 227 228 229 230 231 232 233\n",
            " 234 235 236 237 238 239 240 241 242 243 244 245 246 247 248 249 250 251\n",
            " 252 253 254 255 256 257 258 259 260 261 262 263 264 265 266 267 268 269\n",
            " 270 271 272 273 274 275 276 277 278 279 280 281 282 283 284 285 286 287\n",
            " 288 289 290 291 292 293 294 295 296 297 298 299 300 301 302 303 304 305\n",
            " 306 307 308 309 310 311 312 313 314 315 316 317 318 319 320 321 322 323\n",
            " 324 325 326 327 328 329 330 331 332 333 334 335 336 337 338 339 340 341\n",
            " 342 343 344 345 346 347 348 349 350 351 352 353 354 355 356 357 358 359\n",
            " 360 361 362 363 364 365 366 367 368 369 370 371 372 373 374 375 376 377\n",
            " 378 379 380 381 382 383 384 385 386 387 388 389 390 391 392 393 394 395\n",
            " 396 397 398 399 400 401 402 403 404 405 406 407 408 409 410 411 412 413\n",
            " 414 415 416 417 418 419 420 421 422 423 424 425 426 427 428 429 430 431\n",
            " 432 433 434 435 436 437 438 439 440 441 442 443 444 445 446 447 448 449\n",
            " 450 451 452 453 454 455 456 457 458 459 460 461 462 463 464 465 466 467\n",
            " 468 469 470 471 472 473 474 475 476 477 478 479 480 481 482 483 484 485\n",
            " 486 487 488 489 490 491 492 493 494 495 496 497 498 499 500 501 502 503\n",
            " 504 505 506 507 508 509 510 511 512 513 514 515 516 517 518 519 520 521\n",
            " 522 523 524 525 526 527 528 529 530 531 532 533 534 535 536 537 538 539\n",
            " 540 541 542 543 544 545 546 547 548 549 550 551 552 553 554 555 556 557\n",
            " 558 559 560 561 562 563 564 565 566 567 568 569 570 571 572 573 574 575\n",
            " 576 577 578 579 580 581 582 583 584 585 586 587 588 589 590 591 592 593\n",
            " 594 595 596 597 598 599 600 601 602 603 604 605 606]\n"
          ]
        }
      ]
    },
    {
      "cell_type": "code",
      "source": [
        "plt.plot(time, series)\n",
        "plt.xlabel(\"Time\")\n",
        "plt.ylabel(\"Temperature\")\n",
        "plt.show()"
      ],
      "metadata": {
        "colab": {
          "base_uri": "https://localhost:8080/",
          "height": 449
        },
        "id": "SqRH8qd5ukv8",
        "outputId": "0ed7ac42-65d8-4cfb-f951-c9e49ce04e33"
      },
      "execution_count": 38,
      "outputs": [
        {
          "output_type": "display_data",
          "data": {
            "text/plain": [
              "<Figure size 640x480 with 1 Axes>"
            ],
            "image/png": "[encoded data removed]"
          },
          "metadata": {}
        }
      ]
    },
    {
      "cell_type": "code",
      "source": [
        "np.argmax(series)"
      ],
      "metadata": {
        "colab": {
          "base_uri": "https://localhost:8080/"
        },
        "id": "66LbDFh5us3A",
        "outputId": "2f091a01-78e3-458a-dbf2-78fa410a0bc1"
      },
      "execution_count": 39,
      "outputs": [
        {
          "output_type": "execute_result",
          "data": {
            "text/plain": [
              "197"
            ]
          },
          "metadata": {},
          "execution_count": 39
        }
      ]
    },
    {
      "cell_type": "code",
      "source": [
        "series[197]"
      ],
      "metadata": {
        "colab": {
          "base_uri": "https://localhost:8080/"
        },
        "id": "gmos-G7juzFt",
        "outputId": "7614c4bf-cf8e-4177-cb82-b084d56d915c"
      },
      "execution_count": 40,
      "outputs": [
        {
          "output_type": "execute_result",
          "data": {
            "text/plain": [
              "999.9"
            ]
          },
          "metadata": {},
          "execution_count": 40
        }
      ]
    },
    {
      "cell_type": "code",
      "source": [
        "series[194:201]"
      ],
      "metadata": {
        "colab": {
          "base_uri": "https://localhost:8080/"
        },
        "id": "qO_NQwiDu2Do",
        "outputId": "2ae110ec-fff6-4fd0-d5c8-a59200c2a0db"
      },
      "execution_count": 46,
      "outputs": [
        {
          "output_type": "execute_result",
          "data": {
            "text/plain": [
              "array([  9.59,   7.65,  14.32, 999.9 ,  18.79,  17.38,  16.25])"
            ]
          },
          "metadata": {},
          "execution_count": 46
        }
      ]
    },
    {
      "cell_type": "code",
      "source": [
        "mean_ = (len(series[194:197])*np.mean(series[194:197]) + len(series[198:202])*np.mean(series[198:202]))/6"
      ],
      "metadata": {
        "id": "0LtLoDzYw3nN"
      },
      "execution_count": 54,
      "outputs": []
    },
    {
      "cell_type": "code",
      "source": [
        "np.mean(series[194:197])"
      ],
      "metadata": {
        "colab": {
          "base_uri": "https://localhost:8080/"
        },
        "id": "_5DW9c__vIhH",
        "outputId": "8dbc6bbe-9bce-4344-e4f4-06976ccc722d"
      },
      "execution_count": 50,
      "outputs": [
        {
          "output_type": "execute_result",
          "data": {
            "text/plain": [
              "10.520000000000001"
            ]
          },
          "metadata": {},
          "execution_count": 50
        }
      ]
    },
    {
      "cell_type": "code",
      "source": [
        "series[197] = mean_"
      ],
      "metadata": {
        "id": "kcwZcNsuvvOP"
      },
      "execution_count": 57,
      "outputs": []
    },
    {
      "cell_type": "code",
      "source": [
        "plt.plot(time, series)\n",
        "plt.xlabel(\"Time\")\n",
        "plt.ylabel(\"Temperature\")\n",
        "plt.grid(True)\n",
        "plt.show()"
      ],
      "metadata": {
        "colab": {
          "base_uri": "https://localhost:8080/",
          "height": 449
        },
        "id": "12PuztaIvmcm",
        "outputId": "3b46d1d3-42f9-4163-b6e9-ede7f5ab6444"
      },
      "execution_count": 61,
      "outputs": [
        {
          "output_type": "display_data",
          "data": {
            "text/plain": [
              "<Figure size 640x480 with 1 Axes>"
            ],
            "image/png": "[encoded data removed]"
          },
          "metadata": {}
        }
      ]
    },
    {
      "cell_type": "markdown",
      "source": [
        "# Baseline Model"
      ],
      "metadata": {
        "id": "lvZQwoAUxvrD"
      }
    },
    {
      "cell_type": "code",
      "source": [
        "# train_test_split\n",
        "time_train = time[:507]\n",
        "x_train = series[:507]\n",
        "time_test = time[507:]\n",
        "x_test = series[507:]"
      ],
      "metadata": {
        "id": "lUyJMjFMxu-C"
      },
      "execution_count": 68,
      "outputs": []
    },
    {
      "cell_type": "code",
      "source": [
        "years = df[\"YEAR\"].tolist()"
      ],
      "metadata": {
        "id": "KHl7k-WvvsXZ"
      },
      "execution_count": 65,
      "outputs": []
    },
    {
      "cell_type": "code",
      "source": [
        "# on prend comme test les données de 1973 - 2016 et celles de 2016 - 2023 comme test\n",
        "\n",
        "# approche naive\n",
        "pred_naive = series[506:-1]"
      ],
      "metadata": {
        "id": "UPoSXBbKxpAU"
      },
      "execution_count": 85,
      "outputs": []
    },
    {
      "cell_type": "code",
      "source": [
        "from sklearn.metrics import mean_absolute_error, mean_squared_error"
      ],
      "metadata": {
        "id": "Tb8LJqEtxpD0"
      },
      "execution_count": 83,
      "outputs": []
    },
    {
      "cell_type": "code",
      "source": [
        "mean_absolute_error(x_test, pred_naive)"
      ],
      "metadata": {
        "colab": {
          "base_uri": "https://localhost:8080/"
        },
        "id": "Pk5iNiAS0HQX",
        "outputId": "002414f0-5f3f-4859-9f17-b129a434f8f1"
      },
      "execution_count": 86,
      "outputs": [
        {
          "output_type": "execute_result",
          "data": {
            "text/plain": [
              "2.3807"
            ]
          },
          "metadata": {},
          "execution_count": 86
        }
      ]
    },
    {
      "cell_type": "code",
      "source": [
        "mean_squared_error(x_test, pred_naive)"
      ],
      "metadata": {
        "colab": {
          "base_uri": "https://localhost:8080/"
        },
        "id": "YVnWNYfTxIVb",
        "outputId": "00879dbd-f3ba-40ac-ce03-24d956f53cac"
      },
      "execution_count": 89,
      "outputs": [
        {
          "output_type": "execute_result",
          "data": {
            "text/plain": [
              "8.131443"
            ]
          },
          "metadata": {},
          "execution_count": 89
        }
      ]
    },
    {
      "cell_type": "code",
      "source": [
        "pred_naive"
      ],
      "metadata": {
        "colab": {
          "base_uri": "https://localhost:8080/"
        },
        "id": "tKpQb1c_z-xM",
        "outputId": "fbec7615-d48e-46d6-d9a3-aa61d74c151b"
      },
      "execution_count": 90,
      "outputs": [
        {
          "output_type": "execute_result",
          "data": {
            "text/plain": [
              "array([ 7.9 , 10.86, 13.06, 15.96, 18.36, 18.16, 14.31, 12.01, 11.41,\n",
              "       10.54,  6.44,  6.49,  6.54,  8.84, 13.29, 16.09, 18.09, 18.69,\n",
              "       18.04, 10.99,  8.19,  5.73,  3.58,  7.33, 10.18,  9.43, 14.58,\n",
              "       17.73, 18.58, 18.08, 15.08, 13.93,  8.68,  6.77,  7.72,  3.47,\n",
              "        7.07, 11.67, 13.57, 16.47, 19.92, 18.52, 15.82, 12.97,  8.37,\n",
              "        7.95,  5.2 ,  7.45,  9.15,  9.75, 11.95, 16.6 , 19.  , 18.65,\n",
              "       16.15, 13.  ,  7.95,  7.09,  6.89,  8.39,  7.94, 12.19, 13.09,\n",
              "       16.24, 17.84, 20.04, 16.94, 12.24,  9.94,  6.93,  5.13,  6.48,\n",
              "        7.68,  7.33, 11.68, 16.78, 18.13, 17.23, 17.33, 12.83,  8.28,\n",
              "        7.56,  5.71,  7.56,  9.21,  9.86, 14.21, 16.96, 19.71, 19.96,\n",
              "       16.31, 15.11, 10.46,  5.  ,  6.75,  6.9 ,  9.35, 10.05, 13.2 ,\n",
              "       18.  ])"
            ]
          },
          "metadata": {},
          "execution_count": 90
        }
      ]
    },
    {
      "cell_type": "code",
      "source": [
        "window_size = 3"
      ],
      "metadata": {
        "id": "WbgkNSY51I79"
      },
      "execution_count": 93,
      "outputs": []
    },
    {
      "cell_type": "markdown",
      "source": [
        "# Deep Learning"
      ],
      "metadata": {
        "id": "cCmhWUJQ2P6p"
      }
    },
    {
      "cell_type": "code",
      "source": [],
      "metadata": {
        "id": "1OhYp2hR1LCx"
      },
      "execution_count": null,
      "outputs": []
    }
  ]
}