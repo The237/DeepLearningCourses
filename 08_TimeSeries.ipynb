{
  "nbformat": 4,
  "nbformat_minor": 0,
  "metadata": {
    "colab": {
      "provenance": [],
      "gpuType": "T4",
      "authorship_tag": "ABX9TyPMfLUokFREtcOL9xAhpba1",
      "include_colab_link": true
    },
    "kernelspec": {
      "name": "python3",
      "display_name": "Python 3"
    },
    "language_info": {
      "name": "python"
    },
    "accelerator": "GPU"
  },
  "cells": [
    {
      "cell_type": "markdown",
      "metadata": {
        "id": "view-in-github",
        "colab_type": "text"
      },
      "source": [
        "<a href=\"https://colab.research.google.com/github/The237/DeepLearningCourses/blob/main/08_TimeSeries.ipynb\" target=\"_parent\"><img src=\"https://colab.research.google.com/assets/colab-badge.svg\" alt=\"Open In Colab\"/></a>"
      ]
    },
    {
      "cell_type": "code",
      "execution_count": 3,
      "metadata": {
        "colab": {
          "base_uri": "https://localhost:8080/"
        },
        "id": "JcSqz8-WnVO3",
        "outputId": "79d6898f-2653-4565-ebf5-1447d2357b02"
      },
      "outputs": [
        {
          "output_type": "stream",
          "name": "stdout",
          "text": [
            "Drive already mounted at /gdrive; to attempt to forcibly remount, call drive.mount(\"/gdrive\", force_remount=True).\n"
          ]
        }
      ],
      "source": [
        "from google.colab import drive\n",
        "drive.mount(\"/gdrive\")\n",
        "\n",
        "folder = \"/gdrive/MyDrive/deep_learning_courses/data/\""
      ]
    },
    {
      "cell_type": "code",
      "source": [
        "file = folder + \"station.csv\""
      ],
      "metadata": {
        "id": "H1p3HeElq1yl"
      },
      "execution_count": 4,
      "outputs": []
    },
    {
      "cell_type": "markdown",
      "source": [
        "# Import data"
      ],
      "metadata": {
        "id": "G37MrD3PqjJW"
      }
    },
    {
      "cell_type": "code",
      "source": [
        "import pandas as pd\n",
        "import numpy as np\n",
        "import matplotlib.pyplot as plt\n"
      ],
      "metadata": {
        "id": "npVK9Cqtqgzy"
      },
      "execution_count": 5,
      "outputs": []
    },
    {
      "cell_type": "code",
      "source": [
        "df = pd.read_csv(file)"
      ],
      "metadata": {
        "id": "oixh8ibsqzIw"
      },
      "execution_count": 6,
      "outputs": []
    },
    {
      "cell_type": "code",
      "source": [
        "df.head()"
      ],
      "metadata": {
        "colab": {
          "base_uri": "https://localhost:8080/",
          "height": 206
        },
        "id": "ucQ8dtsTrDl0",
        "outputId": "bea23f29-a8dd-4426-c947-6e6329c427c9"
      },
      "execution_count": 7,
      "outputs": [
        {
          "output_type": "execute_result",
          "data": {
            "text/plain": [
              "   YEAR   JAN   FEB   MAR   APR    MAY    JUN    JUL    AUG    SEP    OCT  \\\n",
              "0  1973  4.17  4.25  6.02  7.94  12.23  15.04  16.35  18.15  15.23  11.13   \n",
              "1  1974  7.13  6.16  6.80  9.21  11.06  14.39  15.90  16.67  13.41   8.43   \n",
              "2  1975  8.02  5.78  5.75  8.75  10.45  14.48  17.53  19.11  15.21  10.57   \n",
              "3  1976  5.82  4.99  6.07  8.10  13.25  17.47  19.17  18.16  15.25  12.14   \n",
              "4  1977  4.24  7.48  8.33  8.06  11.35  13.33  16.34  15.67  13.52  12.84   \n",
              "\n",
              "    NOV   DEC  D-J-F  M-A-M  J-J-A  S-O-N  metANN  \n",
              "0  7.34  5.70   4.40   8.73  16.51  11.23   10.22  \n",
              "1  8.48  8.70   6.33   9.02  15.65  10.11   10.28  \n",
              "2  7.16  3.59   7.50   8.32  17.04  10.98   10.96  \n",
              "3  7.66  3.58   4.80   9.14  18.27  11.68   10.97  \n",
              "4  8.06  7.56   5.10   9.25  15.11  11.47   10.23  "
            ],
            "text/html": [
              "\n",
              "  <div id=\"df-298fc976-473c-48b5-bef2-5cea4bf045c7\" class=\"colab-df-container\">\n",
              "    <div>\n",
              "<style scoped>\n",
              "    .dataframe tbody tr th:only-of-type {\n",
              "        vertical-align: middle;\n",
              "    }\n",
              "\n",
              "    .dataframe tbody tr th {\n",
              "        vertical-align: top;\n",
              "    }\n",
              "\n",
              "    .dataframe thead th {\n",
              "        text-align: right;\n",
              "    }\n",
              "</style>\n",
              "<table border=\"1\" class=\"dataframe\">\n",
              "  <thead>\n",
              "    <tr style=\"text-align: right;\">\n",
              "      <th></th>\n",
              "      <th>YEAR</th>\n",
              "      <th>JAN</th>\n",
              "      <th>FEB</th>\n",
              "      <th>MAR</th>\n",
              "      <th>APR</th>\n",
              "      <th>MAY</th>\n",
              "      <th>JUN</th>\n",
              "      <th>JUL</th>\n",
              "      <th>AUG</th>\n",
              "      <th>SEP</th>\n",
              "      <th>OCT</th>\n",
              "      <th>NOV</th>\n",
              "      <th>DEC</th>\n",
              "      <th>D-J-F</th>\n",
              "      <th>M-A-M</th>\n",
              "      <th>J-J-A</th>\n",
              "      <th>S-O-N</th>\n",
              "      <th>metANN</th>\n",
              "    </tr>\n",
              "  </thead>\n",
              "  <tbody>\n",
              "    <tr>\n",
              "      <th>0</th>\n",
              "      <td>1973</td>\n",
              "      <td>4.17</td>\n",
              "      <td>4.25</td>\n",
              "      <td>6.02</td>\n",
              "      <td>7.94</td>\n",
              "      <td>12.23</td>\n",
              "      <td>15.04</td>\n",
              "      <td>16.35</td>\n",
              "      <td>18.15</td>\n",
              "      <td>15.23</td>\n",
              "      <td>11.13</td>\n",
              "      <td>7.34</td>\n",
              "      <td>5.70</td>\n",
              "      <td>4.40</td>\n",
              "      <td>8.73</td>\n",
              "      <td>16.51</td>\n",
              "      <td>11.23</td>\n",
              "      <td>10.22</td>\n",
              "    </tr>\n",
              "    <tr>\n",
              "      <th>1</th>\n",
              "      <td>1974</td>\n",
              "      <td>7.13</td>\n",
              "      <td>6.16</td>\n",
              "      <td>6.80</td>\n",
              "      <td>9.21</td>\n",
              "      <td>11.06</td>\n",
              "      <td>14.39</td>\n",
              "      <td>15.90</td>\n",
              "      <td>16.67</td>\n",
              "      <td>13.41</td>\n",
              "      <td>8.43</td>\n",
              "      <td>8.48</td>\n",
              "      <td>8.70</td>\n",
              "      <td>6.33</td>\n",
              "      <td>9.02</td>\n",
              "      <td>15.65</td>\n",
              "      <td>10.11</td>\n",
              "      <td>10.28</td>\n",
              "    </tr>\n",
              "    <tr>\n",
              "      <th>2</th>\n",
              "      <td>1975</td>\n",
              "      <td>8.02</td>\n",
              "      <td>5.78</td>\n",
              "      <td>5.75</td>\n",
              "      <td>8.75</td>\n",
              "      <td>10.45</td>\n",
              "      <td>14.48</td>\n",
              "      <td>17.53</td>\n",
              "      <td>19.11</td>\n",
              "      <td>15.21</td>\n",
              "      <td>10.57</td>\n",
              "      <td>7.16</td>\n",
              "      <td>3.59</td>\n",
              "      <td>7.50</td>\n",
              "      <td>8.32</td>\n",
              "      <td>17.04</td>\n",
              "      <td>10.98</td>\n",
              "      <td>10.96</td>\n",
              "    </tr>\n",
              "    <tr>\n",
              "      <th>3</th>\n",
              "      <td>1976</td>\n",
              "      <td>5.82</td>\n",
              "      <td>4.99</td>\n",
              "      <td>6.07</td>\n",
              "      <td>8.10</td>\n",
              "      <td>13.25</td>\n",
              "      <td>17.47</td>\n",
              "      <td>19.17</td>\n",
              "      <td>18.16</td>\n",
              "      <td>15.25</td>\n",
              "      <td>12.14</td>\n",
              "      <td>7.66</td>\n",
              "      <td>3.58</td>\n",
              "      <td>4.80</td>\n",
              "      <td>9.14</td>\n",
              "      <td>18.27</td>\n",
              "      <td>11.68</td>\n",
              "      <td>10.97</td>\n",
              "    </tr>\n",
              "    <tr>\n",
              "      <th>4</th>\n",
              "      <td>1977</td>\n",
              "      <td>4.24</td>\n",
              "      <td>7.48</td>\n",
              "      <td>8.33</td>\n",
              "      <td>8.06</td>\n",
              "      <td>11.35</td>\n",
              "      <td>13.33</td>\n",
              "      <td>16.34</td>\n",
              "      <td>15.67</td>\n",
              "      <td>13.52</td>\n",
              "      <td>12.84</td>\n",
              "      <td>8.06</td>\n",
              "      <td>7.56</td>\n",
              "      <td>5.10</td>\n",
              "      <td>9.25</td>\n",
              "      <td>15.11</td>\n",
              "      <td>11.47</td>\n",
              "      <td>10.23</td>\n",
              "    </tr>\n",
              "  </tbody>\n",
              "</table>\n",
              "</div>\n",
              "    <div class=\"colab-df-buttons\">\n",
              "\n",
              "  <div class=\"colab-df-container\">\n",
              "    <button class=\"colab-df-convert\" onclick=\"convertToInteractive('df-298fc976-473c-48b5-bef2-5cea4bf045c7')\"\n",
              "            title=\"Convert this dataframe to an interactive table.\"\n",
              "            style=\"display:none;\">\n",
              "\n",
              "  <svg xmlns=\"http://www.w3.org/2000/svg\" height=\"24px\" viewBox=\"0 -960 960 960\">\n",
              "    <path d=\"M120-120v-720h720v720H120Zm60-500h600v-160H180v160Zm220 220h160v-160H400v160Zm0 220h160v-160H400v160ZM180-400h160v-160H180v160Zm440 0h160v-160H620v160ZM180-180h160v-160H180v160Zm440 0h160v-160H620v160Z\"/>\n",
              "  </svg>\n",
              "    </button>\n",
              "\n",
              "  <style>\n",
              "    .colab-df-container {\n",
              "      display:flex;\n",
              "      gap: 12px;\n",
              "    }\n",
              "\n",
              "    .colab-df-convert {\n",
              "      background-color: #E8F0FE;\n",
              "      border: none;\n",
              "      border-radius: 50%;\n",
              "      cursor: pointer;\n",
              "      display: none;\n",
              "      fill: #1967D2;\n",
              "      height: 32px;\n",
              "      padding: 0 0 0 0;\n",
              "      width: 32px;\n",
              "    }\n",
              "\n",
              "    .colab-df-convert:hover {\n",
              "      background-color: #E2EBFA;\n",
              "      box-shadow: 0px 1px 2px rgba(60, 64, 67, 0.3), 0px 1px 3px 1px rgba(60, 64, 67, 0.15);\n",
              "      fill: #174EA6;\n",
              "    }\n",
              "\n",
              "    .colab-df-buttons div {\n",
              "      margin-bottom: 4px;\n",
              "    }\n",
              "\n",
              "    [theme=dark] .colab-df-convert {\n",
              "      background-color: #3B4455;\n",
              "      fill: #D2E3FC;\n",
              "    }\n",
              "\n",
              "    [theme=dark] .colab-df-convert:hover {\n",
              "      background-color: #434B5C;\n",
              "      box-shadow: 0px 1px 3px 1px rgba(0, 0, 0, 0.15);\n",
              "      filter: drop-shadow(0px 1px 2px rgba(0, 0, 0, 0.3));\n",
              "      fill: #FFFFFF;\n",
              "    }\n",
              "  </style>\n",
              "\n",
              "    <script>\n",
              "      const buttonEl =\n",
              "        document.querySelector('#df-298fc976-473c-48b5-bef2-5cea4bf045c7 button.colab-df-convert');\n",
              "      buttonEl.style.display =\n",
              "        google.colab.kernel.accessAllowed ? 'block' : 'none';\n",
              "\n",
              "      async function convertToInteractive(key) {\n",
              "        const element = document.querySelector('#df-298fc976-473c-48b5-bef2-5cea4bf045c7');\n",
              "        const dataTable =\n",
              "          await google.colab.kernel.invokeFunction('convertToInteractive',\n",
              "                                                    [key], {});\n",
              "        if (!dataTable) return;\n",
              "\n",
              "        const docLinkHtml = 'Like what you see? Visit the ' +\n",
              "          '<a target=\"_blank\" href=https://colab.research.google.com/notebooks/data_table.ipynb>data table notebook</a>'\n",
              "          + ' to learn more about interactive tables.';\n",
              "        element.innerHTML = '';\n",
              "        dataTable['output_type'] = 'display_data';\n",
              "        await google.colab.output.renderOutput(dataTable, element);\n",
              "        const docLink = document.createElement('div');\n",
              "        docLink.innerHTML = docLinkHtml;\n",
              "        element.appendChild(docLink);\n",
              "      }\n",
              "    </script>\n",
              "  </div>\n",
              "\n",
              "\n",
              "<div id=\"df-c21ebf52-5407-4384-9a38-7dbbc52d988f\">\n",
              "  <button class=\"colab-df-quickchart\" onclick=\"quickchart('df-c21ebf52-5407-4384-9a38-7dbbc52d988f')\"\n",
              "            title=\"Suggest charts.\"\n",
              "            style=\"display:none;\">\n",
              "\n",
              "<svg xmlns=\"http://www.w3.org/2000/svg\" height=\"24px\"viewBox=\"0 0 24 24\"\n",
              "     width=\"24px\">\n",
              "    <g>\n",
              "        <path d=\"M19 3H5c-1.1 0-2 .9-2 2v14c0 1.1.9 2 2 2h14c1.1 0 2-.9 2-2V5c0-1.1-.9-2-2-2zM9 17H7v-7h2v7zm4 0h-2V7h2v10zm4 0h-2v-4h2v4z\"/>\n",
              "    </g>\n",
              "</svg>\n",
              "  </button>\n",
              "\n",
              "<style>\n",
              "  .colab-df-quickchart {\n",
              "      --bg-color: #E8F0FE;\n",
              "      --fill-color: #1967D2;\n",
              "      --hover-bg-color: #E2EBFA;\n",
              "      --hover-fill-color: #174EA6;\n",
              "      --disabled-fill-color: #AAA;\n",
              "      --disabled-bg-color: #DDD;\n",
              "  }\n",
              "\n",
              "  [theme=dark] .colab-df-quickchart {\n",
              "      --bg-color: #3B4455;\n",
              "      --fill-color: #D2E3FC;\n",
              "      --hover-bg-color: #434B5C;\n",
              "      --hover-fill-color: #FFFFFF;\n",
              "      --disabled-bg-color: #3B4455;\n",
              "      --disabled-fill-color: #666;\n",
              "  }\n",
              "\n",
              "  .colab-df-quickchart {\n",
              "    background-color: var(--bg-color);\n",
              "    border: none;\n",
              "    border-radius: 50%;\n",
              "    cursor: pointer;\n",
              "    display: none;\n",
              "    fill: var(--fill-color);\n",
              "    height: 32px;\n",
              "    padding: 0;\n",
              "    width: 32px;\n",
              "  }\n",
              "\n",
              "  .colab-df-quickchart:hover {\n",
              "    background-color: var(--hover-bg-color);\n",
              "    box-shadow: 0 1px 2px rgba(60, 64, 67, 0.3), 0 1px 3px 1px rgba(60, 64, 67, 0.15);\n",
              "    fill: var(--button-hover-fill-color);\n",
              "  }\n",
              "\n",
              "  .colab-df-quickchart-complete:disabled,\n",
              "  .colab-df-quickchart-complete:disabled:hover {\n",
              "    background-color: var(--disabled-bg-color);\n",
              "    fill: var(--disabled-fill-color);\n",
              "    box-shadow: none;\n",
              "  }\n",
              "\n",
              "  .colab-df-spinner {\n",
              "    border: 2px solid var(--fill-color);\n",
              "    border-color: transparent;\n",
              "    border-bottom-color: var(--fill-color);\n",
              "    animation:\n",
              "      spin 1s steps(1) infinite;\n",
              "  }\n",
              "\n",
              "  @keyframes spin {\n",
              "    0% {\n",
              "      border-color: transparent;\n",
              "      border-bottom-color: var(--fill-color);\n",
              "      border-left-color: var(--fill-color);\n",
              "    }\n",
              "    20% {\n",
              "      border-color: transparent;\n",
              "      border-left-color: var(--fill-color);\n",
              "      border-top-color: var(--fill-color);\n",
              "    }\n",
              "    30% {\n",
              "      border-color: transparent;\n",
              "      border-left-color: var(--fill-color);\n",
              "      border-top-color: var(--fill-color);\n",
              "      border-right-color: var(--fill-color);\n",
              "    }\n",
              "    40% {\n",
              "      border-color: transparent;\n",
              "      border-right-color: var(--fill-color);\n",
              "      border-top-color: var(--fill-color);\n",
              "    }\n",
              "    60% {\n",
              "      border-color: transparent;\n",
              "      border-right-color: var(--fill-color);\n",
              "    }\n",
              "    80% {\n",
              "      border-color: transparent;\n",
              "      border-right-color: var(--fill-color);\n",
              "      border-bottom-color: var(--fill-color);\n",
              "    }\n",
              "    90% {\n",
              "      border-color: transparent;\n",
              "      border-bottom-color: var(--fill-color);\n",
              "    }\n",
              "  }\n",
              "</style>\n",
              "\n",
              "  <script>\n",
              "    async function quickchart(key) {\n",
              "      const quickchartButtonEl =\n",
              "        document.querySelector('#' + key + ' button');\n",
              "      quickchartButtonEl.disabled = true;  // To prevent multiple clicks.\n",
              "      quickchartButtonEl.classList.add('colab-df-spinner');\n",
              "      try {\n",
              "        const charts = await google.colab.kernel.invokeFunction(\n",
              "            'suggestCharts', [key], {});\n",
              "      } catch (error) {\n",
              "        console.error('Error during call to suggestCharts:', error);\n",
              "      }\n",
              "      quickchartButtonEl.classList.remove('colab-df-spinner');\n",
              "      quickchartButtonEl.classList.add('colab-df-quickchart-complete');\n",
              "    }\n",
              "    (() => {\n",
              "      let quickchartButtonEl =\n",
              "        document.querySelector('#df-c21ebf52-5407-4384-9a38-7dbbc52d988f button');\n",
              "      quickchartButtonEl.style.display =\n",
              "        google.colab.kernel.accessAllowed ? 'block' : 'none';\n",
              "    })();\n",
              "  </script>\n",
              "</div>\n",
              "    </div>\n",
              "  </div>\n"
            ]
          },
          "metadata": {},
          "execution_count": 7
        }
      ]
    },
    {
      "cell_type": "code",
      "source": [
        "# Créer la série temporelle\n",
        "temps = df.loc[:,\"JAN\":\"DEC\"]\n",
        "temps.head()"
      ],
      "metadata": {
        "colab": {
          "base_uri": "https://localhost:8080/",
          "height": 206
        },
        "id": "1YK2PUNmrDog",
        "outputId": "72a682dd-b898-426c-95ec-e9e26f068483"
      },
      "execution_count": 8,
      "outputs": [
        {
          "output_type": "execute_result",
          "data": {
            "text/plain": [
              "    JAN   FEB   MAR   APR    MAY    JUN    JUL    AUG    SEP    OCT   NOV  \\\n",
              "0  4.17  4.25  6.02  7.94  12.23  15.04  16.35  18.15  15.23  11.13  7.34   \n",
              "1  7.13  6.16  6.80  9.21  11.06  14.39  15.90  16.67  13.41   8.43  8.48   \n",
              "2  8.02  5.78  5.75  8.75  10.45  14.48  17.53  19.11  15.21  10.57  7.16   \n",
              "3  5.82  4.99  6.07  8.10  13.25  17.47  19.17  18.16  15.25  12.14  7.66   \n",
              "4  4.24  7.48  8.33  8.06  11.35  13.33  16.34  15.67  13.52  12.84  8.06   \n",
              "\n",
              "    DEC  \n",
              "0  5.70  \n",
              "1  8.70  \n",
              "2  3.59  \n",
              "3  3.58  \n",
              "4  7.56  "
            ],
            "text/html": [
              "\n",
              "  <div id=\"df-c79cefac-a3ef-4dc3-8c35-c555ec31210f\" class=\"colab-df-container\">\n",
              "    <div>\n",
              "<style scoped>\n",
              "    .dataframe tbody tr th:only-of-type {\n",
              "        vertical-align: middle;\n",
              "    }\n",
              "\n",
              "    .dataframe tbody tr th {\n",
              "        vertical-align: top;\n",
              "    }\n",
              "\n",
              "    .dataframe thead th {\n",
              "        text-align: right;\n",
              "    }\n",
              "</style>\n",
              "<table border=\"1\" class=\"dataframe\">\n",
              "  <thead>\n",
              "    <tr style=\"text-align: right;\">\n",
              "      <th></th>\n",
              "      <th>JAN</th>\n",
              "      <th>FEB</th>\n",
              "      <th>MAR</th>\n",
              "      <th>APR</th>\n",
              "      <th>MAY</th>\n",
              "      <th>JUN</th>\n",
              "      <th>JUL</th>\n",
              "      <th>AUG</th>\n",
              "      <th>SEP</th>\n",
              "      <th>OCT</th>\n",
              "      <th>NOV</th>\n",
              "      <th>DEC</th>\n",
              "    </tr>\n",
              "  </thead>\n",
              "  <tbody>\n",
              "    <tr>\n",
              "      <th>0</th>\n",
              "      <td>4.17</td>\n",
              "      <td>4.25</td>\n",
              "      <td>6.02</td>\n",
              "      <td>7.94</td>\n",
              "      <td>12.23</td>\n",
              "      <td>15.04</td>\n",
              "      <td>16.35</td>\n",
              "      <td>18.15</td>\n",
              "      <td>15.23</td>\n",
              "      <td>11.13</td>\n",
              "      <td>7.34</td>\n",
              "      <td>5.70</td>\n",
              "    </tr>\n",
              "    <tr>\n",
              "      <th>1</th>\n",
              "      <td>7.13</td>\n",
              "      <td>6.16</td>\n",
              "      <td>6.80</td>\n",
              "      <td>9.21</td>\n",
              "      <td>11.06</td>\n",
              "      <td>14.39</td>\n",
              "      <td>15.90</td>\n",
              "      <td>16.67</td>\n",
              "      <td>13.41</td>\n",
              "      <td>8.43</td>\n",
              "      <td>8.48</td>\n",
              "      <td>8.70</td>\n",
              "    </tr>\n",
              "    <tr>\n",
              "      <th>2</th>\n",
              "      <td>8.02</td>\n",
              "      <td>5.78</td>\n",
              "      <td>5.75</td>\n",
              "      <td>8.75</td>\n",
              "      <td>10.45</td>\n",
              "      <td>14.48</td>\n",
              "      <td>17.53</td>\n",
              "      <td>19.11</td>\n",
              "      <td>15.21</td>\n",
              "      <td>10.57</td>\n",
              "      <td>7.16</td>\n",
              "      <td>3.59</td>\n",
              "    </tr>\n",
              "    <tr>\n",
              "      <th>3</th>\n",
              "      <td>5.82</td>\n",
              "      <td>4.99</td>\n",
              "      <td>6.07</td>\n",
              "      <td>8.10</td>\n",
              "      <td>13.25</td>\n",
              "      <td>17.47</td>\n",
              "      <td>19.17</td>\n",
              "      <td>18.16</td>\n",
              "      <td>15.25</td>\n",
              "      <td>12.14</td>\n",
              "      <td>7.66</td>\n",
              "      <td>3.58</td>\n",
              "    </tr>\n",
              "    <tr>\n",
              "      <th>4</th>\n",
              "      <td>4.24</td>\n",
              "      <td>7.48</td>\n",
              "      <td>8.33</td>\n",
              "      <td>8.06</td>\n",
              "      <td>11.35</td>\n",
              "      <td>13.33</td>\n",
              "      <td>16.34</td>\n",
              "      <td>15.67</td>\n",
              "      <td>13.52</td>\n",
              "      <td>12.84</td>\n",
              "      <td>8.06</td>\n",
              "      <td>7.56</td>\n",
              "    </tr>\n",
              "  </tbody>\n",
              "</table>\n",
              "</div>\n",
              "    <div class=\"colab-df-buttons\">\n",
              "\n",
              "  <div class=\"colab-df-container\">\n",
              "    <button class=\"colab-df-convert\" onclick=\"convertToInteractive('df-c79cefac-a3ef-4dc3-8c35-c555ec31210f')\"\n",
              "            title=\"Convert this dataframe to an interactive table.\"\n",
              "            style=\"display:none;\">\n",
              "\n",
              "  <svg xmlns=\"http://www.w3.org/2000/svg\" height=\"24px\" viewBox=\"0 -960 960 960\">\n",
              "    <path d=\"M120-120v-720h720v720H120Zm60-500h600v-160H180v160Zm220 220h160v-160H400v160Zm0 220h160v-160H400v160ZM180-400h160v-160H180v160Zm440 0h160v-160H620v160ZM180-180h160v-160H180v160Zm440 0h160v-160H620v160Z\"/>\n",
              "  </svg>\n",
              "    </button>\n",
              "\n",
              "  <style>\n",
              "    .colab-df-container {\n",
              "      display:flex;\n",
              "      gap: 12px;\n",
              "    }\n",
              "\n",
              "    .colab-df-convert {\n",
              "      background-color: #E8F0FE;\n",
              "      border: none;\n",
              "      border-radius: 50%;\n",
              "      cursor: pointer;\n",
              "      display: none;\n",
              "      fill: #1967D2;\n",
              "      height: 32px;\n",
              "      padding: 0 0 0 0;\n",
              "      width: 32px;\n",
              "    }\n",
              "\n",
              "    .colab-df-convert:hover {\n",
              "      background-color: #E2EBFA;\n",
              "      box-shadow: 0px 1px 2px rgba(60, 64, 67, 0.3), 0px 1px 3px 1px rgba(60, 64, 67, 0.15);\n",
              "      fill: #174EA6;\n",
              "    }\n",
              "\n",
              "    .colab-df-buttons div {\n",
              "      margin-bottom: 4px;\n",
              "    }\n",
              "\n",
              "    [theme=dark] .colab-df-convert {\n",
              "      background-color: #3B4455;\n",
              "      fill: #D2E3FC;\n",
              "    }\n",
              "\n",
              "    [theme=dark] .colab-df-convert:hover {\n",
              "      background-color: #434B5C;\n",
              "      box-shadow: 0px 1px 3px 1px rgba(0, 0, 0, 0.15);\n",
              "      filter: drop-shadow(0px 1px 2px rgba(0, 0, 0, 0.3));\n",
              "      fill: #FFFFFF;\n",
              "    }\n",
              "  </style>\n",
              "\n",
              "    <script>\n",
              "      const buttonEl =\n",
              "        document.querySelector('#df-c79cefac-a3ef-4dc3-8c35-c555ec31210f button.colab-df-convert');\n",
              "      buttonEl.style.display =\n",
              "        google.colab.kernel.accessAllowed ? 'block' : 'none';\n",
              "\n",
              "      async function convertToInteractive(key) {\n",
              "        const element = document.querySelector('#df-c79cefac-a3ef-4dc3-8c35-c555ec31210f');\n",
              "        const dataTable =\n",
              "          await google.colab.kernel.invokeFunction('convertToInteractive',\n",
              "                                                    [key], {});\n",
              "        if (!dataTable) return;\n",
              "\n",
              "        const docLinkHtml = 'Like what you see? Visit the ' +\n",
              "          '<a target=\"_blank\" href=https://colab.research.google.com/notebooks/data_table.ipynb>data table notebook</a>'\n",
              "          + ' to learn more about interactive tables.';\n",
              "        element.innerHTML = '';\n",
              "        dataTable['output_type'] = 'display_data';\n",
              "        await google.colab.output.renderOutput(dataTable, element);\n",
              "        const docLink = document.createElement('div');\n",
              "        docLink.innerHTML = docLinkHtml;\n",
              "        element.appendChild(docLink);\n",
              "      }\n",
              "    </script>\n",
              "  </div>\n",
              "\n",
              "\n",
              "<div id=\"df-3d0dcb1b-713e-4fa5-86b6-471438d36b3e\">\n",
              "  <button class=\"colab-df-quickchart\" onclick=\"quickchart('df-3d0dcb1b-713e-4fa5-86b6-471438d36b3e')\"\n",
              "            title=\"Suggest charts.\"\n",
              "            style=\"display:none;\">\n",
              "\n",
              "<svg xmlns=\"http://www.w3.org/2000/svg\" height=\"24px\"viewBox=\"0 0 24 24\"\n",
              "     width=\"24px\">\n",
              "    <g>\n",
              "        <path d=\"M19 3H5c-1.1 0-2 .9-2 2v14c0 1.1.9 2 2 2h14c1.1 0 2-.9 2-2V5c0-1.1-.9-2-2-2zM9 17H7v-7h2v7zm4 0h-2V7h2v10zm4 0h-2v-4h2v4z\"/>\n",
              "    </g>\n",
              "</svg>\n",
              "  </button>\n",
              "\n",
              "<style>\n",
              "  .colab-df-quickchart {\n",
              "      --bg-color: #E8F0FE;\n",
              "      --fill-color: #1967D2;\n",
              "      --hover-bg-color: #E2EBFA;\n",
              "      --hover-fill-color: #174EA6;\n",
              "      --disabled-fill-color: #AAA;\n",
              "      --disabled-bg-color: #DDD;\n",
              "  }\n",
              "\n",
              "  [theme=dark] .colab-df-quickchart {\n",
              "      --bg-color: #3B4455;\n",
              "      --fill-color: #D2E3FC;\n",
              "      --hover-bg-color: #434B5C;\n",
              "      --hover-fill-color: #FFFFFF;\n",
              "      --disabled-bg-color: #3B4455;\n",
              "      --disabled-fill-color: #666;\n",
              "  }\n",
              "\n",
              "  .colab-df-quickchart {\n",
              "    background-color: var(--bg-color);\n",
              "    border: none;\n",
              "    border-radius: 50%;\n",
              "    cursor: pointer;\n",
              "    display: none;\n",
              "    fill: var(--fill-color);\n",
              "    height: 32px;\n",
              "    padding: 0;\n",
              "    width: 32px;\n",
              "  }\n",
              "\n",
              "  .colab-df-quickchart:hover {\n",
              "    background-color: var(--hover-bg-color);\n",
              "    box-shadow: 0 1px 2px rgba(60, 64, 67, 0.3), 0 1px 3px 1px rgba(60, 64, 67, 0.15);\n",
              "    fill: var(--button-hover-fill-color);\n",
              "  }\n",
              "\n",
              "  .colab-df-quickchart-complete:disabled,\n",
              "  .colab-df-quickchart-complete:disabled:hover {\n",
              "    background-color: var(--disabled-bg-color);\n",
              "    fill: var(--disabled-fill-color);\n",
              "    box-shadow: none;\n",
              "  }\n",
              "\n",
              "  .colab-df-spinner {\n",
              "    border: 2px solid var(--fill-color);\n",
              "    border-color: transparent;\n",
              "    border-bottom-color: var(--fill-color);\n",
              "    animation:\n",
              "      spin 1s steps(1) infinite;\n",
              "  }\n",
              "\n",
              "  @keyframes spin {\n",
              "    0% {\n",
              "      border-color: transparent;\n",
              "      border-bottom-color: var(--fill-color);\n",
              "      border-left-color: var(--fill-color);\n",
              "    }\n",
              "    20% {\n",
              "      border-color: transparent;\n",
              "      border-left-color: var(--fill-color);\n",
              "      border-top-color: var(--fill-color);\n",
              "    }\n",
              "    30% {\n",
              "      border-color: transparent;\n",
              "      border-left-color: var(--fill-color);\n",
              "      border-top-color: var(--fill-color);\n",
              "      border-right-color: var(--fill-color);\n",
              "    }\n",
              "    40% {\n",
              "      border-color: transparent;\n",
              "      border-right-color: var(--fill-color);\n",
              "      border-top-color: var(--fill-color);\n",
              "    }\n",
              "    60% {\n",
              "      border-color: transparent;\n",
              "      border-right-color: var(--fill-color);\n",
              "    }\n",
              "    80% {\n",
              "      border-color: transparent;\n",
              "      border-right-color: var(--fill-color);\n",
              "      border-bottom-color: var(--fill-color);\n",
              "    }\n",
              "    90% {\n",
              "      border-color: transparent;\n",
              "      border-bottom-color: var(--fill-color);\n",
              "    }\n",
              "  }\n",
              "</style>\n",
              "\n",
              "  <script>\n",
              "    async function quickchart(key) {\n",
              "      const quickchartButtonEl =\n",
              "        document.querySelector('#' + key + ' button');\n",
              "      quickchartButtonEl.disabled = true;  // To prevent multiple clicks.\n",
              "      quickchartButtonEl.classList.add('colab-df-spinner');\n",
              "      try {\n",
              "        const charts = await google.colab.kernel.invokeFunction(\n",
              "            'suggestCharts', [key], {});\n",
              "      } catch (error) {\n",
              "        console.error('Error during call to suggestCharts:', error);\n",
              "      }\n",
              "      quickchartButtonEl.classList.remove('colab-df-spinner');\n",
              "      quickchartButtonEl.classList.add('colab-df-quickchart-complete');\n",
              "    }\n",
              "    (() => {\n",
              "      let quickchartButtonEl =\n",
              "        document.querySelector('#df-3d0dcb1b-713e-4fa5-86b6-471438d36b3e button');\n",
              "      quickchartButtonEl.style.display =\n",
              "        google.colab.kernel.accessAllowed ? 'block' : 'none';\n",
              "    })();\n",
              "  </script>\n",
              "</div>\n",
              "    </div>\n",
              "  </div>\n"
            ]
          },
          "metadata": {},
          "execution_count": 8
        }
      ]
    },
    {
      "cell_type": "code",
      "source": [
        "# création de la série de températures\n",
        "\n",
        "# serie des valeurs\n",
        "series = []\n",
        "\n",
        "for i, row in temps.iterrows():\n",
        "  series+=(list(row))"
      ],
      "metadata": {
        "id": "qkjWGLOErDq_"
      },
      "execution_count": 9,
      "outputs": []
    },
    {
      "cell_type": "code",
      "source": [
        "print(series)"
      ],
      "metadata": {
        "colab": {
          "base_uri": "https://localhost:8080/"
        },
        "id": "ahZW5CyKrDtw",
        "outputId": "0d4401bd-67cf-4044-b3f5-1476f06a3466"
      },
      "execution_count": 10,
      "outputs": [
        {
          "output_type": "stream",
          "name": "stdout",
          "text": [
            "[4.17, 4.25, 6.02, 7.94, 12.23, 15.04, 16.35, 18.15, 15.23, 11.13, 7.34, 5.7, 7.13, 6.16, 6.8, 9.21, 11.06, 14.39, 15.9, 16.67, 13.41, 8.43, 8.48, 8.7, 8.02, 5.78, 5.75, 8.75, 10.45, 14.48, 17.53, 19.11, 15.21, 10.57, 7.16, 3.59, 5.82, 4.99, 6.07, 8.1, 13.25, 17.47, 19.17, 18.16, 15.25, 12.14, 7.66, 3.58, 4.24, 7.48, 8.33, 8.06, 11.35, 13.33, 16.34, 15.67, 13.52, 12.84, 8.06, 7.56, 4.41, 3.84, 7.72, 7.95, 11.69, 13.75, 15.7, 15.27, 14.73, 12.86, 9.29, 5.31, 0.59, 3.47, 6.33, 8.48, 10.9, 13.92, 16.65, 15.62, 14.51, 12.08, 8.3, 7.18, 2.12, 7.15, 5.99, 8.74, 11.31, 14.56, 15.62, 17.25, 15.6, 10.45, 6.67, 5.29, 5.71, 3.46, 9.72, 8.52, 11.92, 13.96, 16.28, 17.05, 15.19, 10.41, 8.41, 4.77, 4.63, 5.72, 6.15, 8.77, 13.08, 16.98, 17.31, 16.97, 16.42, 11.19, 8.72, 5.2, 7.2, 1.91, 6.64, 8.04, 11.31, 15.18, 20.08, 17.79, 16.13, 11.73, 8.23, 5.45, 5.91, 5.08, 5.99, 9.28, 9.89, 14.98, 18.17, 18.65, 15.25, 12.04, 9.71, 5.5, 0.77, 3.11, 5.7, 9.3, 11.67, 14.26, 17.63, 15.9, 15.82, 11.44, 5.14, 6.97, 5.5, -0.93, 6.01, 6.64, 12.74, 16.39, 17.22, 15.34, 12.97, 13.32, 8.6, 6.93, -0.88, 4.3, 5.38, 11.27, 11.04, 14.43, 16.85, 17.37, 16.4, 11.35, 7.3, 5.49, 6.94, 5.4, 7.48, 9.44, 12.75, 14.43, 16.05, 17.08, 15.03, 12.11, 6.48, 8.05, 5.32, 6.64, 9.59, 7.65, 14.32, 999.9, 18.79, 17.38, 16.25, 13.86, 6.72, 5.04, 6.76, 9.36, 9.1, 8.74, 14.13, 14.09, 18.06, 19.0, 14.95, 13.51, 7.76, 4.61, 4.52, 3.11, 9.33, 9.21, 11.2, 14.07, 18.16, 18.54, 16.89, 11.11, 7.75, 4.18, 3.5, 5.77, 8.25, 9.03, 14.28, 15.34, 17.39, 17.73, 15.09, 10.17, 9.75, 5.26, 7.66, 4.95, 7.83, 10.9, 14.01, 16.28, 16.65, 16.58, 14.4, 9.77, 4.47, 7.4, 6.87, 5.41, 9.08, 8.91, 12.71, 16.2, 18.8, 17.75, 14.11, 11.3, 10.93, 7.51, 6.09, 8.59, 6.78, 8.87, 13.2, 14.63, 19.41, 19.74, 14.47, 14.57, 8.09, 3.68, 5.15, 3.88, 6.05, 9.46, 10.95, 16.42, 17.68, 17.78, 13.99, 12.47, 7.29, 2.92, 1.43, 7.91, 9.2, 8.99, 12.64, 15.42, 17.22, 20.16, 15.73, 11.8, 8.99, 6.31, 5.4, 6.72, 8.5, 9.08, 14.14, 15.61, 16.67, 17.81, 15.98, 12.15, 6.32, 6.57, 7.34, 5.87, 8.17, 10.41, 14.69, 15.35, 19.06, 18.63, 17.59, 12.2, 8.34, 6.64, 4.8, 7.4, 7.4, 8.9, 13.0, 16.1, 16.2, 18.0, 15.9, 11.7, 8.2, 7.22, 5.12, 6.25, 9.04, 9.29, 12.92, 15.72, 17.72, 18.72, 14.32, 14.52, 7.92, 4.03, 6.33, 8.33, 8.43, 9.93, 12.83, 15.53, 16.53, 17.13, 15.13, 12.03, 9.53, 7.39, 4.14, 4.74, 8.84, 10.34, 12.84, 17.64, 18.44, 20.24, 15.24, 9.74, 8.94, 5.35, 6.15, 5.65, 6.55, 9.55, 12.05, 15.95, 16.65, 18.15, 15.95, 12.15, 8.75, 5.37, 6.86, 3.97, 7.58, 10.3, 12.69, 16.7, 18.14, 17.17, 16.07, 15.07, 7.54, 4.94, 4.12, 4.39, 6.32, 9.52, 13.32, 16.82, 20.22, 16.92, 18.02, 14.72, 9.76, 6.71, 8.13, 8.31, 7.61, 11.71, 13.21, 15.61, 16.71, 16.81, 14.81, 11.41, 8.61, 5.0, 7.2, 6.4, 7.6, 9.1, 14.9, 15.4, 17.5, 17.4, 14.0, 11.0, 9.1, 4.63, 2.98, 4.88, 7.48, 10.48, 12.98, 15.98, 17.58, 18.08, 15.58, 12.78, 10.48, 4.67, 2.57, 4.57, 7.27, 9.57, 11.37, 15.77, 18.77, 17.17, 14.97, 11.97, 7.17, 1.86, 5.46, 7.86, 8.06, 12.26, 13.36, 15.46, 16.06, 16.96, 16.46, 13.36, 9.96, 8.29, 6.97, 3.48, 8.64, 8.78, 13.35, 15.34, 16.64, 18.24, 14.64, 12.88, 8.43, 7.35, 5.08, 3.73, 4.73, 8.83, 11.21, 14.43, 19.02, 18.57, 16.57, 13.92, 8.28, 7.32, 7.42, 7.57, 8.42, 11.02, 12.81, 15.82, 18.92, 16.77, 16.82, 14.21, 10.12, 6.85, 5.8, 4.76, 7.9, 10.86, 13.06, 15.96, 18.36, 18.16, 14.31, 12.01, 11.41, 10.54, 6.44, 6.49, 6.54, 8.84, 13.29, 16.09, 18.09, 18.69, 18.04, 10.99, 8.19, 5.73, 3.58, 7.33, 10.18, 9.43, 14.58, 17.73, 18.58, 18.08, 15.08, 13.93, 8.68, 6.77, 7.72, 3.47, 7.07, 11.67, 13.57, 16.47, 19.92, 18.52, 15.82, 12.97, 8.37, 7.95, 5.2, 7.45, 9.15, 9.75, 11.95, 16.6, 19.0, 18.65, 16.15, 13.0, 7.95, 7.09, 6.89, 8.39, 7.94, 12.19, 13.09, 16.24, 17.84, 20.04, 16.94, 12.24, 9.94, 6.93, 5.13, 6.48, 7.68, 7.33, 11.68, 16.78, 18.13, 17.23, 17.33, 12.83, 8.28, 7.56, 5.71, 7.56, 9.21, 9.86, 14.21, 16.96, 19.71, 19.96, 16.31, 15.11, 10.46, 5.0, 6.75, 6.9, 9.35, 10.05, 13.2, 18.0, 18.25, 18.4, 999.9, 999.9, 999.9, 999.9]\n"
          ]
        }
      ]
    },
    {
      "cell_type": "code",
      "source": [
        "series = np.array(series[:-5])"
      ],
      "metadata": {
        "id": "_RRm2ux2tFkC"
      },
      "execution_count": 11,
      "outputs": []
    },
    {
      "cell_type": "code",
      "source": [
        "series.shape"
      ],
      "metadata": {
        "colab": {
          "base_uri": "https://localhost:8080/"
        },
        "id": "_7eYGKfzt8zA",
        "outputId": "12d65cd7-5515-4e35-e18a-efa1c4ba6b7e"
      },
      "execution_count": 12,
      "outputs": [
        {
          "output_type": "execute_result",
          "data": {
            "text/plain": [
              "(607,)"
            ]
          },
          "metadata": {},
          "execution_count": 12
        }
      ]
    },
    {
      "cell_type": "code",
      "source": [
        "time = np.arange(len(series))"
      ],
      "metadata": {
        "id": "ubE6w3Ylt-nW"
      },
      "execution_count": 13,
      "outputs": []
    },
    {
      "cell_type": "code",
      "source": [
        "print(time)"
      ],
      "metadata": {
        "colab": {
          "base_uri": "https://localhost:8080/"
        },
        "id": "GclIzm01ugF3",
        "outputId": "3e5d88e0-9d43-4e43-8a42-6917873cc29a"
      },
      "execution_count": 14,
      "outputs": [
        {
          "output_type": "stream",
          "name": "stdout",
          "text": [
            "[  0   1   2   3   4   5   6   7   8   9  10  11  12  13  14  15  16  17\n",
            "  18  19  20  21  22  23  24  25  26  27  28  29  30  31  32  33  34  35\n",
            "  36  37  38  39  40  41  42  43  44  45  46  47  48  49  50  51  52  53\n",
            "  54  55  56  57  58  59  60  61  62  63  64  65  66  67  68  69  70  71\n",
            "  72  73  74  75  76  77  78  79  80  81  82  83  84  85  86  87  88  89\n",
            "  90  91  92  93  94  95  96  97  98  99 100 101 102 103 104 105 106 107\n",
            " 108 109 110 111 112 113 114 115 116 117 118 119 120 121 122 123 124 125\n",
            " 126 127 128 129 130 131 132 133 134 135 136 137 138 139 140 141 142 143\n",
            " 144 145 146 147 148 149 150 151 152 153 154 155 156 157 158 159 160 161\n",
            " 162 163 164 165 166 167 168 169 170 171 172 173 174 175 176 177 178 179\n",
            " 180 181 182 183 184 185 186 187 188 189 190 191 192 193 194 195 196 197\n",
            " 198 199 200 201 202 203 204 205 206 207 208 209 210 211 212 213 214 215\n",
            " 216 217 218 219 220 221 222 223 224 225 226 227 228 229 230 231 232 233\n",
            " 234 235 236 237 238 239 240 241 242 243 244 245 246 247 248 249 250 251\n",
            " 252 253 254 255 256 257 258 259 260 261 262 263 264 265 266 267 268 269\n",
            " 270 271 272 273 274 275 276 277 278 279 280 281 282 283 284 285 286 287\n",
            " 288 289 290 291 292 293 294 295 296 297 298 299 300 301 302 303 304 305\n",
            " 306 307 308 309 310 311 312 313 314 315 316 317 318 319 320 321 322 323\n",
            " 324 325 326 327 328 329 330 331 332 333 334 335 336 337 338 339 340 341\n",
            " 342 343 344 345 346 347 348 349 350 351 352 353 354 355 356 357 358 359\n",
            " 360 361 362 363 364 365 366 367 368 369 370 371 372 373 374 375 376 377\n",
            " 378 379 380 381 382 383 384 385 386 387 388 389 390 391 392 393 394 395\n",
            " 396 397 398 399 400 401 402 403 404 405 406 407 408 409 410 411 412 413\n",
            " 414 415 416 417 418 419 420 421 422 423 424 425 426 427 428 429 430 431\n",
            " 432 433 434 435 436 437 438 439 440 441 442 443 444 445 446 447 448 449\n",
            " 450 451 452 453 454 455 456 457 458 459 460 461 462 463 464 465 466 467\n",
            " 468 469 470 471 472 473 474 475 476 477 478 479 480 481 482 483 484 485\n",
            " 486 487 488 489 490 491 492 493 494 495 496 497 498 499 500 501 502 503\n",
            " 504 505 506 507 508 509 510 511 512 513 514 515 516 517 518 519 520 521\n",
            " 522 523 524 525 526 527 528 529 530 531 532 533 534 535 536 537 538 539\n",
            " 540 541 542 543 544 545 546 547 548 549 550 551 552 553 554 555 556 557\n",
            " 558 559 560 561 562 563 564 565 566 567 568 569 570 571 572 573 574 575\n",
            " 576 577 578 579 580 581 582 583 584 585 586 587 588 589 590 591 592 593\n",
            " 594 595 596 597 598 599 600 601 602 603 604 605 606]\n"
          ]
        }
      ]
    },
    {
      "cell_type": "code",
      "source": [
        "plt.plot(time, series)\n",
        "plt.xlabel(\"Time\")\n",
        "plt.ylabel(\"Temperature\")\n",
        "plt.show()"
      ],
      "metadata": {
        "colab": {
          "base_uri": "https://localhost:8080/",
          "height": 449
        },
        "id": "SqRH8qd5ukv8",
        "outputId": "471e23cb-06f9-4eec-a9dc-e200c5ffc9d2"
      },
      "execution_count": 15,
      "outputs": [
        {
          "output_type": "display_data",
          "data": {
            "text/plain": [
              "<Figure size 640x480 with 1 Axes>"
            ],
            "image/png": "[encoded data removed]"
          },
          "metadata": {}
        }
      ]
    },
    {
      "cell_type": "code",
      "source": [
        "np.argmax(series)"
      ],
      "metadata": {
        "colab": {
          "base_uri": "https://localhost:8080/"
        },
        "id": "66LbDFh5us3A",
        "outputId": "c1c9a85d-db98-4779-bdb4-e28673d7f26f"
      },
      "execution_count": 16,
      "outputs": [
        {
          "output_type": "execute_result",
          "data": {
            "text/plain": [
              "197"
            ]
          },
          "metadata": {},
          "execution_count": 16
        }
      ]
    },
    {
      "cell_type": "code",
      "source": [
        "series[197]"
      ],
      "metadata": {
        "colab": {
          "base_uri": "https://localhost:8080/"
        },
        "id": "gmos-G7juzFt",
        "outputId": "a777fd8f-b6cd-4856-cd4e-f2c788efa395"
      },
      "execution_count": 17,
      "outputs": [
        {
          "output_type": "execute_result",
          "data": {
            "text/plain": [
              "999.9"
            ]
          },
          "metadata": {},
          "execution_count": 17
        }
      ]
    },
    {
      "cell_type": "code",
      "source": [
        "series[194:201]"
      ],
      "metadata": {
        "colab": {
          "base_uri": "https://localhost:8080/"
        },
        "id": "qO_NQwiDu2Do",
        "outputId": "9a6963ed-caae-494f-e371-427d8e097685"
      },
      "execution_count": 18,
      "outputs": [
        {
          "output_type": "execute_result",
          "data": {
            "text/plain": [
              "array([  9.59,   7.65,  14.32, 999.9 ,  18.79,  17.38,  16.25])"
            ]
          },
          "metadata": {},
          "execution_count": 18
        }
      ]
    },
    {
      "cell_type": "code",
      "source": [
        "mean_ = (len(series[194:197])*np.mean(series[194:197]) + len(series[198:202])*np.mean(series[198:202]))/6"
      ],
      "metadata": {
        "id": "0LtLoDzYw3nN"
      },
      "execution_count": 19,
      "outputs": []
    },
    {
      "cell_type": "code",
      "source": [
        "np.mean(series[194:197])"
      ],
      "metadata": {
        "colab": {
          "base_uri": "https://localhost:8080/"
        },
        "id": "_5DW9c__vIhH",
        "outputId": "0e12d0a6-5540-4337-d118-a95d85648e78"
      },
      "execution_count": 20,
      "outputs": [
        {
          "output_type": "execute_result",
          "data": {
            "text/plain": [
              "10.520000000000001"
            ]
          },
          "metadata": {},
          "execution_count": 20
        }
      ]
    },
    {
      "cell_type": "code",
      "source": [
        "series[197] = mean_"
      ],
      "metadata": {
        "id": "kcwZcNsuvvOP"
      },
      "execution_count": 21,
      "outputs": []
    },
    {
      "cell_type": "code",
      "source": [
        "plt.plot(time, series)\n",
        "plt.xlabel(\"Time\")\n",
        "plt.ylabel(\"Temperature\")\n",
        "plt.grid(True)\n",
        "plt.show()"
      ],
      "metadata": {
        "colab": {
          "base_uri": "https://localhost:8080/",
          "height": 449
        },
        "id": "12PuztaIvmcm",
        "outputId": "85fdb8c0-cde3-466e-c2a7-fa01b5a7c99c"
      },
      "execution_count": 22,
      "outputs": [
        {
          "output_type": "display_data",
          "data": {
            "text/plain": [
              "<Figure size 640x480 with 1 Axes>"
            ],
            "image/png": "[encoded data removed]"
          },
          "metadata": {}
        }
      ]
    },
    {
      "cell_type": "markdown",
      "source": [
        "# Baseline Model"
      ],
      "metadata": {
        "id": "lvZQwoAUxvrD"
      }
    },
    {
      "cell_type": "code",
      "source": [
        "# train_test_split\n",
        "time_train = time[:507]\n",
        "x_train = series[:507]\n",
        "time_test = time[507:]\n",
        "x_test = series[507:]"
      ],
      "metadata": {
        "id": "lUyJMjFMxu-C"
      },
      "execution_count": 23,
      "outputs": []
    },
    {
      "cell_type": "code",
      "source": [
        "years = df[\"YEAR\"].tolist()"
      ],
      "metadata": {
        "id": "KHl7k-WvvsXZ"
      },
      "execution_count": 24,
      "outputs": []
    },
    {
      "cell_type": "code",
      "source": [
        "# on prend comme test les données de 1973 - 2016 et celles de 2016 - 2023 comme test\n",
        "\n",
        "# approche naive\n",
        "pred_naive = series[506:-1]"
      ],
      "metadata": {
        "id": "UPoSXBbKxpAU"
      },
      "execution_count": 25,
      "outputs": []
    },
    {
      "cell_type": "code",
      "source": [
        "from sklearn.metrics import mean_absolute_error, mean_squared_error"
      ],
      "metadata": {
        "id": "Tb8LJqEtxpD0"
      },
      "execution_count": 26,
      "outputs": []
    },
    {
      "cell_type": "code",
      "source": [
        "mean_absolute_error(x_test, pred_naive)"
      ],
      "metadata": {
        "colab": {
          "base_uri": "https://localhost:8080/"
        },
        "id": "Pk5iNiAS0HQX",
        "outputId": "d7355680-777e-43ec-d119-b062cd6f2224"
      },
      "execution_count": 27,
      "outputs": [
        {
          "output_type": "execute_result",
          "data": {
            "text/plain": [
              "2.3807"
            ]
          },
          "metadata": {},
          "execution_count": 27
        }
      ]
    },
    {
      "cell_type": "code",
      "source": [
        "mean_squared_error(x_test, pred_naive)"
      ],
      "metadata": {
        "colab": {
          "base_uri": "https://localhost:8080/"
        },
        "id": "YVnWNYfTxIVb",
        "outputId": "f575015a-37b5-4328-f620-344b128e8127"
      },
      "execution_count": 28,
      "outputs": [
        {
          "output_type": "execute_result",
          "data": {
            "text/plain": [
              "8.131443"
            ]
          },
          "metadata": {},
          "execution_count": 28
        }
      ]
    },
    {
      "cell_type": "code",
      "source": [
        "pred_naive"
      ],
      "metadata": {
        "colab": {
          "base_uri": "https://localhost:8080/"
        },
        "id": "tKpQb1c_z-xM",
        "outputId": "5937e863-25e4-41ab-a9cc-c5bf8ae4e37f"
      },
      "execution_count": 29,
      "outputs": [
        {
          "output_type": "execute_result",
          "data": {
            "text/plain": [
              "array([ 7.9 , 10.86, 13.06, 15.96, 18.36, 18.16, 14.31, 12.01, 11.41,\n",
              "       10.54,  6.44,  6.49,  6.54,  8.84, 13.29, 16.09, 18.09, 18.69,\n",
              "       18.04, 10.99,  8.19,  5.73,  3.58,  7.33, 10.18,  9.43, 14.58,\n",
              "       17.73, 18.58, 18.08, 15.08, 13.93,  8.68,  6.77,  7.72,  3.47,\n",
              "        7.07, 11.67, 13.57, 16.47, 19.92, 18.52, 15.82, 12.97,  8.37,\n",
              "        7.95,  5.2 ,  7.45,  9.15,  9.75, 11.95, 16.6 , 19.  , 18.65,\n",
              "       16.15, 13.  ,  7.95,  7.09,  6.89,  8.39,  7.94, 12.19, 13.09,\n",
              "       16.24, 17.84, 20.04, 16.94, 12.24,  9.94,  6.93,  5.13,  6.48,\n",
              "        7.68,  7.33, 11.68, 16.78, 18.13, 17.23, 17.33, 12.83,  8.28,\n",
              "        7.56,  5.71,  7.56,  9.21,  9.86, 14.21, 16.96, 19.71, 19.96,\n",
              "       16.31, 15.11, 10.46,  5.  ,  6.75,  6.9 ,  9.35, 10.05, 13.2 ,\n",
              "       18.  ])"
            ]
          },
          "metadata": {},
          "execution_count": 29
        }
      ]
    },
    {
      "cell_type": "markdown",
      "source": [
        "# Deep Learning"
      ],
      "metadata": {
        "id": "cCmhWUJQ2P6p"
      }
    },
    {
      "cell_type": "code",
      "source": [
        "plt.plot(time_test, x_test)\n",
        "plt.plot(time_test, pred_naive)\n",
        "plt.xlabel(\"Time\")\n",
        "plt.ylabel(\"Temperature\")\n",
        "plt.grid(True)\n",
        "plt.show()"
      ],
      "metadata": {
        "colab": {
          "base_uri": "https://localhost:8080/",
          "height": 449
        },
        "id": "1OhYp2hR1LCx",
        "outputId": "8888dfae-cb9a-4923-9d68-12bd9fc80f36"
      },
      "execution_count": 30,
      "outputs": [
        {
          "output_type": "display_data",
          "data": {
            "text/plain": [
              "<Figure size 640x480 with 1 Axes>"
            ],
            "image/png": "[encoded data removed]"
          },
          "metadata": {}
        }
      ]
    },
    {
      "cell_type": "code",
      "source": [
        "x_windowed = np.zeros(len(x_test))"
      ],
      "metadata": {
        "id": "24wM02oe3RN_"
      },
      "execution_count": 31,
      "outputs": []
    },
    {
      "cell_type": "code",
      "source": [
        "mean_absolute_error(x_test, x_windowed)"
      ],
      "metadata": {
        "colab": {
          "base_uri": "https://localhost:8080/"
        },
        "id": "JXCrW19p3KtU",
        "outputId": "1393491d-4816-4a76-f983-578c373541d6"
      },
      "execution_count": 34,
      "outputs": [
        {
          "output_type": "execute_result",
          "data": {
            "text/plain": [
              "12.091700000000001"
            ]
          },
          "metadata": {},
          "execution_count": 34
        }
      ]
    },
    {
      "cell_type": "code",
      "source": [
        "mean_squared_error(x_test, x_windowed)"
      ],
      "metadata": {
        "colab": {
          "base_uri": "https://localhost:8080/"
        },
        "id": "Bk2V_-Ly66-7",
        "outputId": "960c159f-4f30-4b2c-dee4-8ef9078c6631"
      },
      "execution_count": 35,
      "outputs": [
        {
          "output_type": "execute_result",
          "data": {
            "text/plain": [
              "167.73637300000001"
            ]
          },
          "metadata": {},
          "execution_count": 35
        }
      ]
    },
    {
      "cell_type": "code",
      "source": [
        "plt.plot(time_test, x_test)\n",
        "plt.plot(time_test, x_windowed)\n",
        "plt.xlabel(\"Time\")\n",
        "plt.ylabel(\"Temperature\")\n",
        "plt.grid(True)\n",
        "plt.show()"
      ],
      "metadata": {
        "colab": {
          "base_uri": "https://localhost:8080/",
          "height": 449
        },
        "id": "Q2tPZmuK7cay",
        "outputId": "d7b30506-3fef-4d79-89a9-00c7e32f61d3"
      },
      "execution_count": 36,
      "outputs": [
        {
          "output_type": "display_data",
          "data": {
            "text/plain": [
              "<Figure size 640x480 with 1 Axes>"
            ],
            "image/png": "[encoded data removed]"
          },
          "metadata": {}
        }
      ]
    },
    {
      "cell_type": "markdown",
      "source": [
        "# Créer un Windowed dataset"
      ],
      "metadata": {
        "id": "EiLov-Y7HYG9"
      }
    },
    {
      "cell_type": "code",
      "source": [
        "import tensorflow as tf"
      ],
      "metadata": {
        "id": "VQ5Cmh5oHaSI"
      },
      "execution_count": 37,
      "outputs": []
    },
    {
      "cell_type": "code",
      "source": [
        "dataset = tf.data.Dataset.range(10)\n",
        "dataset = dataset.window(5, shift=1, drop_remainder=True)\n",
        "dataset = dataset.flat_map(lambda window : window.batch(5))\n",
        "dataset = dataset.map(lambda window : (window[:-1], window[-1]))\n",
        "\n",
        "# on récupère les données en lot\n",
        "# on mélange les données de manière aléatoire\n",
        "dataset = dataset.shuffle(buffer_size = 10)\n",
        "dataset = dataset.batch(2).prefetch(1)"
      ],
      "metadata": {
        "id": "yWFedeyIHgke"
      },
      "execution_count": 38,
      "outputs": []
    },
    {
      "cell_type": "code",
      "source": [
        "for X,y in dataset:\n",
        "  print(X.numpy(), y.numpy())"
      ],
      "metadata": {
        "colab": {
          "base_uri": "https://localhost:8080/"
        },
        "id": "CfCU_OfhHkd4",
        "outputId": "8d5c543a-0b45-4490-8db3-18faadf59375"
      },
      "execution_count": 39,
      "outputs": [
        {
          "output_type": "stream",
          "name": "stdout",
          "text": [
            "[[0 1 2 3]\n",
            " [2 3 4 5]] [4 6]\n",
            "[[1 2 3 4]\n",
            " [4 5 6 7]] [5 8]\n",
            "[[3 4 5 6]\n",
            " [5 6 7 8]] [7 9]\n"
          ]
        }
      ]
    },
    {
      "cell_type": "code",
      "source": [
        "dataset = tf.data.Dataset.from_tensor_slices(series)\n",
        "dataset = dataset.window(5, shift=1, drop_remainder=True)\n",
        "dataset = dataset.flat_map(lambda window : window.batch(5))\n",
        "dataset = dataset.map(lambda window : (window[:-1], window[-1]))\n",
        "\n",
        "# on récupère les données en lot\n",
        "# on mélange les données de manière aléatoire\n",
        "dataset = dataset.shuffle(buffer_size = len(series))\n",
        "dataset = dataset.batch(2).prefetch(1)"
      ],
      "metadata": {
        "id": "tWImJ_viLpNR"
      },
      "execution_count": 40,
      "outputs": []
    },
    {
      "cell_type": "code",
      "source": [
        "def windowed_dataset(series, window_size, batch_size):\n",
        "  dataset = tf.data.Dataset.from_tensor_slices(series)\n",
        "  dataset = dataset.window(window_size, shift=1, drop_remainder=True)\n",
        "  dataset = dataset.flat_map(lambda window : window.batch(window_size))\n",
        "  dataset = dataset.map(lambda window : (window[:-1], window[-1]))\n",
        "\n",
        "  # on récupère les données en lot\n",
        "  # on mélange les données de manière aléatoire\n",
        "  dataset = dataset.shuffle(buffer_size = len(series))\n",
        "  dataset = dataset.batch(batch_size).prefetch(1)\n",
        "\n",
        "  return dataset"
      ],
      "metadata": {
        "id": "DEpIx8HOLpSV"
      },
      "execution_count": 41,
      "outputs": []
    },
    {
      "cell_type": "code",
      "source": [
        "# 25 car on veut utiliser 24 valeurs précédentes pour prédire la valeur suivante\n",
        "# exp : usage de juil 2021 à juil 2023 pour prédire Aout 2023\n",
        "window_size = 25\n",
        "batch_size = 32\n",
        "\n",
        "dataset = windowed_dataset(x_train, window_size, batch_size)\n",
        "test_dataset = windowed_dataset(x_test, window_size, batch_size)\n",
        "\n",
        "# on obtient des lots de données de shape 32 éléments de 24 points précédents de données\n",
        "# (2 années) et 32 éléments en sortie correspondants à la prochaine température prédite"
      ],
      "metadata": {
        "id": "xpLPgCxgH_SE"
      },
      "execution_count": 42,
      "outputs": []
    },
    {
      "cell_type": "markdown",
      "source": [
        "# Réseaux de neurones"
      ],
      "metadata": {
        "id": "aWn-5Hj-NS2z"
      }
    },
    {
      "cell_type": "code",
      "source": [
        "for feature, label in dataset.take(1):\n",
        "  print(feature)\n",
        "  print(label)"
      ],
      "metadata": {
        "colab": {
          "base_uri": "https://localhost:8080/"
        },
        "id": "tWmFdmeoNLpQ",
        "outputId": "78b98cbb-9da9-429b-8d8e-a702b6146e33"
      },
      "execution_count": 43,
      "outputs": [
        {
          "output_type": "stream",
          "name": "stdout",
          "text": [
            "tf.Tensor(\n",
            "[[14.09       18.06       19.         14.95       13.51        7.76\n",
            "   4.61        4.52        3.11        9.33        9.21       11.2\n",
            "  14.07       18.16       18.54       16.89       11.11        7.75\n",
            "   4.18        3.5         5.77        8.25        9.03       14.28      ]\n",
            " [ 8.17       10.41       14.69       15.35       19.06       18.63\n",
            "  17.59       12.2         8.34        6.64        4.8         7.4\n",
            "   7.4         8.9        13.         16.1        16.2        18.\n",
            "  15.9        11.7         8.2         7.22        5.12        6.25      ]\n",
            " [17.31       16.97       16.42       11.19        8.72        5.2\n",
            "   7.2         1.91        6.64        8.04       11.31       15.18\n",
            "  20.08       17.79       16.13       11.73        8.23        5.45\n",
            "   5.91        5.08        5.99        9.28        9.89       14.98      ]\n",
            " [ 7.95       11.69       13.75       15.7        15.27       14.73\n",
            "  12.86        9.29        5.31        0.59        3.47        6.33\n",
            "   8.48       10.9        13.92       16.65       15.62       14.51\n",
            "  12.08        8.3         7.18        2.12        7.15        5.99      ]\n",
            " [ 8.77       13.08       16.98       17.31       16.97       16.42\n",
            "  11.19        8.72        5.2         7.2         1.91        6.64\n",
            "   8.04       11.31       15.18       20.08       17.79       16.13\n",
            "  11.73        8.23        5.45        5.91        5.08        5.99      ]\n",
            " [ 8.99        6.31        5.4         6.72        8.5         9.08\n",
            "  14.14       15.61       16.67       17.81       15.98       12.15\n",
            "   6.32        6.57        7.34        5.87        8.17       10.41\n",
            "  14.69       15.35       19.06       18.63       17.59       12.2       ]\n",
            " [16.05       17.08       15.03       12.11        6.48        8.05\n",
            "   5.32        6.64        9.59        7.65       14.32       16.30666667\n",
            "  18.79       17.38       16.25       13.86        6.72        5.04\n",
            "   6.76        9.36        9.1         8.74       14.13       14.09      ]\n",
            " [ 5.7         9.3        11.67       14.26       17.63       15.9\n",
            "  15.82       11.44        5.14        6.97        5.5        -0.93\n",
            "   6.01        6.64       12.74       16.39       17.22       15.34\n",
            "  12.97       13.32        8.6         6.93       -0.88        4.3       ]\n",
            " [ 6.97        3.48        8.64        8.78       13.35       15.34\n",
            "  16.64       18.24       14.64       12.88        8.43        7.35\n",
            "   5.08        3.73        4.73        8.83       11.21       14.43\n",
            "  19.02       18.57       16.57       13.92        8.28        7.32      ]\n",
            " [17.22       15.34       12.97       13.32        8.6         6.93\n",
            "  -0.88        4.3         5.38       11.27       11.04       14.43\n",
            "  16.85       17.37       16.4        11.35        7.3         5.49\n",
            "   6.94        5.4         7.48        9.44       12.75       14.43      ]\n",
            " [ 5.65        6.55        9.55       12.05       15.95       16.65\n",
            "  18.15       15.95       12.15        8.75        5.37        6.86\n",
            "   3.97        7.58       10.3        12.69       16.7        18.14\n",
            "  17.17       16.07       15.07        7.54        4.94        4.12      ]\n",
            " [13.99       12.47        7.29        2.92        1.43        7.91\n",
            "   9.2         8.99       12.64       15.42       17.22       20.16\n",
            "  15.73       11.8         8.99        6.31        5.4         6.72\n",
            "   8.5         9.08       14.14       15.61       16.67       17.81      ]\n",
            " [ 8.41        4.77        4.63        5.72        6.15        8.77\n",
            "  13.08       16.98       17.31       16.97       16.42       11.19\n",
            "   8.72        5.2         7.2         1.91        6.64        8.04\n",
            "  11.31       15.18       20.08       17.79       16.13       11.73      ]\n",
            " [18.15       15.23       11.13        7.34        5.7         7.13\n",
            "   6.16        6.8         9.21       11.06       14.39       15.9\n",
            "  16.67       13.41        8.43        8.48        8.7         8.02\n",
            "   5.78        5.75        8.75       10.45       14.48       17.53      ]\n",
            " [11.2        14.07       18.16       18.54       16.89       11.11\n",
            "   7.75        4.18        3.5         5.77        8.25        9.03\n",
            "  14.28       15.34       17.39       17.73       15.09       10.17\n",
            "   9.75        5.26        7.66        4.95        7.83       10.9       ]\n",
            " [12.71       16.2        18.8        17.75       14.11       11.3\n",
            "  10.93        7.51        6.09        8.59        6.78        8.87\n",
            "  13.2        14.63       19.41       19.74       14.47       14.57\n",
            "   8.09        3.68        5.15        3.88        6.05        9.46      ]\n",
            " [ 6.86        3.97        7.58       10.3        12.69       16.7\n",
            "  18.14       17.17       16.07       15.07        7.54        4.94\n",
            "   4.12        4.39        6.32        9.52       13.32       16.82\n",
            "  20.22       16.92       18.02       14.72        9.76        6.71      ]\n",
            " [16.42       11.19        8.72        5.2         7.2         1.91\n",
            "   6.64        8.04       11.31       15.18       20.08       17.79\n",
            "  16.13       11.73        8.23        5.45        5.91        5.08\n",
            "   5.99        9.28        9.89       14.98       18.17       18.65      ]\n",
            " [11.11        7.75        4.18        3.5         5.77        8.25\n",
            "   9.03       14.28       15.34       17.39       17.73       15.09\n",
            "  10.17        9.75        5.26        7.66        4.95        7.83\n",
            "  10.9        14.01       16.28       16.65       16.58       14.4       ]\n",
            " [14.56       15.62       17.25       15.6        10.45        6.67\n",
            "   5.29        5.71        3.46        9.72        8.52       11.92\n",
            "  13.96       16.28       17.05       15.19       10.41        8.41\n",
            "   4.77        4.63        5.72        6.15        8.77       13.08      ]\n",
            " [ 8.5         9.08       14.14       15.61       16.67       17.81\n",
            "  15.98       12.15        6.32        6.57        7.34        5.87\n",
            "   8.17       10.41       14.69       15.35       19.06       18.63\n",
            "  17.59       12.2         8.34        6.64        4.8         7.4       ]\n",
            " [16.64       18.24       14.64       12.88        8.43        7.35\n",
            "   5.08        3.73        4.73        8.83       11.21       14.43\n",
            "  19.02       18.57       16.57       13.92        8.28        7.32\n",
            "   7.42        7.57        8.42       11.02       12.81       15.82      ]\n",
            " [16.4        11.35        7.3         5.49        6.94        5.4\n",
            "   7.48        9.44       12.75       14.43       16.05       17.08\n",
            "  15.03       12.11        6.48        8.05        5.32        6.64\n",
            "   9.59        7.65       14.32       16.30666667 18.79       17.38      ]\n",
            " [17.58       18.08       15.58       12.78       10.48        4.67\n",
            "   2.57        4.57        7.27        9.57       11.37       15.77\n",
            "  18.77       17.17       14.97       11.97        7.17        1.86\n",
            "   5.46        7.86        8.06       12.26       13.36       15.46      ]\n",
            " [12.84       17.64       18.44       20.24       15.24        9.74\n",
            "   8.94        5.35        6.15        5.65        6.55        9.55\n",
            "  12.05       15.95       16.65       18.15       15.95       12.15\n",
            "   8.75        5.37        6.86        3.97        7.58       10.3       ]\n",
            " [ 9.75        5.26        7.66        4.95        7.83       10.9\n",
            "  14.01       16.28       16.65       16.58       14.4         9.77\n",
            "   4.47        7.4         6.87        5.41        9.08        8.91\n",
            "  12.71       16.2        18.8        17.75       14.11       11.3       ]\n",
            " [ 5.4         6.72        8.5         9.08       14.14       15.61\n",
            "  16.67       17.81       15.98       12.15        6.32        6.57\n",
            "   7.34        5.87        8.17       10.41       14.69       15.35\n",
            "  19.06       18.63       17.59       12.2         8.34        6.64      ]\n",
            " [16.85       17.37       16.4        11.35        7.3         5.49\n",
            "   6.94        5.4         7.48        9.44       12.75       14.43\n",
            "  16.05       17.08       15.03       12.11        6.48        8.05\n",
            "   5.32        6.64        9.59        7.65       14.32       16.30666667]\n",
            " [ 5.31        0.59        3.47        6.33        8.48       10.9\n",
            "  13.92       16.65       15.62       14.51       12.08        8.3\n",
            "   7.18        2.12        7.15        5.99        8.74       11.31\n",
            "  14.56       15.62       17.25       15.6        10.45        6.67      ]\n",
            " [13.25       17.47       19.17       18.16       15.25       12.14\n",
            "   7.66        3.58        4.24        7.48        8.33        8.06\n",
            "  11.35       13.33       16.34       15.67       13.52       12.84\n",
            "   8.06        7.56        4.41        3.84        7.72        7.95      ]\n",
            " [ 8.31        7.61       11.71       13.21       15.61       16.71\n",
            "  16.81       14.81       11.41        8.61        5.          7.2\n",
            "   6.4         7.6         9.1        14.9        15.4        17.5\n",
            "  17.4        14.         11.          9.1         4.63        2.98      ]\n",
            " [18.17       18.65       15.25       12.04        9.71        5.5\n",
            "   0.77        3.11        5.7         9.3        11.67       14.26\n",
            "  17.63       15.9        15.82       11.44        5.14        6.97\n",
            "   5.5        -0.93        6.01        6.64       12.74       16.39      ]], shape=(32, 24), dtype=float64)\n",
            "tf.Tensor(\n",
            "[15.34  9.04 18.17  8.74  9.28  8.34 18.06  5.38  7.42 16.05  4.39 15.98\n",
            "  8.23 19.11 14.01 10.95  8.13 15.25  9.77 16.98  7.4  18.92 16.25 16.06\n",
            " 12.69 10.93  4.8  18.79  5.29 11.69  4.88 17.22], shape=(32,), dtype=float64)\n"
          ]
        }
      ]
    },
    {
      "cell_type": "code",
      "source": [
        "model = tf.keras.models.Sequential([\n",
        "    tf.keras.layers.Dense(10, input_shape = [24], activation = \"relu\"),\n",
        "    tf.keras.layers.Dense(10, activation = \"relu\"),\n",
        "     tf.keras.layers.Dense(1)\n",
        "])"
      ],
      "metadata": {
        "id": "9nWfNvAQPNSO"
      },
      "execution_count": 44,
      "outputs": []
    },
    {
      "cell_type": "code",
      "source": [
        "model.summary()"
      ],
      "metadata": {
        "colab": {
          "base_uri": "https://localhost:8080/"
        },
        "id": "nebi5d-HNME1",
        "outputId": "cec80348-49a2-44f8-bd7c-5d3229e3856f"
      },
      "execution_count": 45,
      "outputs": [
        {
          "output_type": "stream",
          "name": "stdout",
          "text": [
            "Model: \"sequential\"\n",
            "_________________________________________________________________\n",
            " Layer (type)                Output Shape              Param #   \n",
            "=================================================================\n",
            " dense (Dense)               (None, 10)                250       \n",
            "                                                                 \n",
            " dense_1 (Dense)             (None, 10)                110       \n",
            "                                                                 \n",
            " dense_2 (Dense)             (None, 1)                 11        \n",
            "                                                                 \n",
            "=================================================================\n",
            "Total params: 371 (1.45 KB)\n",
            "Trainable params: 371 (1.45 KB)\n",
            "Non-trainable params: 0 (0.00 Byte)\n",
            "_________________________________________________________________\n"
          ]
        }
      ]
    },
    {
      "cell_type": "code",
      "source": [
        "model.compile(loss=\"mse\",optimizer=tf.keras.optimizers.SGD(learning_rate = 1e-6, momentum = .9))"
      ],
      "metadata": {
        "id": "4B43jiG6Rvl7"
      },
      "execution_count": 46,
      "outputs": []
    },
    {
      "cell_type": "code",
      "source": [
        "h = model.fit(dataset, epochs=100, validation_data=test_dataset)"
      ],
      "metadata": {
        "colab": {
          "base_uri": "https://localhost:8080/"
        },
        "id": "vEqGR2JNSCfR",
        "outputId": "f0942e47-e90d-46ce-d0e9-b15082e7c8e2"
      },
      "execution_count": 47,
      "outputs": [
        {
          "output_type": "stream",
          "name": "stdout",
          "text": [
            "Epoch 1/100\n",
            "16/16 [==============================] - 5s 40ms/step - loss: 165.3188 - val_loss: 155.7478\n",
            "Epoch 2/100\n",
            "16/16 [==============================] - 0s 8ms/step - loss: 102.1618 - val_loss: 82.0182\n",
            "Epoch 3/100\n",
            "16/16 [==============================] - 0s 9ms/step - loss: 51.3288 - val_loss: 36.6541\n",
            "Epoch 4/100\n",
            "16/16 [==============================] - 0s 9ms/step - loss: 23.6725 - val_loss: 16.1908\n",
            "Epoch 5/100\n",
            "16/16 [==============================] - 0s 10ms/step - loss: 12.3488 - val_loss: 9.8116\n",
            "Epoch 6/100\n",
            "16/16 [==============================] - 0s 9ms/step - loss: 9.2239 - val_loss: 7.9352\n",
            "Epoch 7/100\n",
            "16/16 [==============================] - 0s 9ms/step - loss: 8.0801 - val_loss: 7.0705\n",
            "Epoch 8/100\n",
            "16/16 [==============================] - 0s 8ms/step - loss: 7.3274 - val_loss: 6.3676\n",
            "Epoch 9/100\n",
            "16/16 [==============================] - 0s 9ms/step - loss: 6.7442 - val_loss: 5.8172\n",
            "Epoch 10/100\n",
            "16/16 [==============================] - 0s 9ms/step - loss: 6.2683 - val_loss: 5.4154\n",
            "Epoch 11/100\n",
            "16/16 [==============================] - 0s 15ms/step - loss: 5.9327 - val_loss: 5.1088\n",
            "Epoch 12/100\n",
            "16/16 [==============================] - 0s 9ms/step - loss: 5.6576 - val_loss: 4.8388\n",
            "Epoch 13/100\n",
            "16/16 [==============================] - 0s 13ms/step - loss: 5.4197 - val_loss: 4.6230\n",
            "Epoch 14/100\n",
            "16/16 [==============================] - 0s 15ms/step - loss: 5.2466 - val_loss: 4.4522\n",
            "Epoch 15/100\n",
            "16/16 [==============================] - 0s 16ms/step - loss: 5.0961 - val_loss: 4.3125\n",
            "Epoch 16/100\n",
            "16/16 [==============================] - 0s 16ms/step - loss: 4.9616 - val_loss: 4.1974\n",
            "Epoch 17/100\n",
            "16/16 [==============================] - 0s 17ms/step - loss: 4.8572 - val_loss: 4.0960\n",
            "Epoch 18/100\n",
            "16/16 [==============================] - 1s 16ms/step - loss: 4.7743 - val_loss: 4.0185\n",
            "Epoch 19/100\n",
            "16/16 [==============================] - 0s 12ms/step - loss: 4.7130 - val_loss: 3.9500\n",
            "Epoch 20/100\n",
            "16/16 [==============================] - 0s 11ms/step - loss: 4.6452 - val_loss: 3.8894\n",
            "Epoch 21/100\n",
            "16/16 [==============================] - 0s 9ms/step - loss: 4.5918 - val_loss: 3.8367\n",
            "Epoch 22/100\n",
            "16/16 [==============================] - 0s 15ms/step - loss: 4.5446 - val_loss: 3.7957\n",
            "Epoch 23/100\n",
            "16/16 [==============================] - 0s 10ms/step - loss: 4.5101 - val_loss: 3.7589\n",
            "Epoch 24/100\n",
            "16/16 [==============================] - 0s 14ms/step - loss: 4.4787 - val_loss: 3.7265\n",
            "Epoch 25/100\n",
            "16/16 [==============================] - 0s 14ms/step - loss: 4.4479 - val_loss: 3.7015\n",
            "Epoch 26/100\n",
            "16/16 [==============================] - 0s 12ms/step - loss: 4.4330 - val_loss: 3.6801\n",
            "Epoch 27/100\n",
            "16/16 [==============================] - 0s 10ms/step - loss: 4.4032 - val_loss: 3.6563\n",
            "Epoch 28/100\n",
            "16/16 [==============================] - 0s 9ms/step - loss: 4.3872 - val_loss: 3.6390\n",
            "Epoch 29/100\n",
            "16/16 [==============================] - 0s 10ms/step - loss: 4.3624 - val_loss: 3.6165\n",
            "Epoch 30/100\n",
            "16/16 [==============================] - 0s 9ms/step - loss: 4.3415 - val_loss: 3.5957\n",
            "Epoch 31/100\n",
            "16/16 [==============================] - 0s 15ms/step - loss: 4.3313 - val_loss: 3.5728\n",
            "Epoch 32/100\n",
            "16/16 [==============================] - 0s 11ms/step - loss: 4.3076 - val_loss: 3.5598\n",
            "Epoch 33/100\n",
            "16/16 [==============================] - 0s 10ms/step - loss: 4.2939 - val_loss: 3.5478\n",
            "Epoch 34/100\n",
            "16/16 [==============================] - 0s 9ms/step - loss: 4.2812 - val_loss: 3.5321\n",
            "Epoch 35/100\n",
            "16/16 [==============================] - 0s 10ms/step - loss: 4.2653 - val_loss: 3.5124\n",
            "Epoch 36/100\n",
            "16/16 [==============================] - 0s 12ms/step - loss: 4.2500 - val_loss: 3.4983\n",
            "Epoch 37/100\n",
            "16/16 [==============================] - 0s 15ms/step - loss: 4.2458 - val_loss: 3.4850\n",
            "Epoch 38/100\n",
            "16/16 [==============================] - 0s 12ms/step - loss: 4.2187 - val_loss: 3.4634\n",
            "Epoch 39/100\n",
            "16/16 [==============================] - 0s 10ms/step - loss: 4.2098 - val_loss: 3.4504\n",
            "Epoch 40/100\n",
            "16/16 [==============================] - 0s 9ms/step - loss: 4.2203 - val_loss: 3.4420\n",
            "Epoch 41/100\n",
            "16/16 [==============================] - 0s 9ms/step - loss: 4.1880 - val_loss: 3.4256\n",
            "Epoch 42/100\n",
            "16/16 [==============================] - 0s 10ms/step - loss: 4.1737 - val_loss: 3.4086\n",
            "Epoch 43/100\n",
            "16/16 [==============================] - 0s 9ms/step - loss: 4.1571 - val_loss: 3.3956\n",
            "Epoch 44/100\n",
            "16/16 [==============================] - 0s 9ms/step - loss: 4.1462 - val_loss: 3.3825\n",
            "Epoch 45/100\n",
            "16/16 [==============================] - 0s 9ms/step - loss: 4.1300 - val_loss: 3.3685\n",
            "Epoch 46/100\n",
            "16/16 [==============================] - 0s 10ms/step - loss: 4.1193 - val_loss: 3.3517\n",
            "Epoch 47/100\n",
            "16/16 [==============================] - 0s 8ms/step - loss: 4.1041 - val_loss: 3.3395\n",
            "Epoch 48/100\n",
            "16/16 [==============================] - 0s 5ms/step - loss: 4.0997 - val_loss: 3.3242\n",
            "Epoch 49/100\n",
            "16/16 [==============================] - 0s 5ms/step - loss: 4.0779 - val_loss: 3.3088\n",
            "Epoch 50/100\n",
            "16/16 [==============================] - 0s 6ms/step - loss: 4.0657 - val_loss: 3.2966\n",
            "Epoch 51/100\n",
            "16/16 [==============================] - 0s 6ms/step - loss: 4.0550 - val_loss: 3.2842\n",
            "Epoch 52/100\n",
            "16/16 [==============================] - 0s 7ms/step - loss: 4.0592 - val_loss: 3.2750\n",
            "Epoch 53/100\n",
            "16/16 [==============================] - 0s 5ms/step - loss: 4.0386 - val_loss: 3.2617\n",
            "Epoch 54/100\n",
            "16/16 [==============================] - 0s 7ms/step - loss: 4.0193 - val_loss: 3.2479\n",
            "Epoch 55/100\n",
            "16/16 [==============================] - 0s 6ms/step - loss: 4.0056 - val_loss: 3.2362\n",
            "Epoch 56/100\n",
            "16/16 [==============================] - 0s 7ms/step - loss: 3.9951 - val_loss: 3.2264\n",
            "Epoch 57/100\n",
            "16/16 [==============================] - 0s 7ms/step - loss: 3.9854 - val_loss: 3.2188\n",
            "Epoch 58/100\n",
            "16/16 [==============================] - 0s 5ms/step - loss: 3.9703 - val_loss: 3.2013\n",
            "Epoch 59/100\n",
            "16/16 [==============================] - 0s 5ms/step - loss: 3.9607 - val_loss: 3.1902\n",
            "Epoch 60/100\n",
            "16/16 [==============================] - 0s 5ms/step - loss: 3.9514 - val_loss: 3.1781\n",
            "Epoch 61/100\n",
            "16/16 [==============================] - 0s 5ms/step - loss: 3.9385 - val_loss: 3.1684\n",
            "Epoch 62/100\n",
            "16/16 [==============================] - 0s 7ms/step - loss: 3.9285 - val_loss: 3.1584\n",
            "Epoch 63/100\n",
            "16/16 [==============================] - 0s 7ms/step - loss: 3.9175 - val_loss: 3.1552\n",
            "Epoch 64/100\n",
            "16/16 [==============================] - 0s 5ms/step - loss: 3.9115 - val_loss: 3.1428\n",
            "Epoch 65/100\n",
            "16/16 [==============================] - 0s 5ms/step - loss: 3.9011 - val_loss: 3.1402\n",
            "Epoch 66/100\n",
            "16/16 [==============================] - 0s 5ms/step - loss: 3.8923 - val_loss: 3.1369\n",
            "Epoch 67/100\n",
            "16/16 [==============================] - 0s 5ms/step - loss: 3.8841 - val_loss: 3.1277\n",
            "Epoch 68/100\n",
            "16/16 [==============================] - 0s 5ms/step - loss: 3.8785 - val_loss: 3.1057\n",
            "Epoch 69/100\n",
            "16/16 [==============================] - 0s 5ms/step - loss: 3.8650 - val_loss: 3.0968\n",
            "Epoch 70/100\n",
            "16/16 [==============================] - 0s 5ms/step - loss: 3.8500 - val_loss: 3.0963\n",
            "Epoch 71/100\n",
            "16/16 [==============================] - 0s 5ms/step - loss: 3.8611 - val_loss: 3.1101\n",
            "Epoch 72/100\n",
            "16/16 [==============================] - 0s 5ms/step - loss: 3.8443 - val_loss: 3.0877\n",
            "Epoch 73/100\n",
            "16/16 [==============================] - 0s 7ms/step - loss: 3.8290 - val_loss: 3.0661\n",
            "Epoch 74/100\n",
            "16/16 [==============================] - 0s 6ms/step - loss: 3.8192 - val_loss: 3.0525\n",
            "Epoch 75/100\n",
            "16/16 [==============================] - 0s 7ms/step - loss: 3.8185 - val_loss: 3.0413\n",
            "Epoch 76/100\n",
            "16/16 [==============================] - 0s 6ms/step - loss: 3.8090 - val_loss: 3.0333\n",
            "Epoch 77/100\n",
            "16/16 [==============================] - 0s 8ms/step - loss: 3.7938 - val_loss: 3.0275\n",
            "Epoch 78/100\n",
            "16/16 [==============================] - 0s 7ms/step - loss: 3.7888 - val_loss: 3.0162\n",
            "Epoch 79/100\n",
            "16/16 [==============================] - 0s 5ms/step - loss: 3.7770 - val_loss: 3.0068\n",
            "Epoch 80/100\n",
            "16/16 [==============================] - 0s 8ms/step - loss: 3.7676 - val_loss: 3.0009\n",
            "Epoch 81/100\n",
            "16/16 [==============================] - 0s 5ms/step - loss: 3.7554 - val_loss: 2.9878\n",
            "Epoch 82/100\n",
            "16/16 [==============================] - 0s 7ms/step - loss: 3.7469 - val_loss: 2.9801\n",
            "Epoch 83/100\n",
            "16/16 [==============================] - 0s 5ms/step - loss: 3.7396 - val_loss: 2.9712\n",
            "Epoch 84/100\n",
            "16/16 [==============================] - 0s 5ms/step - loss: 3.7302 - val_loss: 2.9624\n",
            "Epoch 85/100\n",
            "16/16 [==============================] - 0s 5ms/step - loss: 3.7156 - val_loss: 2.9615\n",
            "Epoch 86/100\n",
            "16/16 [==============================] - 0s 6ms/step - loss: 3.7047 - val_loss: 2.9525\n",
            "Epoch 87/100\n",
            "16/16 [==============================] - 0s 5ms/step - loss: 3.6956 - val_loss: 2.9403\n",
            "Epoch 88/100\n",
            "16/16 [==============================] - 0s 4ms/step - loss: 3.6849 - val_loss: 2.9340\n",
            "Epoch 89/100\n",
            "16/16 [==============================] - 0s 7ms/step - loss: 3.6797 - val_loss: 2.9204\n",
            "Epoch 90/100\n",
            "16/16 [==============================] - 0s 5ms/step - loss: 3.6634 - val_loss: 2.9164\n",
            "Epoch 91/100\n",
            "16/16 [==============================] - 0s 5ms/step - loss: 3.6557 - val_loss: 2.9189\n",
            "Epoch 92/100\n",
            "16/16 [==============================] - 0s 5ms/step - loss: 3.6541 - val_loss: 2.9136\n",
            "Epoch 93/100\n",
            "16/16 [==============================] - 0s 6ms/step - loss: 3.6419 - val_loss: 2.9027\n",
            "Epoch 94/100\n",
            "16/16 [==============================] - 0s 7ms/step - loss: 3.6337 - val_loss: 2.8964\n",
            "Epoch 95/100\n",
            "16/16 [==============================] - 0s 5ms/step - loss: 3.6243 - val_loss: 2.8767\n",
            "Epoch 96/100\n",
            "16/16 [==============================] - 0s 5ms/step - loss: 3.6141 - val_loss: 2.8739\n",
            "Epoch 97/100\n",
            "16/16 [==============================] - 0s 5ms/step - loss: 3.6066 - val_loss: 2.8577\n",
            "Epoch 98/100\n",
            "16/16 [==============================] - 0s 5ms/step - loss: 3.6031 - val_loss: 2.8439\n",
            "Epoch 99/100\n",
            "16/16 [==============================] - 0s 7ms/step - loss: 3.5944 - val_loss: 2.8455\n",
            "Epoch 100/100\n",
            "16/16 [==============================] - 0s 5ms/step - loss: 3.5851 - val_loss: 2.8448\n"
          ]
        }
      ]
    },
    {
      "cell_type": "code",
      "source": [
        "\n",
        "import matplotlib.pyplot as plt\n",
        "\n",
        "def plot_graphs(history, string):\n",
        "  plt.plot(history.history[string])\n",
        "  plt.plot(history.history[\"val_\"+string])\n",
        "  plt.xlabel(\"Epochs\")\n",
        "  plt.ylabel(string)\n",
        "  plt.legend([string, \"val_\"+string])\n",
        "  plt.show()"
      ],
      "metadata": {
        "id": "jOjh6NzWScR5"
      },
      "execution_count": 48,
      "outputs": []
    },
    {
      "cell_type": "code",
      "source": [
        "plot_graphs(h, \"loss\")"
      ],
      "metadata": {
        "colab": {
          "base_uri": "https://localhost:8080/",
          "height": 449
        },
        "id": "ZE8jhlGySoTR",
        "outputId": "a683171a-7527-488e-f1e0-2506e52538b4"
      },
      "execution_count": 49,
      "outputs": [
        {
          "output_type": "display_data",
          "data": {
            "text/plain": [
              "<Figure size 640x480 with 1 Axes>"
            ],
            "image/png": "[encoded data removed]"
          },
          "metadata": {}
        }
      ]
    },
    {
      "cell_type": "markdown",
      "source": [
        "# Prédiction avec réseaux de neurones"
      ],
      "metadata": {
        "id": "lUU6oZIuTXfR"
      }
    },
    {
      "cell_type": "code",
      "source": [
        "r = model.predict(series[507-24:507].reshape(1,24))"
      ],
      "metadata": {
        "colab": {
          "base_uri": "https://localhost:8080/"
        },
        "id": "ZDgS0VqrSuXj",
        "outputId": "75752deb-76c8-494f-c8d7-c4d91c727774"
      },
      "execution_count": 50,
      "outputs": [
        {
          "output_type": "stream",
          "name": "stdout",
          "text": [
            "1/1 [==============================] - 0s 76ms/step\n"
          ]
        }
      ]
    },
    {
      "cell_type": "code",
      "source": [
        "r.item()"
      ],
      "metadata": {
        "colab": {
          "base_uri": "https://localhost:8080/"
        },
        "id": "1atBkxJ8UBJP",
        "outputId": "2d9fa95c-313f-48b1-fb09-9eba42431fb9"
      },
      "execution_count": 51,
      "outputs": [
        {
          "output_type": "execute_result",
          "data": {
            "text/plain": [
              "10.424808502197266"
            ]
          },
          "metadata": {},
          "execution_count": 51
        }
      ]
    },
    {
      "cell_type": "code",
      "source": [
        "forecast = []\n",
        "for time in range(507-24,607-24):\n",
        "  series_to_predict = series[time:time+24].reshape(1,-1)\n",
        "  forecast.append(model.predict(series_to_predict).item())"
      ],
      "metadata": {
        "colab": {
          "base_uri": "https://localhost:8080/"
        },
        "id": "LLu3Jy4yUHwY",
        "outputId": "02d9d462-bdca-49d5-8b10-08e6373a459a"
      },
      "execution_count": 52,
      "outputs": [
        {
          "output_type": "stream",
          "name": "stdout",
          "text": [
            "1/1 [==============================] - 0s 21ms/step\n",
            "1/1 [==============================] - 0s 17ms/step\n",
            "1/1 [==============================] - 0s 17ms/step\n",
            "1/1 [==============================] - 0s 20ms/step\n",
            "1/1 [==============================] - 0s 21ms/step\n",
            "1/1 [==============================] - 0s 21ms/step\n",
            "1/1 [==============================] - 0s 21ms/step\n",
            "1/1 [==============================] - 0s 17ms/step\n",
            "1/1 [==============================] - 0s 21ms/step\n",
            "1/1 [==============================] - 0s 17ms/step\n",
            "1/1 [==============================] - 0s 25ms/step\n",
            "1/1 [==============================] - 0s 18ms/step\n",
            "1/1 [==============================] - 0s 20ms/step\n",
            "1/1 [==============================] - 0s 34ms/step\n",
            "1/1 [==============================] - 0s 28ms/step\n",
            "1/1 [==============================] - 0s 26ms/step\n",
            "1/1 [==============================] - 0s 29ms/step\n",
            "1/1 [==============================] - 0s 30ms/step\n",
            "1/1 [==============================] - 0s 34ms/step\n",
            "1/1 [==============================] - 0s 28ms/step\n",
            "1/1 [==============================] - 0s 30ms/step\n",
            "1/1 [==============================] - 0s 29ms/step\n",
            "1/1 [==============================] - 0s 30ms/step\n",
            "1/1 [==============================] - 0s 28ms/step\n",
            "1/1 [==============================] - 0s 29ms/step\n",
            "1/1 [==============================] - 0s 29ms/step\n",
            "1/1 [==============================] - 0s 29ms/step\n",
            "1/1 [==============================] - 0s 29ms/step\n",
            "1/1 [==============================] - 0s 30ms/step\n",
            "1/1 [==============================] - 0s 32ms/step\n",
            "1/1 [==============================] - 0s 29ms/step\n",
            "1/1 [==============================] - 0s 44ms/step\n",
            "1/1 [==============================] - 0s 40ms/step\n",
            "1/1 [==============================] - 0s 28ms/step\n",
            "1/1 [==============================] - 0s 35ms/step\n",
            "1/1 [==============================] - 0s 28ms/step\n",
            "1/1 [==============================] - 0s 29ms/step\n",
            "1/1 [==============================] - 0s 30ms/step\n",
            "1/1 [==============================] - 0s 35ms/step\n",
            "1/1 [==============================] - 0s 29ms/step\n",
            "1/1 [==============================] - 0s 27ms/step\n",
            "1/1 [==============================] - 0s 27ms/step\n",
            "1/1 [==============================] - 0s 26ms/step\n",
            "1/1 [==============================] - 0s 28ms/step\n",
            "1/1 [==============================] - 0s 27ms/step\n",
            "1/1 [==============================] - 0s 28ms/step\n",
            "1/1 [==============================] - 0s 30ms/step\n",
            "1/1 [==============================] - 0s 28ms/step\n",
            "1/1 [==============================] - 0s 35ms/step\n",
            "1/1 [==============================] - 0s 45ms/step\n",
            "1/1 [==============================] - 0s 27ms/step\n",
            "1/1 [==============================] - 0s 26ms/step\n",
            "1/1 [==============================] - 0s 28ms/step\n",
            "1/1 [==============================] - 0s 30ms/step\n",
            "1/1 [==============================] - 0s 18ms/step\n",
            "1/1 [==============================] - 0s 26ms/step\n",
            "1/1 [==============================] - 0s 20ms/step\n",
            "1/1 [==============================] - 0s 18ms/step\n",
            "1/1 [==============================] - 0s 18ms/step\n",
            "1/1 [==============================] - 0s 21ms/step\n",
            "1/1 [==============================] - 0s 21ms/step\n",
            "1/1 [==============================] - 0s 18ms/step\n",
            "1/1 [==============================] - 0s 20ms/step\n",
            "1/1 [==============================] - 0s 18ms/step\n",
            "1/1 [==============================] - 0s 20ms/step\n",
            "1/1 [==============================] - 0s 20ms/step\n",
            "1/1 [==============================] - 0s 17ms/step\n",
            "1/1 [==============================] - 0s 20ms/step\n",
            "1/1 [==============================] - 0s 19ms/step\n",
            "1/1 [==============================] - 0s 19ms/step\n",
            "1/1 [==============================] - 0s 20ms/step\n",
            "1/1 [==============================] - 0s 21ms/step\n",
            "1/1 [==============================] - 0s 26ms/step\n",
            "1/1 [==============================] - 0s 20ms/step\n",
            "1/1 [==============================] - 0s 19ms/step\n",
            "1/1 [==============================] - 0s 25ms/step\n",
            "1/1 [==============================] - 0s 20ms/step\n",
            "1/1 [==============================] - 0s 17ms/step\n",
            "1/1 [==============================] - 0s 18ms/step\n",
            "1/1 [==============================] - 0s 19ms/step\n",
            "1/1 [==============================] - 0s 25ms/step\n",
            "1/1 [==============================] - 0s 18ms/step\n",
            "1/1 [==============================] - 0s 19ms/step\n",
            "1/1 [==============================] - 0s 18ms/step\n",
            "1/1 [==============================] - 0s 18ms/step\n",
            "1/1 [==============================] - 0s 18ms/step\n",
            "1/1 [==============================] - 0s 19ms/step\n",
            "1/1 [==============================] - 0s 17ms/step\n",
            "1/1 [==============================] - 0s 21ms/step\n",
            "1/1 [==============================] - 0s 26ms/step\n",
            "1/1 [==============================] - 0s 20ms/step\n",
            "1/1 [==============================] - 0s 18ms/step\n",
            "1/1 [==============================] - 0s 17ms/step\n",
            "1/1 [==============================] - 0s 19ms/step\n",
            "1/1 [==============================] - 0s 19ms/step\n",
            "1/1 [==============================] - 0s 18ms/step\n",
            "1/1 [==============================] - 0s 17ms/step\n",
            "1/1 [==============================] - 0s 21ms/step\n",
            "1/1 [==============================] - 0s 17ms/step\n",
            "1/1 [==============================] - 0s 17ms/step\n"
          ]
        }
      ]
    },
    {
      "cell_type": "code",
      "source": [
        "forecast = np.array(forecast)"
      ],
      "metadata": {
        "id": "GniwTCmtUq-a"
      },
      "execution_count": 53,
      "outputs": []
    },
    {
      "cell_type": "code",
      "source": [
        "print(\"mae : \",(mean_absolute_error(x_test, forecast)))\n",
        "print(\"mse :\",mean_squared_error(x_test, forecast))\n",
        "\n",
        "plt.plot(time_test, x_test)\n",
        "plt.plot(time_test, forecast)\n",
        "plt.xlabel(\"Time\")\n",
        "plt.ylabel(\"Temperature\")\n",
        "plt.grid(True)\n",
        "plt.show()"
      ],
      "metadata": {
        "colab": {
          "base_uri": "https://localhost:8080/",
          "height": 486
        },
        "id": "YKiXtjLcVW66",
        "outputId": "63044219-4ad4-48d2-f328-142bf7c0fe68"
      },
      "execution_count": 54,
      "outputs": [
        {
          "output_type": "stream",
          "name": "stdout",
          "text": [
            "mae :  1.4562104554176336\n",
            "mse : 3.3490655591098437\n"
          ]
        },
        {
          "output_type": "display_data",
          "data": {
            "text/plain": [
              "<Figure size 640x480 with 1 Axes>"
            ],
            "image/png": "[encoded data removed]"
          },
          "metadata": {}
        }
      ]
    },
    {
      "cell_type": "markdown",
      "source": [
        "# Réseaux CNN"
      ],
      "metadata": {
        "id": "wAEp4M4WW58Z"
      }
    },
    {
      "cell_type": "code",
      "source": [
        "series.reshape(-1,1).shape"
      ],
      "metadata": {
        "id": "SODhIiWsW770",
        "colab": {
          "base_uri": "https://localhost:8080/"
        },
        "outputId": "f3aa39a3-59a0-43d7-e299-ff01d7c0ffc4"
      },
      "execution_count": 58,
      "outputs": [
        {
          "output_type": "execute_result",
          "data": {
            "text/plain": [
              "(607, 1)"
            ]
          },
          "metadata": {},
          "execution_count": 58
        }
      ]
    },
    {
      "cell_type": "code",
      "source": [
        "def windowed_dataset(series, window_size, batch_size):\n",
        "  series = series.reshape(-1,1)\n",
        "  dataset = tf.data.Dataset.from_tensor_slices(series)\n",
        "  dataset = dataset.window(window_size, shift=1, drop_remainder=True)\n",
        "  dataset = dataset.flat_map(lambda window : window.batch(window_size))\n",
        "  dataset = dataset.map(lambda window : (window[:-1], window[-1]))\n",
        "\n",
        "  # on récupère les données en lot\n",
        "  # on mélange les données de manière aléatoire\n",
        "  dataset = dataset.shuffle(buffer_size = len(series))\n",
        "  dataset = dataset.batch(batch_size).prefetch(1)\n",
        "\n",
        "  return dataset"
      ],
      "metadata": {
        "id": "4YDBR1dZIxAO"
      },
      "execution_count": 60,
      "outputs": []
    },
    {
      "cell_type": "code",
      "source": [
        "# 25 car on veut utiliser 24 valeurs précédentes pour prédire la valeur suivante\n",
        "# exp : usage de juil 2021 à juil 2023 pour prédire Aout 2023\n",
        "window_size = 25\n",
        "batch_size = 32\n",
        "\n",
        "dataset = windowed_dataset(x_train, window_size, batch_size)\n",
        "test_dataset = windowed_dataset(x_test, window_size, batch_size)\n",
        "\n",
        "# on obtient des lots de données de shape 32 éléments de 24 points précédents de données\n",
        "# (2 années) et 32 éléments en sortie correspondants à la prochaine température prédite"
      ],
      "metadata": {
        "id": "pMfO8-esJRQt"
      },
      "execution_count": 61,
      "outputs": []
    },
    {
      "cell_type": "code",
      "source": [
        "model = tf.keras.models.Sequential(\n",
        "    [\n",
        "        tf.keras.layers.Conv1D(filters = 128, kernel_size = 3,\n",
        "                               padding = 'causal', input_shape=[None,1],\n",
        "                               activation = \"relu\"),\n",
        "        tf.keras.layers.Dense(28, activation = \"relu\"),\n",
        "        tf.keras.layers.Dense(10, activation = \"relu\"),\n",
        "        tf.keras.layers.Dense(1),\n",
        "    ]\n",
        ")"
      ],
      "metadata": {
        "id": "Q755UJ-wJRUL"
      },
      "execution_count": 66,
      "outputs": []
    },
    {
      "cell_type": "code",
      "source": [
        "model.summary()"
      ],
      "metadata": {
        "colab": {
          "base_uri": "https://localhost:8080/"
        },
        "id": "fAYfvFPFJRXt",
        "outputId": "8745000c-c5c4-4632-8d8a-8aae7f59f4aa"
      },
      "execution_count": 67,
      "outputs": [
        {
          "output_type": "stream",
          "name": "stdout",
          "text": [
            "Model: \"sequential_3\"\n",
            "_________________________________________________________________\n",
            " Layer (type)                Output Shape              Param #   \n",
            "=================================================================\n",
            " conv1d_2 (Conv1D)           (None, None, 128)         512       \n",
            "                                                                 \n",
            " dense_9 (Dense)             (None, None, 28)          3612      \n",
            "                                                                 \n",
            " dense_10 (Dense)            (None, None, 10)          290       \n",
            "                                                                 \n",
            " dense_11 (Dense)            (None, None, 1)           11        \n",
            "                                                                 \n",
            "=================================================================\n",
            "Total params: 4425 (17.29 KB)\n",
            "Trainable params: 4425 (17.29 KB)\n",
            "Non-trainable params: 0 (0.00 Byte)\n",
            "_________________________________________________________________\n"
          ]
        }
      ]
    },
    {
      "cell_type": "code",
      "source": [
        "model.compile(loss=\"mse\",optimizer=tf.keras.optimizers.SGD(learning_rate = 1e-6, momentum = .9))\n",
        "\n",
        "h = model.fit(dataset, epochs=100, validation_data=test_dataset)"
      ],
      "metadata": {
        "colab": {
          "base_uri": "https://localhost:8080/"
        },
        "id": "I9vIFxpsL8kJ",
        "outputId": "8ded0096-2f51-4331-f4b1-394078246630"
      },
      "execution_count": 68,
      "outputs": [
        {
          "output_type": "stream",
          "name": "stdout",
          "text": [
            "Epoch 1/100\n",
            "16/16 [==============================] - 6s 23ms/step - loss: 158.9306 - val_loss: 184.3803\n",
            "Epoch 2/100\n",
            "16/16 [==============================] - 0s 9ms/step - loss: 150.3319 - val_loss: 172.1094\n",
            "Epoch 3/100\n",
            "16/16 [==============================] - 0s 6ms/step - loss: 141.0216 - val_loss: 162.1502\n",
            "Epoch 4/100\n",
            "16/16 [==============================] - 0s 7ms/step - loss: 133.4522 - val_loss: 153.9188\n",
            "Epoch 5/100\n",
            "16/16 [==============================] - 0s 9ms/step - loss: 126.9601 - val_loss: 146.4739\n",
            "Epoch 6/100\n",
            "16/16 [==============================] - 0s 7ms/step - loss: 120.9717 - val_loss: 139.2787\n",
            "Epoch 7/100\n",
            "16/16 [==============================] - 0s 9ms/step - loss: 114.8802 - val_loss: 131.7151\n",
            "Epoch 8/100\n",
            "16/16 [==============================] - 0s 7ms/step - loss: 108.4602 - val_loss: 123.5510\n",
            "Epoch 9/100\n",
            "16/16 [==============================] - 0s 6ms/step - loss: 101.3027 - val_loss: 114.2164\n",
            "Epoch 10/100\n",
            "16/16 [==============================] - 0s 7ms/step - loss: 93.6033 - val_loss: 105.0167\n",
            "Epoch 11/100\n",
            "16/16 [==============================] - 0s 8ms/step - loss: 86.4787 - val_loss: 96.5377\n",
            "Epoch 12/100\n",
            "16/16 [==============================] - 0s 7ms/step - loss: 79.7634 - val_loss: 88.5234\n",
            "Epoch 13/100\n",
            "16/16 [==============================] - 0s 7ms/step - loss: 73.4604 - val_loss: 81.1101\n",
            "Epoch 14/100\n",
            "16/16 [==============================] - 0s 7ms/step - loss: 67.8546 - val_loss: 74.3661\n",
            "Epoch 15/100\n",
            "16/16 [==============================] - 0s 7ms/step - loss: 62.7202 - val_loss: 68.2848\n",
            "Epoch 16/100\n",
            "16/16 [==============================] - 0s 7ms/step - loss: 58.2041 - val_loss: 62.9053\n",
            "Epoch 17/100\n",
            "16/16 [==============================] - 0s 9ms/step - loss: 54.3636 - val_loss: 58.4428\n",
            "Epoch 18/100\n",
            "16/16 [==============================] - 0s 9ms/step - loss: 51.1822 - val_loss: 54.6818\n",
            "Epoch 19/100\n",
            "16/16 [==============================] - 0s 7ms/step - loss: 48.5971 - val_loss: 51.9032\n",
            "Epoch 20/100\n",
            "16/16 [==============================] - 0s 9ms/step - loss: 46.6544 - val_loss: 49.4079\n",
            "Epoch 21/100\n",
            "16/16 [==============================] - 0s 6ms/step - loss: 45.0606 - val_loss: 47.4102\n",
            "Epoch 22/100\n",
            "16/16 [==============================] - 0s 8ms/step - loss: 43.8158 - val_loss: 46.0540\n",
            "Epoch 23/100\n",
            "16/16 [==============================] - 0s 7ms/step - loss: 43.1205 - val_loss: 45.0402\n",
            "Epoch 24/100\n",
            "16/16 [==============================] - 0s 8ms/step - loss: 42.5185 - val_loss: 44.4353\n",
            "Epoch 25/100\n",
            "16/16 [==============================] - 0s 7ms/step - loss: 42.1737 - val_loss: 43.8993\n",
            "Epoch 26/100\n",
            "16/16 [==============================] - 0s 8ms/step - loss: 41.8820 - val_loss: 43.5168\n",
            "Epoch 27/100\n",
            "16/16 [==============================] - 0s 9ms/step - loss: 41.6765 - val_loss: 43.2194\n",
            "Epoch 28/100\n",
            "16/16 [==============================] - 0s 9ms/step - loss: 41.5156 - val_loss: 42.9084\n",
            "Epoch 29/100\n",
            "16/16 [==============================] - 0s 7ms/step - loss: 41.3517 - val_loss: 42.7673\n",
            "Epoch 30/100\n",
            "16/16 [==============================] - 0s 7ms/step - loss: 41.2609 - val_loss: 42.6419\n",
            "Epoch 31/100\n",
            "16/16 [==============================] - 0s 9ms/step - loss: 41.1763 - val_loss: 42.5342\n",
            "Epoch 32/100\n",
            "16/16 [==============================] - 0s 7ms/step - loss: 41.1023 - val_loss: 42.4262\n",
            "Epoch 33/100\n",
            "16/16 [==============================] - 0s 7ms/step - loss: 41.0265 - val_loss: 42.3197\n",
            "Epoch 34/100\n",
            "16/16 [==============================] - 0s 9ms/step - loss: 40.9627 - val_loss: 42.2274\n",
            "Epoch 35/100\n",
            "16/16 [==============================] - 0s 6ms/step - loss: 40.8969 - val_loss: 42.1272\n",
            "Epoch 36/100\n",
            "16/16 [==============================] - 0s 9ms/step - loss: 40.8295 - val_loss: 42.0502\n",
            "Epoch 37/100\n",
            "16/16 [==============================] - 0s 12ms/step - loss: 40.7709 - val_loss: 41.9937\n",
            "Epoch 38/100\n",
            "16/16 [==============================] - 0s 10ms/step - loss: 40.7210 - val_loss: 41.9736\n",
            "Epoch 39/100\n",
            "16/16 [==============================] - 0s 12ms/step - loss: 40.6696 - val_loss: 41.9307\n",
            "Epoch 40/100\n",
            "16/16 [==============================] - 0s 13ms/step - loss: 40.6200 - val_loss: 41.8696\n",
            "Epoch 41/100\n",
            "16/16 [==============================] - 0s 11ms/step - loss: 40.5715 - val_loss: 41.8158\n",
            "Epoch 42/100\n",
            "16/16 [==============================] - 0s 11ms/step - loss: 40.5276 - val_loss: 41.7442\n",
            "Epoch 43/100\n",
            "16/16 [==============================] - 0s 11ms/step - loss: 40.4938 - val_loss: 41.7719\n",
            "Epoch 44/100\n",
            "16/16 [==============================] - 0s 12ms/step - loss: 40.4337 - val_loss: 41.6613\n",
            "Epoch 45/100\n",
            "16/16 [==============================] - 0s 10ms/step - loss: 40.4055 - val_loss: 41.5301\n",
            "Epoch 46/100\n",
            "16/16 [==============================] - 0s 12ms/step - loss: 40.3480 - val_loss: 41.4369\n",
            "Epoch 47/100\n",
            "16/16 [==============================] - 0s 10ms/step - loss: 40.3006 - val_loss: 41.3741\n",
            "Epoch 48/100\n",
            "16/16 [==============================] - 0s 8ms/step - loss: 40.2701 - val_loss: 41.3571\n",
            "Epoch 49/100\n",
            "16/16 [==============================] - 0s 7ms/step - loss: 40.2197 - val_loss: 41.2984\n",
            "Epoch 50/100\n",
            "16/16 [==============================] - 0s 7ms/step - loss: 40.1770 - val_loss: 41.2649\n",
            "Epoch 51/100\n",
            "16/16 [==============================] - 0s 9ms/step - loss: 40.1377 - val_loss: 41.2213\n",
            "Epoch 52/100\n",
            "16/16 [==============================] - 0s 10ms/step - loss: 40.0956 - val_loss: 41.1880\n",
            "Epoch 53/100\n",
            "16/16 [==============================] - 0s 7ms/step - loss: 40.0728 - val_loss: 41.2382\n",
            "Epoch 54/100\n",
            "16/16 [==============================] - 0s 9ms/step - loss: 40.0196 - val_loss: 41.2072\n",
            "Epoch 55/100\n",
            "16/16 [==============================] - 0s 8ms/step - loss: 39.9826 - val_loss: 41.1356\n",
            "Epoch 56/100\n",
            "16/16 [==============================] - 0s 7ms/step - loss: 39.9375 - val_loss: 41.0591\n",
            "Epoch 57/100\n",
            "16/16 [==============================] - 0s 7ms/step - loss: 39.9091 - val_loss: 41.0050\n",
            "Epoch 58/100\n",
            "16/16 [==============================] - 0s 7ms/step - loss: 39.8695 - val_loss: 41.0126\n",
            "Epoch 59/100\n",
            "16/16 [==============================] - 0s 9ms/step - loss: 39.8303 - val_loss: 40.9793\n",
            "Epoch 60/100\n",
            "16/16 [==============================] - 0s 9ms/step - loss: 39.7976 - val_loss: 40.9498\n",
            "Epoch 61/100\n",
            "16/16 [==============================] - 0s 7ms/step - loss: 39.7586 - val_loss: 40.9072\n",
            "Epoch 62/100\n",
            "16/16 [==============================] - 0s 9ms/step - loss: 39.7215 - val_loss: 40.8619\n",
            "Epoch 63/100\n",
            "16/16 [==============================] - 0s 7ms/step - loss: 39.6962 - val_loss: 40.8036\n",
            "Epoch 64/100\n",
            "16/16 [==============================] - 0s 7ms/step - loss: 39.6596 - val_loss: 40.8072\n",
            "Epoch 65/100\n",
            "16/16 [==============================] - 0s 7ms/step - loss: 39.6250 - val_loss: 40.7758\n",
            "Epoch 66/100\n",
            "16/16 [==============================] - 0s 7ms/step - loss: 39.5943 - val_loss: 40.7565\n",
            "Epoch 67/100\n",
            "16/16 [==============================] - 0s 6ms/step - loss: 39.5632 - val_loss: 40.7060\n",
            "Epoch 68/100\n",
            "16/16 [==============================] - 0s 8ms/step - loss: 39.5274 - val_loss: 40.6761\n",
            "Epoch 69/100\n",
            "16/16 [==============================] - 0s 7ms/step - loss: 39.4962 - val_loss: 40.6241\n",
            "Epoch 70/100\n",
            "16/16 [==============================] - 0s 9ms/step - loss: 39.4624 - val_loss: 40.6195\n",
            "Epoch 71/100\n",
            "16/16 [==============================] - 0s 7ms/step - loss: 39.4340 - val_loss: 40.5626\n",
            "Epoch 72/100\n",
            "16/16 [==============================] - 0s 8ms/step - loss: 39.4008 - val_loss: 40.5521\n",
            "Epoch 73/100\n",
            "16/16 [==============================] - 0s 7ms/step - loss: 39.3648 - val_loss: 40.4908\n",
            "Epoch 74/100\n",
            "16/16 [==============================] - 0s 6ms/step - loss: 39.3382 - val_loss: 40.4175\n",
            "Epoch 75/100\n",
            "16/16 [==============================] - 0s 7ms/step - loss: 39.3100 - val_loss: 40.3563\n",
            "Epoch 76/100\n",
            "16/16 [==============================] - 0s 9ms/step - loss: 39.2737 - val_loss: 40.3230\n",
            "Epoch 77/100\n",
            "16/16 [==============================] - 0s 7ms/step - loss: 39.2438 - val_loss: 40.2808\n",
            "Epoch 78/100\n",
            "16/16 [==============================] - 0s 7ms/step - loss: 39.2269 - val_loss: 40.2376\n",
            "Epoch 79/100\n",
            "16/16 [==============================] - 0s 7ms/step - loss: 39.1805 - val_loss: 40.2269\n",
            "Epoch 80/100\n",
            "16/16 [==============================] - 0s 7ms/step - loss: 39.1408 - val_loss: 40.2384\n",
            "Epoch 81/100\n",
            "16/16 [==============================] - 0s 7ms/step - loss: 39.1159 - val_loss: 40.2188\n",
            "Epoch 82/100\n",
            "16/16 [==============================] - 0s 7ms/step - loss: 39.0843 - val_loss: 40.1870\n",
            "Epoch 83/100\n",
            "16/16 [==============================] - 0s 9ms/step - loss: 39.0522 - val_loss: 40.1202\n",
            "Epoch 84/100\n",
            "16/16 [==============================] - 0s 7ms/step - loss: 39.0264 - val_loss: 40.0647\n",
            "Epoch 85/100\n",
            "16/16 [==============================] - 0s 9ms/step - loss: 38.9947 - val_loss: 40.0556\n",
            "Epoch 86/100\n",
            "16/16 [==============================] - 0s 10ms/step - loss: 38.9682 - val_loss: 40.0838\n",
            "Epoch 87/100\n",
            "16/16 [==============================] - 0s 7ms/step - loss: 38.9339 - val_loss: 40.0382\n",
            "Epoch 88/100\n",
            "16/16 [==============================] - 0s 7ms/step - loss: 38.9000 - val_loss: 40.0267\n",
            "Epoch 89/100\n",
            "16/16 [==============================] - 0s 7ms/step - loss: 38.8750 - val_loss: 40.0528\n",
            "Epoch 90/100\n",
            "16/16 [==============================] - 0s 9ms/step - loss: 38.8508 - val_loss: 40.0423\n",
            "Epoch 91/100\n",
            "16/16 [==============================] - 0s 10ms/step - loss: 38.8256 - val_loss: 39.9366\n",
            "Epoch 92/100\n",
            "16/16 [==============================] - 0s 11ms/step - loss: 38.7929 - val_loss: 39.8544\n",
            "Epoch 93/100\n",
            "16/16 [==============================] - 0s 12ms/step - loss: 38.7714 - val_loss: 39.8533\n",
            "Epoch 94/100\n",
            "16/16 [==============================] - 0s 12ms/step - loss: 38.7294 - val_loss: 39.8086\n",
            "Epoch 95/100\n",
            "16/16 [==============================] - 0s 12ms/step - loss: 38.7038 - val_loss: 39.7992\n",
            "Epoch 96/100\n",
            "16/16 [==============================] - 0s 11ms/step - loss: 38.6727 - val_loss: 39.7691\n",
            "Epoch 97/100\n",
            "16/16 [==============================] - 0s 11ms/step - loss: 38.6456 - val_loss: 39.7269\n",
            "Epoch 98/100\n",
            "16/16 [==============================] - 0s 11ms/step - loss: 38.6172 - val_loss: 39.7077\n",
            "Epoch 99/100\n",
            "16/16 [==============================] - 0s 11ms/step - loss: 38.5897 - val_loss: 39.6849\n",
            "Epoch 100/100\n",
            "16/16 [==============================] - 0s 11ms/step - loss: 38.5618 - val_loss: 39.7197\n"
          ]
        }
      ]
    },
    {
      "cell_type": "code",
      "source": [
        "plot_graphs(h, \"loss\")"
      ],
      "metadata": {
        "colab": {
          "base_uri": "https://localhost:8080/",
          "height": 449
        },
        "id": "oBnbkVIKMX5g",
        "outputId": "a937f015-ffe3-4aa9-8f96-c70c4a67d0ff"
      },
      "execution_count": 69,
      "outputs": [
        {
          "output_type": "display_data",
          "data": {
            "text/plain": [
              "<Figure size 640x480 with 1 Axes>"
            ],
            "image/png": "[encoded data removed]"
          },
          "metadata": {}
        }
      ]
    },
    {
      "cell_type": "code",
      "source": [
        "def predict_dataset(model,series, window_size=24, batch_size=32):\n",
        "  dataset = tf.data.Dataset.from_tensor_slices(series)\n",
        "  dataset = dataset.window(window_size, shift=1, drop_remainder=True)\n",
        "  dataset = dataset.flat_map(lambda window : window.batch(window_size))\n",
        "\n",
        "  dataset = dataset.batch(batch_size).prefetch(1)\n",
        "  forecast = model.predict(dataset)\n",
        "  return forecast"
      ],
      "metadata": {
        "id": "bVdbptrTMsUh"
      },
      "execution_count": 72,
      "outputs": []
    },
    {
      "cell_type": "code",
      "source": [
        "series[507-24:-1].shape"
      ],
      "metadata": {
        "colab": {
          "base_uri": "https://localhost:8080/"
        },
        "id": "g5yP55_gNKok",
        "outputId": "6b2d07bb-351b-42c3-e478-18801317aac8"
      },
      "execution_count": 71,
      "outputs": [
        {
          "output_type": "execute_result",
          "data": {
            "text/plain": [
              "(123,)"
            ]
          },
          "metadata": {},
          "execution_count": 71
        }
      ]
    },
    {
      "cell_type": "code",
      "source": [
        "cnn_foreceast = predict_dataset(model,series[507-24:-1])\n"
      ],
      "metadata": {
        "id": "zNlB_stdNNWb"
      },
      "execution_count": null,
      "outputs": []
    }
  ]
}