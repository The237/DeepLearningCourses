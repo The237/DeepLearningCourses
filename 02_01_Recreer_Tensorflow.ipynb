{
  "nbformat": 4,
  "nbformat_minor": 0,
  "metadata": {
    "colab": {
      "provenance": [],
      "authorship_tag": "ABX9TyPnfV1ud4p6Al+I511S9Sn0",
      "include_colab_link": true
    },
    "kernelspec": {
      "name": "python3",
      "display_name": "Python 3"
    },
    "language_info": {
      "name": "python"
    }
  },
  "cells": [
    {
      "cell_type": "markdown",
      "metadata": {
        "id": "view-in-github",
        "colab_type": "text"
      },
      "source": [
        "<a href=\"https://colab.research.google.com/github/The237/DeepLearningCourses/blob/main/02_01_Recreer_Tensorflow.ipynb\" target=\"_parent\"><img src=\"https://colab.research.google.com/assets/colab-badge.svg\" alt=\"Open In Colab\"/></a>"
      ]
    },
    {
      "cell_type": "code",
      "execution_count": 1,
      "metadata": {
        "id": "odIZYWXtcoA-"
      },
      "outputs": [],
      "source": [
        "import numpy as np"
      ]
    },
    {
      "cell_type": "code",
      "source": [
        "class Box():\n",
        "  def __init__(self):\n",
        "    pass\n",
        "\n",
        "  def forward(self, inputs):\n",
        "    self.inputs = inputs\n",
        "    self.output = self.operation()\n",
        "\n",
        "    return self.output\n",
        "\n",
        "  def backward(self, derivee_output):\n",
        "    assert derivee_output.shape == self.output.shape, f'La dérivée output reçue a un shape {derivee_output.shape} et différent du shape de output : {self.output.shape}'\n",
        "\n",
        "    assert self.derivee_inputs.shape == self.inputs.shape, f'La dérivée input calculée a un shape {self.derivee_input.shape} et différent du shape de input : {self.inputs.shape}'\n",
        "    self.derivee_inputs = self.gradient(derivee_output)\n",
        "\n",
        "    return self.derivee_inputs\n",
        "\n",
        "  def operation(self):\n",
        "    pass\n",
        "\n",
        "  def gradient(self,derivee_output):\n",
        "    pass"
      ],
      "metadata": {
        "id": "RCMMbP8OcxFN"
      },
      "execution_count": 26,
      "outputs": []
    },
    {
      "cell_type": "code",
      "source": [
        "class BoxParams():\n",
        "  def __init__(self, param):\n",
        "    self.param = param\n",
        "    pass\n",
        "\n",
        "  def forward(self, inputs):\n",
        "    self.inputs = inputs\n",
        "    self.output = self.operation()\n",
        "\n",
        "    return self.output\n",
        "\n",
        "  def backward(self, derivee_output):\n",
        "\n",
        "    assert derivee_output.shape == self.output.shape, f'La dérivée output reçue a un shape {derivee_output.shape} et différent du shape de output : {self.output.shape}'\n",
        "\n",
        "    self.derivee_inputs = self.gradient(derivee_output)\n",
        "    assert self.derivee_inputs.shape == self.inputs.shape, f'La dérivée input calculée a un shape {self.derivee_input.shape} et différent du shape de input : {self.inputs.shape}'\n",
        "\n",
        "    self.derivee_param = self.gradient_param(derivee_output)\n",
        "    assert self.derivee_param.shape == self.param.shape, f'La dérivée de param a un shape {self.derivee_param.shape} et différent du shape de param : {self.param.shape}'\n",
        "\n",
        "    return self.derivee_inputs\n",
        "\n",
        "  def operation(self):\n",
        "    pass\n",
        "\n",
        "  def gradient(self,derivee_output):\n",
        "    pass\n",
        "\n",
        "  def gradient_param(self,derivee_output):\n",
        "    pass"
      ],
      "metadata": {
        "id": "s27FVtG0cxNQ"
      },
      "execution_count": 27,
      "outputs": []
    },
    {
      "cell_type": "markdown",
      "source": [
        "# La Classe Dot"
      ],
      "metadata": {
        "id": "3655VhBKg0Fh"
      }
    },
    {
      "cell_type": "code",
      "source": [
        "class Dot(BoxParams):\n",
        "\n",
        "  def __init__(self, weights):\n",
        "    super().__init__(weights)\n",
        "\n",
        "  def operation(self):\n",
        "    return np.dot(self.inputs, self.param)\n",
        "\n",
        "  def gradient(self, derivee_output):\n",
        "     return np.dot(derivee_output,self.param.T)\n",
        "\n",
        "  def gradient_param(self, derivee_output):\n",
        "     return np.dot(self.inputs.T, derivee_output)\n",
        "\n",
        "  def __repr__(self):\n",
        "    return \"Dot Product\""
      ],
      "metadata": {
        "id": "vI5t2eN2gp8K"
      },
      "execution_count": 46,
      "outputs": []
    },
    {
      "cell_type": "code",
      "source": [
        "X = np.array([\n",
        "    [2,3,-2],\n",
        "    [4,5,-1],\n",
        "    [-5,2,3],\n",
        "    [0,5,4]\n",
        "])"
      ],
      "metadata": {
        "id": "oSzhx5SGiQIO"
      },
      "execution_count": 29,
      "outputs": []
    },
    {
      "cell_type": "code",
      "source": [
        "W = np.array([\n",
        "    [.4967],\n",
        "    [-.1383],\n",
        "    [.6477]\n",
        "])"
      ],
      "metadata": {
        "id": "2t3SNFaAiace"
      },
      "execution_count": 30,
      "outputs": []
    },
    {
      "cell_type": "code",
      "source": [
        "np.dot(X,W)"
      ],
      "metadata": {
        "colab": {
          "base_uri": "https://localhost:8080/"
        },
        "id": "zO6X1lXJibOw",
        "outputId": "a1db13c3-56a1-474c-ec8d-140f3e28bc9f"
      },
      "execution_count": 31,
      "outputs": [
        {
          "output_type": "execute_result",
          "data": {
            "text/plain": [
              "array([[-0.7169],\n",
              "       [ 0.6476],\n",
              "       [-0.817 ],\n",
              "       [ 1.8993]])"
            ]
          },
          "metadata": {},
          "execution_count": 31
        }
      ]
    },
    {
      "cell_type": "code",
      "source": [
        "M = Dot(weights=W)"
      ],
      "metadata": {
        "id": "B0Ds_9azizFj"
      },
      "execution_count": 47,
      "outputs": []
    },
    {
      "cell_type": "code",
      "source": [
        "out = M.forward(X)\n",
        "out"
      ],
      "metadata": {
        "colab": {
          "base_uri": "https://localhost:8080/"
        },
        "id": "7-7xd4DXizNT",
        "outputId": "53cd6c29-2491-4484-ba45-1f948162aff1"
      },
      "execution_count": 48,
      "outputs": [
        {
          "output_type": "execute_result",
          "data": {
            "text/plain": [
              "array([[-0.7169],\n",
              "       [ 0.6476],\n",
              "       [-0.817 ],\n",
              "       [ 1.8993]])"
            ]
          },
          "metadata": {},
          "execution_count": 48
        }
      ]
    },
    {
      "cell_type": "code",
      "source": [
        "d_out = np.random.randn(4,1)\n",
        "d_out"
      ],
      "metadata": {
        "colab": {
          "base_uri": "https://localhost:8080/"
        },
        "id": "Doy7fx_0kHfV",
        "outputId": "c48a8e9c-f222-456a-937e-93482973c646"
      },
      "execution_count": 44,
      "outputs": [
        {
          "output_type": "execute_result",
          "data": {
            "text/plain": [
              "array([[ 0.24803123],\n",
              "       [-0.20806854],\n",
              "       [ 0.55885881],\n",
              "       [-0.79934479]])"
            ]
          },
          "metadata": {},
          "execution_count": 44
        }
      ]
    },
    {
      "cell_type": "code",
      "source": [
        "M.backward(d_out)"
      ],
      "metadata": {
        "colab": {
          "base_uri": "https://localhost:8080/"
        },
        "id": "uZQVtqwLiuFB",
        "outputId": "adec4bb0-db31-4f97-ca4c-1cade151651b"
      },
      "execution_count": 49,
      "outputs": [
        {
          "output_type": "execute_result",
          "data": {
            "text/plain": [
              "array([[ 0.12319711, -0.03430272,  0.16064983],\n",
              "       [-0.10334764,  0.02877588, -0.13476599],\n",
              "       [ 0.27758517, -0.07729017,  0.36197285],\n",
              "       [-0.39703456,  0.11054938, -0.51773562]])"
            ]
          },
          "metadata": {},
          "execution_count": 49
        }
      ]
    },
    {
      "cell_type": "code",
      "source": [],
      "metadata": {
        "id": "l_mj0aGhkyAp"
      },
      "execution_count": null,
      "outputs": []
    }
  ]
}