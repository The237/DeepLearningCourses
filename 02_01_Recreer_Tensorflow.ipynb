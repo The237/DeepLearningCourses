{
  "nbformat": 4,
  "nbformat_minor": 0,
  "metadata": {
    "colab": {
      "provenance": [],
      "authorship_tag": "ABX9TyMIAUrO+nhms1ax5i/l68L3",
      "include_colab_link": true
    },
    "kernelspec": {
      "name": "python3",
      "display_name": "Python 3"
    },
    "language_info": {
      "name": "python"
    }
  },
  "cells": [
    {
      "cell_type": "markdown",
      "metadata": {
        "id": "view-in-github",
        "colab_type": "text"
      },
      "source": [
        "<a href=\"https://colab.research.google.com/github/The237/DeepLearningCourses/blob/main/02_01_Recreer_Tensorflow.ipynb\" target=\"_parent\"><img src=\"https://colab.research.google.com/assets/colab-badge.svg\" alt=\"Open In Colab\"/></a>"
      ]
    },
    {
      "cell_type": "code",
      "execution_count": 1,
      "metadata": {
        "id": "odIZYWXtcoA-"
      },
      "outputs": [],
      "source": [
        "import numpy as np"
      ]
    },
    {
      "cell_type": "markdown",
      "source": [
        "# La boîte générique"
      ],
      "metadata": {
        "id": "8aEt5hib5-KJ"
      }
    },
    {
      "cell_type": "code",
      "source": [
        "class Box():\n",
        "  def __init__(self):\n",
        "    pass\n",
        "\n",
        "  def forward(self, inputs):\n",
        "    self.inputs = inputs\n",
        "    self.output = self.operation()\n",
        "\n",
        "    return self.output\n",
        "\n",
        "  def backward(self, derivee_output):\n",
        "    assert derivee_output.shape == self.output.shape, f'La dérivée output reçue a un shape {derivee_output.shape} et différent du shape de output : {self.output.shape}'\n",
        "\n",
        "    self.derivee_inputs = self.gradient(derivee_output)\n",
        "    assert self.derivee_inputs.shape == self.inputs.shape, f'La dérivée input calculée a un shape {self.derivee_input.shape} et différent du shape de input : {self.inputs.shape}'\n",
        "\n",
        "    return self.derivee_inputs\n",
        "\n",
        "  def operation(self):\n",
        "    pass\n",
        "\n",
        "  def gradient(self,derivee_output):\n",
        "    pass"
      ],
      "metadata": {
        "id": "RCMMbP8OcxFN"
      },
      "execution_count": 2,
      "outputs": []
    },
    {
      "cell_type": "markdown",
      "source": [
        " # La boîte paramétrée"
      ],
      "metadata": {
        "id": "Xnz_eNkG6HEm"
      }
    },
    {
      "cell_type": "code",
      "source": [
        "class BoxParams():\n",
        "  def __init__(self, param):\n",
        "    self.param = param\n",
        "    pass\n",
        "\n",
        "  def forward(self, inputs):\n",
        "    self.inputs = inputs\n",
        "    self.output = self.operation()\n",
        "\n",
        "    return self.output\n",
        "\n",
        "  def backward(self, derivee_output):\n",
        "\n",
        "    assert derivee_output.shape == self.output.shape, f'La dérivée output reçue a un shape {derivee_output.shape} et différent du shape de output : {self.output.shape}'\n",
        "\n",
        "    self.derivee_inputs = self.gradient(derivee_output)\n",
        "    assert self.derivee_inputs.shape == self.inputs.shape, f'La dérivée input calculée a un shape {self.derivee_input.shape} et différent du shape de input : {self.inputs.shape}'\n",
        "\n",
        "    self.derivee_param = self.gradient_param(derivee_output)\n",
        "    assert self.derivee_param.shape == self.param.shape, f'La dérivée de param a un shape {self.derivee_param.shape} et différent du shape de param : {self.param.shape}'\n",
        "\n",
        "    return self.derivee_inputs\n",
        "\n",
        "  def operation(self):\n",
        "    pass\n",
        "\n",
        "  def gradient(self,derivee_output):\n",
        "    pass\n",
        "\n",
        "  def gradient_param(self,derivee_output):\n",
        "    pass"
      ],
      "metadata": {
        "id": "s27FVtG0cxNQ"
      },
      "execution_count": 3,
      "outputs": []
    },
    {
      "cell_type": "markdown",
      "source": [
        "# La Classe Dot"
      ],
      "metadata": {
        "id": "3655VhBKg0Fh"
      }
    },
    {
      "cell_type": "code",
      "source": [
        "class Dot(BoxParams):\n",
        "\n",
        "  def __init__(self, weights):\n",
        "    super().__init__(weights)\n",
        "\n",
        "  def operation(self):\n",
        "    return np.dot(self.inputs, self.param)\n",
        "\n",
        "  def gradient(self, derivee_output):\n",
        "     return np.dot(derivee_output,self.param.T)\n",
        "\n",
        "  def gradient_param(self, derivee_output):\n",
        "     return np.dot(self.inputs.T, derivee_output)\n",
        "\n",
        "  def __repr__(self):\n",
        "    return \"Dot Product\""
      ],
      "metadata": {
        "id": "vI5t2eN2gp8K"
      },
      "execution_count": 4,
      "outputs": []
    },
    {
      "cell_type": "code",
      "source": [
        "X = np.array([\n",
        "    [2,3,-2],\n",
        "    [4,5,-1],\n",
        "    [-5,2,3],\n",
        "    [0,5,4]\n",
        "])"
      ],
      "metadata": {
        "id": "oSzhx5SGiQIO"
      },
      "execution_count": 5,
      "outputs": []
    },
    {
      "cell_type": "code",
      "source": [
        "W = np.array([\n",
        "    [.4967],\n",
        "    [-.1383],\n",
        "    [.6477]\n",
        "])"
      ],
      "metadata": {
        "id": "2t3SNFaAiace"
      },
      "execution_count": 6,
      "outputs": []
    },
    {
      "cell_type": "code",
      "source": [
        "np.dot(X,W)"
      ],
      "metadata": {
        "colab": {
          "base_uri": "https://localhost:8080/"
        },
        "id": "zO6X1lXJibOw",
        "outputId": "3007e3e8-4380-42ea-b044-7c2a0b64218c"
      },
      "execution_count": 7,
      "outputs": [
        {
          "output_type": "execute_result",
          "data": {
            "text/plain": [
              "array([[-0.7169],\n",
              "       [ 0.6476],\n",
              "       [-0.817 ],\n",
              "       [ 1.8993]])"
            ]
          },
          "metadata": {},
          "execution_count": 7
        }
      ]
    },
    {
      "cell_type": "code",
      "source": [
        "M = Dot(weights=W)"
      ],
      "metadata": {
        "id": "B0Ds_9azizFj"
      },
      "execution_count": 8,
      "outputs": []
    },
    {
      "cell_type": "code",
      "source": [
        "out = M.forward(X)\n",
        "out"
      ],
      "metadata": {
        "colab": {
          "base_uri": "https://localhost:8080/"
        },
        "id": "7-7xd4DXizNT",
        "outputId": "c815ca92-bdc7-449f-eba8-360f376247c4"
      },
      "execution_count": 9,
      "outputs": [
        {
          "output_type": "execute_result",
          "data": {
            "text/plain": [
              "array([[-0.7169],\n",
              "       [ 0.6476],\n",
              "       [-0.817 ],\n",
              "       [ 1.8993]])"
            ]
          },
          "metadata": {},
          "execution_count": 9
        }
      ]
    },
    {
      "cell_type": "code",
      "source": [
        "d_out = np.random.randn(4,1)\n",
        "d_out"
      ],
      "metadata": {
        "colab": {
          "base_uri": "https://localhost:8080/"
        },
        "id": "Doy7fx_0kHfV",
        "outputId": "88974dda-d4b3-4fe9-ac70-15af5c5de3b8"
      },
      "execution_count": 10,
      "outputs": [
        {
          "output_type": "execute_result",
          "data": {
            "text/plain": [
              "array([[ 1.59522098],\n",
              "       [-0.56166753],\n",
              "       [-1.0814617 ],\n",
              "       [ 1.20234324]])"
            ]
          },
          "metadata": {},
          "execution_count": 10
        }
      ]
    },
    {
      "cell_type": "code",
      "source": [
        "M.backward(d_out)"
      ],
      "metadata": {
        "colab": {
          "base_uri": "https://localhost:8080/"
        },
        "id": "uZQVtqwLiuFB",
        "outputId": "12c788ee-b8e5-4835-8bbf-d018d99e8911"
      },
      "execution_count": 11,
      "outputs": [
        {
          "output_type": "execute_result",
          "data": {
            "text/plain": [
              "array([[ 0.79234626, -0.22061906,  1.03322463],\n",
              "       [-0.27898026,  0.07767862, -0.36379206],\n",
              "       [-0.53716203,  0.14956615, -0.70046274],\n",
              "       [ 0.59720389, -0.16628407,  0.77875772]])"
            ]
          },
          "metadata": {},
          "execution_count": 11
        }
      ]
    },
    {
      "cell_type": "markdown",
      "source": [
        "# La Classe Add"
      ],
      "metadata": {
        "id": "LqOQHne3NiVP"
      }
    },
    {
      "cell_type": "code",
      "source": [
        "class Add(BoxParams):\n",
        "\n",
        "  def __init__(self, biais):\n",
        "    super().__init__(biais)\n",
        "\n",
        "  def operation(self):\n",
        "    return self.inputs + self.param\n",
        "\n",
        "  def gradient(self, derivee_output):\n",
        "     return np.ones_like(self.inputs)*derivee_output\n",
        "\n",
        "  def gradient_param(self, derivee_output):\n",
        "      r = np.ones_like(self.param)*derivee_output\n",
        "      return r.sum(axis = 0).reshape(1, self.param.shape[1])\n",
        "\n",
        "  def __repr__(self):\n",
        "    return \"Add Biais\""
      ],
      "metadata": {
        "id": "l_mj0aGhkyAp"
      },
      "execution_count": 12,
      "outputs": []
    },
    {
      "cell_type": "code",
      "source": [
        "B = np.random.randn(1,1)"
      ],
      "metadata": {
        "id": "OKzcpl-0O2H8"
      },
      "execution_count": 13,
      "outputs": []
    },
    {
      "cell_type": "code",
      "source": [
        "B"
      ],
      "metadata": {
        "colab": {
          "base_uri": "https://localhost:8080/"
        },
        "id": "55q04xb_PiKJ",
        "outputId": "9aefd845-0beb-4ced-f605-557567b303f3"
      },
      "execution_count": 14,
      "outputs": [
        {
          "output_type": "execute_result",
          "data": {
            "text/plain": [
              "array([[-0.15864316]])"
            ]
          },
          "metadata": {},
          "execution_count": 14
        }
      ]
    },
    {
      "cell_type": "code",
      "source": [
        "b = Add(biais = B)\n",
        "b"
      ],
      "metadata": {
        "colab": {
          "base_uri": "https://localhost:8080/"
        },
        "id": "HSHxg0FtPiiL",
        "outputId": "9882a15f-ab71-4596-83ce-13dae36ef5a9"
      },
      "execution_count": 15,
      "outputs": [
        {
          "output_type": "execute_result",
          "data": {
            "text/plain": [
              "Add Biais"
            ]
          },
          "metadata": {},
          "execution_count": 15
        }
      ]
    },
    {
      "cell_type": "code",
      "source": [
        "out_b = b.forward(out)\n",
        "out_b"
      ],
      "metadata": {
        "colab": {
          "base_uri": "https://localhost:8080/"
        },
        "id": "BMwpF6B_PxMF",
        "outputId": "5df3e6b1-b407-47b4-bb5c-5704ed10eca8"
      },
      "execution_count": 16,
      "outputs": [
        {
          "output_type": "execute_result",
          "data": {
            "text/plain": [
              "array([[-0.87554316],\n",
              "       [ 0.48895684],\n",
              "       [-0.97564316],\n",
              "       [ 1.74065684]])"
            ]
          },
          "metadata": {},
          "execution_count": 16
        }
      ]
    },
    {
      "cell_type": "code",
      "source": [
        "d_out"
      ],
      "metadata": {
        "colab": {
          "base_uri": "https://localhost:8080/"
        },
        "id": "UXCqqheiTl1C",
        "outputId": "dbf9d61b-b3f0-4d89-f164-91f4875870f1"
      },
      "execution_count": 17,
      "outputs": [
        {
          "output_type": "execute_result",
          "data": {
            "text/plain": [
              "array([[ 1.59522098],\n",
              "       [-0.56166753],\n",
              "       [-1.0814617 ],\n",
              "       [ 1.20234324]])"
            ]
          },
          "metadata": {},
          "execution_count": 17
        }
      ]
    },
    {
      "cell_type": "code",
      "source": [
        "b.backward(d_out)"
      ],
      "metadata": {
        "colab": {
          "base_uri": "https://localhost:8080/"
        },
        "id": "r5jDXgDbUYkH",
        "outputId": "1d69d112-6888-4172-edc4-7d537c358220"
      },
      "execution_count": 18,
      "outputs": [
        {
          "output_type": "execute_result",
          "data": {
            "text/plain": [
              "array([[ 1.59522098],\n",
              "       [-0.56166753],\n",
              "       [-1.0814617 ],\n",
              "       [ 1.20234324]])"
            ]
          },
          "metadata": {},
          "execution_count": 18
        }
      ]
    },
    {
      "cell_type": "markdown",
      "source": [
        "# La Classe Sigmoid"
      ],
      "metadata": {
        "id": "blThe3KBXHNW"
      }
    },
    {
      "cell_type": "code",
      "source": [
        "class Sigmoid(Box):\n",
        "  def __init__(self):\n",
        "     super().__init__()\n",
        "\n",
        "  def operation(self):\n",
        "    return 1 /(1 + np.exp(-1 * self.inputs))\n",
        "\n",
        "  def gradient(self,derivee_output):\n",
        "    return self.output * (1 - self.output) * derivee_output\n",
        "\n",
        "  def __repr__(self):\n",
        "    return \"Sigmoid\""
      ],
      "metadata": {
        "id": "lxDjA4nIW3JU"
      },
      "execution_count": 19,
      "outputs": []
    },
    {
      "cell_type": "code",
      "source": [
        "sig = Sigmoid()"
      ],
      "metadata": {
        "id": "OWpBBceoW3OA"
      },
      "execution_count": 20,
      "outputs": []
    },
    {
      "cell_type": "code",
      "source": [
        "sig_out = sig.forward(out_b)\n",
        "sig_out"
      ],
      "metadata": {
        "colab": {
          "base_uri": "https://localhost:8080/"
        },
        "id": "O6HjJR6WW3Ql",
        "outputId": "9d97fc2c-7f9e-40ad-a900-0810635eac0c"
      },
      "execution_count": 21,
      "outputs": [
        {
          "output_type": "execute_result",
          "data": {
            "text/plain": [
              "array([[0.2941022 ],\n",
              "       [0.61986066],\n",
              "       [0.27375713],\n",
              "       [0.85077048]])"
            ]
          },
          "metadata": {},
          "execution_count": 21
        }
      ]
    },
    {
      "cell_type": "code",
      "source": [
        "sig.backward(d_out)"
      ],
      "metadata": {
        "colab": {
          "base_uri": "https://localhost:8080/"
        },
        "id": "akSZsc6xbiCZ",
        "outputId": "6e98b12c-131d-4c14-b112-e258d029dd1e"
      },
      "execution_count": 22,
      "outputs": [
        {
          "output_type": "execute_result",
          "data": {
            "text/plain": [
              "array([[ 0.3311776 ],\n",
              "       [-0.13234764],\n",
              "       [-0.2150099 ],\n",
              "       [ 0.15264958]])"
            ]
          },
          "metadata": {},
          "execution_count": 22
        }
      ]
    },
    {
      "cell_type": "markdown",
      "source": [
        "# La Classe Loss"
      ],
      "metadata": {
        "id": "jBnDxklA5uCE"
      }
    },
    {
      "cell_type": "code",
      "source": [
        "class Loss():\n",
        "  def __init__(self):\n",
        "    pass\n",
        "\n",
        "  def forward(self, prediction, target):\n",
        "    assert prediction.shape == target.shape\n",
        "    self.prediction = prediction\n",
        "    self.target = target\n",
        "    loss = np.mean((self.target -self.prediction)**2)\n",
        "    return loss\n",
        "\n",
        "  def backward(self):\n",
        "    self.loss_derivee = -2 * (self.target - self.prediction)\n",
        "    assert self.loss_derivee.shape == self.prediction.shape, f'La dérivée loss a un shape {self.loss_derivee.shape} et différent du shape de Prediction : {self.prediction.shape}'\n",
        "\n",
        "    return self.loss_derivee"
      ],
      "metadata": {
        "id": "2IeqUTymbmUS"
      },
      "execution_count": 23,
      "outputs": []
    },
    {
      "cell_type": "code",
      "source": [
        "Y = np.random.randn(4,1)\n",
        "Y"
      ],
      "metadata": {
        "colab": {
          "base_uri": "https://localhost:8080/"
        },
        "id": "_OqvO4W88Yg7",
        "outputId": "59be2650-a3ec-4929-e013-888338c5f8c8"
      },
      "execution_count": 24,
      "outputs": [
        {
          "output_type": "execute_result",
          "data": {
            "text/plain": [
              "array([[ 0.56486772],\n",
              "       [ 1.48800652],\n",
              "       [-1.48644887],\n",
              "       [-0.13822431]])"
            ]
          },
          "metadata": {},
          "execution_count": 24
        }
      ]
    },
    {
      "cell_type": "code",
      "source": [
        "P = sig_out"
      ],
      "metadata": {
        "id": "lmYo0p0PGsiq"
      },
      "execution_count": 25,
      "outputs": []
    },
    {
      "cell_type": "code",
      "source": [
        "mse = Loss()"
      ],
      "metadata": {
        "id": "7jNXCTKcGuOs"
      },
      "execution_count": 26,
      "outputs": []
    },
    {
      "cell_type": "code",
      "source": [
        "mse.forward(P, Y)"
      ],
      "metadata": {
        "colab": {
          "base_uri": "https://localhost:8080/"
        },
        "id": "V2_rho9RG2rj",
        "outputId": "549f7a17-ba56-40b8-d29e-02d0be2c624a"
      },
      "execution_count": 27,
      "outputs": [
        {
          "output_type": "execute_result",
          "data": {
            "text/plain": [
              "1.2258567584730986"
            ]
          },
          "metadata": {},
          "execution_count": 27
        }
      ]
    },
    {
      "cell_type": "code",
      "source": [
        "mse.backward()"
      ],
      "metadata": {
        "colab": {
          "base_uri": "https://localhost:8080/"
        },
        "id": "TESfI8v0HlJJ",
        "outputId": "0c1f6972-c6b7-474a-96a9-922006d04494"
      },
      "execution_count": 28,
      "outputs": [
        {
          "output_type": "execute_result",
          "data": {
            "text/plain": [
              "array([[-0.54153104],\n",
              "       [-1.73629171],\n",
              "       [ 3.52041199],\n",
              "       [ 1.97798957]])"
            ]
          },
          "metadata": {},
          "execution_count": 28
        }
      ]
    },
    {
      "cell_type": "markdown",
      "source": [
        "# La classe Dense"
      ],
      "metadata": {
        "id": "M1k5s9lsJDI3"
      }
    },
    {
      "cell_type": "code",
      "source": [
        "class Dense():\n",
        "\n",
        "  def __init__(self, neurons, activation = None):\n",
        "    self.neurons = neurons\n",
        "    self.activation = activation\n",
        "    self.params = []\n",
        "    self.suite = []\n",
        "    self.initialization = True\n",
        "    self.derivee_inputs = []\n",
        "\n",
        "  def build(self, inputs):\n",
        "    # weights initialization\n",
        "    np.random.seed(42)\n",
        "    self.weights = np.random.randn(inputs.shape[1], self.neurons)\n",
        "    self.biais = np.random.randn(1, self.neurons)\n",
        "    self.params.append(self.weights)\n",
        "    self.params.append(self.biais)\n",
        "\n",
        "    # construction de la suite d'opérations\n",
        "    self.suite = [Dot(weights= self.params[0]), Add(biais=self.params[1])]\n",
        "    if self.activation:\n",
        "      self.suite.append(self.activation)\n",
        "\n",
        "  def forward(self, inputs):\n",
        "    if self.initialization:\n",
        "      self.build(inputs)\n",
        "      self.initialization = False\n",
        "\n",
        "      for boite in  self.suite:\n",
        "        inputs = boite.forward(inputs)\n",
        "\n",
        "    self.output = inputs\n",
        "\n",
        "    return self.output\n",
        "\n",
        "  def backward(self, derivee_output):\n",
        "    assert derivee_output.shape == self.output.shape\n",
        "\n",
        "    for box in reversed(self.suite):\n",
        "      derivee_output = box.backward(derivee_output)\n",
        "    derivee_inputs = derivee_output\n",
        "\n",
        "    self.get_layer_gradient()\n",
        "    return derivee_inputs\n",
        "\n",
        "  def get_layer_gradient(self):\n",
        "    self.derivee_params = []\n",
        "\n",
        "    for box in self.suite:\n",
        "      if issubclass(box.__class__, BoxParams):\n",
        "        self.derivee_params.append(box.derivee_param)\n",
        "\n",
        "  def __repr__(self):\n",
        "    r = f'Dense Layer(neurons = {self.neurons})'\n",
        "    if self.activation:\n",
        "      r +=\" avec Sigmoid\"\n",
        "    return r"
      ],
      "metadata": {
        "id": "6wzL1tqdG2u3"
      },
      "execution_count": 29,
      "outputs": []
    },
    {
      "cell_type": "code",
      "source": [
        "sigmoid = Sigmoid()\n",
        "couche = Dense(neurons = 2, activation = sigmoid)\n",
        "couche"
      ],
      "metadata": {
        "colab": {
          "base_uri": "https://localhost:8080/"
        },
        "id": "FdaBgym9Ka6R",
        "outputId": "119b7413-2ecf-42d7-87bf-2615b1b68ac3"
      },
      "execution_count": 30,
      "outputs": [
        {
          "output_type": "execute_result",
          "data": {
            "text/plain": [
              "Dense Layer(neurons = 2) avec Sigmoid"
            ]
          },
          "metadata": {},
          "execution_count": 30
        }
      ]
    },
    {
      "cell_type": "code",
      "source": [
        "X"
      ],
      "metadata": {
        "colab": {
          "base_uri": "https://localhost:8080/"
        },
        "id": "oq2eWPL6LB9q",
        "outputId": "dcb61eb6-4117-4c84-c322-8db35fc9d78e"
      },
      "execution_count": 31,
      "outputs": [
        {
          "output_type": "execute_result",
          "data": {
            "text/plain": [
              "array([[ 2,  3, -2],\n",
              "       [ 4,  5, -1],\n",
              "       [-5,  2,  3],\n",
              "       [ 0,  5,  4]])"
            ]
          },
          "metadata": {},
          "execution_count": 31
        }
      ]
    },
    {
      "cell_type": "code",
      "source": [
        "couche.forward(X)"
      ],
      "metadata": {
        "colab": {
          "base_uri": "https://localhost:8080/"
        },
        "id": "De6ojDfRKa-F",
        "outputId": "a93031a1-5b13-4d25-8098-6a1bdf1c4274"
      },
      "execution_count": 32,
      "outputs": [
        {
          "output_type": "execute_result",
          "data": {
            "text/plain": [
              "array([[0.99320003, 0.99604286],\n",
              "       [0.99912347, 0.99968533],\n",
              "       [0.42276305, 0.97817014],\n",
              "       [0.97978765, 0.99941659]])"
            ]
          },
          "metadata": {},
          "execution_count": 32
        }
      ]
    },
    {
      "cell_type": "code",
      "source": [
        "couche.params"
      ],
      "metadata": {
        "colab": {
          "base_uri": "https://localhost:8080/"
        },
        "id": "jl4TP_1AZX3D",
        "outputId": "246783b8-d421-495e-dbfe-8604ce399499"
      },
      "execution_count": 33,
      "outputs": [
        {
          "output_type": "execute_result",
          "data": {
            "text/plain": [
              "[array([[ 0.49671415, -0.1382643 ],\n",
              "        [ 0.64768854,  1.52302986],\n",
              "        [-0.23415337, -0.23413696]]),\n",
              " array([[1.57921282, 0.76743473]])]"
            ]
          },
          "metadata": {},
          "execution_count": 33
        }
      ]
    },
    {
      "cell_type": "code",
      "source": [
        "d_out = np.random.randn(4,2)\n",
        "d_out"
      ],
      "metadata": {
        "colab": {
          "base_uri": "https://localhost:8080/"
        },
        "id": "xCQNqSzRZY5e",
        "outputId": "0d6cfa66-5a23-4c1f-aabb-27f66cde11cf"
      },
      "execution_count": 34,
      "outputs": [
        {
          "output_type": "execute_result",
          "data": {
            "text/plain": [
              "array([[-0.46947439,  0.54256004],\n",
              "       [-0.46341769, -0.46572975],\n",
              "       [ 0.24196227, -1.91328024],\n",
              "       [-1.72491783, -0.56228753]])"
            ]
          },
          "metadata": {},
          "execution_count": 34
        }
      ]
    },
    {
      "cell_type": "code",
      "source": [
        "couche.backward(d_out)"
      ],
      "metadata": {
        "colab": {
          "base_uri": "https://localhost:8080/"
        },
        "id": "XFMF4QHxZxUD",
        "outputId": "9de46470-2842-4447-dbe1-82ae81a76031"
      },
      "execution_count": 35,
      "outputs": [
        {
          "output_type": "execute_result",
          "data": {
            "text/plain": [
              "array([[-0.00187061,  0.00120335,  0.00024173],\n",
              "       [-0.00018133, -0.00048599,  0.00012933],\n",
              "       [ 0.03497832, -0.02397904, -0.00426045],\n",
              "       [-0.0169224 , -0.02262434,  0.00807543]])"
            ]
          },
          "metadata": {},
          "execution_count": 35
        }
      ]
    },
    {
      "cell_type": "code",
      "source": [
        "couche.suite"
      ],
      "metadata": {
        "colab": {
          "base_uri": "https://localhost:8080/"
        },
        "id": "51wtV4cSaLFm",
        "outputId": "aaa28757-22d7-4c54-a380-b4cddf95ac67"
      },
      "execution_count": 36,
      "outputs": [
        {
          "output_type": "execute_result",
          "data": {
            "text/plain": [
              "[Dot Product, Add Biais, Sigmoid]"
            ]
          },
          "metadata": {},
          "execution_count": 36
        }
      ]
    },
    {
      "cell_type": "markdown",
      "source": [
        "# La classe Model"
      ],
      "metadata": {
        "id": "8VqjR6UVfWf-"
      }
    },
    {
      "cell_type": "code",
      "source": [
        "class Model():\n",
        "\n",
        "  def __init__(self, layers):\n",
        "    self.layers = layers\n",
        "\n",
        "  def forward(self, inputs):\n",
        "    for layer in self.layers:\n",
        "      inputs = layer.forward(inputs)\n",
        "    self.output = inputs\n",
        "    return self.output\n",
        "\n",
        "  def backward(self, loss_derivee):\n",
        "    assert loss_derivee.shape == self.output.shape\n",
        "    for layer in reversed(self.layers):\n",
        "      loss_derivee = layer.backward(loss_derivee)\n",
        "\n",
        "    return loss_derivee\n",
        "\n",
        "  def get_params(self):\n",
        "    self.params = []\n",
        "    for layer in self.layers:\n",
        "      self.params.append(layer.params)\n",
        "    return self.params\n",
        "\n",
        "  def get_derivee_params(self):\n",
        "    self.derivee_params = []\n",
        "    for layer in self.layers:\n",
        "      self.derivee_params.append(layer.derivee_params)\n",
        "    return self.derivee_params\n",
        "\n",
        "\n",
        "  def update(self):\n",
        "    for param, derivee_param in zip(self.get_params(), self.get_derivee_params()):\n",
        "      param = param - .01*derivee_param\n",
        "\n",
        "  def __repr__(self):\n",
        "    r = \"Layers .................\"\n",
        "    for layer in self.layers:\n",
        "      r+=f\" \\n {str(layer)}\"\n",
        "    return r"
      ],
      "metadata": {
        "id": "OGMux3TXaLOP"
      },
      "execution_count": 49,
      "outputs": []
    },
    {
      "cell_type": "code",
      "source": [
        "model = Model(layers = [\n",
        "    Dense(neurons = 3, activation = sigmoid),\n",
        "    Dense(neurons = 1)\n",
        "    ])\n",
        "model"
      ],
      "metadata": {
        "colab": {
          "base_uri": "https://localhost:8080/"
        },
        "id": "Wp5ylEL6gE0v",
        "outputId": "44d2d015-580e-4904-961d-62ddb5553f8c"
      },
      "execution_count": 50,
      "outputs": [
        {
          "output_type": "execute_result",
          "data": {
            "text/plain": [
              "Layers ................. \n",
              " Dense Layer(neurons = 3) avec Sigmoid \n",
              " Dense Layer(neurons = 1)"
            ]
          },
          "metadata": {},
          "execution_count": 50
        }
      ]
    },
    {
      "cell_type": "code",
      "source": [
        "Y"
      ],
      "metadata": {
        "colab": {
          "base_uri": "https://localhost:8080/"
        },
        "id": "WHuFdCgzhqxn",
        "outputId": "4dbade5b-e34e-425d-91cd-f2378716a265"
      },
      "execution_count": 39,
      "outputs": [
        {
          "output_type": "execute_result",
          "data": {
            "text/plain": [
              "array([[ 0.56486772],\n",
              "       [ 1.48800652],\n",
              "       [-1.48644887],\n",
              "       [-0.13822431]])"
            ]
          },
          "metadata": {},
          "execution_count": 39
        }
      ]
    },
    {
      "cell_type": "code",
      "source": [
        "model.forward(X)"
      ],
      "metadata": {
        "colab": {
          "base_uri": "https://localhost:8080/"
        },
        "id": "KSFaxmQghyHi",
        "outputId": "98655077-3e0f-4500-c798-2e067a3e3c5d"
      },
      "execution_count": 51,
      "outputs": [
        {
          "output_type": "execute_result",
          "data": {
            "text/plain": [
              "array([[2.47005633],\n",
              "       [2.53479834],\n",
              "       [1.89807891],\n",
              "       [1.92678186]])"
            ]
          },
          "metadata": {},
          "execution_count": 51
        }
      ]
    },
    {
      "cell_type": "code",
      "source": [
        "loss_derivee = np.random.randn(4,1)\n",
        "loss_derivee"
      ],
      "metadata": {
        "colab": {
          "base_uri": "https://localhost:8080/"
        },
        "id": "P9mVLVNwh2QC",
        "outputId": "8ba0a07e-e79f-4071-a7c6-d876e38c4ace"
      },
      "execution_count": 52,
      "outputs": [
        {
          "output_type": "execute_result",
          "data": {
            "text/plain": [
              "array([[-0.23415337],\n",
              "       [-0.23413696],\n",
              "       [ 1.57921282],\n",
              "       [ 0.76743473]])"
            ]
          },
          "metadata": {},
          "execution_count": 52
        }
      ]
    },
    {
      "cell_type": "code",
      "source": [
        "model.backward(loss_derivee)"
      ],
      "metadata": {
        "colab": {
          "base_uri": "https://localhost:8080/"
        },
        "id": "WuGpEblMiOVA",
        "outputId": "71abd744-5478-4d90-9f05-6973268169c8"
      },
      "execution_count": 53,
      "outputs": [
        {
          "output_type": "execute_result",
          "data": {
            "text/plain": [
              "array([[-0.02166009, -0.00198156,  0.00600408],\n",
              "       [-0.01558369,  0.00516281,  0.01226937],\n",
              "       [ 0.00662474,  0.0076687 , -0.01500028],\n",
              "       [ 0.01131573,  0.00059134, -0.01919523]])"
            ]
          },
          "metadata": {},
          "execution_count": 53
        }
      ]
    },
    {
      "cell_type": "code",
      "source": [
        "model.get_params()"
      ],
      "metadata": {
        "colab": {
          "base_uri": "https://localhost:8080/"
        },
        "id": "_oqKsBru9-_N",
        "outputId": "ce4156b7-abb8-4248-c0c9-08c7a9672a76"
      },
      "execution_count": 54,
      "outputs": [
        {
          "output_type": "execute_result",
          "data": {
            "text/plain": [
              "[[array([[ 0.49671415, -0.1382643 ,  0.64768854],\n",
              "         [ 1.52302986, -0.23415337, -0.23413696],\n",
              "         [ 1.57921282,  0.76743473, -0.46947439]]),\n",
              "  array([[ 0.54256004, -0.46341769, -0.46572975]])],\n",
              " [array([[ 0.49671415],\n",
              "         [-0.1382643 ],\n",
              "         [ 0.64768854]]),\n",
              "  array([[1.52302986]])]]"
            ]
          },
          "metadata": {},
          "execution_count": 54
        }
      ]
    },
    {
      "cell_type": "code",
      "source": [
        "model.get_derivee_params()"
      ],
      "metadata": {
        "colab": {
          "base_uri": "https://localhost:8080/"
        },
        "id": "ZrxaH32W-gNQ",
        "outputId": "ac8bcb70-64a1-45df-a982-a5d5678bd979"
      },
      "execution_count": 55,
      "outputs": [
        {
          "output_type": "execute_result",
          "data": {
            "text/plain": [
              "[[array([[-0.02242822,  0.11838461, -0.17179535],\n",
              "         [-0.01212565, -0.11400805, -0.12785598],\n",
              "         [ 0.01783758, -0.13599864,  0.14880161]]),\n",
              "  array([[-0.00327309, -0.03532094, -0.03483333]])],\n",
              " [array([[ 1.88551641],\n",
              "         [ 1.99795603],\n",
              "         [-0.33476421]]),\n",
              "  array([[1.87835721]])]]"
            ]
          },
          "metadata": {},
          "execution_count": 55
        }
      ]
    },
    {
      "cell_type": "markdown",
      "source": [
        "# Update des paramètres"
      ],
      "metadata": {
        "id": "T_vlCSm-i2w_"
      }
    },
    {
      "cell_type": "code",
      "source": [
        "M"
      ],
      "metadata": {
        "colab": {
          "base_uri": "https://localhost:8080/"
        },
        "id": "BNY1uIvYjoWI",
        "outputId": "a8617057-a18b-479d-ac8d-4d6b6f879ebf"
      },
      "execution_count": 43,
      "outputs": [
        {
          "output_type": "execute_result",
          "data": {
            "text/plain": [
              "Dot Product"
            ]
          },
          "metadata": {},
          "execution_count": 43
        }
      ]
    },
    {
      "cell_type": "code",
      "source": [
        "M.param"
      ],
      "metadata": {
        "colab": {
          "base_uri": "https://localhost:8080/"
        },
        "id": "1al-xZcej1G9",
        "outputId": "54860da1-613e-4d5c-e3a3-d56616b46a74"
      },
      "execution_count": 44,
      "outputs": [
        {
          "output_type": "execute_result",
          "data": {
            "text/plain": [
              "array([[ 0.4967],\n",
              "       [-0.1383],\n",
              "       [ 0.6477]])"
            ]
          },
          "metadata": {},
          "execution_count": 44
        }
      ]
    },
    {
      "cell_type": "code",
      "source": [
        "M.derivee_inputs"
      ],
      "metadata": {
        "colab": {
          "base_uri": "https://localhost:8080/"
        },
        "id": "gT9mdi-ij4vD",
        "outputId": "032345e2-41d9-4700-9b47-ebb0c06fbcc9"
      },
      "execution_count": 45,
      "outputs": [
        {
          "output_type": "execute_result",
          "data": {
            "text/plain": [
              "array([[ 0.79234626, -0.22061906,  1.03322463],\n",
              "       [-0.27898026,  0.07767862, -0.36379206],\n",
              "       [-0.53716203,  0.14956615, -0.70046274],\n",
              "       [ 0.59720389, -0.16628407,  0.77875772]])"
            ]
          },
          "metadata": {},
          "execution_count": 45
        }
      ]
    },
    {
      "cell_type": "code",
      "source": [
        "couche.params"
      ],
      "metadata": {
        "colab": {
          "base_uri": "https://localhost:8080/"
        },
        "id": "tg-LX6uqkZ5O",
        "outputId": "1b2d5d60-fb44-4142-f770-dc222710c545"
      },
      "execution_count": 46,
      "outputs": [
        {
          "output_type": "execute_result",
          "data": {
            "text/plain": [
              "[array([[ 0.49671415, -0.1382643 ],\n",
              "        [ 0.64768854,  1.52302986],\n",
              "        [-0.23415337, -0.23413696]]),\n",
              " array([[1.57921282, 0.76743473]])]"
            ]
          },
          "metadata": {},
          "execution_count": 46
        }
      ]
    },
    {
      "cell_type": "code",
      "source": [
        "couche.derivee_params"
      ],
      "metadata": {
        "colab": {
          "base_uri": "https://localhost:8080/"
        },
        "id": "NtADACX1kaDL",
        "outputId": "1a41e8b0-4eb2-4ab5-ba3c-1384429ecb43"
      },
      "execution_count": 47,
      "outputs": [
        {
          "output_type": "execute_result",
          "data": {
            "text/plain": [
              "[array([[-0.30320043,  0.20796531],\n",
              "        [-0.06424681, -0.07766607],\n",
              "        [ 0.04724885, -0.1280065 ]]),\n",
              " array([[ 0.02131064, -0.03919074]])]"
            ]
          },
          "metadata": {},
          "execution_count": 47
        }
      ]
    },
    {
      "cell_type": "code",
      "source": [
        "for p in params:\n",
        "  params[p] -= learning_rate*grads[p]"
      ],
      "metadata": {
        "colab": {
          "base_uri": "https://localhost:8080/",
          "height": 200
        },
        "id": "Yx8anvWHiPrQ",
        "outputId": "ba861a23-3d43-4335-90cb-f8a8c2395794"
      },
      "execution_count": 48,
      "outputs": [
        {
          "output_type": "error",
          "ename": "NameError",
          "evalue": "ignored",
          "traceback": [
            "\u001b[0;31m---------------------------------------------------------------------------\u001b[0m",
            "\u001b[0;31mNameError\u001b[0m                                 Traceback (most recent call last)",
            "\u001b[0;32m<ipython-input-48-ee92df5edf18>\u001b[0m in \u001b[0;36m<cell line: 1>\u001b[0;34m()\u001b[0m\n\u001b[0;32m----> 1\u001b[0;31m \u001b[0;32mfor\u001b[0m \u001b[0mp\u001b[0m \u001b[0;32min\u001b[0m \u001b[0mparams\u001b[0m\u001b[0;34m:\u001b[0m\u001b[0;34m\u001b[0m\u001b[0;34m\u001b[0m\u001b[0m\n\u001b[0m\u001b[1;32m      2\u001b[0m   \u001b[0mparams\u001b[0m\u001b[0;34m[\u001b[0m\u001b[0mp\u001b[0m\u001b[0;34m]\u001b[0m \u001b[0;34m-=\u001b[0m \u001b[0mlearning_rate\u001b[0m\u001b[0;34m*\u001b[0m\u001b[0mgrads\u001b[0m\u001b[0;34m[\u001b[0m\u001b[0mp\u001b[0m\u001b[0;34m]\u001b[0m\u001b[0;34m\u001b[0m\u001b[0;34m\u001b[0m\u001b[0m\n",
            "\u001b[0;31mNameError\u001b[0m: name 'params' is not defined"
          ]
        }
      ]
    }
  ]
}