{
  "nbformat": 4,
  "nbformat_minor": 0,
  "metadata": {
    "colab": {
      "provenance": [],
      "authorship_tag": "ABX9TyMhmbwc3ZJqJ4rCY54fXTzR",
      "include_colab_link": true
    },
    "kernelspec": {
      "name": "python3",
      "display_name": "Python 3"
    },
    "language_info": {
      "name": "python"
    }
  },
  "cells": [
    {
      "cell_type": "markdown",
      "metadata": {
        "id": "view-in-github",
        "colab_type": "text"
      },
      "source": [
        "<a href=\"https://colab.research.google.com/github/The237/DeepLearningCourses/blob/main/02_01_Recreer_Tensorflow.ipynb\" target=\"_parent\"><img src=\"https://colab.research.google.com/assets/colab-badge.svg\" alt=\"Open In Colab\"/></a>"
      ]
    },
    {
      "cell_type": "code",
      "execution_count": 1,
      "metadata": {
        "id": "odIZYWXtcoA-"
      },
      "outputs": [],
      "source": [
        "import numpy as np"
      ]
    },
    {
      "cell_type": "markdown",
      "source": [
        "# La boîte générique"
      ],
      "metadata": {
        "id": "8aEt5hib5-KJ"
      }
    },
    {
      "cell_type": "code",
      "source": [
        "class Box():\n",
        "  def __init__(self):\n",
        "    pass\n",
        "\n",
        "  def forward(self, inputs):\n",
        "    self.inputs = inputs\n",
        "    self.output = self.operation()\n",
        "\n",
        "    return self.output\n",
        "\n",
        "  def backward(self, derivee_output):\n",
        "    assert derivee_output.shape == self.output.shape, f'La dérivée output reçue a un shape {derivee_output.shape} et différent du shape de output : {self.output.shape}'\n",
        "\n",
        "    self.derivee_inputs = self.gradient(derivee_output)\n",
        "    assert self.derivee_inputs.shape == self.inputs.shape, f'La dérivée input calculée a un shape {self.derivee_input.shape} et différent du shape de input : {self.inputs.shape}'\n",
        "\n",
        "    return self.derivee_inputs\n",
        "\n",
        "  def operation(self):\n",
        "    pass\n",
        "\n",
        "  def gradient(self,derivee_output):\n",
        "    pass"
      ],
      "metadata": {
        "id": "RCMMbP8OcxFN"
      },
      "execution_count": 2,
      "outputs": []
    },
    {
      "cell_type": "markdown",
      "source": [
        " # La boîte paramétrée"
      ],
      "metadata": {
        "id": "Xnz_eNkG6HEm"
      }
    },
    {
      "cell_type": "code",
      "source": [
        "class BoxParams():\n",
        "  def __init__(self, param):\n",
        "    self.param = param\n",
        "    pass\n",
        "\n",
        "  def forward(self, inputs):\n",
        "    self.inputs = inputs\n",
        "    self.output = self.operation()\n",
        "\n",
        "    return self.output\n",
        "\n",
        "  def backward(self, derivee_output):\n",
        "\n",
        "    assert derivee_output.shape == self.output.shape, f'La dérivée output reçue a un shape {derivee_output.shape} et différent du shape de output : {self.output.shape}'\n",
        "\n",
        "    self.derivee_inputs = self.gradient(derivee_output)\n",
        "    assert self.derivee_inputs.shape == self.inputs.shape, f'La dérivée input calculée a un shape {self.derivee_input.shape} et différent du shape de input : {self.inputs.shape}'\n",
        "\n",
        "    self.derivee_param = self.gradient_param(derivee_output)\n",
        "    assert self.derivee_param.shape == self.param.shape, f'La dérivée de param a un shape {self.derivee_param.shape} et différent du shape de param : {self.param.shape}'\n",
        "\n",
        "    return self.derivee_inputs\n",
        "\n",
        "  def operation(self):\n",
        "    pass\n",
        "\n",
        "  def gradient(self,derivee_output):\n",
        "    pass\n",
        "\n",
        "  def gradient_param(self,derivee_output):\n",
        "    pass"
      ],
      "metadata": {
        "id": "s27FVtG0cxNQ"
      },
      "execution_count": 3,
      "outputs": []
    },
    {
      "cell_type": "markdown",
      "source": [
        "# La Classe Dot"
      ],
      "metadata": {
        "id": "3655VhBKg0Fh"
      }
    },
    {
      "cell_type": "code",
      "source": [
        "class Dot(BoxParams):\n",
        "\n",
        "  def __init__(self, weights):\n",
        "    super().__init__(weights)\n",
        "\n",
        "  def operation(self):\n",
        "    return np.dot(self.inputs, self.param)\n",
        "\n",
        "  def gradient(self, derivee_output):\n",
        "     return np.dot(derivee_output,self.param.T)\n",
        "\n",
        "  def gradient_param(self, derivee_output):\n",
        "     return np.dot(self.inputs.T, derivee_output)\n",
        "\n",
        "  def __repr__(self):\n",
        "    return \"Dot Product\""
      ],
      "metadata": {
        "id": "vI5t2eN2gp8K"
      },
      "execution_count": 4,
      "outputs": []
    },
    {
      "cell_type": "code",
      "source": [
        "X = np.array([\n",
        "    [2,3,-2],\n",
        "    [4,5,-1],\n",
        "    [-5,2,3],\n",
        "    [0,5,4]\n",
        "])"
      ],
      "metadata": {
        "id": "oSzhx5SGiQIO"
      },
      "execution_count": 5,
      "outputs": []
    },
    {
      "cell_type": "code",
      "source": [
        "W = np.array([\n",
        "    [.4967],\n",
        "    [-.1383],\n",
        "    [.6477]\n",
        "])"
      ],
      "metadata": {
        "id": "2t3SNFaAiace"
      },
      "execution_count": 6,
      "outputs": []
    },
    {
      "cell_type": "code",
      "source": [
        "np.dot(X,W)"
      ],
      "metadata": {
        "colab": {
          "base_uri": "https://localhost:8080/"
        },
        "id": "zO6X1lXJibOw",
        "outputId": "a6a80e26-ec42-4db5-d1ff-ad4b8eeffb2c"
      },
      "execution_count": 7,
      "outputs": [
        {
          "output_type": "execute_result",
          "data": {
            "text/plain": [
              "array([[-0.7169],\n",
              "       [ 0.6476],\n",
              "       [-0.817 ],\n",
              "       [ 1.8993]])"
            ]
          },
          "metadata": {},
          "execution_count": 7
        }
      ]
    },
    {
      "cell_type": "code",
      "source": [
        "M = Dot(weights=W)"
      ],
      "metadata": {
        "id": "B0Ds_9azizFj"
      },
      "execution_count": 8,
      "outputs": []
    },
    {
      "cell_type": "code",
      "source": [
        "out = M.forward(X)\n",
        "out"
      ],
      "metadata": {
        "colab": {
          "base_uri": "https://localhost:8080/"
        },
        "id": "7-7xd4DXizNT",
        "outputId": "3d1edc9b-00d8-4f4c-e6a9-0e48b77114fb"
      },
      "execution_count": 9,
      "outputs": [
        {
          "output_type": "execute_result",
          "data": {
            "text/plain": [
              "array([[-0.7169],\n",
              "       [ 0.6476],\n",
              "       [-0.817 ],\n",
              "       [ 1.8993]])"
            ]
          },
          "metadata": {},
          "execution_count": 9
        }
      ]
    },
    {
      "cell_type": "code",
      "source": [
        "d_out = np.random.randn(4,1)\n",
        "d_out"
      ],
      "metadata": {
        "colab": {
          "base_uri": "https://localhost:8080/"
        },
        "id": "Doy7fx_0kHfV",
        "outputId": "dbe363d3-2aa7-4f86-b8d8-1c184a645ced"
      },
      "execution_count": 10,
      "outputs": [
        {
          "output_type": "execute_result",
          "data": {
            "text/plain": [
              "array([[-0.31115614],\n",
              "       [-0.46739056],\n",
              "       [-0.16049706],\n",
              "       [-0.52744829]])"
            ]
          },
          "metadata": {},
          "execution_count": 10
        }
      ]
    },
    {
      "cell_type": "code",
      "source": [
        "M.backward(d_out)"
      ],
      "metadata": {
        "colab": {
          "base_uri": "https://localhost:8080/"
        },
        "id": "uZQVtqwLiuFB",
        "outputId": "38b97ced-5a29-4348-b413-57325c2dab10"
      },
      "execution_count": 11,
      "outputs": [
        {
          "output_type": "execute_result",
          "data": {
            "text/plain": [
              "array([[-0.15455126,  0.04303289, -0.20153583],\n",
              "       [-0.23215289,  0.06464011, -0.30272887],\n",
              "       [-0.07971889,  0.02219674, -0.10395395],\n",
              "       [-0.26198357,  0.0729461 , -0.34162826]])"
            ]
          },
          "metadata": {},
          "execution_count": 11
        }
      ]
    },
    {
      "cell_type": "markdown",
      "source": [
        "# La Classe Add"
      ],
      "metadata": {
        "id": "LqOQHne3NiVP"
      }
    },
    {
      "cell_type": "code",
      "source": [
        "class Add(BoxParams):\n",
        "\n",
        "  def __init__(self, biais):\n",
        "    super().__init__(biais)\n",
        "\n",
        "  def operation(self):\n",
        "    return self.inputs + self.param\n",
        "\n",
        "  def gradient(self, derivee_output):\n",
        "     return np.ones_like(self.inputs)*derivee_output\n",
        "\n",
        "  def gradient_param(self, derivee_output):\n",
        "      r = np.ones_like(self.param)*derivee_output\n",
        "      return r.sum(axis = 0).reshape(1, self.param.shape[1])\n",
        "\n",
        "  def __repr__(self):\n",
        "    return \"Add Biais\""
      ],
      "metadata": {
        "id": "l_mj0aGhkyAp"
      },
      "execution_count": 12,
      "outputs": []
    },
    {
      "cell_type": "code",
      "source": [
        "B = np.random.randn(1,1)"
      ],
      "metadata": {
        "id": "OKzcpl-0O2H8"
      },
      "execution_count": 13,
      "outputs": []
    },
    {
      "cell_type": "code",
      "source": [
        "B"
      ],
      "metadata": {
        "colab": {
          "base_uri": "https://localhost:8080/"
        },
        "id": "55q04xb_PiKJ",
        "outputId": "0f2743f5-2d43-4575-90c3-fc2f25b668d3"
      },
      "execution_count": 14,
      "outputs": [
        {
          "output_type": "execute_result",
          "data": {
            "text/plain": [
              "array([[1.17129915]])"
            ]
          },
          "metadata": {},
          "execution_count": 14
        }
      ]
    },
    {
      "cell_type": "code",
      "source": [
        "b = Add(biais = B)\n",
        "b"
      ],
      "metadata": {
        "colab": {
          "base_uri": "https://localhost:8080/"
        },
        "id": "HSHxg0FtPiiL",
        "outputId": "11458e22-066b-4300-9659-eb625720a8ac"
      },
      "execution_count": 15,
      "outputs": [
        {
          "output_type": "execute_result",
          "data": {
            "text/plain": [
              "Add Biais"
            ]
          },
          "metadata": {},
          "execution_count": 15
        }
      ]
    },
    {
      "cell_type": "code",
      "source": [
        "out_b = b.forward(out)\n",
        "out_b"
      ],
      "metadata": {
        "colab": {
          "base_uri": "https://localhost:8080/"
        },
        "id": "BMwpF6B_PxMF",
        "outputId": "5c107563-afd3-490c-c334-978355283a3a"
      },
      "execution_count": 16,
      "outputs": [
        {
          "output_type": "execute_result",
          "data": {
            "text/plain": [
              "array([[0.45439915],\n",
              "       [1.81889915],\n",
              "       [0.35429915],\n",
              "       [3.07059915]])"
            ]
          },
          "metadata": {},
          "execution_count": 16
        }
      ]
    },
    {
      "cell_type": "code",
      "source": [
        "d_out"
      ],
      "metadata": {
        "colab": {
          "base_uri": "https://localhost:8080/"
        },
        "id": "UXCqqheiTl1C",
        "outputId": "bf8087e3-f524-4e90-88b1-f3581571c2c4"
      },
      "execution_count": 17,
      "outputs": [
        {
          "output_type": "execute_result",
          "data": {
            "text/plain": [
              "array([[-0.31115614],\n",
              "       [-0.46739056],\n",
              "       [-0.16049706],\n",
              "       [-0.52744829]])"
            ]
          },
          "metadata": {},
          "execution_count": 17
        }
      ]
    },
    {
      "cell_type": "code",
      "source": [
        "b.backward(d_out)"
      ],
      "metadata": {
        "colab": {
          "base_uri": "https://localhost:8080/"
        },
        "id": "r5jDXgDbUYkH",
        "outputId": "79b3adb3-3ee1-4314-df9e-27e0ff0b32e2"
      },
      "execution_count": 18,
      "outputs": [
        {
          "output_type": "execute_result",
          "data": {
            "text/plain": [
              "array([[-0.31115614],\n",
              "       [-0.46739056],\n",
              "       [-0.16049706],\n",
              "       [-0.52744829]])"
            ]
          },
          "metadata": {},
          "execution_count": 18
        }
      ]
    },
    {
      "cell_type": "markdown",
      "source": [
        "# La Classe Sigmoid"
      ],
      "metadata": {
        "id": "blThe3KBXHNW"
      }
    },
    {
      "cell_type": "code",
      "source": [
        "class Sigmoid(Box):\n",
        "  def __init__(self):\n",
        "     super().__init__()\n",
        "\n",
        "  def operation(self):\n",
        "    return 1 /(1 + np.exp(-1 * self.inputs))\n",
        "\n",
        "  def gradient(self,derivee_output):\n",
        "    return self.output * (1 - self.output) * derivee_output\n",
        "\n",
        "  def __repr__(self):\n",
        "    return \"Sigmoid\""
      ],
      "metadata": {
        "id": "lxDjA4nIW3JU"
      },
      "execution_count": 86,
      "outputs": []
    },
    {
      "cell_type": "code",
      "source": [
        "sig = Sigmoid()"
      ],
      "metadata": {
        "id": "OWpBBceoW3OA"
      },
      "execution_count": 20,
      "outputs": []
    },
    {
      "cell_type": "code",
      "source": [
        "sig_out = sig.forward(out_b)\n",
        "sig_out"
      ],
      "metadata": {
        "colab": {
          "base_uri": "https://localhost:8080/"
        },
        "id": "O6HjJR6WW3Ql",
        "outputId": "6bfc5269-2fd1-4706-8042-51a7be405a35"
      },
      "execution_count": 21,
      "outputs": [
        {
          "output_type": "execute_result",
          "data": {
            "text/plain": [
              "array([[0.61168466],\n",
              "       [0.86043398],\n",
              "       [0.58765972],\n",
              "       [0.95566357]])"
            ]
          },
          "metadata": {},
          "execution_count": 21
        }
      ]
    },
    {
      "cell_type": "code",
      "source": [
        "sig.backward(d_out)"
      ],
      "metadata": {
        "colab": {
          "base_uri": "https://localhost:8080/"
        },
        "id": "akSZsc6xbiCZ",
        "outputId": "b5bd7957-f44a-4045-b0d2-336d4670a71a"
      },
      "execution_count": 22,
      "outputs": [
        {
          "output_type": "execute_result",
          "data": {
            "text/plain": [
              "array([[-0.07390784],\n",
              "       [-0.05612769],\n",
              "       [-0.03889097],\n",
              "       [-0.02234836]])"
            ]
          },
          "metadata": {},
          "execution_count": 22
        }
      ]
    },
    {
      "cell_type": "markdown",
      "source": [
        "# La Classe Loss"
      ],
      "metadata": {
        "id": "jBnDxklA5uCE"
      }
    },
    {
      "cell_type": "code",
      "source": [
        "class Loss():\n",
        "  def __init__(self):\n",
        "    pass\n",
        "\n",
        "  def forward(self, prediction, target):\n",
        "    assert prediction.shape == target.shape\n",
        "    self.prediction = prediction\n",
        "    self.target = target\n",
        "    loss = np.mean((self.target -self.prediction)**2)\n",
        "    return loss\n",
        "\n",
        "  def backward(self):\n",
        "    self.loss_derivee = -2 * (self.target - self.prediction)\n",
        "    assert self.loss_derivee.shape == self.prediction.shape, f'La dérivée loss a un shape {self.loss_derivee.shape} et différent du shape de Prediction : {self.prediction.shape}'\n",
        "\n",
        "    return self.loss_derivee"
      ],
      "metadata": {
        "id": "2IeqUTymbmUS"
      },
      "execution_count": 46,
      "outputs": []
    },
    {
      "cell_type": "code",
      "source": [
        "Y = np.random.randn(4,1)\n",
        "Y"
      ],
      "metadata": {
        "colab": {
          "base_uri": "https://localhost:8080/"
        },
        "id": "_OqvO4W88Yg7",
        "outputId": "080bd1f1-6cf5-4ffa-a2b2-62b5e78935ee"
      },
      "execution_count": 24,
      "outputs": [
        {
          "output_type": "execute_result",
          "data": {
            "text/plain": [
              "array([[-1.44202839],\n",
              "       [-1.08312131],\n",
              "       [ 0.30588018],\n",
              "       [-1.61360313]])"
            ]
          },
          "metadata": {},
          "execution_count": 24
        }
      ]
    },
    {
      "cell_type": "code",
      "source": [
        "P = sig_out"
      ],
      "metadata": {
        "id": "lmYo0p0PGsiq"
      },
      "execution_count": 25,
      "outputs": []
    },
    {
      "cell_type": "code",
      "source": [
        "mse = Loss()"
      ],
      "metadata": {
        "id": "7jNXCTKcGuOs"
      },
      "execution_count": 47,
      "outputs": []
    },
    {
      "cell_type": "code",
      "source": [
        "mse.forward(P, Y)"
      ],
      "metadata": {
        "colab": {
          "base_uri": "https://localhost:8080/"
        },
        "id": "V2_rho9RG2rj",
        "outputId": "7459eb50-d7b8-4b71-be04-00787f1810f3"
      },
      "execution_count": 48,
      "outputs": [
        {
          "output_type": "execute_result",
          "data": {
            "text/plain": [
              "3.66891888678465"
            ]
          },
          "metadata": {},
          "execution_count": 48
        }
      ]
    },
    {
      "cell_type": "code",
      "source": [
        "mse.backward()"
      ],
      "metadata": {
        "colab": {
          "base_uri": "https://localhost:8080/"
        },
        "id": "TESfI8v0HlJJ",
        "outputId": "bb3e6a16-e81d-4150-f99f-f6c44cfe2f79"
      },
      "execution_count": 49,
      "outputs": [
        {
          "output_type": "execute_result",
          "data": {
            "text/plain": [
              "array([[4.1074261 ],\n",
              "       [3.88711058],\n",
              "       [0.56355909],\n",
              "       [5.13853339]])"
            ]
          },
          "metadata": {},
          "execution_count": 49
        }
      ]
    },
    {
      "cell_type": "markdown",
      "source": [
        "# La classe Dense"
      ],
      "metadata": {
        "id": "M1k5s9lsJDI3"
      }
    },
    {
      "cell_type": "code",
      "source": [
        "class Dense():\n",
        "\n",
        "  def __init__(self, neurons, activation = None):\n",
        "    self.neurons = neurons\n",
        "    self.activation = activation\n",
        "    self.params = []\n",
        "    self.suite = []\n",
        "    self.initialization = True\n",
        "\n",
        "  def build(self, inputs):\n",
        "    # weights initialization\n",
        "    np.random.seed(42)\n",
        "    self.weights = np.random.randn(inputs.shape[1], self.neurons)\n",
        "    self.biais = np.random.randn(1, self.neurons)\n",
        "    self.params.append(self.weights)\n",
        "    self.params.append(self.biais)\n",
        "\n",
        "    # construction de la suite d'opérations\n",
        "    self.suite = [Dot(weights= self.params[0]), Add(biais=self.params[1])]\n",
        "    if self.activation:\n",
        "      self.suite.append(self.activation)\n",
        "\n",
        "  def forward(self, inputs):\n",
        "    if self.initialization:\n",
        "      self.build(inputs)\n",
        "      self.initialization = False\n",
        "\n",
        "      for boite in  self.suite:\n",
        "        inputs = boite.forward(inputs)\n",
        "\n",
        "    self.output = inputs\n",
        "\n",
        "    return self.output\n",
        "\n",
        "  def backward(self, derivee_output):\n",
        "    assert derivee_output.shape == self.output.shape\n",
        "\n",
        "    for box in reversed(self.suite):\n",
        "      derivee_output = box.backward(derivee_output)\n",
        "    derivee_inputs = derivee_output\n",
        "\n",
        "    return derivee_inputs\n",
        "\n",
        "  def __repr__(self):\n",
        "    r = f'Dense Layer(neurons = {self.neurons})'\n",
        "    if self.activation:\n",
        "      r +=\" avec Sigmoid\"\n",
        "    return r"
      ],
      "metadata": {
        "id": "6wzL1tqdG2u3"
      },
      "execution_count": 87,
      "outputs": []
    },
    {
      "cell_type": "code",
      "source": [
        "sigmoid = Sigmoid()\n",
        "couche = Dense(neurons = 2, activation = sigmoid)\n",
        "couche"
      ],
      "metadata": {
        "colab": {
          "base_uri": "https://localhost:8080/"
        },
        "id": "FdaBgym9Ka6R",
        "outputId": "28d06b2a-dbfd-4690-ddd8-9704d24fe928"
      },
      "execution_count": 88,
      "outputs": [
        {
          "output_type": "execute_result",
          "data": {
            "text/plain": [
              "Dense Layer(neurons = 2) avec Sigmoid"
            ]
          },
          "metadata": {},
          "execution_count": 88
        }
      ]
    },
    {
      "cell_type": "code",
      "source": [
        "X"
      ],
      "metadata": {
        "colab": {
          "base_uri": "https://localhost:8080/"
        },
        "id": "oq2eWPL6LB9q",
        "outputId": "67454991-80f9-435b-ba6f-91852de526b4"
      },
      "execution_count": 75,
      "outputs": [
        {
          "output_type": "execute_result",
          "data": {
            "text/plain": [
              "array([[ 2,  3, -2],\n",
              "       [ 4,  5, -1],\n",
              "       [-5,  2,  3],\n",
              "       [ 0,  5,  4]])"
            ]
          },
          "metadata": {},
          "execution_count": 75
        }
      ]
    },
    {
      "cell_type": "code",
      "source": [
        "couche.forward(X)"
      ],
      "metadata": {
        "colab": {
          "base_uri": "https://localhost:8080/"
        },
        "id": "De6ojDfRKa-F",
        "outputId": "59f0ce78-5a16-4de9-a354-c65db45a1fe3"
      },
      "execution_count": 89,
      "outputs": [
        {
          "output_type": "execute_result",
          "data": {
            "text/plain": [
              "array([[0.99320003, 0.99604286],\n",
              "       [0.99912347, 0.99968533],\n",
              "       [0.42276305, 0.97817014],\n",
              "       [0.97978765, 0.99941659]])"
            ]
          },
          "metadata": {},
          "execution_count": 89
        }
      ]
    },
    {
      "cell_type": "code",
      "source": [
        "couche.params"
      ],
      "metadata": {
        "colab": {
          "base_uri": "https://localhost:8080/"
        },
        "id": "jl4TP_1AZX3D",
        "outputId": "46e5328a-442c-4cf7-dff0-62e5cd1687a7"
      },
      "execution_count": 90,
      "outputs": [
        {
          "output_type": "execute_result",
          "data": {
            "text/plain": [
              "[array([[ 0.49671415, -0.1382643 ],\n",
              "        [ 0.64768854,  1.52302986],\n",
              "        [-0.23415337, -0.23413696]]),\n",
              " array([[1.57921282, 0.76743473]])]"
            ]
          },
          "metadata": {},
          "execution_count": 90
        }
      ]
    },
    {
      "cell_type": "code",
      "source": [
        "d_out = np.random.randn(4,2)\n",
        "d_out"
      ],
      "metadata": {
        "colab": {
          "base_uri": "https://localhost:8080/"
        },
        "id": "xCQNqSzRZY5e",
        "outputId": "589a548f-5bcc-4788-91ea-d2e07098a0c7"
      },
      "execution_count": 91,
      "outputs": [
        {
          "output_type": "execute_result",
          "data": {
            "text/plain": [
              "array([[-0.46947439,  0.54256004],\n",
              "       [-0.46341769, -0.46572975],\n",
              "       [ 0.24196227, -1.91328024],\n",
              "       [-1.72491783, -0.56228753]])"
            ]
          },
          "metadata": {},
          "execution_count": 91
        }
      ]
    },
    {
      "cell_type": "code",
      "source": [
        "couche.backward(d_out)"
      ],
      "metadata": {
        "colab": {
          "base_uri": "https://localhost:8080/"
        },
        "id": "XFMF4QHxZxUD",
        "outputId": "674915d3-34af-4711-e8d1-fcff818a9913"
      },
      "execution_count": 92,
      "outputs": [
        {
          "output_type": "execute_result",
          "data": {
            "text/plain": [
              "array([[-0.00187061,  0.00120335,  0.00024173],\n",
              "       [-0.00018133, -0.00048599,  0.00012933],\n",
              "       [ 0.03497832, -0.02397904, -0.00426045],\n",
              "       [-0.0169224 , -0.02262434,  0.00807543]])"
            ]
          },
          "metadata": {},
          "execution_count": 92
        }
      ]
    },
    {
      "cell_type": "code",
      "source": [],
      "metadata": {
        "id": "_bBsL3ObaS0N"
      },
      "execution_count": null,
      "outputs": []
    },
    {
      "cell_type": "code",
      "source": [
        "couche.suite"
      ],
      "metadata": {
        "colab": {
          "base_uri": "https://localhost:8080/"
        },
        "id": "51wtV4cSaLFm",
        "outputId": "0a1c13b3-82cc-4253-df6d-1eb3076236a8"
      },
      "execution_count": 93,
      "outputs": [
        {
          "output_type": "execute_result",
          "data": {
            "text/plain": [
              "[Dot Product, Add Biais, Sigmoid]"
            ]
          },
          "metadata": {},
          "execution_count": 93
        }
      ]
    },
    {
      "cell_type": "markdown",
      "source": [
        "# La classe Model"
      ],
      "metadata": {
        "id": "8VqjR6UVfWf-"
      }
    },
    {
      "cell_type": "code",
      "source": [
        "class Model():\n",
        "\n",
        "  def __init__(self, layers):\n",
        "    self.layers = layers\n",
        "\n",
        "  def forward(self, inputs):\n",
        "    for layer in self.layers:\n",
        "      inputs = layer.forward(inputs)\n",
        "    self.output = inputs\n",
        "    return self.output\n",
        "\n",
        "\n",
        "  def backward(self, loss_derivee):\n",
        "    assert loss_derivee.shape == self.output.shape\n",
        "\n",
        "    for layer in reversed(self.layers):\n",
        "      loss_derivee = layer.backward(loss_derivee)\n",
        "\n",
        "    return loss_derivee\n",
        "\n",
        "  def __repr__(self):\n",
        "    r = \"Layers .................\"\n",
        "    for layer in self.layers:\n",
        "      r+=f\" \\n {str(layer)}\"\n",
        "    return r"
      ],
      "metadata": {
        "id": "OGMux3TXaLOP"
      },
      "execution_count": 106,
      "outputs": []
    },
    {
      "cell_type": "code",
      "source": [
        "model = Model(layers = [\n",
        "    Dense(neurons = 3, activation = sigmoid),\n",
        "    Dense(neurons = 1)\n",
        "    ])"
      ],
      "metadata": {
        "id": "Wp5ylEL6gE0v"
      },
      "execution_count": 107,
      "outputs": []
    },
    {
      "cell_type": "code",
      "source": [
        "model"
      ],
      "metadata": {
        "colab": {
          "base_uri": "https://localhost:8080/"
        },
        "id": "JfRw4tpPhqCI",
        "outputId": "93175223-363b-4fb6-f9bf-8e8d46976846"
      },
      "execution_count": 108,
      "outputs": [
        {
          "output_type": "execute_result",
          "data": {
            "text/plain": [
              "Layers ................. \n",
              " Dense Layer(neurons = 3) avec Sigmoid \n",
              " Dense Layer(neurons = 1)"
            ]
          },
          "metadata": {},
          "execution_count": 108
        }
      ]
    },
    {
      "cell_type": "code",
      "source": [
        "Y"
      ],
      "metadata": {
        "colab": {
          "base_uri": "https://localhost:8080/"
        },
        "id": "WHuFdCgzhqxn",
        "outputId": "b94de38a-7206-4c44-c9ff-f4127d4b9e9b"
      },
      "execution_count": 101,
      "outputs": [
        {
          "output_type": "execute_result",
          "data": {
            "text/plain": [
              "array([[-1.44202839],\n",
              "       [-1.08312131],\n",
              "       [ 0.30588018],\n",
              "       [-1.61360313]])"
            ]
          },
          "metadata": {},
          "execution_count": 101
        }
      ]
    },
    {
      "cell_type": "code",
      "source": [
        "model.forward(X)"
      ],
      "metadata": {
        "colab": {
          "base_uri": "https://localhost:8080/"
        },
        "id": "KSFaxmQghyHi",
        "outputId": "2622b541-a571-4b00-9a46-3727a6d684bb"
      },
      "execution_count": 109,
      "outputs": [
        {
          "output_type": "execute_result",
          "data": {
            "text/plain": [
              "array([[2.47005633],\n",
              "       [2.53479834],\n",
              "       [1.89807891],\n",
              "       [1.92678186]])"
            ]
          },
          "metadata": {},
          "execution_count": 109
        }
      ]
    },
    {
      "cell_type": "code",
      "source": [
        "loss_derivee = np.random.randn(4,1)\n",
        "loss_derivee"
      ],
      "metadata": {
        "colab": {
          "base_uri": "https://localhost:8080/"
        },
        "id": "P9mVLVNwh2QC",
        "outputId": "2e8e5655-e313-4ee5-dcc3-9f8e897a45db"
      },
      "execution_count": 110,
      "outputs": [
        {
          "output_type": "execute_result",
          "data": {
            "text/plain": [
              "array([[-0.23415337],\n",
              "       [-0.23413696],\n",
              "       [ 1.57921282],\n",
              "       [ 0.76743473]])"
            ]
          },
          "metadata": {},
          "execution_count": 110
        }
      ]
    },
    {
      "cell_type": "code",
      "source": [
        "model.backward(loss_derivee)"
      ],
      "metadata": {
        "colab": {
          "base_uri": "https://localhost:8080/"
        },
        "id": "WuGpEblMiOVA",
        "outputId": "1a5e22e6-70d0-405e-8fd2-e4dda2cf1be3"
      },
      "execution_count": 111,
      "outputs": [
        {
          "output_type": "execute_result",
          "data": {
            "text/plain": [
              "array([[-0.02166009, -0.00198156,  0.00600408],\n",
              "       [-0.01558369,  0.00516281,  0.01226937],\n",
              "       [ 0.00662474,  0.0076687 , -0.01500028],\n",
              "       [ 0.01131573,  0.00059134, -0.01919523]])"
            ]
          },
          "metadata": {},
          "execution_count": 111
        }
      ]
    },
    {
      "cell_type": "markdown",
      "source": [
        "# Update des paramètres"
      ],
      "metadata": {
        "id": "T_vlCSm-i2w_"
      }
    },
    {
      "cell_type": "code",
      "source": [],
      "metadata": {
        "id": "Yx8anvWHiPrQ"
      },
      "execution_count": null,
      "outputs": []
    }
  ]
}