{
  "nbformat": 4,
  "nbformat_minor": 0,
  "metadata": {
    "colab": {
      "provenance": [],
      "authorship_tag": "ABX9TyMqrhM2TJFOkM2GtyXCqUoW",
      "include_colab_link": true
    },
    "kernelspec": {
      "name": "python3",
      "display_name": "Python 3"
    },
    "language_info": {
      "name": "python"
    }
  },
  "cells": [
    {
      "cell_type": "markdown",
      "metadata": {
        "id": "view-in-github",
        "colab_type": "text"
      },
      "source": [
        "<a href=\"https://colab.research.google.com/github/The237/DeepLearningCourses/blob/main/01_02_D%C3%A9riv%C3%A9e_d'une_fonction.ipynb\" target=\"_parent\"><img src=\"https://colab.research.google.com/assets/colab-badge.svg\" alt=\"Open In Colab\"/></a>"
      ]
    },
    {
      "cell_type": "markdown",
      "source": [
        "# La dévirée d'une fonction"
      ],
      "metadata": {
        "id": "vgOj8Uvepekg"
      }
    },
    {
      "cell_type": "code",
      "execution_count": 1,
      "metadata": {
        "id": "1P_vhghupduK"
      },
      "outputs": [],
      "source": [
        "def carre(x):\n",
        "  return x**2"
      ]
    },
    {
      "cell_type": "code",
      "source": [
        "def derivee(fonction, point, pas = 0.000001):\n",
        "  variation = fonction(point + pas) - fonction(point)\n",
        "  taux = variation/pas\n",
        "  return taux"
      ],
      "metadata": {
        "id": "YGsLRDICqgyR"
      },
      "execution_count": 11,
      "outputs": []
    },
    {
      "cell_type": "code",
      "source": [
        "f(3.0001)"
      ],
      "metadata": {
        "colab": {
          "base_uri": "https://localhost:8080/"
        },
        "id": "ObsqMrS9qNl2",
        "outputId": "7a3da2f3-a9ef-4b30-dd50-e35164ae0140"
      },
      "execution_count": 2,
      "outputs": [
        {
          "output_type": "execute_result",
          "data": {
            "text/plain": [
              "9.000600010000001"
            ]
          },
          "metadata": {},
          "execution_count": 2
        }
      ]
    },
    {
      "cell_type": "code",
      "source": [
        "f(3)"
      ],
      "metadata": {
        "colab": {
          "base_uri": "https://localhost:8080/"
        },
        "id": "5QNnWF-2qNox",
        "outputId": "70980781-e896-40e0-92f2-c8fb6d323415"
      },
      "execution_count": 3,
      "outputs": [
        {
          "output_type": "execute_result",
          "data": {
            "text/plain": [
              "9"
            ]
          },
          "metadata": {},
          "execution_count": 3
        }
      ]
    },
    {
      "cell_type": "code",
      "source": [
        "(f(3.0001) - f(3))/.0001"
      ],
      "metadata": {
        "colab": {
          "base_uri": "https://localhost:8080/"
        },
        "id": "tWnzQv_-qNsT",
        "outputId": "d74224a3-8dc6-4107-d6de-7bee22ed0f5d"
      },
      "execution_count": 5,
      "outputs": [
        {
          "output_type": "execute_result",
          "data": {
            "text/plain": [
              "6.000100000012054"
            ]
          },
          "metadata": {},
          "execution_count": 5
        }
      ]
    },
    {
      "cell_type": "code",
      "source": [
        "derivee(f,3,.00001)"
      ],
      "metadata": {
        "colab": {
          "base_uri": "https://localhost:8080/"
        },
        "id": "_MGGcFOPqNvP",
        "outputId": "d395a4e4-8608-47b6-c36e-2af08f6cf6e3"
      },
      "execution_count": 9,
      "outputs": [
        {
          "output_type": "execute_result",
          "data": {
            "text/plain": [
              "6.000009999951316"
            ]
          },
          "metadata": {},
          "execution_count": 9
        }
      ]
    },
    {
      "cell_type": "code",
      "source": [
        "def g(x):\n",
        "  return 3*x**3"
      ],
      "metadata": {
        "id": "2tUPIbHcq75U"
      },
      "execution_count": 10,
      "outputs": []
    },
    {
      "cell_type": "code",
      "source": [
        "derivee(g,3,.00001)"
      ],
      "metadata": {
        "colab": {
          "base_uri": "https://localhost:8080/"
        },
        "id": "Z5v9tnrEr1QW",
        "outputId": "caf57d5a-cda3-470d-d9b3-af0924ecb11e"
      },
      "execution_count": 11,
      "outputs": [
        {
          "output_type": "execute_result",
          "data": {
            "text/plain": [
              "81.00027000068621"
            ]
          },
          "metadata": {},
          "execution_count": 11
        }
      ]
    },
    {
      "cell_type": "code",
      "source": [
        "def double(x):\n",
        "  return 2*x"
      ],
      "metadata": {
        "id": "dl0QsZ4IxAE4"
      },
      "execution_count": 2,
      "outputs": []
    },
    {
      "cell_type": "code",
      "source": [
        "def compose(x):\n",
        "  temp = double(x)\n",
        "  r = carre(temp)\n",
        "  return r"
      ],
      "metadata": {
        "id": "mUkOf-zVxClF"
      },
      "execution_count": 8,
      "outputs": []
    },
    {
      "cell_type": "code",
      "source": [
        "compose(3)"
      ],
      "metadata": {
        "colab": {
          "base_uri": "https://localhost:8080/"
        },
        "id": "BmGCCeomxDAI",
        "outputId": "045a4422-40d4-4254-f4c3-b9d7d4e2ca9f"
      },
      "execution_count": 9,
      "outputs": [
        {
          "output_type": "execute_result",
          "data": {
            "text/plain": [
              "36"
            ]
          },
          "metadata": {},
          "execution_count": 9
        }
      ]
    },
    {
      "cell_type": "code",
      "source": [
        "derivee(double,3)*derivee(carre,6)"
      ],
      "metadata": {
        "colab": {
          "base_uri": "https://localhost:8080/"
        },
        "id": "waCr4xaFxDcG",
        "outputId": "b5e3aba3-cac0-457e-c43a-c6d8b5b7158d"
      },
      "execution_count": 12,
      "outputs": [
        {
          "output_type": "execute_result",
          "data": {
            "text/plain": [
              "24.00000200333443"
            ]
          },
          "metadata": {},
          "execution_count": 12
        }
      ]
    },
    {
      "cell_type": "code",
      "source": [
        "derivee(compose,3)"
      ],
      "metadata": {
        "colab": {
          "base_uri": "https://localhost:8080/"
        },
        "id": "jD2kWPM41RXl",
        "outputId": "836c0cc9-e034-48fd-801f-211db9205add"
      },
      "execution_count": 13,
      "outputs": [
        {
          "output_type": "execute_result",
          "data": {
            "text/plain": [
              "24.000004003710274"
            ]
          },
          "metadata": {},
          "execution_count": 13
        }
      ]
    },
    {
      "cell_type": "code",
      "source": [
        "def triple_carre(x):\n",
        "  return 3*x**2"
      ],
      "metadata": {
        "id": "0966336y14Hi"
      },
      "execution_count": 14,
      "outputs": []
    },
    {
      "cell_type": "code",
      "source": [
        "temp1 = double(3)\n",
        "temp2 = carre(temp1)"
      ],
      "metadata": {
        "id": "MnyUInF440zm"
      },
      "execution_count": 15,
      "outputs": []
    },
    {
      "cell_type": "code",
      "source": [
        "derivee(triple_carre, temp2) * derivee(carre, temp1) * derivee(double, 3)"
      ],
      "metadata": {
        "colab": {
          "base_uri": "https://localhost:8080/"
        },
        "id": "cLf-xLbm4041",
        "outputId": "a75f1119-5c60-40bf-9d4e-16487f287136"
      },
      "execution_count": 16,
      "outputs": [
        {
          "output_type": "execute_result",
          "data": {
            "text/plain": [
              "5184.000485115518"
            ]
          },
          "metadata": {},
          "execution_count": 16
        }
      ]
    },
    {
      "cell_type": "code",
      "source": [
        "def compose2(x):\n",
        "  temp1 = double(x)\n",
        "  temp2 = carre(temp1)\n",
        "  return triple_carre(temp2)"
      ],
      "metadata": {
        "id": "nQhih6A14094"
      },
      "execution_count": 17,
      "outputs": []
    },
    {
      "cell_type": "code",
      "source": [
        "derivee(compose2, 3)"
      ],
      "metadata": {
        "colab": {
          "base_uri": "https://localhost:8080/"
        },
        "id": "d52Hq3zu10rO",
        "outputId": "e0218726-6b20-4e3f-be4b-4cef81d0a736"
      },
      "execution_count": 19,
      "outputs": [
        {
          "output_type": "execute_result",
          "data": {
            "text/plain": [
              "5184.002592613979"
            ]
          },
          "metadata": {},
          "execution_count": 19
        }
      ]
    },
    {
      "cell_type": "code",
      "source": [
        "def chain_rule(chaine, point, pas = 0.000001):\n",
        "  f = chaine[0]\n",
        "  g = chaine[1]\n",
        "  h = chaine[2]\n",
        "\n",
        "  # forward pass\n",
        "  f_point = f(point)\n",
        "  g_point = g(f_point)\n",
        "\n",
        "  # backward pass\n",
        "  df_dx = derivee(f,point)\n",
        "  dg_dx = derivee(g, f_point)\n",
        "  dh_dx = derivee(h, g_point)\n",
        "\n",
        "  return df_dx * dg_dx * dh_dx"
      ],
      "metadata": {
        "id": "xYvOceAS7cHY"
      },
      "execution_count": 21,
      "outputs": []
    },
    {
      "cell_type": "code",
      "source": [
        "chain_rule([double, carre, triple_carre],3)"
      ],
      "metadata": {
        "colab": {
          "base_uri": "https://localhost:8080/"
        },
        "id": "HbKrUDUN7cUF",
        "outputId": "b3dc2913-7f53-4144-eb89-51de1c98e849"
      },
      "execution_count": 22,
      "outputs": [
        {
          "output_type": "execute_result",
          "data": {
            "text/plain": [
              "5184.000485115518"
            ]
          },
          "metadata": {},
          "execution_count": 22
        }
      ]
    },
    {
      "cell_type": "code",
      "source": [
        "def t(x):\n",
        "  return x**2 - 8"
      ],
      "metadata": {
        "id": "6hE0rVVF85k2"
      },
      "execution_count": 23,
      "outputs": []
    }
  ]
}