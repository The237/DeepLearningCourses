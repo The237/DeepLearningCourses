{
  "nbformat": 4,
  "nbformat_minor": 0,
  "metadata": {
    "colab": {
      "provenance": [],
      "authorship_tag": "ABX9TyMtQ0mWF+O3275AUz4Q1+kH",
      "include_colab_link": true
    },
    "kernelspec": {
      "name": "python3",
      "display_name": "Python 3"
    },
    "language_info": {
      "name": "python"
    }
  },
  "cells": [
    {
      "cell_type": "markdown",
      "metadata": {
        "id": "view-in-github",
        "colab_type": "text"
      },
      "source": [
        "<a href=\"https://colab.research.google.com/github/The237/DeepLearningCourses/blob/main/02_02_Le_vrai_tensorflow.ipynb\" target=\"_parent\"><img src=\"https://colab.research.google.com/assets/colab-badge.svg\" alt=\"Open In Colab\"/></a>"
      ]
    },
    {
      "cell_type": "markdown",
      "source": [
        "# Test sur le Boston dataset avec le vrai Tensorflow"
      ],
      "metadata": {
        "id": "9Rwcc5DygW37"
      }
    },
    {
      "cell_type": "code",
      "execution_count": 1,
      "metadata": {
        "id": "zbgyJY5WfwOk"
      },
      "outputs": [],
      "source": [
        "import pandas as pd\n",
        "import numpy as np\n",
        "\n",
        "data_url = \"http://lib.stat.cmu.edu/datasets/boston\"\n",
        "raw_df = pd.read_csv(data_url, sep=\"\\s+\", skiprows=22, header=None)\n",
        "data = np.hstack([raw_df.values[::2, :], raw_df.values[1::2, :2]])\n",
        "target = raw_df.values[1::2, 2]\n",
        "data = data\n",
        "target = target\n",
        "\n",
        "X = data\n",
        "Y = target.reshape((506, 1))\n",
        "\n",
        "from sklearn.model_selection import train_test_split\n",
        "X_train, X_test, y_train, y_test = train_test_split(X, Y, test_size=0.25, random_state=0)\n",
        "\n",
        "from sklearn.preprocessing import StandardScaler\n",
        "scaler = StandardScaler()\n",
        "X_train = scaler.fit_transform(X_train)\n",
        "X_test = scaler.transform(X_test)"
      ]
    },
    {
      "cell_type": "code",
      "source": [
        "from tensorflow.keras import Sequential\n",
        "from tensorflow.keras.layers import Dense\n",
        "from tensorflow.keras.optimizers import SGD"
      ],
      "metadata": {
        "id": "7G35JpcWgKd_"
      },
      "execution_count": 2,
      "outputs": []
    },
    {
      "cell_type": "code",
      "source": [
        "model = Sequential([\n",
        "    Dense(units = 13, activation = \"sigmoid\"),\n",
        "    Dense(units = 8, activation = \"sigmoid\"),\n",
        "    Dense(units = 5, activation = \"sigmoid\"),\n",
        "    Dense(units = 1)\n",
        "  ]\n",
        ")\n",
        "model.compile(loss = \"mse\", optimizer = SGD(learning_rate = .01))"
      ],
      "metadata": {
        "id": "21hmJMGxjoZa"
      },
      "execution_count": 8,
      "outputs": []
    },
    {
      "cell_type": "code",
      "source": [
        "h = model.fit(X_train, y_train, epochs = 20, validation_data = (X_test,y_test))"
      ],
      "metadata": {
        "colab": {
          "base_uri": "https://localhost:8080/"
        },
        "id": "bcpc-7lhkABR",
        "outputId": "ec9f197c-d30c-4bee-f697-e1fa034f8173"
      },
      "execution_count": 9,
      "outputs": [
        {
          "output_type": "stream",
          "name": "stdout",
          "text": [
            "Epoch 1/20\n",
            "12/12 [==============================] - 1s 19ms/step - loss: 353.6419 - val_loss: 140.6895\n",
            "Epoch 2/20\n",
            "12/12 [==============================] - 0s 4ms/step - loss: 107.5995 - val_loss: 83.0906\n",
            "Epoch 3/20\n",
            "12/12 [==============================] - 0s 6ms/step - loss: 85.8816 - val_loss: 80.8578\n",
            "Epoch 4/20\n",
            "12/12 [==============================] - 0s 4ms/step - loss: 84.2168 - val_loss: 80.4543\n",
            "Epoch 5/20\n",
            "12/12 [==============================] - 0s 6ms/step - loss: 83.5354 - val_loss: 80.2210\n",
            "Epoch 6/20\n",
            "12/12 [==============================] - 0s 6ms/step - loss: 82.7819 - val_loss: 79.0014\n",
            "Epoch 7/20\n",
            "12/12 [==============================] - 0s 6ms/step - loss: 80.9430 - val_loss: 77.4689\n",
            "Epoch 8/20\n",
            "12/12 [==============================] - 0s 5ms/step - loss: 78.1088 - val_loss: 74.8688\n",
            "Epoch 9/20\n",
            "12/12 [==============================] - 0s 6ms/step - loss: 72.8278 - val_loss: 70.1581\n",
            "Epoch 10/20\n",
            "12/12 [==============================] - 0s 6ms/step - loss: 64.7920 - val_loss: 64.4898\n",
            "Epoch 11/20\n",
            "12/12 [==============================] - 0s 5ms/step - loss: 55.1693 - val_loss: 60.5858\n",
            "Epoch 12/20\n",
            "12/12 [==============================] - 0s 5ms/step - loss: 46.7921 - val_loss: 54.4475\n",
            "Epoch 13/20\n",
            "12/12 [==============================] - 0s 5ms/step - loss: 40.3244 - val_loss: 49.1950\n",
            "Epoch 14/20\n",
            "12/12 [==============================] - 0s 6ms/step - loss: 35.5263 - val_loss: 44.1922\n",
            "Epoch 15/20\n",
            "12/12 [==============================] - 0s 5ms/step - loss: 31.3546 - val_loss: 41.4296\n",
            "Epoch 16/20\n",
            "12/12 [==============================] - 0s 4ms/step - loss: 28.6009 - val_loss: 38.3509\n",
            "Epoch 17/20\n",
            "12/12 [==============================] - 0s 4ms/step - loss: 26.4345 - val_loss: 37.4210\n",
            "Epoch 18/20\n",
            "12/12 [==============================] - 0s 6ms/step - loss: 24.6987 - val_loss: 35.7880\n",
            "Epoch 19/20\n",
            "12/12 [==============================] - 0s 5ms/step - loss: 23.6167 - val_loss: 34.7984\n",
            "Epoch 20/20\n",
            "12/12 [==============================] - 0s 4ms/step - loss: 22.1604 - val_loss: 32.2606\n"
          ]
        }
      ]
    },
    {
      "cell_type": "code",
      "source": [
        "h.history"
      ],
      "metadata": {
        "colab": {
          "base_uri": "https://localhost:8080/"
        },
        "id": "4X-twrZLkBeT",
        "outputId": "309f8897-9b18-492c-91ed-bbb0a1c67af8"
      },
      "execution_count": 12,
      "outputs": [
        {
          "output_type": "execute_result",
          "data": {
            "text/plain": [
              "{'loss': [353.6418762207031,\n",
              "  107.59945678710938,\n",
              "  85.88162231445312,\n",
              "  84.21678924560547,\n",
              "  83.53536224365234,\n",
              "  82.78193664550781,\n",
              "  80.94295501708984,\n",
              "  78.10884094238281,\n",
              "  72.82781219482422,\n",
              "  64.79195404052734,\n",
              "  55.16934585571289,\n",
              "  46.79206085205078,\n",
              "  40.32444381713867,\n",
              "  35.5262565612793,\n",
              "  31.354578018188477,\n",
              "  28.600852966308594,\n",
              "  26.434450149536133,\n",
              "  24.69867515563965,\n",
              "  23.616697311401367,\n",
              "  22.160367965698242],\n",
              " 'val_loss': [140.68948364257812,\n",
              "  83.0905532836914,\n",
              "  80.8577880859375,\n",
              "  80.45425415039062,\n",
              "  80.2209701538086,\n",
              "  79.00141906738281,\n",
              "  77.46891021728516,\n",
              "  74.86878967285156,\n",
              "  70.15807342529297,\n",
              "  64.48978424072266,\n",
              "  60.58578109741211,\n",
              "  54.447486877441406,\n",
              "  49.19499206542969,\n",
              "  44.19218063354492,\n",
              "  41.42960739135742,\n",
              "  38.35093688964844,\n",
              "  37.42095947265625,\n",
              "  35.78799057006836,\n",
              "  34.798431396484375,\n",
              "  32.26060485839844]}"
            ]
          },
          "metadata": {},
          "execution_count": 12
        }
      ]
    },
    {
      "cell_type": "code",
      "source": [
        "import matplotlib.pyplot as plt\n",
        "\n",
        "def plot_learning_curve(history):\n",
        "  plt.plot(list(range(len(history[\"loss\"]))), history[\"loss\"])\n",
        "  plt.plot(list(range(len(history[\"val_loss\"]))), history[\"val_loss\"])\n",
        "  plt.xlabel(\"Epochs\")\n",
        "  plt.ylabel(\"Loss\")\n",
        "  plt.title(\"Learning Curve\")\n",
        "  plt.show()"
      ],
      "metadata": {
        "id": "JwZfdOi9kjtG"
      },
      "execution_count": 13,
      "outputs": []
    },
    {
      "cell_type": "code",
      "source": [
        "plot_learning_curve(h.history)"
      ],
      "metadata": {
        "colab": {
          "base_uri": "https://localhost:8080/",
          "height": 472
        },
        "id": "ofEMrRGXlYZx",
        "outputId": "93e4399d-81b9-424a-a938-cf5e38dab5cb"
      },
      "execution_count": 14,
      "outputs": [
        {
          "output_type": "display_data",
          "data": {
            "text/plain": [
              "<Figure size 640x480 with 1 Axes>"
            ],
            "image/png": "[encoded data removed]"
          },
          "metadata": {}
        }
      ]
    },
    {
      "cell_type": "code",
      "source": [
        "model.summary()"
      ],
      "metadata": {
        "colab": {
          "base_uri": "https://localhost:8080/"
        },
        "id": "Rw4UqivelaY4",
        "outputId": "d1cd95b3-13f4-4be5-e819-04f76d757726"
      },
      "execution_count": 15,
      "outputs": [
        {
          "output_type": "stream",
          "name": "stdout",
          "text": [
            "Model: \"sequential_3\"\n",
            "_________________________________________________________________\n",
            " Layer (type)                Output Shape              Param #   \n",
            "=================================================================\n",
            " dense_12 (Dense)            (None, 13)                182       \n",
            "                                                                 \n",
            " dense_13 (Dense)            (None, 8)                 112       \n",
            "                                                                 \n",
            " dense_14 (Dense)            (None, 5)                 45        \n",
            "                                                                 \n",
            " dense_15 (Dense)            (None, 1)                 6         \n",
            "                                                                 \n",
            "=================================================================\n",
            "Total params: 345 (1.35 KB)\n",
            "Trainable params: 345 (1.35 KB)\n",
            "Non-trainable params: 0 (0.00 Byte)\n",
            "_________________________________________________________________\n"
          ]
        }
      ]
    },
    {
      "cell_type": "code",
      "source": [
        "model.save(\"model.h5\")"
      ],
      "metadata": {
        "colab": {
          "base_uri": "https://localhost:8080/"
        },
        "id": "2RBifuDjoues",
        "outputId": "264436f9-2758-4a24-b921-249aab2d8d33"
      },
      "execution_count": 16,
      "outputs": [
        {
          "output_type": "stream",
          "name": "stderr",
          "text": [
            "/usr/local/lib/python3.10/dist-packages/keras/src/engine/training.py:3000: UserWarning: You are saving your model as an HDF5 file via `model.save()`. This file format is considered legacy. We recommend using instead the native Keras format, e.g. `model.save('my_model.keras')`.\n",
            "  saving_api.save_model(\n"
          ]
        }
      ]
    },
    {
      "cell_type": "code",
      "source": [
        "from tensorflow.keras.models import load_model"
      ],
      "metadata": {
        "id": "VFSg5plvpr67"
      },
      "execution_count": 17,
      "outputs": []
    },
    {
      "cell_type": "code",
      "source": [
        "new_model = load_model(\"model.h5\")"
      ],
      "metadata": {
        "id": "JFia0JGtpvi0"
      },
      "execution_count": 18,
      "outputs": []
    },
    {
      "cell_type": "code",
      "source": [
        "new_model.summary()"
      ],
      "metadata": {
        "colab": {
          "base_uri": "https://localhost:8080/"
        },
        "id": "GZdJwHPHqBN5",
        "outputId": "1c183334-6c0b-4823-9759-a1c1ffe1dae4"
      },
      "execution_count": 19,
      "outputs": [
        {
          "output_type": "stream",
          "name": "stdout",
          "text": [
            "Model: \"sequential_3\"\n",
            "_________________________________________________________________\n",
            " Layer (type)                Output Shape              Param #   \n",
            "=================================================================\n",
            " dense_12 (Dense)            (None, 13)                182       \n",
            "                                                                 \n",
            " dense_13 (Dense)            (None, 8)                 112       \n",
            "                                                                 \n",
            " dense_14 (Dense)            (None, 5)                 45        \n",
            "                                                                 \n",
            " dense_15 (Dense)            (None, 1)                 6         \n",
            "                                                                 \n",
            "=================================================================\n",
            "Total params: 345 (1.35 KB)\n",
            "Trainable params: 345 (1.35 KB)\n",
            "Non-trainable params: 0 (0.00 Byte)\n",
            "_________________________________________________________________\n"
          ]
        }
      ]
    },
    {
      "cell_type": "code",
      "source": [
        "P = new_model.predict(X_test)"
      ],
      "metadata": {
        "colab": {
          "base_uri": "https://localhost:8080/"
        },
        "id": "ZMK2gQhuqSM7",
        "outputId": "43845b54-8cc8-4aa5-ceaa-f0bc9075ff86"
      },
      "execution_count": 20,
      "outputs": [
        {
          "output_type": "stream",
          "name": "stdout",
          "text": [
            "4/4 [==============================] - 0s 5ms/step\n"
          ]
        }
      ]
    },
    {
      "cell_type": "code",
      "source": [
        "P"
      ],
      "metadata": {
        "colab": {
          "base_uri": "https://localhost:8080/"
        },
        "id": "WkJ3HGY_qXdP",
        "outputId": "e5c62771-ce20-4658-cd43-041cc963ce70"
      },
      "execution_count": 21,
      "outputs": [
        {
          "output_type": "execute_result",
          "data": {
            "text/plain": [
              "array([[26.092907 ],\n",
              "       [21.85991  ],\n",
              "       [28.294216 ],\n",
              "       [13.756912 ],\n",
              "       [20.05635  ],\n",
              "       [19.36753  ],\n",
              "       [19.55431  ],\n",
              "       [20.33152  ],\n",
              "       [16.913977 ],\n",
              "       [18.210077 ],\n",
              "       [13.180546 ],\n",
              "       [14.385462 ],\n",
              "       [16.678665 ],\n",
              "       [13.319356 ],\n",
              "       [35.000954 ],\n",
              "       [31.25652  ],\n",
              "       [21.181252 ],\n",
              "       [33.487904 ],\n",
              "       [31.800587 ],\n",
              "       [21.99968  ],\n",
              "       [25.494251 ],\n",
              "       [20.42564  ],\n",
              "       [19.177343 ],\n",
              "       [28.723114 ],\n",
              "       [20.10717  ],\n",
              "       [13.8457365],\n",
              "       [17.023323 ],\n",
              "       [17.204933 ],\n",
              "       [34.874428 ],\n",
              "       [18.645222 ],\n",
              "       [15.9917555],\n",
              "       [17.507545 ],\n",
              "       [19.128265 ],\n",
              "       [20.547997 ],\n",
              "       [29.089245 ],\n",
              "       [20.427456 ],\n",
              "       [13.616369 ],\n",
              "       [25.484821 ],\n",
              "       [15.228462 ],\n",
              "       [14.790735 ],\n",
              "       [23.893417 ],\n",
              "       [18.528557 ],\n",
              "       [22.648842 ],\n",
              "       [14.847202 ],\n",
              "       [25.527626 ],\n",
              "       [24.09737  ],\n",
              "       [17.68391  ],\n",
              "       [22.729305 ],\n",
              "       [14.299908 ],\n",
              "       [26.054882 ],\n",
              "       [19.20174  ],\n",
              "       [17.105639 ],\n",
              "       [21.868206 ],\n",
              "       [33.257896 ],\n",
              "       [15.029712 ],\n",
              "       [18.936869 ],\n",
              "       [18.488258 ],\n",
              "       [17.060982 ],\n",
              "       [13.498802 ],\n",
              "       [19.793839 ],\n",
              "       [18.850979 ],\n",
              "       [19.885765 ],\n",
              "       [32.452614 ],\n",
              "       [31.954063 ],\n",
              "       [15.892493 ],\n",
              "       [31.943253 ],\n",
              "       [18.26376  ],\n",
              "       [17.238205 ],\n",
              "       [15.430182 ],\n",
              "       [21.005089 ],\n",
              "       [20.907902 ],\n",
              "       [23.293644 ],\n",
              "       [27.976437 ],\n",
              "       [30.360645 ],\n",
              "       [27.216125 ],\n",
              "       [13.31852  ],\n",
              "       [35.0598   ],\n",
              "       [22.149391 ],\n",
              "       [27.419338 ],\n",
              "       [18.21338  ],\n",
              "       [27.768215 ],\n",
              "       [18.828709 ],\n",
              "       [16.340164 ],\n",
              "       [35.128452 ],\n",
              "       [35.240314 ],\n",
              "       [24.5503   ],\n",
              "       [22.942055 ],\n",
              "       [14.624151 ],\n",
              "       [27.37218  ],\n",
              "       [16.32442  ],\n",
              "       [16.443316 ],\n",
              "       [14.299385 ],\n",
              "       [22.066895 ],\n",
              "       [30.074669 ],\n",
              "       [21.575054 ],\n",
              "       [19.7886   ],\n",
              "       [13.219392 ],\n",
              "       [24.007961 ],\n",
              "       [15.434722 ],\n",
              "       [16.938839 ],\n",
              "       [24.401295 ],\n",
              "       [21.97438  ],\n",
              "       [32.651787 ],\n",
              "       [20.468872 ],\n",
              "       [26.319294 ],\n",
              "       [20.90514  ],\n",
              "       [13.296556 ],\n",
              "       [15.679599 ],\n",
              "       [21.501312 ],\n",
              "       [27.305511 ],\n",
              "       [32.75466  ],\n",
              "       [14.079433 ],\n",
              "       [17.359478 ],\n",
              "       [18.401423 ],\n",
              "       [14.442799 ],\n",
              "       [21.747406 ],\n",
              "       [13.352852 ],\n",
              "       [19.846697 ],\n",
              "       [13.744296 ],\n",
              "       [34.57564  ],\n",
              "       [31.020187 ],\n",
              "       [14.280739 ],\n",
              "       [16.476818 ],\n",
              "       [20.368698 ],\n",
              "       [21.792892 ],\n",
              "       [16.83354  ],\n",
              "       [33.956375 ]], dtype=float32)"
            ]
          },
          "metadata": {},
          "execution_count": 21
        }
      ]
    },
    {
      "cell_type": "code",
      "source": [
        "new_model.evaluate(X_test, y_test)"
      ],
      "metadata": {
        "colab": {
          "base_uri": "https://localhost:8080/"
        },
        "id": "Y0AZw2Bkqasp",
        "outputId": "c66fb743-9b32-4557-dff6-a69c35dc49e7"
      },
      "execution_count": 22,
      "outputs": [
        {
          "output_type": "stream",
          "name": "stdout",
          "text": [
            "4/4 [==============================] - 0s 5ms/step - loss: 32.2606\n"
          ]
        },
        {
          "output_type": "execute_result",
          "data": {
            "text/plain": [
              "32.26060485839844"
            ]
          },
          "metadata": {},
          "execution_count": 22
        }
      ]
    },
    {
      "cell_type": "code",
      "source": [
        "new_model.evaluate(X_train, y_train)"
      ],
      "metadata": {
        "colab": {
          "base_uri": "https://localhost:8080/"
        },
        "id": "zwjfqidWrNHL",
        "outputId": "566281cc-6605-4c4a-9ee7-27007a9692fd"
      },
      "execution_count": 23,
      "outputs": [
        {
          "output_type": "stream",
          "name": "stdout",
          "text": [
            "12/12 [==============================] - 0s 2ms/step - loss: 21.1281\n"
          ]
        },
        {
          "output_type": "execute_result",
          "data": {
            "text/plain": [
              "21.128141403198242"
            ]
          },
          "metadata": {},
          "execution_count": 23
        }
      ]
    },
    {
      "cell_type": "code",
      "source": [],
      "metadata": {
        "id": "L5566aevrPSm"
      },
      "execution_count": null,
      "outputs": []
    }
  ]
}