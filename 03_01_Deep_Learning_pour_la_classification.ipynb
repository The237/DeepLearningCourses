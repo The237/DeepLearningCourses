{
  "nbformat": 4,
  "nbformat_minor": 0,
  "metadata": {
    "colab": {
      "provenance": [],
      "authorship_tag": "ABX9TyP81PzBarLBj5Uc+T7VwJNx",
      "include_colab_link": true
    },
    "kernelspec": {
      "name": "python3",
      "display_name": "Python 3"
    },
    "language_info": {
      "name": "python"
    }
  },
  "cells": [
    {
      "cell_type": "markdown",
      "metadata": {
        "id": "view-in-github",
        "colab_type": "text"
      },
      "source": [
        "<a href=\"https://colab.research.google.com/github/The237/DeepLearningCourses/blob/main/03_01_Deep_Learning_pour_la_classification.ipynb\" target=\"_parent\"><img src=\"https://colab.research.google.com/assets/colab-badge.svg\" alt=\"Open In Colab\"/></a>"
      ]
    },
    {
      "cell_type": "code",
      "execution_count": 1,
      "metadata": {
        "id": "qj6AV6xptvWT"
      },
      "outputs": [],
      "source": [
        "import tensorflow as tf"
      ]
    },
    {
      "cell_type": "code",
      "source": [
        "data = tf.keras.datasets.fashion_mnist\n",
        "(training_images, training_labels), (test_images, test_labels) = data.load_data()"
      ],
      "metadata": {
        "colab": {
          "base_uri": "https://localhost:8080/"
        },
        "id": "YI5F53wJt5bg",
        "outputId": "a54ebe4d-f428-48bb-d19a-9e811c42c783"
      },
      "execution_count": 3,
      "outputs": [
        {
          "output_type": "stream",
          "name": "stdout",
          "text": [
            "Downloading data from https://storage.googleapis.com/tensorflow/tf-keras-datasets/train-labels-idx1-ubyte.gz\n",
            "29515/29515 [==============================] - 0s 1us/step\n",
            "Downloading data from https://storage.googleapis.com/tensorflow/tf-keras-datasets/train-images-idx3-ubyte.gz\n",
            "26421880/26421880 [==============================] - 2s 0us/step\n",
            "Downloading data from https://storage.googleapis.com/tensorflow/tf-keras-datasets/t10k-labels-idx1-ubyte.gz\n",
            "5148/5148 [==============================] - 0s 0us/step\n",
            "Downloading data from https://storage.googleapis.com/tensorflow/tf-keras-datasets/t10k-images-idx3-ubyte.gz\n",
            "4422102/4422102 [==============================] - 1s 0us/step\n"
          ]
        }
      ]
    },
    {
      "cell_type": "code",
      "source": [
        "training_labels.reshape((training_images.shape[0],1))\n"
      ],
      "metadata": {
        "colab": {
          "base_uri": "https://localhost:8080/"
        },
        "id": "XnXhqcDZuQ6_",
        "outputId": "ef03802c-c34a-4511-d6c8-e046aaf1c97f"
      },
      "execution_count": 11,
      "outputs": [
        {
          "output_type": "execute_result",
          "data": {
            "text/plain": [
              "array([[9],\n",
              "       [0],\n",
              "       [0],\n",
              "       ...,\n",
              "       [3],\n",
              "       [0],\n",
              "       [5]], dtype=uint8)"
            ]
          },
          "metadata": {},
          "execution_count": 11
        }
      ]
    },
    {
      "cell_type": "code",
      "source": [
        "training_images.ndim"
      ],
      "metadata": {
        "colab": {
          "base_uri": "https://localhost:8080/"
        },
        "id": "G6_L6pRBvlr-",
        "outputId": "dbece09c-c2a3-4d42-e9b0-f06e898edc74"
      },
      "execution_count": 15,
      "outputs": [
        {
          "output_type": "execute_result",
          "data": {
            "text/plain": [
              "3"
            ]
          },
          "metadata": {},
          "execution_count": 15
        }
      ]
    },
    {
      "cell_type": "code",
      "source": [
        "labels = [\"T-shirt/top\",\n",
        "    \"Trouser\",\n",
        "    \"Pullover\",\n",
        "    \"Dress\",\n",
        "    \"Coat\",\n",
        "    \"Sandal\",\n",
        "    \"Shirt\",\n",
        "    \"Sneaker\",\n",
        "    \"Bag\",\n",
        "    \"Ankle boot\"\n",
        "]"
      ],
      "metadata": {
        "id": "dT3jAGjPuTy9"
      },
      "execution_count": 16,
      "outputs": []
    },
    {
      "cell_type": "code",
      "source": [
        "import matplotlib.pyplot as plt\n",
        "\n",
        "plt.imshow(training_images[47725])\n",
        "plt.title(labels[training_labels[47725]])\n",
        "plt.show()"
      ],
      "metadata": {
        "colab": {
          "base_uri": "https://localhost:8080/",
          "height": 452
        },
        "id": "vs8kBe_gwVCb",
        "outputId": "29478f19-f1d8-407e-d47a-32da2ae23ea9"
      },
      "execution_count": 27,
      "outputs": [
        {
          "output_type": "display_data",
          "data": {
            "text/plain": [
              "<Figure size 640x480 with 1 Axes>"
            ],
            "image/png": "[encoded data removed]"
          },
          "metadata": {}
        }
      ]
    },
    {
      "cell_type": "code",
      "source": [
        "plt.imshow(training_images[45]/100)\n",
        "plt.show()"
      ],
      "metadata": {
        "colab": {
          "base_uri": "https://localhost:8080/",
          "height": 430
        },
        "id": "B0Z6zFOCwk9A",
        "outputId": "7de70de9-09cc-4f79-ecff-95e71d137493"
      },
      "execution_count": 22,
      "outputs": [
        {
          "output_type": "display_data",
          "data": {
            "text/plain": [
              "<Figure size 640x480 with 1 Axes>"
            ],
            "image/png": "[encoded data removed]"
          },
          "metadata": {}
        }
      ]
    },
    {
      "cell_type": "markdown",
      "source": [
        "# Flatten Images\n",
        "\n",
        "Quitter des images carrés vers des vecteurs, par exemple si on a un dataset qui a 60 000 images de dimensions 28*28, on obtient un nouveau dataset qui aura 60 000 vecteurs et chaque vecteur aura une taille de 28*28 caractéristiques, ce qui revient à un tableau classique une peu comme un dataframe. On dit qu'on a flatten les images."
      ],
      "metadata": {
        "id": "Vb29f0PFyI-O"
      }
    },
    {
      "cell_type": "code",
      "source": [
        "training_images.shape"
      ],
      "metadata": {
        "colab": {
          "base_uri": "https://localhost:8080/"
        },
        "id": "gmOHidAiwm-8",
        "outputId": "a03590bc-9967-44c6-dcfa-bf26f5b7a7b5"
      },
      "execution_count": 28,
      "outputs": [
        {
          "output_type": "execute_result",
          "data": {
            "text/plain": [
              "(60000, 28, 28)"
            ]
          },
          "metadata": {},
          "execution_count": 28
        }
      ]
    },
    {
      "cell_type": "code",
      "source": [
        "flat_training_images = training_images.reshape((60_000,28*28))\n",
        "flat_test_images = test_images.reshape((-1,28*28))"
      ],
      "metadata": {
        "id": "IV2nl8yFzH2o"
      },
      "execution_count": 30,
      "outputs": []
    },
    {
      "cell_type": "code",
      "source": [
        "flat_training_images.shape, flat_test_images.shape"
      ],
      "metadata": {
        "colab": {
          "base_uri": "https://localhost:8080/"
        },
        "id": "cNFFq7BDzxQK",
        "outputId": "678cb40e-dff8-4b19-a387-220ed34fec69"
      },
      "execution_count": 32,
      "outputs": [
        {
          "output_type": "execute_result",
          "data": {
            "text/plain": [
              "((60000, 784), (10000, 784))"
            ]
          },
          "metadata": {},
          "execution_count": 32
        }
      ]
    },
    {
      "cell_type": "markdown",
      "source": [
        "# One Hot Encoding"
      ],
      "metadata": {
        "id": "P-YqulFK021t"
      }
    },
    {
      "cell_type": "code",
      "source": [
        "import numpy as np\n",
        "\n",
        "x = np.array([1,2,1,0,3])"
      ],
      "metadata": {
        "id": "hDdQMb5z1CL2"
      },
      "execution_count": 35,
      "outputs": []
    },
    {
      "cell_type": "code",
      "source": [
        "training_labels = tf.keras.utils.to_categorical(training_labels)\n",
        "test_labels = tf.keras.utils.to_categorical(test_labels)"
      ],
      "metadata": {
        "id": "QNOlC2s_zyI-"
      },
      "execution_count": 39,
      "outputs": []
    },
    {
      "cell_type": "code",
      "source": [
        "training_labels.shape, test_labels.shape"
      ],
      "metadata": {
        "colab": {
          "base_uri": "https://localhost:8080/"
        },
        "id": "HidK8lCp1RWB",
        "outputId": "0c0d46cf-77ed-4de8-cd7b-186629c9f785"
      },
      "execution_count": 40,
      "outputs": [
        {
          "output_type": "execute_result",
          "data": {
            "text/plain": [
              "((60000, 10), (10000, 10))"
            ]
          },
          "metadata": {},
          "execution_count": 40
        }
      ]
    },
    {
      "cell_type": "code",
      "source": [
        "def softmax(vect):\n",
        "  r = np.exp(np.array(vect))\n",
        "  return r/sum(r)"
      ],
      "metadata": {
        "id": "ZSr1Hye21p3z"
      },
      "execution_count": 42,
      "outputs": []
    },
    {
      "cell_type": "code",
      "source": [
        "softmax([6, 2])"
      ],
      "metadata": {
        "colab": {
          "base_uri": "https://localhost:8080/"
        },
        "id": "YwGXBv8h801N",
        "outputId": "4b8c64aa-461c-42af-bb57-31e2bb16970d"
      },
      "execution_count": 44,
      "outputs": [
        {
          "output_type": "execute_result",
          "data": {
            "text/plain": [
              "array([0.98201379, 0.01798621])"
            ]
          },
          "metadata": {},
          "execution_count": 44
        }
      ]
    },
    {
      "cell_type": "markdown",
      "source": [
        "# Premier modèle de Classification"
      ],
      "metadata": {
        "id": "opIk4Hqx9HMr"
      }
    },
    {
      "cell_type": "code",
      "source": [
        "from tensorflow.keras import Sequential\n",
        "from tensorflow.keras.layers import Dense\n",
        "from tensorflow.keras.optimizers import SGD"
      ],
      "metadata": {
        "id": "NGZNxE6v9dVG"
      },
      "execution_count": 45,
      "outputs": []
    },
    {
      "cell_type": "markdown",
      "source": [
        "On doit diviser par 255 pour éviter que lorsque le réseau s'entraine, il crée des pixels qui dépassent 255 (le max qu'un pixel peut avoir)."
      ],
      "metadata": {
        "id": "uMOfaW0t_tb2"
      }
    },
    {
      "cell_type": "code",
      "source": [
        "flat_training_images = flat_training_images/255.0\n",
        "flat_test_images = flat_test_images/255.0"
      ],
      "metadata": {
        "id": "VUi0os0q_kXq"
      },
      "execution_count": 48,
      "outputs": []
    },
    {
      "cell_type": "code",
      "source": [
        "flat_training_images.min(), flat_training_images.max()"
      ],
      "metadata": {
        "colab": {
          "base_uri": "https://localhost:8080/"
        },
        "id": "C-8AN6dKAE8B",
        "outputId": "3568e887-2e5a-41b3-a636-62ab1d008060"
      },
      "execution_count": 49,
      "outputs": [
        {
          "output_type": "execute_result",
          "data": {
            "text/plain": [
              "(0.0, 1.0)"
            ]
          },
          "metadata": {},
          "execution_count": 49
        }
      ]
    },
    {
      "cell_type": "code",
      "source": [
        "model = Sequential([\n",
        "    Dense(units = 784, activation = \"sigmoid\"),\n",
        "    Dense(units = 10, activation = \"softmax\")\n",
        "  ]\n",
        ")\n",
        "\n",
        "model.compile(loss = \"mse\", optimizer = SGD(learning_rate = .01), metrics = [\"accuracy\"])\n",
        "h = model.fit(flat_training_images, training_labels, epochs = 5, validation_data=(flat_test_images,test_labels))"
      ],
      "metadata": {
        "colab": {
          "base_uri": "https://localhost:8080/"
        },
        "id": "PXBF0uLg82yP",
        "outputId": "82dcccbb-aaaf-4228-9392-be6624fbbbc9"
      },
      "execution_count": 51,
      "outputs": [
        {
          "output_type": "stream",
          "name": "stdout",
          "text": [
            "Epoch 1/5\n",
            "1875/1875 [==============================] - 13s 6ms/step - loss: 0.0887 - accuracy: 0.2509 - val_loss: 0.0863 - val_accuracy: 0.3508\n",
            "Epoch 2/5\n",
            "1875/1875 [==============================] - 10s 5ms/step - loss: 0.0841 - accuracy: 0.3691 - val_loss: 0.0819 - val_accuracy: 0.3881\n",
            "Epoch 3/5\n",
            "1875/1875 [==============================] - 10s 5ms/step - loss: 0.0794 - accuracy: 0.3990 - val_loss: 0.0769 - val_accuracy: 0.4155\n",
            "Epoch 4/5\n",
            "1875/1875 [==============================] - 11s 6ms/step - loss: 0.0744 - accuracy: 0.4569 - val_loss: 0.0720 - val_accuracy: 0.4947\n",
            "Epoch 5/5\n",
            "1875/1875 [==============================] - 10s 5ms/step - loss: 0.0696 - accuracy: 0.5341 - val_loss: 0.0674 - val_accuracy: 0.5811\n"
          ]
        }
      ]
    },
    {
      "cell_type": "markdown",
      "source": [
        "# MSE VS Cross Entropy ou Log Loss"
      ],
      "metadata": {
        "id": "RD1Pp_w-DviW"
      }
    },
    {
      "cell_type": "code",
      "source": [
        "def mse(target, prediction):\n",
        "  loss = (prediction - target) **2\n",
        "  return loss"
      ],
      "metadata": {
        "id": "dtH7AkGX98Ji"
      },
      "execution_count": 52,
      "outputs": []
    },
    {
      "cell_type": "code",
      "source": [
        "def log_loss(target, prediction):\n",
        "  loss = -1 * np.log(prediction)\n",
        "  return loss"
      ],
      "metadata": {
        "id": "fQ1ufuLUEEPo"
      },
      "execution_count": 53,
      "outputs": []
    },
    {
      "cell_type": "code",
      "source": [
        "prediction = np.arange(0, 1, 0.01)\n",
        "len(prediction)"
      ],
      "metadata": {
        "colab": {
          "base_uri": "https://localhost:8080/"
        },
        "id": "drKF0wNYEXfd",
        "outputId": "fbef299e-b00f-43dc-eabe-f0cd1d4891a3"
      },
      "execution_count": 55,
      "outputs": [
        {
          "output_type": "execute_result",
          "data": {
            "text/plain": [
              "100"
            ]
          },
          "metadata": {},
          "execution_count": 55
        }
      ]
    },
    {
      "cell_type": "code",
      "source": [
        "target = np.ones_like(prediction)\n",
        "len(target)"
      ],
      "metadata": {
        "colab": {
          "base_uri": "https://localhost:8080/"
        },
        "id": "3YaloBY8EqHm",
        "outputId": "ffa8e279-6fd2-4e1f-eaf5-b875aab424f5"
      },
      "execution_count": 58,
      "outputs": [
        {
          "output_type": "execute_result",
          "data": {
            "text/plain": [
              "100"
            ]
          },
          "metadata": {},
          "execution_count": 58
        }
      ]
    },
    {
      "cell_type": "code",
      "source": [
        "loss_mse = mse(target, prediction)\n",
        "loss_ce = log_loss(target, prediction)"
      ],
      "metadata": {
        "colab": {
          "base_uri": "https://localhost:8080/"
        },
        "id": "FvJBT5ItE1ev",
        "outputId": "3c04766f-b2a5-4337-cf09-11de2a16d490"
      },
      "execution_count": 59,
      "outputs": [
        {
          "output_type": "stream",
          "name": "stderr",
          "text": [
            "<ipython-input-53-b2b06ae6f7e8>:2: RuntimeWarning: divide by zero encountered in log\n",
            "  loss = -1 * np.log(prediction)\n"
          ]
        }
      ]
    },
    {
      "cell_type": "code",
      "source": [
        "plt.plot(prediction, loss_mse, c= \"red\")\n",
        "plt.plot(prediction, loss_ce, c= \"blue\")\n",
        "plt.xlabel(\"Prediction\")\n",
        "plt.ylabel(\"Loss\")\n",
        "plt.show()"
      ],
      "metadata": {
        "colab": {
          "base_uri": "https://localhost:8080/",
          "height": 449
        },
        "id": "6Xi07I02FLCj",
        "outputId": "16c1f0e7-44fd-4951-fc67-5ded9da9cad9"
      },
      "execution_count": 61,
      "outputs": [
        {
          "output_type": "display_data",
          "data": {
            "text/plain": [
              "<Figure size 640x480 with 1 Axes>"
            ],
            "image/png": "[encoded data removed]"
          },
          "metadata": {}
        }
      ]
    }
  ]
}