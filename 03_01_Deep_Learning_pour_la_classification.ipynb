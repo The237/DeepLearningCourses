{
  "nbformat": 4,
  "nbformat_minor": 0,
  "metadata": {
    "colab": {
      "provenance": [],
      "authorship_tag": "ABX9TyNlMZugYE2CXoqLqWwhnd31",
      "include_colab_link": true
    },
    "kernelspec": {
      "name": "python3",
      "display_name": "Python 3"
    },
    "language_info": {
      "name": "python"
    }
  },
  "cells": [
    {
      "cell_type": "markdown",
      "metadata": {
        "id": "view-in-github",
        "colab_type": "text"
      },
      "source": [
        "<a href=\"https://colab.research.google.com/github/The237/DeepLearningCourses/blob/main/03_01_Deep_Learning_pour_la_classification.ipynb\" target=\"_parent\"><img src=\"https://colab.research.google.com/assets/colab-badge.svg\" alt=\"Open In Colab\"/></a>"
      ]
    },
    {
      "cell_type": "code",
      "execution_count": 1,
      "metadata": {
        "id": "qj6AV6xptvWT"
      },
      "outputs": [],
      "source": [
        "import tensorflow as tf"
      ]
    },
    {
      "cell_type": "code",
      "source": [
        "data = tf.keras.datasets.fashion_mnist\n",
        "(training_images, training_labels), (test_images, test_labels) = data.load_data()"
      ],
      "metadata": {
        "colab": {
          "base_uri": "https://localhost:8080/"
        },
        "id": "YI5F53wJt5bg",
        "outputId": "190bdb49-f2d9-40af-ede3-07ecc9061491"
      },
      "execution_count": 2,
      "outputs": [
        {
          "output_type": "stream",
          "name": "stdout",
          "text": [
            "Downloading data from https://storage.googleapis.com/tensorflow/tf-keras-datasets/train-labels-idx1-ubyte.gz\n",
            "29515/29515 [==============================] - 0s 0us/step\n",
            "Downloading data from https://storage.googleapis.com/tensorflow/tf-keras-datasets/train-images-idx3-ubyte.gz\n",
            "26421880/26421880 [==============================] - 0s 0us/step\n",
            "Downloading data from https://storage.googleapis.com/tensorflow/tf-keras-datasets/t10k-labels-idx1-ubyte.gz\n",
            "5148/5148 [==============================] - 0s 0us/step\n",
            "Downloading data from https://storage.googleapis.com/tensorflow/tf-keras-datasets/t10k-images-idx3-ubyte.gz\n",
            "4422102/4422102 [==============================] - 0s 0us/step\n"
          ]
        }
      ]
    },
    {
      "cell_type": "code",
      "source": [
        "training_labels.reshape((training_images.shape[0],1))\n"
      ],
      "metadata": {
        "colab": {
          "base_uri": "https://localhost:8080/"
        },
        "id": "XnXhqcDZuQ6_",
        "outputId": "c6f40d53-4b51-45d0-b815-5af1bce6118b"
      },
      "execution_count": 3,
      "outputs": [
        {
          "output_type": "execute_result",
          "data": {
            "text/plain": [
              "array([[9],\n",
              "       [0],\n",
              "       [0],\n",
              "       ...,\n",
              "       [3],\n",
              "       [0],\n",
              "       [5]], dtype=uint8)"
            ]
          },
          "metadata": {},
          "execution_count": 3
        }
      ]
    },
    {
      "cell_type": "code",
      "source": [
        "training_images.ndim"
      ],
      "metadata": {
        "colab": {
          "base_uri": "https://localhost:8080/"
        },
        "id": "G6_L6pRBvlr-",
        "outputId": "fc0ceadc-dd90-425b-98b7-60b2df6e5a1c"
      },
      "execution_count": 4,
      "outputs": [
        {
          "output_type": "execute_result",
          "data": {
            "text/plain": [
              "3"
            ]
          },
          "metadata": {},
          "execution_count": 4
        }
      ]
    },
    {
      "cell_type": "code",
      "source": [
        "labels = [\"T-shirt/top\",\n",
        "    \"Trouser\",\n",
        "    \"Pullover\",\n",
        "    \"Dress\",\n",
        "    \"Coat\",\n",
        "    \"Sandal\",\n",
        "    \"Shirt\",\n",
        "    \"Sneaker\",\n",
        "    \"Bag\",\n",
        "    \"Ankle boot\"\n",
        "]"
      ],
      "metadata": {
        "id": "dT3jAGjPuTy9"
      },
      "execution_count": 5,
      "outputs": []
    },
    {
      "cell_type": "code",
      "source": [
        "import matplotlib.pyplot as plt\n",
        "\n",
        "plt.imshow(training_images[47725])\n",
        "plt.title(labels[training_labels[47725]])\n",
        "plt.show()"
      ],
      "metadata": {
        "colab": {
          "base_uri": "https://localhost:8080/",
          "height": 452
        },
        "id": "vs8kBe_gwVCb",
        "outputId": "570aafd9-29fb-4a62-ffd9-a63948a05e0a"
      },
      "execution_count": 6,
      "outputs": [
        {
          "output_type": "display_data",
          "data": {
            "text/plain": [
              "<Figure size 640x480 with 1 Axes>"
            ],
            "image/png": "[encoded data removed]"
          },
          "metadata": {}
        }
      ]
    },
    {
      "cell_type": "code",
      "source": [
        "plt.imshow(training_images[45]/100)\n",
        "plt.show()"
      ],
      "metadata": {
        "colab": {
          "base_uri": "https://localhost:8080/",
          "height": 430
        },
        "id": "B0Z6zFOCwk9A",
        "outputId": "cabc21ce-aa08-40ff-d941-5dc2a31cafbf"
      },
      "execution_count": 7,
      "outputs": [
        {
          "output_type": "display_data",
          "data": {
            "text/plain": [
              "<Figure size 640x480 with 1 Axes>"
            ],
            "image/png": "[encoded data removed]"
          },
          "metadata": {}
        }
      ]
    },
    {
      "cell_type": "markdown",
      "source": [
        "# Flatten Images\n",
        "\n",
        "Quitter des images carrés vers des vecteurs, par exemple si on a un dataset qui a 60 000 images de dimensions 28*28, on obtient un nouveau dataset qui aura 60 000 vecteurs et chaque vecteur aura une taille de 28*28 caractéristiques, ce qui revient à un tableau classique une peu comme un dataframe. On dit qu'on a flatten les images."
      ],
      "metadata": {
        "id": "Vb29f0PFyI-O"
      }
    },
    {
      "cell_type": "code",
      "source": [
        "training_images.shape"
      ],
      "metadata": {
        "colab": {
          "base_uri": "https://localhost:8080/"
        },
        "id": "gmOHidAiwm-8",
        "outputId": "495ffd61-16be-43d9-a950-adaea5861dd9"
      },
      "execution_count": 8,
      "outputs": [
        {
          "output_type": "execute_result",
          "data": {
            "text/plain": [
              "(60000, 28, 28)"
            ]
          },
          "metadata": {},
          "execution_count": 8
        }
      ]
    },
    {
      "cell_type": "code",
      "source": [
        "flat_training_images = training_images.reshape((60_000,28*28))\n",
        "flat_test_images = test_images.reshape((-1,28*28))"
      ],
      "metadata": {
        "id": "IV2nl8yFzH2o"
      },
      "execution_count": 9,
      "outputs": []
    },
    {
      "cell_type": "code",
      "source": [
        "flat_training_images.shape, flat_test_images.shape"
      ],
      "metadata": {
        "colab": {
          "base_uri": "https://localhost:8080/"
        },
        "id": "cNFFq7BDzxQK",
        "outputId": "d91b754d-7dd7-4ebc-f33e-9f5e65248617"
      },
      "execution_count": 10,
      "outputs": [
        {
          "output_type": "execute_result",
          "data": {
            "text/plain": [
              "((60000, 784), (10000, 784))"
            ]
          },
          "metadata": {},
          "execution_count": 10
        }
      ]
    },
    {
      "cell_type": "markdown",
      "source": [
        "# One Hot Encoding"
      ],
      "metadata": {
        "id": "P-YqulFK021t"
      }
    },
    {
      "cell_type": "code",
      "source": [
        "import numpy as np\n",
        "\n",
        "x = np.array([1,2,1,0,3])"
      ],
      "metadata": {
        "id": "hDdQMb5z1CL2"
      },
      "execution_count": 11,
      "outputs": []
    },
    {
      "cell_type": "code",
      "source": [
        "training_labels = tf.keras.utils.to_categorical(training_labels)\n",
        "test_labels = tf.keras.utils.to_categorical(test_labels)"
      ],
      "metadata": {
        "id": "QNOlC2s_zyI-"
      },
      "execution_count": 12,
      "outputs": []
    },
    {
      "cell_type": "code",
      "source": [
        "training_labels.shape, test_labels.shape"
      ],
      "metadata": {
        "colab": {
          "base_uri": "https://localhost:8080/"
        },
        "id": "HidK8lCp1RWB",
        "outputId": "c9181319-5147-42b7-c244-fe97d5b05304"
      },
      "execution_count": 13,
      "outputs": [
        {
          "output_type": "execute_result",
          "data": {
            "text/plain": [
              "((60000, 10), (10000, 10))"
            ]
          },
          "metadata": {},
          "execution_count": 13
        }
      ]
    },
    {
      "cell_type": "code",
      "source": [
        "def softmax(vect):\n",
        "  r = np.exp(np.array(vect))\n",
        "  return r/sum(r)"
      ],
      "metadata": {
        "id": "ZSr1Hye21p3z"
      },
      "execution_count": 14,
      "outputs": []
    },
    {
      "cell_type": "code",
      "source": [
        "softmax([6, 2])"
      ],
      "metadata": {
        "colab": {
          "base_uri": "https://localhost:8080/"
        },
        "id": "YwGXBv8h801N",
        "outputId": "5364ef25-4dbf-4890-ba5e-88b7fa2cd0c6"
      },
      "execution_count": 15,
      "outputs": [
        {
          "output_type": "execute_result",
          "data": {
            "text/plain": [
              "array([0.98201379, 0.01798621])"
            ]
          },
          "metadata": {},
          "execution_count": 15
        }
      ]
    },
    {
      "cell_type": "markdown",
      "source": [
        "# Premier modèle de Classification"
      ],
      "metadata": {
        "id": "opIk4Hqx9HMr"
      }
    },
    {
      "cell_type": "code",
      "source": [
        "from tensorflow.keras import Sequential\n",
        "from tensorflow.keras.layers import Dense\n",
        "from tensorflow.keras.optimizers import SGD"
      ],
      "metadata": {
        "id": "NGZNxE6v9dVG"
      },
      "execution_count": 16,
      "outputs": []
    },
    {
      "cell_type": "markdown",
      "source": [
        "On doit diviser par 255 pour éviter que lorsque le réseau s'entraine, il crée des pixels qui dépassent 255 (le max qu'un pixel peut avoir)."
      ],
      "metadata": {
        "id": "uMOfaW0t_tb2"
      }
    },
    {
      "cell_type": "code",
      "source": [
        "flat_training_images = flat_training_images/255.0\n",
        "flat_test_images = flat_test_images/255.0"
      ],
      "metadata": {
        "id": "VUi0os0q_kXq"
      },
      "execution_count": 17,
      "outputs": []
    },
    {
      "cell_type": "code",
      "source": [
        "flat_training_images.min(), flat_training_images.max()"
      ],
      "metadata": {
        "colab": {
          "base_uri": "https://localhost:8080/"
        },
        "id": "C-8AN6dKAE8B",
        "outputId": "5d83a46b-4422-4857-ad93-8c0eeb042aa7"
      },
      "execution_count": 18,
      "outputs": [
        {
          "output_type": "execute_result",
          "data": {
            "text/plain": [
              "(0.0, 1.0)"
            ]
          },
          "metadata": {},
          "execution_count": 18
        }
      ]
    },
    {
      "cell_type": "code",
      "source": [
        "model = Sequential([\n",
        "    Dense(units = 784, activation = \"sigmoid\"),\n",
        "    Dense(units = 10, activation = \"softmax\")\n",
        "  ]\n",
        ")\n",
        "\n",
        "model.compile(loss = \"mse\", optimizer = SGD(learning_rate = .01), metrics = [\"accuracy\"])\n",
        "h = model.fit(flat_training_images, training_labels, epochs = 5, validation_data=(flat_test_images,test_labels))"
      ],
      "metadata": {
        "colab": {
          "base_uri": "https://localhost:8080/"
        },
        "id": "PXBF0uLg82yP",
        "outputId": "c4f3ebf5-1112-4d60-bb1c-bc66db66c2ef"
      },
      "execution_count": 19,
      "outputs": [
        {
          "output_type": "stream",
          "name": "stdout",
          "text": [
            "Epoch 1/5\n",
            "1875/1875 [==============================] - 23s 12ms/step - loss: 0.0886 - accuracy: 0.2632 - val_loss: 0.0865 - val_accuracy: 0.2781\n",
            "Epoch 2/5\n",
            "1875/1875 [==============================] - 14s 7ms/step - loss: 0.0846 - accuracy: 0.3505 - val_loss: 0.0827 - val_accuracy: 0.4327\n",
            "Epoch 3/5\n",
            "1875/1875 [==============================] - 12s 7ms/step - loss: 0.0805 - accuracy: 0.5275 - val_loss: 0.0782 - val_accuracy: 0.5630\n",
            "Epoch 4/5\n",
            "1875/1875 [==============================] - 12s 6ms/step - loss: 0.0757 - accuracy: 0.5725 - val_loss: 0.0732 - val_accuracy: 0.6034\n",
            "Epoch 5/5\n",
            "1875/1875 [==============================] - 12s 6ms/step - loss: 0.0706 - accuracy: 0.6108 - val_loss: 0.0683 - val_accuracy: 0.6345\n"
          ]
        }
      ]
    },
    {
      "cell_type": "markdown",
      "source": [
        "# MSE VS Cross Entropy ou Log Loss"
      ],
      "metadata": {
        "id": "RD1Pp_w-DviW"
      }
    },
    {
      "cell_type": "code",
      "source": [
        "def mse(target, prediction):\n",
        "  loss = (prediction - target) **2\n",
        "  return loss"
      ],
      "metadata": {
        "id": "dtH7AkGX98Ji"
      },
      "execution_count": 20,
      "outputs": []
    },
    {
      "cell_type": "code",
      "source": [
        "def log_loss(target, prediction):\n",
        "  loss = -1 * np.log(prediction)\n",
        "  return loss"
      ],
      "metadata": {
        "id": "fQ1ufuLUEEPo"
      },
      "execution_count": 21,
      "outputs": []
    },
    {
      "cell_type": "code",
      "source": [
        "prediction = np.arange(0, 1, 0.01)\n",
        "len(prediction)"
      ],
      "metadata": {
        "colab": {
          "base_uri": "https://localhost:8080/"
        },
        "id": "drKF0wNYEXfd",
        "outputId": "dc553d59-0a18-4871-b9c0-b2a7a7f384df"
      },
      "execution_count": 22,
      "outputs": [
        {
          "output_type": "execute_result",
          "data": {
            "text/plain": [
              "100"
            ]
          },
          "metadata": {},
          "execution_count": 22
        }
      ]
    },
    {
      "cell_type": "code",
      "source": [
        "target = np.ones_like(prediction)\n",
        "len(target)"
      ],
      "metadata": {
        "colab": {
          "base_uri": "https://localhost:8080/"
        },
        "id": "3YaloBY8EqHm",
        "outputId": "62833f6e-994c-4246-fe23-e107893b5102"
      },
      "execution_count": 23,
      "outputs": [
        {
          "output_type": "execute_result",
          "data": {
            "text/plain": [
              "100"
            ]
          },
          "metadata": {},
          "execution_count": 23
        }
      ]
    },
    {
      "cell_type": "code",
      "source": [
        "loss_mse = mse(target, prediction)\n",
        "loss_ce = log_loss(target, prediction)"
      ],
      "metadata": {
        "colab": {
          "base_uri": "https://localhost:8080/"
        },
        "id": "FvJBT5ItE1ev",
        "outputId": "36e0aad8-4c51-4ea3-c8ed-840e864c91b4"
      },
      "execution_count": 24,
      "outputs": [
        {
          "output_type": "stream",
          "name": "stderr",
          "text": [
            "<ipython-input-21-b2b06ae6f7e8>:2: RuntimeWarning: divide by zero encountered in log\n",
            "  loss = -1 * np.log(prediction)\n"
          ]
        }
      ]
    },
    {
      "cell_type": "code",
      "source": [
        "plt.plot(prediction, loss_mse, c= \"red\",label=\"MSE\")\n",
        "plt.plot(prediction, loss_ce, c= \"blue\", label=\"Cross Entropy\")\n",
        "plt.xlabel(\"Prediction\")\n",
        "plt.ylabel(\"Loss\")\n",
        "plt.legend()\n",
        "plt.show()"
      ],
      "metadata": {
        "colab": {
          "base_uri": "https://localhost:8080/",
          "height": 449
        },
        "id": "6Xi07I02FLCj",
        "outputId": "8078ce77-2464-4153-ad28-7a047550eb04"
      },
      "execution_count": 25,
      "outputs": [
        {
          "output_type": "display_data",
          "data": {
            "text/plain": [
              "<Figure size 640x480 with 1 Axes>"
            ],
            "image/png": "[encoded data removed]"
          },
          "metadata": {}
        }
      ]
    },
    {
      "cell_type": "markdown",
      "source": [
        "# Entrainement avec cross entropy comme loss"
      ],
      "metadata": {
        "id": "Lv7CFT0BHWok"
      }
    },
    {
      "cell_type": "code",
      "source": [
        "model_ce = Sequential([\n",
        "    Dense(units = 784, activation = \"sigmoid\"),\n",
        "    Dense(units = 10, activation = \"softmax\")\n",
        "  ]\n",
        ")\n",
        "\n",
        "model_ce.compile(loss = \"categorical_crossentropy\", optimizer = SGD(learning_rate = .01), metrics = [\"accuracy\"])\n",
        "h = model_ce.fit(flat_training_images, training_labels, epochs = 5, validation_data=(flat_test_images,test_labels))"
      ],
      "metadata": {
        "colab": {
          "base_uri": "https://localhost:8080/"
        },
        "id": "o2m6nzfHGMMX",
        "outputId": "b2689434-4089-4125-cda4-807397e59284"
      },
      "execution_count": 26,
      "outputs": [
        {
          "output_type": "stream",
          "name": "stdout",
          "text": [
            "Epoch 1/5\n",
            "1875/1875 [==============================] - 13s 7ms/step - loss: 1.1337 - accuracy: 0.6683 - val_loss: 0.7924 - val_accuracy: 0.7325\n",
            "Epoch 2/5\n",
            "1875/1875 [==============================] - 12s 6ms/step - loss: 0.7073 - accuracy: 0.7585 - val_loss: 0.6758 - val_accuracy: 0.7585\n",
            "Epoch 3/5\n",
            "1875/1875 [==============================] - 12s 7ms/step - loss: 0.6222 - accuracy: 0.7840 - val_loss: 0.6118 - val_accuracy: 0.7809\n",
            "Epoch 4/5\n",
            "1875/1875 [==============================] - 13s 7ms/step - loss: 0.5763 - accuracy: 0.7990 - val_loss: 0.5754 - val_accuracy: 0.7981\n",
            "Epoch 5/5\n",
            "1875/1875 [==============================] - 12s 6ms/step - loss: 0.5457 - accuracy: 0.8095 - val_loss: 0.5566 - val_accuracy: 0.8018\n"
          ]
        }
      ]
    },
    {
      "cell_type": "markdown",
      "source": [
        "MSE : loss: 0.0696 - accuracy: 0.5341 - val_loss: 0.0674 - val_accuracy: 0.5811\n",
        "\n",
        "CROSS ENTROPY : loss: 0.5457 - accuracy: 0.8089 - val_loss: 0.5575 - val_accuracy: 0.8026\n",
        "\n",
        "Le cross entropy permet d'avoir de plus grands loss, mais celà a un impact positif sur l'accuracy et en donne une meilleure valeur.\n",
        "La vitesse de descente pour trouver le point qui minimise la fonction de perte est plus importante pour la courbe du cross entropy."
      ],
      "metadata": {
        "id": "U5ebrcD3ITHj"
      }
    },
    {
      "cell_type": "markdown",
      "source": [
        "# New Activation function"
      ],
      "metadata": {
        "id": "yU7BkNRoKVcW"
      }
    },
    {
      "cell_type": "code",
      "source": [
        "values = np.arange(-10, 10,.01)\n",
        "sig = tf.nn.sigmoid(values)"
      ],
      "metadata": {
        "id": "rXqyi7AOINlN"
      },
      "execution_count": 27,
      "outputs": []
    },
    {
      "cell_type": "code",
      "source": [
        "plt.plot(values, sig,c='r', label=\"Sigmoid\")\n",
        "plt.plot(values, relu_values, c='b', label=\"ReLU\")\n",
        "plt.show()"
      ],
      "metadata": {
        "colab": {
          "base_uri": "https://localhost:8080/",
          "height": 430
        },
        "id": "LXWFvuiTK2sV",
        "outputId": "9edcecdb-6e5c-4c2c-cd71-0637ad4a3623"
      },
      "execution_count": 31,
      "outputs": [
        {
          "output_type": "display_data",
          "data": {
            "text/plain": [
              "<Figure size 640x480 with 1 Axes>"
            ],
            "image/png": "[encoded data removed]"
          },
          "metadata": {}
        }
      ]
    },
    {
      "cell_type": "code",
      "source": [
        "def relu(vect):\n",
        "  return np.maximum(0, vect)"
      ],
      "metadata": {
        "id": "rBeHJV4OLvqC"
      },
      "execution_count": 29,
      "outputs": []
    },
    {
      "cell_type": "code",
      "source": [
        "relu_values = relu(values)"
      ],
      "metadata": {
        "id": "yfUXY3YTL8et"
      },
      "execution_count": 30,
      "outputs": []
    },
    {
      "cell_type": "code",
      "source": [
        "relu_values"
      ],
      "metadata": {
        "id": "hT94mBr7MDXZ"
      },
      "execution_count": null,
      "outputs": []
    },
    {
      "cell_type": "markdown",
      "source": [
        "# Modèle ReLU"
      ],
      "metadata": {
        "id": "ZOZ-V2wwNgO7"
      }
    },
    {
      "cell_type": "code",
      "source": [
        "model_relu = Sequential([\n",
        "    Dense(units = 784, activation = \"relu\"),\n",
        "    Dense(units = 10, activation = \"softmax\")\n",
        "  ]\n",
        ")\n",
        "\n",
        "model_relu.compile(loss = \"categorical_crossentropy\", optimizer = SGD(learning_rate = .01), metrics = [\"accuracy\"])\n",
        "h = model_relu.fit(flat_training_images, training_labels, epochs = 5, validation_data=(flat_test_images,test_labels))"
      ],
      "metadata": {
        "colab": {
          "base_uri": "https://localhost:8080/"
        },
        "id": "UcCoXmyONiaM",
        "outputId": "dca776e8-c0a8-42d1-e731-966b52ed6afc"
      },
      "execution_count": 32,
      "outputs": [
        {
          "output_type": "stream",
          "name": "stdout",
          "text": [
            "Epoch 1/5\n",
            "1875/1875 [==============================] - 21s 11ms/step - loss: 0.6931 - accuracy: 0.7796 - val_loss: 0.5610 - val_accuracy: 0.8043\n",
            "Epoch 2/5\n",
            "1875/1875 [==============================] - 12s 6ms/step - loss: 0.4924 - accuracy: 0.8339 - val_loss: 0.4940 - val_accuracy: 0.8310\n",
            "Epoch 3/5\n",
            "1875/1875 [==============================] - 12s 6ms/step - loss: 0.4512 - accuracy: 0.8460 - val_loss: 0.4753 - val_accuracy: 0.8333\n",
            "Epoch 4/5\n",
            "1875/1875 [==============================] - 12s 7ms/step - loss: 0.4274 - accuracy: 0.8519 - val_loss: 0.4434 - val_accuracy: 0.8460\n",
            "Epoch 5/5\n",
            "1875/1875 [==============================] - 12s 7ms/step - loss: 0.4088 - accuracy: 0.8591 - val_loss: 0.4344 - val_accuracy: 0.8513\n"
          ]
        }
      ]
    },
    {
      "cell_type": "code",
      "source": [
        "model_relu = Sequential([\n",
        "    Dense(units = 784, activation = \"relu\"),\n",
        "    Dense(units = 10, activation = \"softmax\")\n",
        "  ]\n",
        ")\n",
        "\n",
        "model_relu.compile(loss = \"categorical_crossentropy\", optimizer = SGD(learning_rate = .01), metrics = [\"accuracy\"])\n",
        "h = model_relu.fit(flat_training_images, training_labels, epochs = 20, validation_data=(flat_test_images,test_labels))"
      ],
      "metadata": {
        "colab": {
          "base_uri": "https://localhost:8080/"
        },
        "id": "SFQ3XXq_OBWH",
        "outputId": "1916c7e2-06a3-4405-f706-a95cdb4dcc26"
      },
      "execution_count": 33,
      "outputs": [
        {
          "output_type": "stream",
          "name": "stdout",
          "text": [
            "Epoch 1/20\n",
            "1875/1875 [==============================] - 13s 7ms/step - loss: 0.6985 - accuracy: 0.7771 - val_loss: 0.5481 - val_accuracy: 0.8165\n",
            "Epoch 2/20\n",
            "1875/1875 [==============================] - 16s 8ms/step - loss: 0.4944 - accuracy: 0.8321 - val_loss: 0.4962 - val_accuracy: 0.8287\n",
            "Epoch 3/20\n",
            "1875/1875 [==============================] - 11s 6ms/step - loss: 0.4531 - accuracy: 0.8457 - val_loss: 0.4701 - val_accuracy: 0.8358\n",
            "Epoch 4/20\n",
            "1875/1875 [==============================] - 13s 7ms/step - loss: 0.4284 - accuracy: 0.8527 - val_loss: 0.4501 - val_accuracy: 0.8423\n",
            "Epoch 5/20\n",
            "1875/1875 [==============================] - 14s 8ms/step - loss: 0.4104 - accuracy: 0.8587 - val_loss: 0.4435 - val_accuracy: 0.8434\n",
            "Epoch 6/20\n",
            "1875/1875 [==============================] - 12s 6ms/step - loss: 0.3968 - accuracy: 0.8620 - val_loss: 0.4207 - val_accuracy: 0.8531\n",
            "Epoch 7/20\n",
            "1875/1875 [==============================] - 11s 6ms/step - loss: 0.3849 - accuracy: 0.8674 - val_loss: 0.4196 - val_accuracy: 0.8525\n",
            "Epoch 8/20\n",
            "1875/1875 [==============================] - 10s 6ms/step - loss: 0.3741 - accuracy: 0.8703 - val_loss: 0.4055 - val_accuracy: 0.8571\n",
            "Epoch 9/20\n",
            "1875/1875 [==============================] - 12s 6ms/step - loss: 0.3652 - accuracy: 0.8728 - val_loss: 0.4074 - val_accuracy: 0.8553\n",
            "Epoch 10/20\n",
            "1875/1875 [==============================] - 12s 6ms/step - loss: 0.3580 - accuracy: 0.8754 - val_loss: 0.4036 - val_accuracy: 0.8543\n",
            "Epoch 11/20\n",
            "1875/1875 [==============================] - 12s 6ms/step - loss: 0.3511 - accuracy: 0.8777 - val_loss: 0.3957 - val_accuracy: 0.8587\n",
            "Epoch 12/20\n",
            "1875/1875 [==============================] - 11s 6ms/step - loss: 0.3435 - accuracy: 0.8803 - val_loss: 0.3876 - val_accuracy: 0.8638\n",
            "Epoch 13/20\n",
            "1875/1875 [==============================] - 12s 6ms/step - loss: 0.3369 - accuracy: 0.8825 - val_loss: 0.3868 - val_accuracy: 0.8631\n",
            "Epoch 14/20\n",
            "1875/1875 [==============================] - 12s 6ms/step - loss: 0.3319 - accuracy: 0.8840 - val_loss: 0.3749 - val_accuracy: 0.8680\n",
            "Epoch 15/20\n",
            "1875/1875 [==============================] - 12s 6ms/step - loss: 0.3254 - accuracy: 0.8861 - val_loss: 0.3708 - val_accuracy: 0.8682\n",
            "Epoch 16/20\n",
            "1875/1875 [==============================] - 11s 6ms/step - loss: 0.3200 - accuracy: 0.8880 - val_loss: 0.3755 - val_accuracy: 0.8656\n",
            "Epoch 17/20\n",
            "1875/1875 [==============================] - 11s 6ms/step - loss: 0.3157 - accuracy: 0.8895 - val_loss: 0.3689 - val_accuracy: 0.8683\n",
            "Epoch 18/20\n",
            "1875/1875 [==============================] - 11s 6ms/step - loss: 0.3096 - accuracy: 0.8917 - val_loss: 0.3657 - val_accuracy: 0.8673\n",
            "Epoch 19/20\n",
            "1875/1875 [==============================] - 21s 11ms/step - loss: 0.3058 - accuracy: 0.8924 - val_loss: 0.3601 - val_accuracy: 0.8721\n",
            "Epoch 20/20\n",
            "1875/1875 [==============================] - 18s 10ms/step - loss: 0.3014 - accuracy: 0.8945 - val_loss: 0.3574 - val_accuracy: 0.8715\n"
          ]
        }
      ]
    },
    {
      "cell_type": "code",
      "source": [
        "import matplotlib.pyplot as plt\n",
        "\n",
        "def plot_loss_curve(history):\n",
        "  plt.plot(list(range(len(history[\"loss\"]))), history[\"loss\"], label=\"Loss\")\n",
        "  plt.plot(list(range(len(history[\"val_loss\"]))), history[\"val_loss\"], label=\"Val Loss\")\n",
        "  plt.xlabel(\"Epochs\")\n",
        "  plt.ylabel(\"Loss\")\n",
        "  plt.title(\"Loss Curve\")\n",
        "  plt.legend()\n",
        "  plt.show()\n",
        "\n",
        "def plot_accuracy_curve(history):\n",
        "  plt.plot(list(range(len(history[\"accuracy\"]))), history[\"accuracy\"], label=\"Accuracy\")\n",
        "  plt.plot(list(range(len(history[\"val_accuracy\"]))), history[\"val_accuracy\"], label=\"Val Accuracy\")\n",
        "  plt.xlabel(\"Epochs\")\n",
        "  plt.ylabel(\"Accuracy\")\n",
        "  plt.title(\"Accuracy Curve\")\n",
        "  plt.legend()\n",
        "  plt.show()"
      ],
      "metadata": {
        "id": "ngGzl8DYPMib"
      },
      "execution_count": 34,
      "outputs": []
    },
    {
      "cell_type": "markdown",
      "source": [
        "# Réseau de neurones plus complexe"
      ],
      "metadata": {
        "id": "pb-JgSEdOxTu"
      }
    },
    {
      "cell_type": "code",
      "source": [
        "model_compl = Sequential([\n",
        "    Dense(units = 784, activation = \"relu\"),\n",
        "    Dense(units = 128, activation = \"relu\"),\n",
        "    Dense(units = 10, activation = \"softmax\")\n",
        "  ]\n",
        ")\n",
        "\n",
        "model_compl.compile(loss = \"categorical_crossentropy\", optimizer = SGD(learning_rate = .01), metrics = [\"accuracy\"])\n",
        "h = model_relu.fit(flat_training_images, training_labels, epochs = 20, validation_data=(flat_test_images,test_labels))"
      ],
      "metadata": {
        "colab": {
          "base_uri": "https://localhost:8080/"
        },
        "id": "C9stTFW1OsrZ",
        "outputId": "7568c0a1-9c6b-4551-e4a0-c28077dd303e"
      },
      "execution_count": 35,
      "outputs": [
        {
          "output_type": "stream",
          "name": "stdout",
          "text": [
            "Epoch 1/20\n",
            "1875/1875 [==============================] - 21s 11ms/step - loss: 0.2972 - accuracy: 0.8957 - val_loss: 0.3581 - val_accuracy: 0.8735\n",
            "Epoch 2/20\n",
            "1875/1875 [==============================] - 15s 8ms/step - loss: 0.2930 - accuracy: 0.8976 - val_loss: 0.3496 - val_accuracy: 0.8751\n",
            "Epoch 3/20\n",
            "1875/1875 [==============================] - 17s 9ms/step - loss: 0.2904 - accuracy: 0.8979 - val_loss: 0.3568 - val_accuracy: 0.8718\n",
            "Epoch 4/20\n",
            "1875/1875 [==============================] - 13s 7ms/step - loss: 0.2856 - accuracy: 0.8984 - val_loss: 0.3562 - val_accuracy: 0.8701\n",
            "Epoch 5/20\n",
            "1875/1875 [==============================] - 12s 7ms/step - loss: 0.2818 - accuracy: 0.9001 - val_loss: 0.3469 - val_accuracy: 0.8756\n",
            "Epoch 6/20\n",
            "1875/1875 [==============================] - 12s 6ms/step - loss: 0.2784 - accuracy: 0.9020 - val_loss: 0.3424 - val_accuracy: 0.8765\n",
            "Epoch 7/20\n",
            "1875/1875 [==============================] - 12s 6ms/step - loss: 0.2749 - accuracy: 0.9033 - val_loss: 0.3391 - val_accuracy: 0.8795\n",
            "Epoch 8/20\n",
            "1875/1875 [==============================] - 12s 7ms/step - loss: 0.2722 - accuracy: 0.9036 - val_loss: 0.3433 - val_accuracy: 0.8785\n",
            "Epoch 9/20\n",
            "1875/1875 [==============================] - 12s 7ms/step - loss: 0.2687 - accuracy: 0.9052 - val_loss: 0.3507 - val_accuracy: 0.8736\n",
            "Epoch 10/20\n",
            "1875/1875 [==============================] - 11s 6ms/step - loss: 0.2645 - accuracy: 0.9076 - val_loss: 0.3357 - val_accuracy: 0.8797\n",
            "Epoch 11/20\n",
            "1875/1875 [==============================] - 11s 6ms/step - loss: 0.2618 - accuracy: 0.9081 - val_loss: 0.3414 - val_accuracy: 0.8785\n",
            "Epoch 12/20\n",
            "1875/1875 [==============================] - 12s 6ms/step - loss: 0.2589 - accuracy: 0.9090 - val_loss: 0.3353 - val_accuracy: 0.8788\n",
            "Epoch 13/20\n",
            "1875/1875 [==============================] - 12s 6ms/step - loss: 0.2560 - accuracy: 0.9103 - val_loss: 0.3538 - val_accuracy: 0.8724\n",
            "Epoch 14/20\n",
            "1875/1875 [==============================] - 12s 7ms/step - loss: 0.2532 - accuracy: 0.9112 - val_loss: 0.3321 - val_accuracy: 0.8833\n",
            "Epoch 15/20\n",
            "1875/1875 [==============================] - 11s 6ms/step - loss: 0.2506 - accuracy: 0.9115 - val_loss: 0.3317 - val_accuracy: 0.8821\n",
            "Epoch 16/20\n",
            "1875/1875 [==============================] - 12s 6ms/step - loss: 0.2473 - accuracy: 0.9135 - val_loss: 0.3295 - val_accuracy: 0.8812\n",
            "Epoch 17/20\n",
            "1875/1875 [==============================] - 13s 7ms/step - loss: 0.2447 - accuracy: 0.9143 - val_loss: 0.3291 - val_accuracy: 0.8823\n",
            "Epoch 18/20\n",
            "1875/1875 [==============================] - 21s 11ms/step - loss: 0.2423 - accuracy: 0.9147 - val_loss: 0.3271 - val_accuracy: 0.8841\n",
            "Epoch 19/20\n",
            "1875/1875 [==============================] - 16s 9ms/step - loss: 0.2400 - accuracy: 0.9151 - val_loss: 0.3234 - val_accuracy: 0.8841\n",
            "Epoch 20/20\n",
            "1875/1875 [==============================] - 14s 7ms/step - loss: 0.2371 - accuracy: 0.9178 - val_loss: 0.3391 - val_accuracy: 0.8774\n"
          ]
        }
      ]
    },
    {
      "cell_type": "code",
      "source": [
        "plot_loss_curve(h.history)\n",
        "plot_accuracy_curve(h.history)"
      ],
      "metadata": {
        "colab": {
          "base_uri": "https://localhost:8080/",
          "height": 927
        },
        "id": "JpefGdoGQiHt",
        "outputId": "0e67d140-2208-49a1-99d7-a731935f12c0"
      },
      "execution_count": 36,
      "outputs": [
        {
          "output_type": "display_data",
          "data": {
            "text/plain": [
              "<Figure size 640x480 with 1 Axes>"
            ],
            "image/png": "[encoded data removed]"
          },
          "metadata": {}
        },
        {
          "output_type": "display_data",
          "data": {
            "text/plain": [
              "<Figure size 640x480 with 1 Axes>"
            ],
            "image/png": "[encoded data removed]"
          },
          "metadata": {}
        }
      ]
    },
    {
      "cell_type": "markdown",
      "source": [
        "# Combatre l'Overfitting : DropOut"
      ],
      "metadata": {
        "id": "XYZ1szLsP6e4"
      }
    },
    {
      "cell_type": "code",
      "source": [
        "from tensorflow.keras.layers import Dropout"
      ],
      "metadata": {
        "id": "DkcNgn4oR15A"
      },
      "execution_count": 40,
      "outputs": []
    },
    {
      "cell_type": "code",
      "source": [
        "dropout = Dropout(.3, input_shape = (2,))"
      ],
      "metadata": {
        "id": "xTav-01XQm6C"
      },
      "execution_count": 50,
      "outputs": []
    },
    {
      "cell_type": "code",
      "source": [
        "x = np.arange(10).reshape(5,2).astype(np.float32)"
      ],
      "metadata": {
        "id": "xNNTZj7BQzr0"
      },
      "execution_count": 51,
      "outputs": []
    },
    {
      "cell_type": "code",
      "source": [
        "dropout(x, training = True)"
      ],
      "metadata": {
        "colab": {
          "base_uri": "https://localhost:8080/"
        },
        "id": "PAzXrUbpQ__t",
        "outputId": "4377a95c-55b2-4878-f82e-8b1a4e63b9f2"
      },
      "execution_count": 52,
      "outputs": [
        {
          "output_type": "execute_result",
          "data": {
            "text/plain": [
              "<tf.Tensor: shape=(5, 2), dtype=float32, numpy=\n",
              "array([[ 0.       ,  1.4285715],\n",
              "       [ 2.857143 ,  4.285714 ],\n",
              "       [ 0.       ,  0.       ],\n",
              "       [ 8.571428 , 10.       ],\n",
              "       [11.428572 , 12.857143 ]], dtype=float32)>"
            ]
          },
          "metadata": {},
          "execution_count": 52
        }
      ]
    },
    {
      "cell_type": "code",
      "source": [
        "model_dropout = Sequential([\n",
        "    Dense(units = 784, activation = \"relu\"),\n",
        "    Dropout(.5),\n",
        "    Dense(units = 128, activation = \"relu\"),\n",
        "    Dropout(.3),\n",
        "    Dense(units = 10, activation = \"softmax\")\n",
        "  ]\n",
        ")\n",
        "\n",
        "model_dropout.compile(loss = \"categorical_crossentropy\", optimizer = SGD(learning_rate = .01), metrics = [\"accuracy\"])\n",
        "h = model_dropout.fit(flat_training_images, training_labels, epochs = 20, validation_data=(flat_test_images,test_labels))"
      ],
      "metadata": {
        "colab": {
          "base_uri": "https://localhost:8080/"
        },
        "id": "CwNCY6YNRtQ9",
        "outputId": "9ec6072c-6e40-42dd-ef5d-c760d247b5f9"
      },
      "execution_count": 53,
      "outputs": [
        {
          "output_type": "stream",
          "name": "stdout",
          "text": [
            "Epoch 1/20\n",
            "1875/1875 [==============================] - 16s 8ms/step - loss: 0.8739 - accuracy: 0.6937 - val_loss: 0.5577 - val_accuracy: 0.8020\n",
            "Epoch 2/20\n",
            "1875/1875 [==============================] - 14s 8ms/step - loss: 0.5809 - accuracy: 0.7965 - val_loss: 0.4876 - val_accuracy: 0.8235\n",
            "Epoch 3/20\n",
            "1875/1875 [==============================] - 14s 7ms/step - loss: 0.5152 - accuracy: 0.8178 - val_loss: 0.4661 - val_accuracy: 0.8307\n",
            "Epoch 4/20\n",
            "1875/1875 [==============================] - 14s 7ms/step - loss: 0.4788 - accuracy: 0.8311 - val_loss: 0.4287 - val_accuracy: 0.8451\n",
            "Epoch 5/20\n",
            "1875/1875 [==============================] - 14s 8ms/step - loss: 0.4511 - accuracy: 0.8402 - val_loss: 0.4133 - val_accuracy: 0.8478\n",
            "Epoch 6/20\n",
            "1875/1875 [==============================] - 14s 8ms/step - loss: 0.4332 - accuracy: 0.8461 - val_loss: 0.4032 - val_accuracy: 0.8529\n",
            "Epoch 7/20\n",
            "1875/1875 [==============================] - 17s 9ms/step - loss: 0.4203 - accuracy: 0.8501 - val_loss: 0.3988 - val_accuracy: 0.8519\n",
            "Epoch 8/20\n",
            "1875/1875 [==============================] - 14s 8ms/step - loss: 0.4053 - accuracy: 0.8536 - val_loss: 0.3907 - val_accuracy: 0.8585\n",
            "Epoch 9/20\n",
            "1875/1875 [==============================] - 14s 8ms/step - loss: 0.3951 - accuracy: 0.8604 - val_loss: 0.3782 - val_accuracy: 0.8626\n",
            "Epoch 10/20\n",
            "1875/1875 [==============================] - 14s 8ms/step - loss: 0.3846 - accuracy: 0.8615 - val_loss: 0.3769 - val_accuracy: 0.8643\n",
            "Epoch 11/20\n",
            "1875/1875 [==============================] - 14s 8ms/step - loss: 0.3785 - accuracy: 0.8642 - val_loss: 0.3682 - val_accuracy: 0.8652\n",
            "Epoch 12/20\n",
            "1875/1875 [==============================] - 14s 8ms/step - loss: 0.3701 - accuracy: 0.8667 - val_loss: 0.3661 - val_accuracy: 0.8676\n",
            "Epoch 13/20\n",
            "1875/1875 [==============================] - 14s 8ms/step - loss: 0.3639 - accuracy: 0.8694 - val_loss: 0.3659 - val_accuracy: 0.8662\n",
            "Epoch 14/20\n",
            "1875/1875 [==============================] - 15s 8ms/step - loss: 0.3581 - accuracy: 0.8710 - val_loss: 0.3551 - val_accuracy: 0.8705\n",
            "Epoch 15/20\n",
            "1875/1875 [==============================] - 15s 8ms/step - loss: 0.3512 - accuracy: 0.8735 - val_loss: 0.3527 - val_accuracy: 0.8701\n",
            "Epoch 16/20\n",
            "1875/1875 [==============================] - 14s 8ms/step - loss: 0.3446 - accuracy: 0.8754 - val_loss: 0.3499 - val_accuracy: 0.8724\n",
            "Epoch 17/20\n",
            "1875/1875 [==============================] - 14s 8ms/step - loss: 0.3421 - accuracy: 0.8766 - val_loss: 0.3467 - val_accuracy: 0.8750\n",
            "Epoch 18/20\n",
            "1875/1875 [==============================] - 14s 8ms/step - loss: 0.3357 - accuracy: 0.8791 - val_loss: 0.3421 - val_accuracy: 0.8755\n",
            "Epoch 19/20\n",
            "1875/1875 [==============================] - 14s 8ms/step - loss: 0.3320 - accuracy: 0.8792 - val_loss: 0.3442 - val_accuracy: 0.8748\n",
            "Epoch 20/20\n",
            "1875/1875 [==============================] - 14s 8ms/step - loss: 0.3282 - accuracy: 0.8831 - val_loss: 0.3408 - val_accuracy: 0.8754\n"
          ]
        }
      ]
    },
    {
      "cell_type": "code",
      "source": [
        "plot_loss_curve(h.history)\n",
        "plot_accuracy_curve(h.history)"
      ],
      "metadata": {
        "colab": {
          "base_uri": "https://localhost:8080/",
          "height": 927
        },
        "id": "zx6wD2r5Udyd",
        "outputId": "e61428f5-cf92-4098-c849-f02ebc6c32d5"
      },
      "execution_count": 54,
      "outputs": [
        {
          "output_type": "display_data",
          "data": {
            "text/plain": [
              "<Figure size 640x480 with 1 Axes>"
            ],
            "image/png": "[encoded data removed]"
          },
          "metadata": {}
        },
        {
          "output_type": "display_data",
          "data": {
            "text/plain": [
              "<Figure size 640x480 with 1 Axes>"
            ],
            "image/png": "[encoded data removed]"
          },
          "metadata": {}
        }
      ]
    },
    {
      "cell_type": "markdown",
      "source": [
        "Le overfitting a été réduit grâce au Dropout. En désactivant 50% des neurones sur les deux premières couches"
      ],
      "metadata": {
        "id": "Ygjb4U2EU6Jz"
      }
    },
    {
      "cell_type": "code",
      "source": [
        "adam = tf.keras.optimizers.Adam(\n",
        "    learning_rate = .01,\n",
        "    beta_1 = .9,\n",
        "    beta_2 = .999\n",
        ")"
      ],
      "metadata": {
        "id": "DZdVlaDHVxyw"
      },
      "execution_count": 55,
      "outputs": []
    },
    {
      "cell_type": "code",
      "source": [
        "model_adam = Sequential([\n",
        "    Dense(units = 784, activation = \"relu\"),\n",
        "    Dropout(.5),\n",
        "    Dense(units = 128, activation = \"relu\"),\n",
        "    Dropout(.3),\n",
        "    Dense(units = 10, activation = \"softmax\")\n",
        "  ]\n",
        ")\n",
        "\n",
        "model_adam.compile(loss = \"categorical_crossentropy\", optimizer = adam, metrics = [\"accuracy\"])\n",
        "h = model_adam.fit(flat_training_images, training_labels, epochs = 20, validation_data=(flat_test_images,test_labels))"
      ],
      "metadata": {
        "colab": {
          "base_uri": "https://localhost:8080/"
        },
        "id": "2_3Ptc7ZU-gY",
        "outputId": "4bf86f80-fe67-40bc-9084-c9d1c8fe8da2"
      },
      "execution_count": 56,
      "outputs": [
        {
          "output_type": "stream",
          "name": "stdout",
          "text": [
            "Epoch 1/20\n",
            "1875/1875 [==============================] - 26s 14ms/step - loss: 0.7278 - accuracy: 0.7504 - val_loss: 0.4774 - val_accuracy: 0.8281\n",
            "Epoch 2/20\n",
            "1875/1875 [==============================] - 23s 12ms/step - loss: 0.4898 - accuracy: 0.8294 - val_loss: 0.4274 - val_accuracy: 0.8474\n",
            "Epoch 3/20\n",
            "1875/1875 [==============================] - 24s 13ms/step - loss: 0.4323 - accuracy: 0.8471 - val_loss: 0.4037 - val_accuracy: 0.8541\n",
            "Epoch 4/20\n",
            "1875/1875 [==============================] - 25s 13ms/step - loss: 0.4009 - accuracy: 0.8568 - val_loss: 0.3849 - val_accuracy: 0.8615\n",
            "Epoch 5/20\n",
            "1875/1875 [==============================] - 22s 12ms/step - loss: 0.3791 - accuracy: 0.8632 - val_loss: 0.3677 - val_accuracy: 0.8663\n",
            "Epoch 6/20\n",
            "1875/1875 [==============================] - 22s 12ms/step - loss: 0.3610 - accuracy: 0.8711 - val_loss: 0.3580 - val_accuracy: 0.8728\n",
            "Epoch 7/20\n",
            "1875/1875 [==============================] - 23s 12ms/step - loss: 0.3477 - accuracy: 0.8737 - val_loss: 0.3589 - val_accuracy: 0.8683\n",
            "Epoch 8/20\n",
            "1875/1875 [==============================] - 22s 12ms/step - loss: 0.3371 - accuracy: 0.8777 - val_loss: 0.3510 - val_accuracy: 0.8743\n",
            "Epoch 9/20\n",
            "1875/1875 [==============================] - 32s 17ms/step - loss: 0.3267 - accuracy: 0.8810 - val_loss: 0.3384 - val_accuracy: 0.8791\n",
            "Epoch 10/20\n",
            "1875/1875 [==============================] - 26s 14ms/step - loss: 0.3185 - accuracy: 0.8842 - val_loss: 0.3344 - val_accuracy: 0.8777\n",
            "Epoch 11/20\n",
            "1875/1875 [==============================] - 27s 15ms/step - loss: 0.3111 - accuracy: 0.8856 - val_loss: 0.3298 - val_accuracy: 0.8811\n",
            "Epoch 12/20\n",
            "1875/1875 [==============================] - 29s 16ms/step - loss: 0.3040 - accuracy: 0.8881 - val_loss: 0.3252 - val_accuracy: 0.8829\n",
            "Epoch 13/20\n",
            "1875/1875 [==============================] - 30s 16ms/step - loss: 0.2978 - accuracy: 0.8911 - val_loss: 0.3262 - val_accuracy: 0.8828\n",
            "Epoch 14/20\n",
            "1875/1875 [==============================] - 25s 13ms/step - loss: 0.2914 - accuracy: 0.8920 - val_loss: 0.3156 - val_accuracy: 0.8854\n",
            "Epoch 15/20\n",
            "1875/1875 [==============================] - 32s 17ms/step - loss: 0.2858 - accuracy: 0.8957 - val_loss: 0.3188 - val_accuracy: 0.8851\n",
            "Epoch 16/20\n",
            "1875/1875 [==============================] - 21s 11ms/step - loss: 0.2805 - accuracy: 0.8970 - val_loss: 0.3141 - val_accuracy: 0.8854\n",
            "Epoch 17/20\n",
            "1875/1875 [==============================] - 22s 12ms/step - loss: 0.2753 - accuracy: 0.8986 - val_loss: 0.3173 - val_accuracy: 0.8871\n",
            "Epoch 18/20\n",
            "1875/1875 [==============================] - 22s 12ms/step - loss: 0.2712 - accuracy: 0.8997 - val_loss: 0.3105 - val_accuracy: 0.8896\n",
            "Epoch 19/20\n",
            "1875/1875 [==============================] - 27s 14ms/step - loss: 0.2661 - accuracy: 0.9009 - val_loss: 0.3101 - val_accuracy: 0.8920\n",
            "Epoch 20/20\n",
            "1875/1875 [==============================] - 32s 17ms/step - loss: 0.2625 - accuracy: 0.9038 - val_loss: 0.3117 - val_accuracy: 0.8888\n"
          ]
        }
      ]
    },
    {
      "cell_type": "code",
      "source": [
        "plot_loss_curve(h.history)\n",
        "plot_accuracy_curve(h.history)"
      ],
      "metadata": {
        "colab": {
          "base_uri": "https://localhost:8080/",
          "height": 927
        },
        "id": "B1P0a5eAWIQc",
        "outputId": "9149e986-e67d-4244-e9a4-501e77df402a"
      },
      "execution_count": 57,
      "outputs": [
        {
          "output_type": "display_data",
          "data": {
            "text/plain": [
              "<Figure size 640x480 with 1 Axes>"
            ],
            "image/png": "[encoded data removed]"
          },
          "metadata": {}
        },
        {
          "output_type": "display_data",
          "data": {
            "text/plain": [
              "<Figure size 640x480 with 1 Axes>"
            ],
            "image/png": "[encoded data removed]"
          },
          "metadata": {}
        }
      ]
    },
    {
      "cell_type": "markdown",
      "source": [
        "# Model Checkpoint"
      ],
      "metadata": {
        "id": "Bo7i2Ig7W2Fv"
      }
    },
    {
      "cell_type": "code",
      "source": [
        "from tensorflow.keras.callbacks import ModelCheckpoint"
      ],
      "metadata": {
        "id": "175f-78ZW3jE"
      },
      "execution_count": 58,
      "outputs": []
    },
    {
      "cell_type": "code",
      "source": [
        "best_model = \"best_model.h5\"\n",
        "# permet de sauvegarder le meileur modèle au cours de l'entrainement\n",
        "model_ckp = ModelCheckpoint(filepath = best_model,\n",
        "                            monitor = \"val_accuracy\",\n",
        "                            mode =\"max\",\n",
        "                            save_best_only = True)"
      ],
      "metadata": {
        "id": "k7Y47UhQW1QS"
      },
      "execution_count": 64,
      "outputs": []
    },
    {
      "cell_type": "code",
      "source": [
        "model_w_ckp = Sequential([\n",
        "    Dense(units = 784, activation = \"relu\"),\n",
        "    Dropout(.5),\n",
        "    Dense(units = 128, activation = \"relu\"),\n",
        "    Dropout(.3),\n",
        "    Dense(units = 10, activation = \"softmax\")\n",
        "  ]\n",
        ")\n",
        "\n",
        "model_w_ckp.compile(loss = \"categorical_crossentropy\", optimizer = SGD(learning_rate = .01), metrics = [\"accuracy\"])\n",
        "h = model_w_ckp.fit(flat_training_images, training_labels,\n",
        "                    epochs = 30,\n",
        "                    validation_data=(flat_test_images,test_labels),\n",
        "                    callbacks = [model_ckp])"
      ],
      "metadata": {
        "colab": {
          "base_uri": "https://localhost:8080/",
          "height": 1000
        },
        "id": "DOMZ7KgAX23w",
        "outputId": "b8aa6ccb-1aa6-4465-a761-8d9495fac2b4"
      },
      "execution_count": 69,
      "outputs": [
        {
          "output_type": "stream",
          "name": "stdout",
          "text": [
            "Epoch 1/30\n",
            "1875/1875 [==============================] - 16s 8ms/step - loss: 0.8606 - accuracy: 0.6974 - val_loss: 0.5649 - val_accuracy: 0.7994\n",
            "Epoch 2/30\n",
            "1875/1875 [==============================] - 20s 11ms/step - loss: 0.5811 - accuracy: 0.7970 - val_loss: 0.4912 - val_accuracy: 0.8285\n",
            "Epoch 3/30\n",
            "1875/1875 [==============================] - 15s 8ms/step - loss: 0.5137 - accuracy: 0.8198 - val_loss: 0.4524 - val_accuracy: 0.8418\n",
            "Epoch 4/30\n",
            "  25/1875 [..............................] - ETA: 11s - loss: 0.4810 - accuracy: 0.8325"
          ]
        },
        {
          "output_type": "stream",
          "name": "stderr",
          "text": [
            "/usr/local/lib/python3.10/dist-packages/keras/src/engine/training.py:3000: UserWarning: You are saving your model as an HDF5 file via `model.save()`. This file format is considered legacy. We recommend using instead the native Keras format, e.g. `model.save('my_model.keras')`.\n",
            "  saving_api.save_model(\n"
          ]
        },
        {
          "output_type": "stream",
          "name": "stdout",
          "text": [
            "1875/1875 [==============================] - 15s 8ms/step - loss: 0.4762 - accuracy: 0.8324 - val_loss: 0.4309 - val_accuracy: 0.8456\n",
            "Epoch 5/30\n",
            "1875/1875 [==============================] - 20s 11ms/step - loss: 0.4540 - accuracy: 0.8386 - val_loss: 0.4249 - val_accuracy: 0.8455\n",
            "Epoch 6/30\n",
            "1875/1875 [==============================] - 22s 12ms/step - loss: 0.4336 - accuracy: 0.8458 - val_loss: 0.4059 - val_accuracy: 0.8561\n",
            "Epoch 7/30\n",
            "1875/1875 [==============================] - 14s 8ms/step - loss: 0.4189 - accuracy: 0.8503 - val_loss: 0.3976 - val_accuracy: 0.8563\n",
            "Epoch 8/30\n",
            "1875/1875 [==============================] - 17s 9ms/step - loss: 0.4048 - accuracy: 0.8549 - val_loss: 0.3878 - val_accuracy: 0.8592\n",
            "Epoch 9/30\n",
            "1875/1875 [==============================] - 18s 10ms/step - loss: 0.3948 - accuracy: 0.8586 - val_loss: 0.3817 - val_accuracy: 0.8635\n",
            "Epoch 10/30\n",
            "1875/1875 [==============================] - 21s 11ms/step - loss: 0.3892 - accuracy: 0.8612 - val_loss: 0.3745 - val_accuracy: 0.8645\n",
            "Epoch 11/30\n",
            "1875/1875 [==============================] - 16s 9ms/step - loss: 0.3786 - accuracy: 0.8653 - val_loss: 0.3704 - val_accuracy: 0.8647\n",
            "Epoch 12/30\n",
            "1875/1875 [==============================] - 14s 8ms/step - loss: 0.3706 - accuracy: 0.8679 - val_loss: 0.3625 - val_accuracy: 0.8697\n",
            "Epoch 13/30\n",
            "1875/1875 [==============================] - 14s 8ms/step - loss: 0.3635 - accuracy: 0.8697 - val_loss: 0.3609 - val_accuracy: 0.8710\n",
            "Epoch 14/30\n",
            "1875/1875 [==============================] - 15s 8ms/step - loss: 0.3594 - accuracy: 0.8704 - val_loss: 0.3555 - val_accuracy: 0.8721\n",
            "Epoch 15/30\n",
            " 918/1875 [=============>................] - ETA: 7s - loss: 0.3567 - accuracy: 0.8722"
          ]
        },
        {
          "output_type": "error",
          "ename": "KeyboardInterrupt",
          "evalue": "ignored",
          "traceback": [
            "\u001b[0;31m---------------------------------------------------------------------------\u001b[0m",
            "\u001b[0;31mKeyboardInterrupt\u001b[0m                         Traceback (most recent call last)",
            "\u001b[0;32m<ipython-input-69-25478cf72935>\u001b[0m in \u001b[0;36m<cell line: 11>\u001b[0;34m()\u001b[0m\n\u001b[1;32m      9\u001b[0m \u001b[0;34m\u001b[0m\u001b[0m\n\u001b[1;32m     10\u001b[0m \u001b[0mmodel_w_ckp\u001b[0m\u001b[0;34m.\u001b[0m\u001b[0mcompile\u001b[0m\u001b[0;34m(\u001b[0m\u001b[0mloss\u001b[0m \u001b[0;34m=\u001b[0m \u001b[0;34m\"categorical_crossentropy\"\u001b[0m\u001b[0;34m,\u001b[0m \u001b[0moptimizer\u001b[0m \u001b[0;34m=\u001b[0m \u001b[0mSGD\u001b[0m\u001b[0;34m(\u001b[0m\u001b[0mlearning_rate\u001b[0m \u001b[0;34m=\u001b[0m \u001b[0;36m.01\u001b[0m\u001b[0;34m)\u001b[0m\u001b[0;34m,\u001b[0m \u001b[0mmetrics\u001b[0m \u001b[0;34m=\u001b[0m \u001b[0;34m[\u001b[0m\u001b[0;34m\"accuracy\"\u001b[0m\u001b[0;34m]\u001b[0m\u001b[0;34m)\u001b[0m\u001b[0;34m\u001b[0m\u001b[0;34m\u001b[0m\u001b[0m\n\u001b[0;32m---> 11\u001b[0;31m h = model_w_ckp.fit(flat_training_images, training_labels, \n\u001b[0m\u001b[1;32m     12\u001b[0m                     \u001b[0mepochs\u001b[0m \u001b[0;34m=\u001b[0m \u001b[0;36m30\u001b[0m\u001b[0;34m,\u001b[0m\u001b[0;34m\u001b[0m\u001b[0;34m\u001b[0m\u001b[0m\n\u001b[1;32m     13\u001b[0m                     \u001b[0mvalidation_data\u001b[0m\u001b[0;34m=\u001b[0m\u001b[0;34m(\u001b[0m\u001b[0mflat_test_images\u001b[0m\u001b[0;34m,\u001b[0m\u001b[0mtest_labels\u001b[0m\u001b[0;34m)\u001b[0m\u001b[0;34m,\u001b[0m\u001b[0;34m\u001b[0m\u001b[0;34m\u001b[0m\u001b[0m\n",
            "\u001b[0;32m/usr/local/lib/python3.10/dist-packages/keras/src/utils/traceback_utils.py\u001b[0m in \u001b[0;36merror_handler\u001b[0;34m(*args, **kwargs)\u001b[0m\n\u001b[1;32m     63\u001b[0m         \u001b[0mfiltered_tb\u001b[0m \u001b[0;34m=\u001b[0m \u001b[0;32mNone\u001b[0m\u001b[0;34m\u001b[0m\u001b[0;34m\u001b[0m\u001b[0m\n\u001b[1;32m     64\u001b[0m         \u001b[0;32mtry\u001b[0m\u001b[0;34m:\u001b[0m\u001b[0;34m\u001b[0m\u001b[0;34m\u001b[0m\u001b[0m\n\u001b[0;32m---> 65\u001b[0;31m             \u001b[0;32mreturn\u001b[0m \u001b[0mfn\u001b[0m\u001b[0;34m(\u001b[0m\u001b[0;34m*\u001b[0m\u001b[0margs\u001b[0m\u001b[0;34m,\u001b[0m \u001b[0;34m**\u001b[0m\u001b[0mkwargs\u001b[0m\u001b[0;34m)\u001b[0m\u001b[0;34m\u001b[0m\u001b[0;34m\u001b[0m\u001b[0m\n\u001b[0m\u001b[1;32m     66\u001b[0m         \u001b[0;32mexcept\u001b[0m \u001b[0mException\u001b[0m \u001b[0;32mas\u001b[0m \u001b[0me\u001b[0m\u001b[0;34m:\u001b[0m\u001b[0;34m\u001b[0m\u001b[0;34m\u001b[0m\u001b[0m\n\u001b[1;32m     67\u001b[0m             \u001b[0mfiltered_tb\u001b[0m \u001b[0;34m=\u001b[0m \u001b[0m_process_traceback_frames\u001b[0m\u001b[0;34m(\u001b[0m\u001b[0me\u001b[0m\u001b[0;34m.\u001b[0m\u001b[0m__traceback__\u001b[0m\u001b[0;34m)\u001b[0m\u001b[0;34m\u001b[0m\u001b[0;34m\u001b[0m\u001b[0m\n",
            "\u001b[0;32m/usr/local/lib/python3.10/dist-packages/keras/src/engine/training.py\u001b[0m in \u001b[0;36mfit\u001b[0;34m(self, x, y, batch_size, epochs, verbose, callbacks, validation_split, validation_data, shuffle, class_weight, sample_weight, initial_epoch, steps_per_epoch, validation_steps, validation_batch_size, validation_freq, max_queue_size, workers, use_multiprocessing)\u001b[0m\n\u001b[1;32m   1740\u001b[0m                         ):\n\u001b[1;32m   1741\u001b[0m                             \u001b[0mcallbacks\u001b[0m\u001b[0;34m.\u001b[0m\u001b[0mon_train_batch_begin\u001b[0m\u001b[0;34m(\u001b[0m\u001b[0mstep\u001b[0m\u001b[0;34m)\u001b[0m\u001b[0;34m\u001b[0m\u001b[0;34m\u001b[0m\u001b[0m\n\u001b[0;32m-> 1742\u001b[0;31m                             \u001b[0mtmp_logs\u001b[0m \u001b[0;34m=\u001b[0m \u001b[0mself\u001b[0m\u001b[0;34m.\u001b[0m\u001b[0mtrain_function\u001b[0m\u001b[0;34m(\u001b[0m\u001b[0miterator\u001b[0m\u001b[0;34m)\u001b[0m\u001b[0;34m\u001b[0m\u001b[0;34m\u001b[0m\u001b[0m\n\u001b[0m\u001b[1;32m   1743\u001b[0m                             \u001b[0;32mif\u001b[0m \u001b[0mdata_handler\u001b[0m\u001b[0;34m.\u001b[0m\u001b[0mshould_sync\u001b[0m\u001b[0;34m:\u001b[0m\u001b[0;34m\u001b[0m\u001b[0;34m\u001b[0m\u001b[0m\n\u001b[1;32m   1744\u001b[0m                                 \u001b[0mcontext\u001b[0m\u001b[0;34m.\u001b[0m\u001b[0masync_wait\u001b[0m\u001b[0;34m(\u001b[0m\u001b[0;34m)\u001b[0m\u001b[0;34m\u001b[0m\u001b[0;34m\u001b[0m\u001b[0m\n",
            "\u001b[0;32m/usr/local/lib/python3.10/dist-packages/tensorflow/python/util/traceback_utils.py\u001b[0m in \u001b[0;36merror_handler\u001b[0;34m(*args, **kwargs)\u001b[0m\n\u001b[1;32m    148\u001b[0m     \u001b[0mfiltered_tb\u001b[0m \u001b[0;34m=\u001b[0m \u001b[0;32mNone\u001b[0m\u001b[0;34m\u001b[0m\u001b[0;34m\u001b[0m\u001b[0m\n\u001b[1;32m    149\u001b[0m     \u001b[0;32mtry\u001b[0m\u001b[0;34m:\u001b[0m\u001b[0;34m\u001b[0m\u001b[0;34m\u001b[0m\u001b[0m\n\u001b[0;32m--> 150\u001b[0;31m       \u001b[0;32mreturn\u001b[0m \u001b[0mfn\u001b[0m\u001b[0;34m(\u001b[0m\u001b[0;34m*\u001b[0m\u001b[0margs\u001b[0m\u001b[0;34m,\u001b[0m \u001b[0;34m**\u001b[0m\u001b[0mkwargs\u001b[0m\u001b[0;34m)\u001b[0m\u001b[0;34m\u001b[0m\u001b[0;34m\u001b[0m\u001b[0m\n\u001b[0m\u001b[1;32m    151\u001b[0m     \u001b[0;32mexcept\u001b[0m \u001b[0mException\u001b[0m \u001b[0;32mas\u001b[0m \u001b[0me\u001b[0m\u001b[0;34m:\u001b[0m\u001b[0;34m\u001b[0m\u001b[0;34m\u001b[0m\u001b[0m\n\u001b[1;32m    152\u001b[0m       \u001b[0mfiltered_tb\u001b[0m \u001b[0;34m=\u001b[0m \u001b[0m_process_traceback_frames\u001b[0m\u001b[0;34m(\u001b[0m\u001b[0me\u001b[0m\u001b[0;34m.\u001b[0m\u001b[0m__traceback__\u001b[0m\u001b[0;34m)\u001b[0m\u001b[0;34m\u001b[0m\u001b[0;34m\u001b[0m\u001b[0m\n",
            "\u001b[0;32m/usr/local/lib/python3.10/dist-packages/tensorflow/python/eager/polymorphic_function/polymorphic_function.py\u001b[0m in \u001b[0;36m__call__\u001b[0;34m(self, *args, **kwds)\u001b[0m\n\u001b[1;32m    823\u001b[0m \u001b[0;34m\u001b[0m\u001b[0m\n\u001b[1;32m    824\u001b[0m       \u001b[0;32mwith\u001b[0m \u001b[0mOptionalXlaContext\u001b[0m\u001b[0;34m(\u001b[0m\u001b[0mself\u001b[0m\u001b[0;34m.\u001b[0m\u001b[0m_jit_compile\u001b[0m\u001b[0;34m)\u001b[0m\u001b[0;34m:\u001b[0m\u001b[0;34m\u001b[0m\u001b[0;34m\u001b[0m\u001b[0m\n\u001b[0;32m--> 825\u001b[0;31m         \u001b[0mresult\u001b[0m \u001b[0;34m=\u001b[0m \u001b[0mself\u001b[0m\u001b[0;34m.\u001b[0m\u001b[0m_call\u001b[0m\u001b[0;34m(\u001b[0m\u001b[0;34m*\u001b[0m\u001b[0margs\u001b[0m\u001b[0;34m,\u001b[0m \u001b[0;34m**\u001b[0m\u001b[0mkwds\u001b[0m\u001b[0;34m)\u001b[0m\u001b[0;34m\u001b[0m\u001b[0;34m\u001b[0m\u001b[0m\n\u001b[0m\u001b[1;32m    826\u001b[0m \u001b[0;34m\u001b[0m\u001b[0m\n\u001b[1;32m    827\u001b[0m       \u001b[0mnew_tracing_count\u001b[0m \u001b[0;34m=\u001b[0m \u001b[0mself\u001b[0m\u001b[0;34m.\u001b[0m\u001b[0mexperimental_get_tracing_count\u001b[0m\u001b[0;34m(\u001b[0m\u001b[0;34m)\u001b[0m\u001b[0;34m\u001b[0m\u001b[0;34m\u001b[0m\u001b[0m\n",
            "\u001b[0;32m/usr/local/lib/python3.10/dist-packages/tensorflow/python/eager/polymorphic_function/polymorphic_function.py\u001b[0m in \u001b[0;36m_call\u001b[0;34m(self, *args, **kwds)\u001b[0m\n\u001b[1;32m    855\u001b[0m       \u001b[0;31m# In this case we have created variables on the first call, so we run the\u001b[0m\u001b[0;34m\u001b[0m\u001b[0;34m\u001b[0m\u001b[0m\n\u001b[1;32m    856\u001b[0m       \u001b[0;31m# defunned version which is guaranteed to never create variables.\u001b[0m\u001b[0;34m\u001b[0m\u001b[0;34m\u001b[0m\u001b[0m\n\u001b[0;32m--> 857\u001b[0;31m       \u001b[0;32mreturn\u001b[0m \u001b[0mself\u001b[0m\u001b[0;34m.\u001b[0m\u001b[0m_no_variable_creation_fn\u001b[0m\u001b[0;34m(\u001b[0m\u001b[0;34m*\u001b[0m\u001b[0margs\u001b[0m\u001b[0;34m,\u001b[0m \u001b[0;34m**\u001b[0m\u001b[0mkwds\u001b[0m\u001b[0;34m)\u001b[0m  \u001b[0;31m# pylint: disable=not-callable\u001b[0m\u001b[0;34m\u001b[0m\u001b[0;34m\u001b[0m\u001b[0m\n\u001b[0m\u001b[1;32m    858\u001b[0m     \u001b[0;32melif\u001b[0m \u001b[0mself\u001b[0m\u001b[0;34m.\u001b[0m\u001b[0m_variable_creation_fn\u001b[0m \u001b[0;32mis\u001b[0m \u001b[0;32mnot\u001b[0m \u001b[0;32mNone\u001b[0m\u001b[0;34m:\u001b[0m\u001b[0;34m\u001b[0m\u001b[0;34m\u001b[0m\u001b[0m\n\u001b[1;32m    859\u001b[0m       \u001b[0;31m# Release the lock early so that multiple threads can perform the call\u001b[0m\u001b[0;34m\u001b[0m\u001b[0;34m\u001b[0m\u001b[0m\n",
            "\u001b[0;32m/usr/local/lib/python3.10/dist-packages/tensorflow/python/eager/polymorphic_function/tracing_compiler.py\u001b[0m in \u001b[0;36m__call__\u001b[0;34m(self, *args, **kwargs)\u001b[0m\n\u001b[1;32m    146\u001b[0m       (concrete_function,\n\u001b[1;32m    147\u001b[0m        filtered_flat_args) = self._maybe_define_function(args, kwargs)\n\u001b[0;32m--> 148\u001b[0;31m     return concrete_function._call_flat(\n\u001b[0m\u001b[1;32m    149\u001b[0m         filtered_flat_args, captured_inputs=concrete_function.captured_inputs)  # pylint: disable=protected-access\n\u001b[1;32m    150\u001b[0m \u001b[0;34m\u001b[0m\u001b[0m\n",
            "\u001b[0;32m/usr/local/lib/python3.10/dist-packages/tensorflow/python/eager/polymorphic_function/monomorphic_function.py\u001b[0m in \u001b[0;36m_call_flat\u001b[0;34m(self, args, captured_inputs)\u001b[0m\n\u001b[1;32m   1347\u001b[0m         and executing_eagerly):\n\u001b[1;32m   1348\u001b[0m       \u001b[0;31m# No tape is watching; skip to running the function.\u001b[0m\u001b[0;34m\u001b[0m\u001b[0;34m\u001b[0m\u001b[0m\n\u001b[0;32m-> 1349\u001b[0;31m       \u001b[0;32mreturn\u001b[0m \u001b[0mself\u001b[0m\u001b[0;34m.\u001b[0m\u001b[0m_build_call_outputs\u001b[0m\u001b[0;34m(\u001b[0m\u001b[0mself\u001b[0m\u001b[0;34m.\u001b[0m\u001b[0m_inference_function\u001b[0m\u001b[0;34m(\u001b[0m\u001b[0;34m*\u001b[0m\u001b[0margs\u001b[0m\u001b[0;34m)\u001b[0m\u001b[0;34m)\u001b[0m\u001b[0;34m\u001b[0m\u001b[0;34m\u001b[0m\u001b[0m\n\u001b[0m\u001b[1;32m   1350\u001b[0m     forward_backward = self._select_forward_and_backward_functions(\n\u001b[1;32m   1351\u001b[0m         \u001b[0margs\u001b[0m\u001b[0;34m,\u001b[0m\u001b[0;34m\u001b[0m\u001b[0;34m\u001b[0m\u001b[0m\n",
            "\u001b[0;32m/usr/local/lib/python3.10/dist-packages/tensorflow/python/eager/polymorphic_function/atomic_function.py\u001b[0m in \u001b[0;36m__call__\u001b[0;34m(self, *args)\u001b[0m\n\u001b[1;32m    194\u001b[0m         \u001b[0;32mwith\u001b[0m \u001b[0mrecord\u001b[0m\u001b[0;34m.\u001b[0m\u001b[0mstop_recording\u001b[0m\u001b[0;34m(\u001b[0m\u001b[0;34m)\u001b[0m\u001b[0;34m:\u001b[0m\u001b[0;34m\u001b[0m\u001b[0;34m\u001b[0m\u001b[0m\n\u001b[1;32m    195\u001b[0m           \u001b[0;32mif\u001b[0m \u001b[0mself\u001b[0m\u001b[0;34m.\u001b[0m\u001b[0m_bound_context\u001b[0m\u001b[0;34m.\u001b[0m\u001b[0mexecuting_eagerly\u001b[0m\u001b[0;34m(\u001b[0m\u001b[0;34m)\u001b[0m\u001b[0;34m:\u001b[0m\u001b[0;34m\u001b[0m\u001b[0;34m\u001b[0m\u001b[0m\n\u001b[0;32m--> 196\u001b[0;31m             outputs = self._bound_context.call_function(\n\u001b[0m\u001b[1;32m    197\u001b[0m                 \u001b[0mself\u001b[0m\u001b[0;34m.\u001b[0m\u001b[0mname\u001b[0m\u001b[0;34m,\u001b[0m\u001b[0;34m\u001b[0m\u001b[0;34m\u001b[0m\u001b[0m\n\u001b[1;32m    198\u001b[0m                 \u001b[0mlist\u001b[0m\u001b[0;34m(\u001b[0m\u001b[0margs\u001b[0m\u001b[0;34m)\u001b[0m\u001b[0;34m,\u001b[0m\u001b[0;34m\u001b[0m\u001b[0;34m\u001b[0m\u001b[0m\n",
            "\u001b[0;32m/usr/local/lib/python3.10/dist-packages/tensorflow/python/eager/context.py\u001b[0m in \u001b[0;36mcall_function\u001b[0;34m(self, name, tensor_inputs, num_outputs)\u001b[0m\n\u001b[1;32m   1455\u001b[0m     \u001b[0mcancellation_context\u001b[0m \u001b[0;34m=\u001b[0m \u001b[0mcancellation\u001b[0m\u001b[0;34m.\u001b[0m\u001b[0mcontext\u001b[0m\u001b[0;34m(\u001b[0m\u001b[0;34m)\u001b[0m\u001b[0;34m\u001b[0m\u001b[0;34m\u001b[0m\u001b[0m\n\u001b[1;32m   1456\u001b[0m     \u001b[0;32mif\u001b[0m \u001b[0mcancellation_context\u001b[0m \u001b[0;32mis\u001b[0m \u001b[0;32mNone\u001b[0m\u001b[0;34m:\u001b[0m\u001b[0;34m\u001b[0m\u001b[0;34m\u001b[0m\u001b[0m\n\u001b[0;32m-> 1457\u001b[0;31m       outputs = execute.execute(\n\u001b[0m\u001b[1;32m   1458\u001b[0m           \u001b[0mname\u001b[0m\u001b[0;34m.\u001b[0m\u001b[0mdecode\u001b[0m\u001b[0;34m(\u001b[0m\u001b[0;34m\"utf-8\"\u001b[0m\u001b[0;34m)\u001b[0m\u001b[0;34m,\u001b[0m\u001b[0;34m\u001b[0m\u001b[0;34m\u001b[0m\u001b[0m\n\u001b[1;32m   1459\u001b[0m           \u001b[0mnum_outputs\u001b[0m\u001b[0;34m=\u001b[0m\u001b[0mnum_outputs\u001b[0m\u001b[0;34m,\u001b[0m\u001b[0;34m\u001b[0m\u001b[0;34m\u001b[0m\u001b[0m\n",
            "\u001b[0;32m/usr/local/lib/python3.10/dist-packages/tensorflow/python/eager/execute.py\u001b[0m in \u001b[0;36mquick_execute\u001b[0;34m(op_name, num_outputs, inputs, attrs, ctx, name)\u001b[0m\n\u001b[1;32m     51\u001b[0m   \u001b[0;32mtry\u001b[0m\u001b[0;34m:\u001b[0m\u001b[0;34m\u001b[0m\u001b[0;34m\u001b[0m\u001b[0m\n\u001b[1;32m     52\u001b[0m     \u001b[0mctx\u001b[0m\u001b[0;34m.\u001b[0m\u001b[0mensure_initialized\u001b[0m\u001b[0;34m(\u001b[0m\u001b[0;34m)\u001b[0m\u001b[0;34m\u001b[0m\u001b[0;34m\u001b[0m\u001b[0m\n\u001b[0;32m---> 53\u001b[0;31m     tensors = pywrap_tfe.TFE_Py_Execute(ctx._handle, device_name, op_name,\n\u001b[0m\u001b[1;32m     54\u001b[0m                                         inputs, attrs, num_outputs)\n\u001b[1;32m     55\u001b[0m   \u001b[0;32mexcept\u001b[0m \u001b[0mcore\u001b[0m\u001b[0;34m.\u001b[0m\u001b[0m_NotOkStatusException\u001b[0m \u001b[0;32mas\u001b[0m \u001b[0me\u001b[0m\u001b[0;34m:\u001b[0m\u001b[0;34m\u001b[0m\u001b[0;34m\u001b[0m\u001b[0m\n",
            "\u001b[0;31mKeyboardInterrupt\u001b[0m: "
          ]
        }
      ]
    },
    {
      "cell_type": "code",
      "source": [
        "model_save = tf.keras.models.load_model('best_model.h5')"
      ],
      "metadata": {
        "id": "QL1ddibJY4mx"
      },
      "execution_count": 71,
      "outputs": []
    },
    {
      "cell_type": "code",
      "source": [
        "model_save.evaluate(flat_test_images,test_labels)"
      ],
      "metadata": {
        "colab": {
          "base_uri": "https://localhost:8080/"
        },
        "id": "-G3sJMViZoTE",
        "outputId": "d4b25620-041f-481b-b6b3-c1f59d1885aa"
      },
      "execution_count": 72,
      "outputs": [
        {
          "output_type": "stream",
          "name": "stdout",
          "text": [
            "313/313 [==============================] - 1s 4ms/step - loss: 0.3555 - accuracy: 0.8721\n"
          ]
        },
        {
          "output_type": "execute_result",
          "data": {
            "text/plain": [
              "[0.3554961085319519, 0.8720999956130981]"
            ]
          },
          "metadata": {},
          "execution_count": 72
        }
      ]
    },
    {
      "cell_type": "markdown",
      "source": [
        "# Early Stopping"
      ],
      "metadata": {
        "id": "tStSX-JiaQDY"
      }
    },
    {
      "cell_type": "code",
      "source": [
        "stop = tf.keras.callbacks.EarlyStopping(monitor = \"val_accuracy\", patience = 2)"
      ],
      "metadata": {
        "id": "h-bA0X1NaOyp"
      },
      "execution_count": 70,
      "outputs": []
    },
    {
      "cell_type": "code",
      "source": [
        "model_w_ckp2 = Sequential([\n",
        "    Dense(units = 784, activation = \"relu\"),\n",
        "    Dropout(.5),\n",
        "    Dense(units = 128, activation = \"relu\"),\n",
        "    Dropout(.3),\n",
        "    Dense(units = 10, activation = \"softmax\")\n",
        "  ]\n",
        ")\n",
        "\n",
        "model_w_ckp2.compile(loss = \"categorical_crossentropy\", optimizer = SGD(learning_rate = .01), metrics = [\"accuracy\"])\n",
        "h = model_w_ckp2.fit(flat_training_images, training_labels,\n",
        "                    epochs = 1000,\n",
        "                    validation_data=(flat_test_images,test_labels),\n",
        "                    callbacks = [model_ckp, stop])"
      ],
      "metadata": {
        "colab": {
          "base_uri": "https://localhost:8080/"
        },
        "id": "JTvhk3rKZubn",
        "outputId": "50de3b83-b545-4315-85a2-103199707c1d"
      },
      "execution_count": 73,
      "outputs": [
        {
          "output_type": "stream",
          "name": "stdout",
          "text": [
            "Epoch 1/1000\n",
            "1875/1875 [==============================] - 15s 8ms/step - loss: 0.8569 - accuracy: 0.7016 - val_loss: 0.5481 - val_accuracy: 0.8075\n",
            "Epoch 2/1000\n",
            "1875/1875 [==============================] - 17s 9ms/step - loss: 0.5750 - accuracy: 0.8004 - val_loss: 0.4809 - val_accuracy: 0.8287\n",
            "Epoch 3/1000\n",
            "1875/1875 [==============================] - 15s 8ms/step - loss: 0.5106 - accuracy: 0.8196 - val_loss: 0.4527 - val_accuracy: 0.8387\n",
            "Epoch 4/1000\n",
            "1875/1875 [==============================] - 15s 8ms/step - loss: 0.4760 - accuracy: 0.8326 - val_loss: 0.4309 - val_accuracy: 0.8443\n",
            "Epoch 5/1000\n",
            "1875/1875 [==============================] - 16s 9ms/step - loss: 0.4498 - accuracy: 0.8422 - val_loss: 0.4148 - val_accuracy: 0.8512\n",
            "Epoch 6/1000\n",
            "1875/1875 [==============================] - 14s 8ms/step - loss: 0.4296 - accuracy: 0.8466 - val_loss: 0.4095 - val_accuracy: 0.8525\n",
            "Epoch 7/1000\n",
            "1875/1875 [==============================] - 15s 8ms/step - loss: 0.4156 - accuracy: 0.8529 - val_loss: 0.3927 - val_accuracy: 0.8571\n",
            "Epoch 8/1000\n",
            "1875/1875 [==============================] - 14s 8ms/step - loss: 0.4023 - accuracy: 0.8561 - val_loss: 0.3877 - val_accuracy: 0.8583\n",
            "Epoch 9/1000\n",
            "1875/1875 [==============================] - 14s 8ms/step - loss: 0.3944 - accuracy: 0.8590 - val_loss: 0.3792 - val_accuracy: 0.8643\n",
            "Epoch 10/1000\n",
            "1875/1875 [==============================] - 14s 8ms/step - loss: 0.3828 - accuracy: 0.8624 - val_loss: 0.3742 - val_accuracy: 0.8657\n",
            "Epoch 11/1000\n",
            "1875/1875 [==============================] - 15s 8ms/step - loss: 0.3763 - accuracy: 0.8659 - val_loss: 0.3710 - val_accuracy: 0.8666\n",
            "Epoch 12/1000\n",
            "1875/1875 [==============================] - 16s 9ms/step - loss: 0.3680 - accuracy: 0.8678 - val_loss: 0.3661 - val_accuracy: 0.8654\n",
            "Epoch 13/1000\n",
            "1875/1875 [==============================] - 14s 8ms/step - loss: 0.3620 - accuracy: 0.8704 - val_loss: 0.3615 - val_accuracy: 0.8682\n",
            "Epoch 14/1000\n",
            "1875/1875 [==============================] - 15s 8ms/step - loss: 0.3564 - accuracy: 0.8722 - val_loss: 0.3554 - val_accuracy: 0.8715\n",
            "Epoch 15/1000\n",
            "1875/1875 [==============================] - 15s 8ms/step - loss: 0.3498 - accuracy: 0.8741 - val_loss: 0.3541 - val_accuracy: 0.8739\n",
            "Epoch 16/1000\n",
            "  27/1875 [..............................] - ETA: 11s - loss: 0.3148 - accuracy: 0.8831"
          ]
        },
        {
          "output_type": "stream",
          "name": "stderr",
          "text": [
            "/usr/local/lib/python3.10/dist-packages/keras/src/engine/training.py:3000: UserWarning: You are saving your model as an HDF5 file via `model.save()`. This file format is considered legacy. We recommend using instead the native Keras format, e.g. `model.save('my_model.keras')`.\n",
            "  saving_api.save_model(\n"
          ]
        },
        {
          "output_type": "stream",
          "name": "stdout",
          "text": [
            "1875/1875 [==============================] - 14s 8ms/step - loss: 0.3440 - accuracy: 0.8784 - val_loss: 0.3487 - val_accuracy: 0.8739\n",
            "Epoch 17/1000\n",
            "1875/1875 [==============================] - 14s 8ms/step - loss: 0.3398 - accuracy: 0.8785 - val_loss: 0.3484 - val_accuracy: 0.8743\n",
            "Epoch 18/1000\n",
            "1875/1875 [==============================] - 14s 8ms/step - loss: 0.3364 - accuracy: 0.8794 - val_loss: 0.3420 - val_accuracy: 0.8758\n",
            "Epoch 19/1000\n",
            "1875/1875 [==============================] - 14s 7ms/step - loss: 0.3299 - accuracy: 0.8810 - val_loss: 0.3478 - val_accuracy: 0.8738\n",
            "Epoch 20/1000\n",
            "1875/1875 [==============================] - 15s 8ms/step - loss: 0.3274 - accuracy: 0.8829 - val_loss: 0.3376 - val_accuracy: 0.8790\n",
            "Epoch 21/1000\n",
            "1875/1875 [==============================] - 14s 8ms/step - loss: 0.3227 - accuracy: 0.8850 - val_loss: 0.3400 - val_accuracy: 0.8760\n",
            "Epoch 22/1000\n",
            "1875/1875 [==============================] - 14s 7ms/step - loss: 0.3176 - accuracy: 0.8852 - val_loss: 0.3333 - val_accuracy: 0.8795\n",
            "Epoch 23/1000\n",
            "1875/1875 [==============================] - 16s 9ms/step - loss: 0.3143 - accuracy: 0.8851 - val_loss: 0.3334 - val_accuracy: 0.8798\n",
            "Epoch 24/1000\n",
            "1875/1875 [==============================] - 17s 9ms/step - loss: 0.3100 - accuracy: 0.8885 - val_loss: 0.3336 - val_accuracy: 0.8798\n",
            "Epoch 25/1000\n",
            "1875/1875 [==============================] - 14s 8ms/step - loss: 0.3091 - accuracy: 0.8877 - val_loss: 0.3287 - val_accuracy: 0.8809\n",
            "Epoch 26/1000\n",
            "1875/1875 [==============================] - 14s 8ms/step - loss: 0.3049 - accuracy: 0.8899 - val_loss: 0.3282 - val_accuracy: 0.8832\n",
            "Epoch 27/1000\n",
            "1875/1875 [==============================] - 16s 9ms/step - loss: 0.2998 - accuracy: 0.8900 - val_loss: 0.3264 - val_accuracy: 0.8801\n",
            "Epoch 28/1000\n",
            "1875/1875 [==============================] - 15s 8ms/step - loss: 0.2984 - accuracy: 0.8914 - val_loss: 0.3240 - val_accuracy: 0.8831\n"
          ]
        }
      ]
    },
    {
      "cell_type": "markdown",
      "source": [
        "# Predictions"
      ],
      "metadata": {
        "id": "cqm6UsOWcj4C"
      }
    },
    {
      "cell_type": "code",
      "source": [
        "model_save = tf.keras.models.load_model('best_model.h5')"
      ],
      "metadata": {
        "id": "BVWryXF5ceuF"
      },
      "execution_count": 74,
      "outputs": []
    },
    {
      "cell_type": "code",
      "source": [
        "model_save.summary()"
      ],
      "metadata": {
        "colab": {
          "base_uri": "https://localhost:8080/"
        },
        "id": "ZRt3PzUxdAkb",
        "outputId": "ae84104f-5782-4ddf-a4f0-374779d93e04"
      },
      "execution_count": 75,
      "outputs": [
        {
          "output_type": "stream",
          "name": "stdout",
          "text": [
            "Model: \"sequential_10\"\n",
            "_________________________________________________________________\n",
            " Layer (type)                Output Shape              Param #   \n",
            "=================================================================\n",
            " dense_26 (Dense)            (None, 784)               615440    \n",
            "                                                                 \n",
            " dropout_15 (Dropout)        (None, 784)               0         \n",
            "                                                                 \n",
            " dense_27 (Dense)            (None, 128)               100480    \n",
            "                                                                 \n",
            " dropout_16 (Dropout)        (None, 128)               0         \n",
            "                                                                 \n",
            " dense_28 (Dense)            (None, 10)                1290      \n",
            "                                                                 \n",
            "=================================================================\n",
            "Total params: 717210 (2.74 MB)\n",
            "Trainable params: 717210 (2.74 MB)\n",
            "Non-trainable params: 0 (0.00 Byte)\n",
            "_________________________________________________________________\n"
          ]
        }
      ]
    },
    {
      "cell_type": "code",
      "source": [
        "flat_test_images[12].shape"
      ],
      "metadata": {
        "colab": {
          "base_uri": "https://localhost:8080/"
        },
        "id": "kEKY1HiZdFnq",
        "outputId": "73825bc4-96b0-40f5-e393-cdd2a77f73f2"
      },
      "execution_count": 88,
      "outputs": [
        {
          "output_type": "execute_result",
          "data": {
            "text/plain": [
              "(784,)"
            ]
          },
          "metadata": {},
          "execution_count": 88
        }
      ]
    },
    {
      "cell_type": "code",
      "source": [
        "test_labels[12]"
      ],
      "metadata": {
        "colab": {
          "base_uri": "https://localhost:8080/"
        },
        "id": "JMgMngTJdelj",
        "outputId": "1484faaa-2cc0-42a4-9e64-f81db26f95de"
      },
      "execution_count": 90,
      "outputs": [
        {
          "output_type": "execute_result",
          "data": {
            "text/plain": [
              "array([0., 0., 0., 0., 0., 0., 0., 1., 0., 0.], dtype=float32)"
            ]
          },
          "metadata": {},
          "execution_count": 90
        }
      ]
    },
    {
      "cell_type": "code",
      "source": [
        "np.argmax(test_labels[12])"
      ],
      "metadata": {
        "colab": {
          "base_uri": "https://localhost:8080/"
        },
        "id": "6CCIW1srdkbB",
        "outputId": "48dbda4b-6f97-4ea0-fdd4-5dc3b48ae8f8"
      },
      "execution_count": 96,
      "outputs": [
        {
          "output_type": "execute_result",
          "data": {
            "text/plain": [
              "7"
            ]
          },
          "metadata": {},
          "execution_count": 96
        }
      ]
    },
    {
      "cell_type": "code",
      "source": [
        "labels[7]"
      ],
      "metadata": {
        "colab": {
          "base_uri": "https://localhost:8080/",
          "height": 36
        },
        "id": "ZIPYhFOAdoQL",
        "outputId": "7a4be826-ac6a-4b87-eaef-d2ef9fc8bbed"
      },
      "execution_count": 97,
      "outputs": [
        {
          "output_type": "execute_result",
          "data": {
            "text/plain": [
              "'Sneaker'"
            ],
            "application/vnd.google.colaboratory.intrinsic+json": {
              "type": "string"
            }
          },
          "metadata": {},
          "execution_count": 97
        }
      ]
    },
    {
      "cell_type": "code",
      "source": [
        "pred = model.predict(flat_test_images[12].reshape((1,784)))"
      ],
      "metadata": {
        "colab": {
          "base_uri": "https://localhost:8080/"
        },
        "id": "ZnscyG3Odrd8",
        "outputId": "d461738b-b65c-4234-c018-38287043e3a1"
      },
      "execution_count": 98,
      "outputs": [
        {
          "output_type": "stream",
          "name": "stdout",
          "text": [
            "1/1 [==============================] - 0s 23ms/step\n"
          ]
        }
      ]
    },
    {
      "cell_type": "code",
      "source": [
        "pred"
      ],
      "metadata": {
        "colab": {
          "base_uri": "https://localhost:8080/"
        },
        "id": "tJ3Ner7SdwZl",
        "outputId": "5d1ec32c-2410-45c1-b6f2-c801e2a5ceea"
      },
      "execution_count": 99,
      "outputs": [
        {
          "output_type": "execute_result",
          "data": {
            "text/plain": [
              "array([[0.04732384, 0.06557103, 0.04127071, 0.05668237, 0.03319627,\n",
              "        0.25638226, 0.03531777, 0.2729944 , 0.1180804 , 0.07318087]],\n",
              "      dtype=float32)"
            ]
          },
          "metadata": {},
          "execution_count": 99
        }
      ]
    },
    {
      "cell_type": "code",
      "source": [
        "np.argmax(pred)"
      ],
      "metadata": {
        "colab": {
          "base_uri": "https://localhost:8080/"
        },
        "id": "2yTxGb_KeEwl",
        "outputId": "4511edd5-c8a1-444f-8ab3-359420329f0b"
      },
      "execution_count": 100,
      "outputs": [
        {
          "output_type": "execute_result",
          "data": {
            "text/plain": [
              "7"
            ]
          },
          "metadata": {},
          "execution_count": 100
        }
      ]
    },
    {
      "cell_type": "code",
      "source": [
        "labels[7]"
      ],
      "metadata": {
        "colab": {
          "base_uri": "https://localhost:8080/",
          "height": 36
        },
        "id": "zOWQcj34ePFz",
        "outputId": "cf537c0d-2234-4b0f-a2ef-267abd8bc60f"
      },
      "execution_count": 101,
      "outputs": [
        {
          "output_type": "execute_result",
          "data": {
            "text/plain": [
              "'Sneaker'"
            ],
            "application/vnd.google.colaboratory.intrinsic+json": {
              "type": "string"
            }
          },
          "metadata": {},
          "execution_count": 101
        }
      ]
    },
    {
      "cell_type": "code",
      "source": [],
      "metadata": {
        "id": "MmQKCYfFeR3z"
      },
      "execution_count": null,
      "outputs": []
    }
  ]
}