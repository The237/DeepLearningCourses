{
  "nbformat": 4,
  "nbformat_minor": 0,
  "metadata": {
    "colab": {
      "provenance": [],
      "authorship_tag": "ABX9TyMYaRj9lfr2GgElPJdtS1oo",
      "include_colab_link": true
    },
    "kernelspec": {
      "name": "python3",
      "display_name": "Python 3"
    },
    "language_info": {
      "name": "python"
    }
  },
  "cells": [
    {
      "cell_type": "markdown",
      "metadata": {
        "id": "view-in-github",
        "colab_type": "text"
      },
      "source": [
        "<a href=\"https://colab.research.google.com/github/The237/DeepLearningCourses/blob/main/01_06_Regression_Lineaire.ipynb\" target=\"_parent\"><img src=\"https://colab.research.google.com/assets/colab-badge.svg\" alt=\"Open In Colab\"/></a>"
      ]
    },
    {
      "cell_type": "code",
      "execution_count": 4,
      "metadata": {
        "id": "WqPsKvj8m7-O"
      },
      "outputs": [],
      "source": [
        "import pandas as pd\n",
        "import numpy as np\n",
        "\n",
        "data_url = \"http://lib.stat.cmu.edu/datasets/boston\"\n",
        "raw_df = pd.read_csv(data_url, sep=\"\\s+\", skiprows=22, header = None)\n",
        "data = np.hstack([raw_df.values[::2, :], raw_df.values[1::2, :2]])\n",
        "target = raw_df.values[1::2, 2]\n",
        "data = data\n",
        "target = target"
      ]
    },
    {
      "cell_type": "code",
      "source": [
        "from sklearn.model_selection import train_test_split\n",
        "from sklearn.preprocessing import StandardScaler"
      ],
      "metadata": {
        "id": "8O1ByqSTq0-0"
      },
      "execution_count": 5,
      "outputs": []
    },
    {
      "cell_type": "code",
      "source": [
        "data.shape"
      ],
      "metadata": {
        "colab": {
          "base_uri": "https://localhost:8080/"
        },
        "id": "c9TIJ86eoNAg",
        "outputId": "e344bde6-f1ee-48a8-d8f4-6016335d5f98"
      },
      "execution_count": null,
      "outputs": [
        {
          "output_type": "execute_result",
          "data": {
            "text/plain": [
              "(506, 13)"
            ]
          },
          "metadata": {},
          "execution_count": 12
        }
      ]
    },
    {
      "cell_type": "code",
      "source": [
        "target.shape"
      ],
      "metadata": {
        "colab": {
          "base_uri": "https://localhost:8080/"
        },
        "id": "5-uyaAkcomUF",
        "outputId": "b2134af3-01bb-456b-d4d8-48cc80f68166"
      },
      "execution_count": null,
      "outputs": [
        {
          "output_type": "execute_result",
          "data": {
            "text/plain": [
              "(506,)"
            ]
          },
          "metadata": {},
          "execution_count": 13
        }
      ]
    },
    {
      "cell_type": "code",
      "source": [
        "X = data"
      ],
      "metadata": {
        "id": "3urphq2TpTg3"
      },
      "execution_count": 6,
      "outputs": []
    },
    {
      "cell_type": "code",
      "source": [
        "y = target.reshape((len(data),1))"
      ],
      "metadata": {
        "id": "jufAyYsIpdi6"
      },
      "execution_count": 7,
      "outputs": []
    },
    {
      "cell_type": "markdown",
      "source": [
        "# Train test split"
      ],
      "metadata": {
        "id": "xtwXCgzIrZ-F"
      }
    },
    {
      "cell_type": "code",
      "source": [
        "X_train, X_test, y_train, y_test = train_test_split(X, y, test_size = .25, random_state = 0)"
      ],
      "metadata": {
        "id": "CWRiw2-Lq7Oi"
      },
      "execution_count": 8,
      "outputs": []
    },
    {
      "cell_type": "code",
      "source": [
        "X_train.shape"
      ],
      "metadata": {
        "colab": {
          "base_uri": "https://localhost:8080/"
        },
        "id": "G3A1HF2srJRr",
        "outputId": "4b85b91c-f595-43df-8ae7-7fb0904214fb"
      },
      "execution_count": null,
      "outputs": [
        {
          "output_type": "execute_result",
          "data": {
            "text/plain": [
              "(379, 13)"
            ]
          },
          "metadata": {},
          "execution_count": 21
        }
      ]
    },
    {
      "cell_type": "code",
      "source": [
        "X_test.shape"
      ],
      "metadata": {
        "colab": {
          "base_uri": "https://localhost:8080/"
        },
        "id": "CPtz2crMrKaI",
        "outputId": "6a9b8261-8a25-4ce9-cb90-feb9f668037a"
      },
      "execution_count": null,
      "outputs": [
        {
          "output_type": "execute_result",
          "data": {
            "text/plain": [
              "(127, 13)"
            ]
          },
          "metadata": {},
          "execution_count": 22
        }
      ]
    },
    {
      "cell_type": "markdown",
      "source": [
        "# Standard scaler"
      ],
      "metadata": {
        "id": "9_5Mq4cjrdV5"
      }
    },
    {
      "cell_type": "code",
      "source": [
        "scaler = StandardScaler()\n",
        "X_train = scaler.fit_transform(X_train)\n",
        "X_test = scaler.transform(X_test)"
      ],
      "metadata": {
        "id": "YSxunlJdrX8l"
      },
      "execution_count": 9,
      "outputs": []
    },
    {
      "cell_type": "markdown",
      "source": [
        "# Entrainement du modèle"
      ],
      "metadata": {
        "id": "R7WOPJnltyXJ"
      }
    },
    {
      "cell_type": "code",
      "source": [
        "# define a loss function based on mean squared\n",
        "def erreur(X, Y, params):\n",
        "  info = {}\n",
        "  M = np.dot(X,params[\"W\"])\n",
        "\n",
        "  P = M+params[\"B\"]\n",
        "\n",
        "  L = np.mean((Y-P)**2)\n",
        "\n",
        "  info[\"M\"] = M\n",
        "  info[\"P\"] = P\n",
        "  info[\"X\"] = X\n",
        "  info[\"Y\"] = Y\n",
        "\n",
        "  return L, info"
      ],
      "metadata": {
        "id": "z7Zw5zhergVC"
      },
      "execution_count": 10,
      "outputs": []
    },
    {
      "cell_type": "code",
      "source": [
        "def gradient(info, params):\n",
        "  grads = {}\n",
        "\n",
        "  dL_dP = -2*(info[\"Y\"] - info[\"P\"]) # shape (4,1)\n",
        "\n",
        "  dP_dM = 1\n",
        "\n",
        "  dM_dW = info[\"X\"].T # shape (3,4)\n",
        "\n",
        "  dL_dW = np.dot(dM_dW,dL_dP) * dP_dM\n",
        "\n",
        "  grads[\"W\"] = dL_dW\n",
        "\n",
        "  dP_dB = 1\n",
        "  dL_dB = dL_dP * dP_dB # shape (4,1) *1\n",
        "\n",
        "  grads[\"B\"] = np.sum(dL_dB)\n",
        "\n",
        "  return grads"
      ],
      "metadata": {
        "id": "tIEEX6e_t_uT"
      },
      "execution_count": 11,
      "outputs": []
    },
    {
      "cell_type": "code",
      "source": [
        "def train(X, Y, epoch, lr):\n",
        "  # weights initialization\n",
        "  np.random.seed(42)\n",
        "  n_features = X.shape[1]\n",
        "  params = {}\n",
        "  params[\"W\"] = np.random.randn(n_features,1)\n",
        "  params[\"B\"] = np.random.randn(1,1)\n",
        "\n",
        "  errors = []\n",
        "  for i in range(epoch):\n",
        "\n",
        "    # forward\n",
        "    loss , info = erreur(X,Y, params)\n",
        "    errors.append(loss)\n",
        "    print(f'Epoch {i+1} ............. loss : {loss}')\n",
        "\n",
        "    # backward\n",
        "    grads = gradient(info, params)\n",
        "\n",
        "    # update\n",
        "    for p in params:\n",
        "      params[p] -= lr*grads[p]\n",
        "\n",
        "  return params, errors"
      ],
      "metadata": {
        "id": "lpv7lWSyuGVY"
      },
      "execution_count": 12,
      "outputs": []
    },
    {
      "cell_type": "code",
      "source": [
        "params, errors = train(X_train, y_train, epoch = 50, lr = .0001)"
      ],
      "metadata": {
        "id": "k2dJIOKJulqH",
        "outputId": "8cc911c4-3839-475f-d9f5-286e16325728",
        "colab": {
          "base_uri": "https://localhost:8080/"
        }
      },
      "execution_count": 13,
      "outputs": [
        {
          "output_type": "stream",
          "name": "stdout",
          "text": [
            "Epoch 1 ............. loss : 712.1743316753176\n",
            "Epoch 2 ............. loss : 576.9266828543414\n",
            "Epoch 3 ............. loss : 485.858491899185\n",
            "Epoch 4 ............. loss : 415.2086742559719\n",
            "Epoch 5 ............. loss : 356.9632229723388\n",
            "Epoch 6 ............. loss : 307.84342137397\n",
            "Epoch 7 ............. loss : 266.08549083943615\n",
            "Epoch 8 ............. loss : 230.48512859031536\n",
            "Epoch 9 ............. loss : 200.10246942244535\n",
            "Epoch 10 ............. loss : 174.16135658526716\n",
            "Epoch 11 ............. loss : 152.00725038460388\n",
            "Epoch 12 ............. loss : 133.0840641810185\n",
            "Epoch 13 ............. loss : 116.91811788815627\n",
            "Epoch 14 ............. loss : 103.1055392228527\n",
            "Epoch 15 ............. loss : 91.30184176600252\n",
            "Epoch 16 ............. loss : 81.21313594214138\n",
            "Epoch 17 ............. loss : 72.58866623374146\n",
            "Epoch 18 ............. loss : 65.21445904094307\n",
            "Epoch 19 ............. loss : 58.90791093686188\n",
            "Epoch 20 ............. loss : 53.51317628743457\n",
            "Epoch 21 ............. loss : 48.89723533426671\n",
            "Epoch 22 ............. loss : 44.94654186494025\n",
            "Epoch 23 ............. loss : 41.56416469328747\n",
            "Epoch 24 ............. loss : 38.66734994534333\n",
            "Epoch 25 ............. loss : 36.18544199214979\n",
            "Epoch 26 ............. loss : 34.05811009190945\n",
            "Epoch 27 ............. loss : 32.23383564908883\n",
            "Epoch 28 ............. loss : 30.668621674541736\n",
            "Epoch 29 ............. loss : 29.32489171394951\n",
            "Epoch 30 ............. loss : 28.17055035055097\n",
            "Epoch 31 ............. loss : 27.178181508474616\n",
            "Epoch 32 ............. loss : 26.32436429220324\n",
            "Epoch 33 ............. loss : 25.589089086896347\n",
            "Epoch 34 ............. loss : 24.955259190901447\n",
            "Epoch 35 ............. loss : 24.408265421638085\n",
            "Epoch 36 ............. loss : 23.935622985122276\n",
            "Epoch 37 ............. loss : 23.526661475334265\n",
            "Epoch 38 ............. loss : 23.17226021293382\n",
            "Epoch 39 ............. loss : 22.86462227796757\n",
            "Epoch 40 ............. loss : 22.59708156753494\n",
            "Epoch 41 ............. loss : 22.363938041857786\n",
            "Epoch 42 ............. loss : 22.1603170321004\n",
            "Epoch 43 ............. loss : 21.982049088718636\n",
            "Epoch 44 ............. loss : 21.825567365501144\n",
            "Epoch 45 ............. loss : 21.68781997493991\n",
            "Epoch 46 ............. loss : 21.56619512632209\n",
            "Epoch 47 ............. loss : 21.458457178506563\n",
            "Epoch 48 ............. loss : 21.36269201286263\n",
            "Epoch 49 ............. loss : 21.277260365230358\n",
            "Epoch 50 ............. loss : 21.200757954915026\n"
          ]
        }
      ]
    },
    {
      "cell_type": "code",
      "source": [
        "import matplotlib.pyplot as plt"
      ],
      "metadata": {
        "id": "EtB_mXgOulf2"
      },
      "execution_count": 14,
      "outputs": []
    },
    {
      "cell_type": "code",
      "source": [
        "plt.plot(list(range(len(errors))), errors)\n",
        "plt.xlabel(\"Epochs\")\n",
        "plt.ylabel(\"Loss\")\n",
        "plt.title(\"Learning Curve\")\n",
        "plt.show()"
      ],
      "metadata": {
        "colab": {
          "base_uri": "https://localhost:8080/",
          "height": 472
        },
        "id": "45fvjA4LwM9e",
        "outputId": "8fd36f11-5022-4059-ddcb-74dff14e0a9f"
      },
      "execution_count": 15,
      "outputs": [
        {
          "output_type": "display_data",
          "data": {
            "text/plain": [
              "<Figure size 640x480 with 1 Axes>"
            ],
            "image/png": "[encoded data removed]"
          },
          "metadata": {}
        }
      ]
    },
    {
      "cell_type": "markdown",
      "source": [
        "# Evaluation sur des données de test"
      ],
      "metadata": {
        "id": "XOeQkqXcwin_"
      }
    },
    {
      "cell_type": "code",
      "source": [
        "def predict(X, params):\n",
        "  M = np.dot(X, params[\"W\"])\n",
        "\n",
        "  P = M + params[\"B\"]\n",
        "\n",
        "  return P"
      ],
      "metadata": {
        "id": "jq5Ra28AweHb"
      },
      "execution_count": 16,
      "outputs": []
    },
    {
      "cell_type": "code",
      "source": [
        "# mean squared error and root mean squared error\n",
        "def mse(y, pred):\n",
        "  return np.mean((y - pred)**2)\n",
        "\n",
        "def rmse(y, pred):\n",
        "  return np.sqrt(np.mean((y - pred)**2))\n",
        "\n",
        "def mae(y, pred):\n",
        "  return np.mean(np.abs(y-pred))"
      ],
      "metadata": {
        "id": "E-71rP-fwrcq"
      },
      "execution_count": 21,
      "outputs": []
    },
    {
      "cell_type": "code",
      "source": [
        "predictions = predict(X_test, params)\n",
        "score_rmse = rmse(y_test, predictions)\n",
        "score_mae = mae(y_test, predictions)\n",
        "\n",
        "print(f'RMSE : : {score_rmse} and MAE : {score_mae}')"
      ],
      "metadata": {
        "colab": {
          "base_uri": "https://localhost:8080/"
        },
        "id": "SBMXxfuOxOPm",
        "outputId": "17745980-b744-4f97-c991-7d3fa9b76ba9"
      },
      "execution_count": 22,
      "outputs": [
        {
          "output_type": "stream",
          "name": "stdout",
          "text": [
            "RMSE : : 5.789353683592818 and MAE : 3.767565256108071\n"
          ]
        }
      ]
    },
    {
      "cell_type": "code",
      "source": [
        "params"
      ],
      "metadata": {
        "colab": {
          "base_uri": "https://localhost:8080/"
        },
        "id": "8tpODJPWyVoF",
        "outputId": "b69f99b5-8fa4-4c95-9b0e-0d4863ee066d"
      },
      "execution_count": 23,
      "outputs": [
        {
          "output_type": "execute_result",
          "data": {
            "text/plain": [
              "{'W': array([[-0.61301264],\n",
              "        [ 0.3831569 ],\n",
              "        [-0.33512567],\n",
              "        [ 0.75907099],\n",
              "        [-0.99290619],\n",
              "        [ 3.1112321 ],\n",
              "        [ 0.24618677],\n",
              "        [-1.28640179],\n",
              "        [ 0.15130188],\n",
              "        [-0.18963709],\n",
              "        [-2.1719948 ],\n",
              "        [ 0.74003657],\n",
              "        [-3.34785879]]),\n",
              " 'B': array([[22.13243641]])}"
            ]
          },
          "metadata": {},
          "execution_count": 23
        }
      ]
    },
    {
      "cell_type": "markdown",
      "source": [
        "Comparaison avec Sklearn"
      ],
      "metadata": {
        "id": "wGArWSc3y3xR"
      }
    },
    {
      "cell_type": "code",
      "source": [
        "from sklearn.linear_model import LinearRegression"
      ],
      "metadata": {
        "id": "ItJ1_seMxObt"
      },
      "execution_count": 25,
      "outputs": []
    },
    {
      "cell_type": "code",
      "source": [
        "model = LinearRegression()\n",
        "model.fit(X_train, y_train)\n",
        "\n",
        "predictions_sklearn = model.predict(X_test)\n",
        "score_rmse_sl = rmse(y_test, predictions_sklearn)\n",
        "score_mae_sl = mae(y_test, predictions_sklearn)\n",
        "print(f'RMSE : {score_rmse_sl} and MAE : {score_mae_sl}')"
      ],
      "metadata": {
        "colab": {
          "base_uri": "https://localhost:8080/"
        },
        "id": "DCd7kLGByzTI",
        "outputId": "d8a41f89-e5da-40ce-d45f-088f834baea8"
      },
      "execution_count": 29,
      "outputs": [
        {
          "output_type": "stream",
          "name": "stdout",
          "text": [
            "RMSE : 5.4573111595640516 and MAE : 3.6683301481357136\n"
          ]
        }
      ]
    }
  ]
}