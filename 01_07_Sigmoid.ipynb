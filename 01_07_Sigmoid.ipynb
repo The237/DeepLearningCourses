{
  "nbformat": 4,
  "nbformat_minor": 0,
  "metadata": {
    "colab": {
      "provenance": [],
      "authorship_tag": "ABX9TyOBMg4QapJtt3S1Gi/8TLej",
      "include_colab_link": true
    },
    "kernelspec": {
      "name": "python3",
      "display_name": "Python 3"
    },
    "language_info": {
      "name": "python"
    }
  },
  "cells": [
    {
      "cell_type": "markdown",
      "metadata": {
        "id": "view-in-github",
        "colab_type": "text"
      },
      "source": [
        "<a href=\"https://colab.research.google.com/github/The237/DeepLearningCourses/blob/main/01_07_Sigmoid.ipynb\" target=\"_parent\"><img src=\"https://colab.research.google.com/assets/colab-badge.svg\" alt=\"Open In Colab\"/></a>"
      ]
    },
    {
      "cell_type": "code",
      "execution_count": 2,
      "metadata": {
        "id": "RVwXq_1t2g1A"
      },
      "outputs": [],
      "source": [
        "import numpy as np\n",
        "import matplotlib.pyplot as plt"
      ]
    },
    {
      "cell_type": "code",
      "source": [
        "def sigmoid(x):\n",
        "  return 1/(1 + np.exp(-x))"
      ],
      "metadata": {
        "id": "xEnwlPuj2tDE"
      },
      "execution_count": 3,
      "outputs": []
    },
    {
      "cell_type": "code",
      "source": [
        "X = np.arange(-10, 10, .01)\n",
        "plt.plot(X, sigmoid(X))\n",
        "plt.show()"
      ],
      "metadata": {
        "colab": {
          "base_uri": "https://localhost:8080/",
          "height": 430
        },
        "id": "JEUnG3gK205I",
        "outputId": "2241ad0c-3e27-4969-c92b-744884bb196a"
      },
      "execution_count": 4,
      "outputs": [
        {
          "output_type": "display_data",
          "data": {
            "text/plain": [
              "<Figure size 640x480 with 1 Axes>"
            ],
            "image/png": "[encoded data removed]"
          },
          "metadata": {}
        }
      ]
    },
    {
      "cell_type": "code",
      "source": [
        "sigmoid(0)"
      ],
      "metadata": {
        "colab": {
          "base_uri": "https://localhost:8080/"
        },
        "id": "WLxkgcXd26JW",
        "outputId": "40a5110a-8daa-4b15-e54d-dac78ddc238d"
      },
      "execution_count": 5,
      "outputs": [
        {
          "output_type": "execute_result",
          "data": {
            "text/plain": [
              "0.5"
            ]
          },
          "metadata": {},
          "execution_count": 5
        }
      ]
    },
    {
      "cell_type": "code",
      "source": [
        "ds_dx = sigmoid(X) * (1 - sigmoid(X))"
      ],
      "metadata": {
        "id": "fKtMgXDT3R5S"
      },
      "execution_count": 6,
      "outputs": []
    },
    {
      "cell_type": "markdown",
      "source": [
        "# Model avec Sigmoid"
      ],
      "metadata": {
        "id": "Aj367TXt73s6"
      }
    },
    {
      "cell_type": "code",
      "source": [
        "# define a loss function based on mean squared\n",
        "def erreur(X, Y, params):\n",
        "  info = {}\n",
        "  M1 = np.dot(X,params[\"W1\"])\n",
        "\n",
        "  N1 = M1 + params[\"B1\"]\n",
        "\n",
        "  S1 = sigmoid(N1)\n",
        "\n",
        "  M2 = np.dot(S1, params[\"W2\"])\n",
        "\n",
        "  P = M2 + params[\"B2\"]\n",
        "\n",
        "  L = np.mean((Y-P)**2)\n",
        "\n",
        "  info[\"M1\"] = M1\n",
        "  info[\"N1\"] = N1\n",
        "  info[\"S1\"] = S1\n",
        "  info[\"M2\"] = M2\n",
        "  info[\"P\"] = P\n",
        "\n",
        "  info[\"X\"] = X\n",
        "  info[\"Y\"] = Y\n",
        "\n",
        "  return L, info"
      ],
      "metadata": {
        "id": "RntuGQfA774k"
      },
      "execution_count": 19,
      "outputs": []
    },
    {
      "cell_type": "code",
      "source": [
        "def gradient(info, params):\n",
        "  grads = {}\n",
        "\n",
        "  dL_dP = -2*(info[\"Y\"] - info[\"P\"]) # shape (4,1)\n",
        "\n",
        "  dP_dM2 = 1\n",
        "  dL_dM2 = dL_dP * dP_dM2\n",
        "\n",
        "  dP_dB2 = 1\n",
        "  dL_dB2 = dL_dP * dP_dB2\n",
        "  dL_dB2 = dL_dB2.sum()\n",
        "\n",
        "  dM2_dW2 = info[\"S1\"].T\n",
        "  dL_dW2 = np.dot(dM2_dW2, dL_dP)\n",
        "\n",
        "  dM2_dS1 = params[\"W2\"].T\n",
        "  dL_dS1 = np.dot(dL_dM2, dM2_dS1)\n",
        "\n",
        "  dS1_dN1 = sigmoid(info[\"N1\"]) * (1 - sigmoid(info[\"N1\"]))\n",
        "  dL_dN1 = dL_dS1 * dS1_dN1\n",
        "\n",
        "  dN1_dB1 = 1\n",
        "  dN1_dM1 = 1\n",
        "\n",
        "  dL_dB1 = (dL_dN1 * dN1_dB1).sum()\n",
        "  dL_dB1 = dL_dB1.sum()\n",
        "  dL_dM1 = dL_dN1 * dN1_dM1\n",
        "\n",
        "  dM1_dW1 = info[\"X\"].T\n",
        "  dL_dW1 = np.dot(dM1_dW1, dL_dM1)\n",
        "\n",
        "  grads[\"W1\"] = dL_dW1\n",
        "  grads[\"W2\"] = dL_dW2\n",
        "  grads[\"B1\"] = np.sum(dL_dB1)\n",
        "  grads[\"B2\"] = np.sum(dL_dB2)\n",
        "\n",
        "  return grads"
      ],
      "metadata": {
        "id": "eCqDlUseMB1P"
      },
      "execution_count": 23,
      "outputs": []
    },
    {
      "cell_type": "code",
      "source": [
        "def train(X, Y, epoch, lr):\n",
        "  np.random.seed(42)\n",
        "  n_features = X.shape[1]\n",
        "  n_feat_transform = n_features\n",
        "  params = {}\n",
        "  params[\"W1\"] = np.random.randn(n_features, n_feat_transform)\n",
        "  params[\"B1\"] = np.random.randn(1, n_feat_transform)\n",
        "  params[\"W2\"] = np.random.randn(n_feat_transform, 1)\n",
        "  params[\"B2\"] = np.random.randn(1, 1)\n",
        "\n",
        "  errors = []\n",
        "  for i in range(epoch):\n",
        "\n",
        "    # forward\n",
        "    loss , info = erreur(X,Y, params)\n",
        "    errors.append(loss)\n",
        "    print(f'Epoch {i+1} ............. loss : {loss}')\n",
        "\n",
        "    # backward\n",
        "    grads = gradient(info, params)\n",
        "\n",
        "    # update\n",
        "    for p in params:\n",
        "      params[p] -= lr*grads[p]\n",
        "\n",
        "  return params, errors"
      ],
      "metadata": {
        "id": "bEWNVt-iOwHQ"
      },
      "execution_count": 21,
      "outputs": []
    },
    {
      "cell_type": "markdown",
      "source": [
        "# Application au BOSTON Dataset"
      ],
      "metadata": {
        "id": "q4GR8Q44PkJb"
      }
    },
    {
      "cell_type": "code",
      "source": [
        "\n",
        "import pandas as pd\n",
        "import numpy as np\n",
        "\n",
        "data_url = \"http://lib.stat.cmu.edu/datasets/boston\"\n",
        "raw_df = pd.read_csv(data_url, sep=\"\\s+\", skiprows=22, header = None)\n",
        "data = np.hstack([raw_df.values[::2, :], raw_df.values[1::2, :2]])\n",
        "target = raw_df.values[1::2, 2]\n",
        "data = data\n",
        "target = target\n",
        "\n",
        "X = data\n",
        "y = target.reshape((len(X), 1))\n",
        "\n",
        "from sklearn.model_selection import train_test_split\n",
        "from sklearn.preprocessing import StandardScaler"
      ],
      "metadata": {
        "id": "-y3Mx8CSOwOq"
      },
      "execution_count": 13,
      "outputs": []
    },
    {
      "cell_type": "code",
      "source": [
        "X_train, X_test, y_train, y_test = train_test_split(X, y, test_size = .25, random_state = 0)"
      ],
      "metadata": {
        "id": "tg4u4gZQP5IL"
      },
      "execution_count": 14,
      "outputs": []
    },
    {
      "cell_type": "code",
      "source": [
        "scaler = StandardScaler()\n",
        "X_train = scaler.fit_transform(X_train)\n",
        "X_test = scaler.transform(X_test)"
      ],
      "metadata": {
        "id": "IgrpPz8OQELJ"
      },
      "execution_count": 15,
      "outputs": []
    },
    {
      "cell_type": "code",
      "source": [
        "params, errors = train(X_train, y_train, epoch = 100, lr = .0001)"
      ],
      "metadata": {
        "colab": {
          "base_uri": "https://localhost:8080/"
        },
        "id": "el5gxS9MQPAI",
        "outputId": "7388c323-f066-4538-c449-4a72292b402d"
      },
      "execution_count": 34,
      "outputs": [
        {
          "output_type": "stream",
          "name": "stdout",
          "text": [
            "Epoch 1 ............. loss : 658.747187918459\n",
            "Epoch 2 ............. loss : 364.03824881583705\n",
            "Epoch 3 ............. loss : 204.36163978775102\n",
            "Epoch 4 ............. loss : 107.81590012640753\n",
            "Epoch 5 ............. loss : 79.82851947423356\n",
            "Epoch 6 ............. loss : 69.1923806790014\n",
            "Epoch 7 ............. loss : 61.51000932784534\n",
            "Epoch 8 ............. loss : 55.87126460945957\n",
            "Epoch 9 ............. loss : 51.6108991888034\n",
            "Epoch 10 ............. loss : 48.18702007396802\n",
            "Epoch 11 ............. loss : 45.279434222606184\n",
            "Epoch 12 ............. loss : 42.7098470294775\n",
            "Epoch 13 ............. loss : 40.38472696704206\n",
            "Epoch 14 ............. loss : 38.25904125179606\n",
            "Epoch 15 ............. loss : 36.312561000344154\n",
            "Epoch 16 ............. loss : 34.53576444191028\n",
            "Epoch 17 ............. loss : 32.92242489198569\n",
            "Epoch 18 ............. loss : 31.46630112837073\n",
            "Epoch 19 ............. loss : 30.159695404962292\n",
            "Epoch 20 ............. loss : 28.99257512141943\n",
            "Epoch 21 ............. loss : 27.95233444318296\n",
            "Epoch 22 ............. loss : 27.024588247240434\n",
            "Epoch 23 ............. loss : 26.194516842973442\n",
            "Epoch 24 ............. loss : 25.447997495268524\n",
            "Epoch 25 ............. loss : 24.77227359147801\n",
            "Epoch 26 ............. loss : 24.156256386269373\n",
            "Epoch 27 ............. loss : 23.590582492087126\n",
            "Epoch 28 ............. loss : 23.067512977995342\n",
            "Epoch 29 ............. loss : 22.58074098164363\n",
            "Epoch 30 ............. loss : 22.125166050858304\n",
            "Epoch 31 ............. loss : 21.69668075174815\n",
            "Epoch 32 ............. loss : 21.291989771642665\n",
            "Epoch 33 ............. loss : 20.90845412075191\n",
            "Epoch 34 ............. loss : 20.543944998361066\n",
            "Epoch 35 ............. loss : 20.196706679748026\n",
            "Epoch 36 ............. loss : 19.865243625932933\n",
            "Epoch 37 ............. loss : 19.548245056236777\n",
            "Epoch 38 ............. loss : 19.244545196786195\n",
            "Epoch 39 ............. loss : 18.953105819707616\n",
            "Epoch 40 ............. loss : 18.67300689583074\n",
            "Epoch 41 ............. loss : 18.40343686677666\n",
            "Epoch 42 ............. loss : 18.14367986166527\n",
            "Epoch 43 ............. loss : 17.893100498347756\n",
            "Epoch 44 ............. loss : 17.651128025452373\n",
            "Epoch 45 ............. loss : 17.417241551666223\n",
            "Epoch 46 ............. loss : 17.190957770181274\n",
            "Epoch 47 ............. loss : 16.97182232423198\n",
            "Epoch 48 ............. loss : 16.75940591811389\n",
            "Epoch 49 ............. loss : 16.553306409049156\n",
            "Epoch 50 ............. loss : 16.353158120773656\n",
            "Epoch 51 ............. loss : 16.158648818526252\n",
            "Epoch 52 ............. loss : 15.969542154227637\n",
            "Epoch 53 ............. loss : 15.785698363446206\n",
            "Epoch 54 ............. loss : 15.607080463037738\n",
            "Epoch 55 ............. loss : 15.433733078595793\n",
            "Epoch 56 ............. loss : 15.265732465875626\n",
            "Epoch 57 ............. loss : 15.103125320804754\n",
            "Epoch 58 ............. loss : 14.945883788176022\n",
            "Epoch 59 ............. loss : 14.793893169197526\n",
            "Epoch 60 ............. loss : 14.646967847657615\n",
            "Epoch 61 ............. loss : 14.504879127822196\n",
            "Epoch 62 ............. loss : 14.367380981296844\n",
            "Epoch 63 ............. loss : 14.234227747585312\n",
            "Epoch 64 ............. loss : 14.105183863270003\n",
            "Epoch 65 ............. loss : 13.980027995019864\n",
            "Epoch 66 ............. loss : 13.858553973110848\n",
            "Epoch 67 ............. loss : 13.740570199184216\n",
            "Epoch 68 ............. loss : 13.625898492633693\n",
            "Epoch 69 ............. loss : 13.51437285214077\n",
            "Epoch 70 ............. loss : 13.405838326204119\n",
            "Epoch 71 ............. loss : 13.300150042356243\n",
            "Epoch 72 ............. loss : 13.197172381667928\n",
            "Epoch 73 ............. loss : 13.096778265252942\n",
            "Epoch 74 ............. loss : 12.99884852048678\n",
            "Epoch 75 ............. loss : 12.903271304071954\n",
            "Epoch 76 ............. loss : 12.809941570156683\n",
            "Epoch 77 ............. loss : 12.718760580947642\n",
            "Epoch 78 ............. loss : 12.629635463081025\n",
            "Epoch 79 ............. loss : 12.54247881507082\n",
            "Epoch 80 ............. loss : 12.457208369857463\n",
            "Epoch 81 ............. loss : 12.373746712723666\n",
            "Epoch 82 ............. loss : 12.292021049740704\n",
            "Epoch 83 ............. loss : 12.211963016593186\n",
            "Epoch 84 ............. loss : 12.133508513123012\n",
            "Epoch 85 ............. loss : 12.05659754604828\n",
            "Epoch 86 ............. loss : 11.981174061617581\n",
            "Epoch 87 ............. loss : 11.907185751740348\n",
            "Epoch 88 ............. loss : 11.834583821358853\n",
            "Epoch 89 ............. loss : 11.76332271109899\n",
            "Epoch 90 ............. loss : 11.693359776774589\n",
            "Epoch 91 ............. loss : 11.624654935006669\n",
            "Epoch 92 ............. loss : 11.557170290765225\n",
            "Epoch 93 ............. loss : 11.490869766851063\n",
            "Epoch 94 ............. loss : 11.425718756411449\n",
            "Epoch 95 ............. loss : 11.36168381736505\n",
            "Epoch 96 ............. loss : 11.298732422638622\n",
            "Epoch 97 ............. loss : 11.236832773482893\n",
            "Epoch 98 ............. loss : 11.175953676174762\n",
            "Epoch 99 ............. loss : 11.11606447635173\n",
            "Epoch 100 ............. loss : 11.057135040896709\n"
          ]
        }
      ]
    },
    {
      "cell_type": "code",
      "source": [
        "import matplotlib.pyplot as plt\n",
        "\n",
        "\n",
        "plt.plot(list(range(len(errors))), errors)\n",
        "plt.xlabel(\"Epochs\")\n",
        "plt.ylabel(\"Loss\")\n",
        "plt.title(\"Learning Curve\")\n",
        "plt.show()\n",
        ""
      ],
      "metadata": {
        "colab": {
          "base_uri": "https://localhost:8080/",
          "height": 472
        },
        "id": "G7KLhr01Sh0b",
        "outputId": "1a1ec106-2f2e-4e9a-83a4-d6abb5b77558"
      },
      "execution_count": 35,
      "outputs": [
        {
          "output_type": "display_data",
          "data": {
            "text/plain": [
              "<Figure size 640x480 with 1 Axes>"
            ],
            "image/png": "[encoded data removed]"
          },
          "metadata": {}
        }
      ]
    },
    {
      "cell_type": "code",
      "source": [
        "def predict(X, params):\n",
        "  M1 = np.dot(X, params[\"W1\"])\n",
        "\n",
        "  N1 =  M1 + params['B1']\n",
        "\n",
        "  S1 = sigmoid(N1)\n",
        "\n",
        "  M2 = np.dot(S1, params[\"W2\"])\n",
        "\n",
        "  P = M2 + params[\"B2\"]\n",
        "\n",
        "  return P\n",
        "\n",
        "# mean squared error and root mean squared error\n",
        "def mse(y, pred):\n",
        "  return np.mean((y - pred)**2)\n",
        "\n",
        "def rmse(y, pred):\n",
        "  return np.sqrt(np.mean((y - pred)**2))\n",
        "\n",
        "def mae(y, pred):\n",
        "  return np.mean(np.abs(y-pred))"
      ],
      "metadata": {
        "id": "3lIF_JZ-S2Ht"
      },
      "execution_count": 29,
      "outputs": []
    },
    {
      "cell_type": "code",
      "source": [
        "params"
      ],
      "metadata": {
        "colab": {
          "base_uri": "https://localhost:8080/"
        },
        "id": "icr0uBr9Tg2x",
        "outputId": "fbf46e68-64c3-4469-a72c-261a3982d63c"
      },
      "execution_count": 30,
      "outputs": [
        {
          "output_type": "execute_result",
          "data": {
            "text/plain": [
              "{'W1': array([[ 0.19665802, -0.62385032, -0.2247193 ,  1.42494786, -0.56077595,\n",
              "         -0.61266909,  0.93585596,  0.38947018, -1.07258029, -0.07404061,\n",
              "         -1.06763789, -0.6548138 ,  0.03631851],\n",
              "        [-1.52797301, -0.88217803, -0.18905627, -1.02044456,  0.34621046,\n",
              "         -0.73835804, -1.12366035,  1.49390571,  0.35885596,  0.62599868,\n",
              "         -1.06629811, -0.15030655,  0.34696824],\n",
              "        [-0.95265724,  0.13858929, -0.51954418, -0.18900113, -0.09175982,\n",
              "          1.79186067,  0.06459457, -0.65960914,  0.79348708, -1.46114839,\n",
              "          0.30700148, -2.10259124, -1.01750881],\n",
              "        [ 0.28683646,  0.81121235,  0.07000255, -0.07821532,  0.32302434,\n",
              "         -0.93914289, -0.80109512,  0.07137668,  1.01480478,  1.07963598,\n",
              "         -1.35926589,  0.58785   , -0.10124171],\n",
              "        [-0.72171899,  0.20726282,  0.67146361,  1.03717552, -0.99325652,\n",
              "         -0.48112488,  0.22679309,  0.97800288, -0.72104295, -0.43517563,\n",
              "         -1.50273505, -1.30240257,  1.02158879],\n",
              "        [ 1.82888172,  1.56913977,  1.21708568,  1.20232719, -0.27397812,\n",
              "          0.96851626,  1.60239809,  0.41953689,  2.25172955, -1.12380466,\n",
              "          1.05852986,  0.64364953,  0.43891567],\n",
              "        [-0.11819013, -2.52350188, -0.4449156 ,  0.21235243,  1.15762366,\n",
              "         -0.71801661, -1.26767263, -0.47002474,  0.53707726, -0.14131095,\n",
              "         -0.92339989,  0.41718739, -0.01396392],\n",
              "        [ 1.0748536 , -0.5030595 ,  0.17394876, -0.80517346, -1.61883579,\n",
              "          0.29748346,  0.60940315, -0.12508909, -0.09377134, -1.47031621,\n",
              "         -0.06556708, -0.34099035, -0.86065172],\n",
              "        [-0.14109893,  0.13952085,  1.80539547,  0.38249976,  0.44316862,\n",
              "         -0.01360269, -2.19790326,  0.19587107,  0.16861794,  2.38198452,\n",
              "         -0.48527752,  0.24611007,  0.17740007],\n",
              "        [-1.21117047,  0.6088319 ,  0.45671904,  0.74588981, -0.9560102 ,\n",
              "          1.36951671, -1.62989877,  0.77588995,  1.99779837, -1.33621554,\n",
              "         -0.72781292, -0.0367661 , -0.45627844],\n",
              "        [-1.67010926, -0.27608815, -0.3419766 ,  0.03366823, -0.22297486,\n",
              "          1.50521303, -0.76036504, -0.24148373,  0.86749901, -2.02349536,\n",
              "          0.01536767,  1.03988237, -1.53646641],\n",
              "        [ 0.24855508,  0.62840687,  0.84237564, -1.00712664, -0.38724409,\n",
              "          0.79708   ,  0.52357275,  0.40458098,  0.59187344, -0.23339453,\n",
              "          0.80086873,  0.40852483, -0.34836993],\n",
              "        [ 1.61098332, -0.68605035, -2.07286274, -0.23920136, -2.09276665,\n",
              "         -0.00986687,  0.85486089, -1.81101541,  0.12304795, -0.97232844,\n",
              "         -0.36111009,  1.47450443, -0.85735573]]),\n",
              " 'B1': array([[-1.84383297, -1.97961124, -1.90590709, -1.16719852, -0.74894483,\n",
              "         -0.81340601, -0.26291356, -1.07709492,  0.36343727, -1.35475364,\n",
              "          1.63007236, -0.46442946, -1.94725437]]),\n",
              " 'W2': array([[2.29657958],\n",
              "        [3.48774468],\n",
              "        [4.31130565],\n",
              "        [2.31479817],\n",
              "        [5.18473135],\n",
              "        [1.1180067 ],\n",
              "        [3.31538963],\n",
              "        [2.54555202],\n",
              "        [3.14264686],\n",
              "        [2.96278342],\n",
              "        [5.04745671],\n",
              "        [0.68242365],\n",
              "        [3.67982557]]),\n",
              " 'B2': array([[5.87670018]])}"
            ]
          },
          "metadata": {},
          "execution_count": 30
        }
      ]
    },
    {
      "cell_type": "code",
      "source": [
        "predictions = predict(X_test, params)\n",
        "score_rmse = rmse(y_test, predictions)\n",
        "score_mae = mae(y_test, predictions)\n",
        "\n",
        "print(f'RMSE : : {score_rmse} and MAE : {score_mae}')"
      ],
      "metadata": {
        "colab": {
          "base_uri": "https://localhost:8080/"
        },
        "id": "-Y_sDHCETdVX",
        "outputId": "7074b32e-cf8c-4515-d0d1-1e592fe2a653"
      },
      "execution_count": 37,
      "outputs": [
        {
          "output_type": "stream",
          "name": "stdout",
          "text": [
            "RMSE : : 4.788564353798276 and MAE : 3.144644776021807\n"
          ]
        }
      ]
    }
  ]
}